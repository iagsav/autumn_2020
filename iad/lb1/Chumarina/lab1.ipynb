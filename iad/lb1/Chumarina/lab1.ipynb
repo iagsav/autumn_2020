{
  "nbformat": 4,
  "nbformat_minor": 0,
  "metadata": {
    "colab": {
      "name": "lab1",
      "provenance": [],
      "collapsed_sections": []
    },
    "kernelspec": {
      "name": "python3",
      "display_name": "Python 3"
    }
  },
  "cells": [
    {
      "cell_type": "markdown",
      "metadata": {
        "id": "UTMTKVXW6j7e"
      },
      "source": [
        "\n",
        "# Выполнил студент группы 18-АС Чумарина Е.А.\n",
        "\n",
        "Задание: спрогнозировать продажную цену каждого объекта недвижимости\n",
        "---\n",
        "\n"
      ]
    },
    {
      "cell_type": "code",
      "metadata": {
        "id": "wUo1yzH_WbRs",
        "outputId": "8991da48-0b2b-43d6-aec8-0f2a5a30d5f6",
        "colab": {
          "base_uri": "https://localhost:8080/"
        }
      },
      "source": [
        "pip install keras_tuner"
      ],
      "execution_count": 6,
      "outputs": [
        {
          "output_type": "stream",
          "text": [
            "Requirement already satisfied: keras_tuner in /usr/local/lib/python3.6/dist-packages (1.0.1)\n",
            "Requirement already satisfied: scikit-learn in /usr/local/lib/python3.6/dist-packages (from keras_tuner) (0.22.2.post1)\n",
            "Requirement already satisfied: requests in /usr/local/lib/python3.6/dist-packages (from keras_tuner) (2.23.0)\n",
            "Requirement already satisfied: colorama in /usr/local/lib/python3.6/dist-packages (from keras_tuner) (0.4.4)\n",
            "Requirement already satisfied: tqdm in /usr/local/lib/python3.6/dist-packages (from keras_tuner) (4.41.1)\n",
            "Requirement already satisfied: future in /usr/local/lib/python3.6/dist-packages (from keras_tuner) (0.16.0)\n",
            "Requirement already satisfied: scipy in /usr/local/lib/python3.6/dist-packages (from keras_tuner) (1.4.1)\n",
            "Requirement already satisfied: tabulate in /usr/local/lib/python3.6/dist-packages (from keras_tuner) (0.8.7)\n",
            "Requirement already satisfied: numpy in /usr/local/lib/python3.6/dist-packages (from keras_tuner) (1.18.5)\n",
            "Requirement already satisfied: terminaltables in /usr/local/lib/python3.6/dist-packages (from keras_tuner) (3.1.0)\n",
            "Requirement already satisfied: joblib>=0.11 in /usr/local/lib/python3.6/dist-packages (from scikit-learn->keras_tuner) (0.17.0)\n",
            "Requirement already satisfied: urllib3!=1.25.0,!=1.25.1,<1.26,>=1.21.1 in /usr/local/lib/python3.6/dist-packages (from requests->keras_tuner) (1.24.3)\n",
            "Requirement already satisfied: certifi>=2017.4.17 in /usr/local/lib/python3.6/dist-packages (from requests->keras_tuner) (2020.6.20)\n",
            "Requirement already satisfied: chardet<4,>=3.0.2 in /usr/local/lib/python3.6/dist-packages (from requests->keras_tuner) (3.0.4)\n",
            "Requirement already satisfied: idna<3,>=2.5 in /usr/local/lib/python3.6/dist-packages (from requests->keras_tuner) (2.10)\n"
          ],
          "name": "stdout"
        }
      ]
    },
    {
      "cell_type": "code",
      "metadata": {
        "id": "qObx4D3ejnDf",
        "outputId": "8fdc0109-43c9-4525-f0d8-ac48fbc04801",
        "colab": {
          "base_uri": "https://localhost:8080/"
        }
      },
      "source": [
        "from tensorflow.python.keras.models import Sequential\n",
        "from tensorflow.python.keras.layers import Dense\n",
        "import pandas as pd\n",
        "import numpy as np\n",
        "\n",
        "data = pd.read_csv(\"/content/drive/My Drive/train.csv\")\n",
        "\n",
        "data.fillna(data.mean(), inplace=True)\n",
        "print(data)"
      ],
      "execution_count": 7,
      "outputs": [
        {
          "output_type": "stream",
          "text": [
            "          id   timestamp  ...  market_count_5000  price_doc\n",
            "0          1  2011-08-20  ...                  4    5850000\n",
            "1          2  2011-08-23  ...                 14    6000000\n",
            "2          3  2011-08-27  ...                 10    5700000\n",
            "3          4  2011-09-01  ...                  3   13100000\n",
            "4          5  2011-09-05  ...                 14   16331452\n",
            "...      ...         ...  ...                ...        ...\n",
            "30466  30469  2015-06-30  ...                  6    7400000\n",
            "30467  30470  2015-06-30  ...                 15   25000000\n",
            "30468  30471  2015-06-30  ...                  1    6970959\n",
            "30469  30472  2015-06-30  ...                  7   13500000\n",
            "30470  30473  2015-06-30  ...                 10    5600000\n",
            "\n",
            "[30471 rows x 292 columns]\n"
          ],
          "name": "stdout"
        }
      ]
    },
    {
      "cell_type": "code",
      "metadata": {
        "id": "uwY2zzIQj3Mm",
        "outputId": "b25b46bd-ed76-4922-da18-be4824cf7955",
        "colab": {
          "base_uri": "https://localhost:8080/"
        }
      },
      "source": [
        "from google.colab import drive\n",
        "drive.mount('/content/drive')"
      ],
      "execution_count": 8,
      "outputs": [
        {
          "output_type": "stream",
          "text": [
            "Drive already mounted at /content/drive; to attempt to forcibly remount, call drive.mount(\"/content/drive\", force_remount=True).\n"
          ],
          "name": "stdout"
        }
      ]
    },
    {
      "cell_type": "markdown",
      "metadata": {
        "id": "46C-CgQt6wj0"
      },
      "source": [
        "data.drop-удалить ненужные столбики\n"
      ]
    },
    {
      "cell_type": "code",
      "metadata": {
        "id": "kEUE1DK0ka6S",
        "outputId": "7d601d50-4ce6-44a2-86fa-d886a2f1c6cb",
        "colab": {
          "base_uri": "https://localhost:8080/",
          "height": 464
        }
      },
      "source": [
        "data.drop(['id','timestamp'], axis=1)"
      ],
      "execution_count": 9,
      "outputs": [
        {
          "output_type": "execute_result",
          "data": {
            "text/html": [
              "<div>\n",
              "<style scoped>\n",
              "    .dataframe tbody tr th:only-of-type {\n",
              "        vertical-align: middle;\n",
              "    }\n",
              "\n",
              "    .dataframe tbody tr th {\n",
              "        vertical-align: top;\n",
              "    }\n",
              "\n",
              "    .dataframe thead th {\n",
              "        text-align: right;\n",
              "    }\n",
              "</style>\n",
              "<table border=\"1\" class=\"dataframe\">\n",
              "  <thead>\n",
              "    <tr style=\"text-align: right;\">\n",
              "      <th></th>\n",
              "      <th>full_sq</th>\n",
              "      <th>life_sq</th>\n",
              "      <th>floor</th>\n",
              "      <th>max_floor</th>\n",
              "      <th>material</th>\n",
              "      <th>build_year</th>\n",
              "      <th>num_room</th>\n",
              "      <th>kitch_sq</th>\n",
              "      <th>state</th>\n",
              "      <th>product_type</th>\n",
              "      <th>sub_area</th>\n",
              "      <th>area_m</th>\n",
              "      <th>raion_popul</th>\n",
              "      <th>green_zone_part</th>\n",
              "      <th>indust_part</th>\n",
              "      <th>children_preschool</th>\n",
              "      <th>preschool_quota</th>\n",
              "      <th>preschool_education_centers_raion</th>\n",
              "      <th>children_school</th>\n",
              "      <th>school_quota</th>\n",
              "      <th>school_education_centers_raion</th>\n",
              "      <th>school_education_centers_top_20_raion</th>\n",
              "      <th>hospital_beds_raion</th>\n",
              "      <th>healthcare_centers_raion</th>\n",
              "      <th>university_top_20_raion</th>\n",
              "      <th>sport_objects_raion</th>\n",
              "      <th>additional_education_raion</th>\n",
              "      <th>culture_objects_top_25</th>\n",
              "      <th>culture_objects_top_25_raion</th>\n",
              "      <th>shopping_centers_raion</th>\n",
              "      <th>office_raion</th>\n",
              "      <th>thermal_power_plant_raion</th>\n",
              "      <th>incineration_raion</th>\n",
              "      <th>oil_chemistry_raion</th>\n",
              "      <th>radiation_raion</th>\n",
              "      <th>railroad_terminal_raion</th>\n",
              "      <th>big_market_raion</th>\n",
              "      <th>nuclear_reactor_raion</th>\n",
              "      <th>detention_facility_raion</th>\n",
              "      <th>full_all</th>\n",
              "      <th>...</th>\n",
              "      <th>cafe_sum_3000_min_price_avg</th>\n",
              "      <th>cafe_sum_3000_max_price_avg</th>\n",
              "      <th>cafe_avg_price_3000</th>\n",
              "      <th>cafe_count_3000_na_price</th>\n",
              "      <th>cafe_count_3000_price_500</th>\n",
              "      <th>cafe_count_3000_price_1000</th>\n",
              "      <th>cafe_count_3000_price_1500</th>\n",
              "      <th>cafe_count_3000_price_2500</th>\n",
              "      <th>cafe_count_3000_price_4000</th>\n",
              "      <th>cafe_count_3000_price_high</th>\n",
              "      <th>big_church_count_3000</th>\n",
              "      <th>church_count_3000</th>\n",
              "      <th>mosque_count_3000</th>\n",
              "      <th>leisure_count_3000</th>\n",
              "      <th>sport_count_3000</th>\n",
              "      <th>market_count_3000</th>\n",
              "      <th>green_part_5000</th>\n",
              "      <th>prom_part_5000</th>\n",
              "      <th>office_count_5000</th>\n",
              "      <th>office_sqm_5000</th>\n",
              "      <th>trc_count_5000</th>\n",
              "      <th>trc_sqm_5000</th>\n",
              "      <th>cafe_count_5000</th>\n",
              "      <th>cafe_sum_5000_min_price_avg</th>\n",
              "      <th>cafe_sum_5000_max_price_avg</th>\n",
              "      <th>cafe_avg_price_5000</th>\n",
              "      <th>cafe_count_5000_na_price</th>\n",
              "      <th>cafe_count_5000_price_500</th>\n",
              "      <th>cafe_count_5000_price_1000</th>\n",
              "      <th>cafe_count_5000_price_1500</th>\n",
              "      <th>cafe_count_5000_price_2500</th>\n",
              "      <th>cafe_count_5000_price_4000</th>\n",
              "      <th>cafe_count_5000_price_high</th>\n",
              "      <th>big_church_count_5000</th>\n",
              "      <th>church_count_5000</th>\n",
              "      <th>mosque_count_5000</th>\n",
              "      <th>leisure_count_5000</th>\n",
              "      <th>sport_count_5000</th>\n",
              "      <th>market_count_5000</th>\n",
              "      <th>price_doc</th>\n",
              "    </tr>\n",
              "  </thead>\n",
              "  <tbody>\n",
              "    <tr>\n",
              "      <th>0</th>\n",
              "      <td>43</td>\n",
              "      <td>27.000000</td>\n",
              "      <td>4.0</td>\n",
              "      <td>12.558974</td>\n",
              "      <td>1.827121</td>\n",
              "      <td>3068.057097</td>\n",
              "      <td>1.909804</td>\n",
              "      <td>6.399301</td>\n",
              "      <td>2.107025</td>\n",
              "      <td>Investment</td>\n",
              "      <td>Bibirevo</td>\n",
              "      <td>6.407578e+06</td>\n",
              "      <td>155572</td>\n",
              "      <td>0.189727</td>\n",
              "      <td>0.000070</td>\n",
              "      <td>9576</td>\n",
              "      <td>5001.000000</td>\n",
              "      <td>5</td>\n",
              "      <td>10309</td>\n",
              "      <td>11065.000000</td>\n",
              "      <td>5</td>\n",
              "      <td>0</td>\n",
              "      <td>240.000000</td>\n",
              "      <td>1</td>\n",
              "      <td>0</td>\n",
              "      <td>7</td>\n",
              "      <td>3</td>\n",
              "      <td>no</td>\n",
              "      <td>0</td>\n",
              "      <td>16</td>\n",
              "      <td>1</td>\n",
              "      <td>no</td>\n",
              "      <td>no</td>\n",
              "      <td>no</td>\n",
              "      <td>no</td>\n",
              "      <td>no</td>\n",
              "      <td>no</td>\n",
              "      <td>no</td>\n",
              "      <td>no</td>\n",
              "      <td>86206</td>\n",
              "      <td>...</td>\n",
              "      <td>639.68</td>\n",
              "      <td>1079.37</td>\n",
              "      <td>859.52</td>\n",
              "      <td>5</td>\n",
              "      <td>21</td>\n",
              "      <td>22</td>\n",
              "      <td>16</td>\n",
              "      <td>3</td>\n",
              "      <td>1</td>\n",
              "      <td>0</td>\n",
              "      <td>2</td>\n",
              "      <td>4</td>\n",
              "      <td>0</td>\n",
              "      <td>0</td>\n",
              "      <td>21</td>\n",
              "      <td>1</td>\n",
              "      <td>13.09</td>\n",
              "      <td>13.31</td>\n",
              "      <td>29</td>\n",
              "      <td>807385</td>\n",
              "      <td>52</td>\n",
              "      <td>4036616</td>\n",
              "      <td>152</td>\n",
              "      <td>708.57</td>\n",
              "      <td>1185.71</td>\n",
              "      <td>947.14</td>\n",
              "      <td>12</td>\n",
              "      <td>39</td>\n",
              "      <td>48</td>\n",
              "      <td>40</td>\n",
              "      <td>9</td>\n",
              "      <td>4</td>\n",
              "      <td>0</td>\n",
              "      <td>13</td>\n",
              "      <td>22</td>\n",
              "      <td>1</td>\n",
              "      <td>0</td>\n",
              "      <td>52</td>\n",
              "      <td>4</td>\n",
              "      <td>5850000</td>\n",
              "    </tr>\n",
              "    <tr>\n",
              "      <th>1</th>\n",
              "      <td>34</td>\n",
              "      <td>19.000000</td>\n",
              "      <td>3.0</td>\n",
              "      <td>12.558974</td>\n",
              "      <td>1.827121</td>\n",
              "      <td>3068.057097</td>\n",
              "      <td>1.909804</td>\n",
              "      <td>6.399301</td>\n",
              "      <td>2.107025</td>\n",
              "      <td>Investment</td>\n",
              "      <td>Nagatinskij Zaton</td>\n",
              "      <td>9.589337e+06</td>\n",
              "      <td>115352</td>\n",
              "      <td>0.372602</td>\n",
              "      <td>0.049637</td>\n",
              "      <td>6880</td>\n",
              "      <td>3119.000000</td>\n",
              "      <td>5</td>\n",
              "      <td>7759</td>\n",
              "      <td>6237.000000</td>\n",
              "      <td>8</td>\n",
              "      <td>0</td>\n",
              "      <td>229.000000</td>\n",
              "      <td>1</td>\n",
              "      <td>0</td>\n",
              "      <td>6</td>\n",
              "      <td>1</td>\n",
              "      <td>yes</td>\n",
              "      <td>1</td>\n",
              "      <td>3</td>\n",
              "      <td>0</td>\n",
              "      <td>no</td>\n",
              "      <td>no</td>\n",
              "      <td>no</td>\n",
              "      <td>no</td>\n",
              "      <td>no</td>\n",
              "      <td>no</td>\n",
              "      <td>no</td>\n",
              "      <td>no</td>\n",
              "      <td>76284</td>\n",
              "      <td>...</td>\n",
              "      <td>631.03</td>\n",
              "      <td>1086.21</td>\n",
              "      <td>858.62</td>\n",
              "      <td>1</td>\n",
              "      <td>11</td>\n",
              "      <td>11</td>\n",
              "      <td>4</td>\n",
              "      <td>2</td>\n",
              "      <td>1</td>\n",
              "      <td>0</td>\n",
              "      <td>1</td>\n",
              "      <td>7</td>\n",
              "      <td>0</td>\n",
              "      <td>6</td>\n",
              "      <td>19</td>\n",
              "      <td>1</td>\n",
              "      <td>10.26</td>\n",
              "      <td>27.47</td>\n",
              "      <td>66</td>\n",
              "      <td>2690465</td>\n",
              "      <td>40</td>\n",
              "      <td>2034942</td>\n",
              "      <td>177</td>\n",
              "      <td>673.81</td>\n",
              "      <td>1148.81</td>\n",
              "      <td>911.31</td>\n",
              "      <td>9</td>\n",
              "      <td>49</td>\n",
              "      <td>65</td>\n",
              "      <td>36</td>\n",
              "      <td>15</td>\n",
              "      <td>3</td>\n",
              "      <td>0</td>\n",
              "      <td>15</td>\n",
              "      <td>29</td>\n",
              "      <td>1</td>\n",
              "      <td>10</td>\n",
              "      <td>66</td>\n",
              "      <td>14</td>\n",
              "      <td>6000000</td>\n",
              "    </tr>\n",
              "    <tr>\n",
              "      <th>2</th>\n",
              "      <td>43</td>\n",
              "      <td>29.000000</td>\n",
              "      <td>2.0</td>\n",
              "      <td>12.558974</td>\n",
              "      <td>1.827121</td>\n",
              "      <td>3068.057097</td>\n",
              "      <td>1.909804</td>\n",
              "      <td>6.399301</td>\n",
              "      <td>2.107025</td>\n",
              "      <td>Investment</td>\n",
              "      <td>Tekstil'shhiki</td>\n",
              "      <td>4.808270e+06</td>\n",
              "      <td>101708</td>\n",
              "      <td>0.112560</td>\n",
              "      <td>0.118537</td>\n",
              "      <td>5879</td>\n",
              "      <td>1463.000000</td>\n",
              "      <td>4</td>\n",
              "      <td>6207</td>\n",
              "      <td>5580.000000</td>\n",
              "      <td>7</td>\n",
              "      <td>0</td>\n",
              "      <td>1183.000000</td>\n",
              "      <td>1</td>\n",
              "      <td>0</td>\n",
              "      <td>5</td>\n",
              "      <td>1</td>\n",
              "      <td>no</td>\n",
              "      <td>0</td>\n",
              "      <td>0</td>\n",
              "      <td>1</td>\n",
              "      <td>no</td>\n",
              "      <td>no</td>\n",
              "      <td>no</td>\n",
              "      <td>yes</td>\n",
              "      <td>no</td>\n",
              "      <td>no</td>\n",
              "      <td>no</td>\n",
              "      <td>no</td>\n",
              "      <td>101982</td>\n",
              "      <td>...</td>\n",
              "      <td>697.44</td>\n",
              "      <td>1192.31</td>\n",
              "      <td>944.87</td>\n",
              "      <td>2</td>\n",
              "      <td>9</td>\n",
              "      <td>17</td>\n",
              "      <td>9</td>\n",
              "      <td>3</td>\n",
              "      <td>1</td>\n",
              "      <td>0</td>\n",
              "      <td>0</td>\n",
              "      <td>11</td>\n",
              "      <td>0</td>\n",
              "      <td>0</td>\n",
              "      <td>20</td>\n",
              "      <td>6</td>\n",
              "      <td>13.69</td>\n",
              "      <td>21.58</td>\n",
              "      <td>43</td>\n",
              "      <td>1478160</td>\n",
              "      <td>35</td>\n",
              "      <td>1572990</td>\n",
              "      <td>122</td>\n",
              "      <td>702.68</td>\n",
              "      <td>1196.43</td>\n",
              "      <td>949.55</td>\n",
              "      <td>10</td>\n",
              "      <td>29</td>\n",
              "      <td>45</td>\n",
              "      <td>25</td>\n",
              "      <td>10</td>\n",
              "      <td>3</td>\n",
              "      <td>0</td>\n",
              "      <td>11</td>\n",
              "      <td>27</td>\n",
              "      <td>0</td>\n",
              "      <td>4</td>\n",
              "      <td>67</td>\n",
              "      <td>10</td>\n",
              "      <td>5700000</td>\n",
              "    </tr>\n",
              "    <tr>\n",
              "      <th>3</th>\n",
              "      <td>89</td>\n",
              "      <td>50.000000</td>\n",
              "      <td>9.0</td>\n",
              "      <td>12.558974</td>\n",
              "      <td>1.827121</td>\n",
              "      <td>3068.057097</td>\n",
              "      <td>1.909804</td>\n",
              "      <td>6.399301</td>\n",
              "      <td>2.107025</td>\n",
              "      <td>Investment</td>\n",
              "      <td>Mitino</td>\n",
              "      <td>1.258354e+07</td>\n",
              "      <td>178473</td>\n",
              "      <td>0.194703</td>\n",
              "      <td>0.069753</td>\n",
              "      <td>13087</td>\n",
              "      <td>6839.000000</td>\n",
              "      <td>9</td>\n",
              "      <td>13670</td>\n",
              "      <td>17063.000000</td>\n",
              "      <td>10</td>\n",
              "      <td>0</td>\n",
              "      <td>1190.738677</td>\n",
              "      <td>1</td>\n",
              "      <td>0</td>\n",
              "      <td>17</td>\n",
              "      <td>6</td>\n",
              "      <td>no</td>\n",
              "      <td>0</td>\n",
              "      <td>11</td>\n",
              "      <td>4</td>\n",
              "      <td>no</td>\n",
              "      <td>no</td>\n",
              "      <td>no</td>\n",
              "      <td>no</td>\n",
              "      <td>no</td>\n",
              "      <td>no</td>\n",
              "      <td>no</td>\n",
              "      <td>no</td>\n",
              "      <td>21155</td>\n",
              "      <td>...</td>\n",
              "      <td>718.75</td>\n",
              "      <td>1218.75</td>\n",
              "      <td>968.75</td>\n",
              "      <td>0</td>\n",
              "      <td>5</td>\n",
              "      <td>14</td>\n",
              "      <td>10</td>\n",
              "      <td>3</td>\n",
              "      <td>0</td>\n",
              "      <td>0</td>\n",
              "      <td>1</td>\n",
              "      <td>2</td>\n",
              "      <td>0</td>\n",
              "      <td>0</td>\n",
              "      <td>18</td>\n",
              "      <td>3</td>\n",
              "      <td>14.18</td>\n",
              "      <td>3.89</td>\n",
              "      <td>8</td>\n",
              "      <td>244166</td>\n",
              "      <td>22</td>\n",
              "      <td>942180</td>\n",
              "      <td>61</td>\n",
              "      <td>931.58</td>\n",
              "      <td>1552.63</td>\n",
              "      <td>1242.11</td>\n",
              "      <td>4</td>\n",
              "      <td>7</td>\n",
              "      <td>21</td>\n",
              "      <td>15</td>\n",
              "      <td>11</td>\n",
              "      <td>2</td>\n",
              "      <td>1</td>\n",
              "      <td>4</td>\n",
              "      <td>4</td>\n",
              "      <td>0</td>\n",
              "      <td>0</td>\n",
              "      <td>26</td>\n",
              "      <td>3</td>\n",
              "      <td>13100000</td>\n",
              "    </tr>\n",
              "    <tr>\n",
              "      <th>4</th>\n",
              "      <td>77</td>\n",
              "      <td>77.000000</td>\n",
              "      <td>4.0</td>\n",
              "      <td>12.558974</td>\n",
              "      <td>1.827121</td>\n",
              "      <td>3068.057097</td>\n",
              "      <td>1.909804</td>\n",
              "      <td>6.399301</td>\n",
              "      <td>2.107025</td>\n",
              "      <td>Investment</td>\n",
              "      <td>Basmannoe</td>\n",
              "      <td>8.398461e+06</td>\n",
              "      <td>108171</td>\n",
              "      <td>0.015234</td>\n",
              "      <td>0.037316</td>\n",
              "      <td>5706</td>\n",
              "      <td>3240.000000</td>\n",
              "      <td>7</td>\n",
              "      <td>6748</td>\n",
              "      <td>7770.000000</td>\n",
              "      <td>9</td>\n",
              "      <td>0</td>\n",
              "      <td>562.000000</td>\n",
              "      <td>4</td>\n",
              "      <td>2</td>\n",
              "      <td>25</td>\n",
              "      <td>2</td>\n",
              "      <td>no</td>\n",
              "      <td>0</td>\n",
              "      <td>10</td>\n",
              "      <td>93</td>\n",
              "      <td>no</td>\n",
              "      <td>no</td>\n",
              "      <td>no</td>\n",
              "      <td>yes</td>\n",
              "      <td>yes</td>\n",
              "      <td>no</td>\n",
              "      <td>no</td>\n",
              "      <td>no</td>\n",
              "      <td>28179</td>\n",
              "      <td>...</td>\n",
              "      <td>853.03</td>\n",
              "      <td>1410.45</td>\n",
              "      <td>1131.74</td>\n",
              "      <td>63</td>\n",
              "      <td>266</td>\n",
              "      <td>267</td>\n",
              "      <td>262</td>\n",
              "      <td>149</td>\n",
              "      <td>57</td>\n",
              "      <td>4</td>\n",
              "      <td>70</td>\n",
              "      <td>121</td>\n",
              "      <td>1</td>\n",
              "      <td>40</td>\n",
              "      <td>77</td>\n",
              "      <td>5</td>\n",
              "      <td>8.38</td>\n",
              "      <td>10.92</td>\n",
              "      <td>689</td>\n",
              "      <td>8404624</td>\n",
              "      <td>114</td>\n",
              "      <td>3503058</td>\n",
              "      <td>2283</td>\n",
              "      <td>853.88</td>\n",
              "      <td>1411.45</td>\n",
              "      <td>1132.66</td>\n",
              "      <td>143</td>\n",
              "      <td>566</td>\n",
              "      <td>578</td>\n",
              "      <td>552</td>\n",
              "      <td>319</td>\n",
              "      <td>108</td>\n",
              "      <td>17</td>\n",
              "      <td>135</td>\n",
              "      <td>236</td>\n",
              "      <td>2</td>\n",
              "      <td>91</td>\n",
              "      <td>195</td>\n",
              "      <td>14</td>\n",
              "      <td>16331452</td>\n",
              "    </tr>\n",
              "    <tr>\n",
              "      <th>...</th>\n",
              "      <td>...</td>\n",
              "      <td>...</td>\n",
              "      <td>...</td>\n",
              "      <td>...</td>\n",
              "      <td>...</td>\n",
              "      <td>...</td>\n",
              "      <td>...</td>\n",
              "      <td>...</td>\n",
              "      <td>...</td>\n",
              "      <td>...</td>\n",
              "      <td>...</td>\n",
              "      <td>...</td>\n",
              "      <td>...</td>\n",
              "      <td>...</td>\n",
              "      <td>...</td>\n",
              "      <td>...</td>\n",
              "      <td>...</td>\n",
              "      <td>...</td>\n",
              "      <td>...</td>\n",
              "      <td>...</td>\n",
              "      <td>...</td>\n",
              "      <td>...</td>\n",
              "      <td>...</td>\n",
              "      <td>...</td>\n",
              "      <td>...</td>\n",
              "      <td>...</td>\n",
              "      <td>...</td>\n",
              "      <td>...</td>\n",
              "      <td>...</td>\n",
              "      <td>...</td>\n",
              "      <td>...</td>\n",
              "      <td>...</td>\n",
              "      <td>...</td>\n",
              "      <td>...</td>\n",
              "      <td>...</td>\n",
              "      <td>...</td>\n",
              "      <td>...</td>\n",
              "      <td>...</td>\n",
              "      <td>...</td>\n",
              "      <td>...</td>\n",
              "      <td>...</td>\n",
              "      <td>...</td>\n",
              "      <td>...</td>\n",
              "      <td>...</td>\n",
              "      <td>...</td>\n",
              "      <td>...</td>\n",
              "      <td>...</td>\n",
              "      <td>...</td>\n",
              "      <td>...</td>\n",
              "      <td>...</td>\n",
              "      <td>...</td>\n",
              "      <td>...</td>\n",
              "      <td>...</td>\n",
              "      <td>...</td>\n",
              "      <td>...</td>\n",
              "      <td>...</td>\n",
              "      <td>...</td>\n",
              "      <td>...</td>\n",
              "      <td>...</td>\n",
              "      <td>...</td>\n",
              "      <td>...</td>\n",
              "      <td>...</td>\n",
              "      <td>...</td>\n",
              "      <td>...</td>\n",
              "      <td>...</td>\n",
              "      <td>...</td>\n",
              "      <td>...</td>\n",
              "      <td>...</td>\n",
              "      <td>...</td>\n",
              "      <td>...</td>\n",
              "      <td>...</td>\n",
              "      <td>...</td>\n",
              "      <td>...</td>\n",
              "      <td>...</td>\n",
              "      <td>...</td>\n",
              "      <td>...</td>\n",
              "      <td>...</td>\n",
              "      <td>...</td>\n",
              "      <td>...</td>\n",
              "      <td>...</td>\n",
              "      <td>...</td>\n",
              "    </tr>\n",
              "    <tr>\n",
              "      <th>30466</th>\n",
              "      <td>44</td>\n",
              "      <td>27.000000</td>\n",
              "      <td>7.0</td>\n",
              "      <td>9.000000</td>\n",
              "      <td>1.000000</td>\n",
              "      <td>1975.000000</td>\n",
              "      <td>2.000000</td>\n",
              "      <td>6.000000</td>\n",
              "      <td>3.000000</td>\n",
              "      <td>Investment</td>\n",
              "      <td>Otradnoe</td>\n",
              "      <td>1.005305e+07</td>\n",
              "      <td>175518</td>\n",
              "      <td>0.096270</td>\n",
              "      <td>0.300323</td>\n",
              "      <td>9753</td>\n",
              "      <td>5088.000000</td>\n",
              "      <td>4</td>\n",
              "      <td>10311</td>\n",
              "      <td>12721.000000</td>\n",
              "      <td>4</td>\n",
              "      <td>0</td>\n",
              "      <td>1190.738677</td>\n",
              "      <td>1</td>\n",
              "      <td>0</td>\n",
              "      <td>10</td>\n",
              "      <td>3</td>\n",
              "      <td>no</td>\n",
              "      <td>0</td>\n",
              "      <td>9</td>\n",
              "      <td>6</td>\n",
              "      <td>no</td>\n",
              "      <td>yes</td>\n",
              "      <td>no</td>\n",
              "      <td>yes</td>\n",
              "      <td>no</td>\n",
              "      <td>no</td>\n",
              "      <td>no</td>\n",
              "      <td>no</td>\n",
              "      <td>61396</td>\n",
              "      <td>...</td>\n",
              "      <td>647.89</td>\n",
              "      <td>1112.68</td>\n",
              "      <td>880.28</td>\n",
              "      <td>8</td>\n",
              "      <td>20</td>\n",
              "      <td>30</td>\n",
              "      <td>15</td>\n",
              "      <td>5</td>\n",
              "      <td>1</td>\n",
              "      <td>0</td>\n",
              "      <td>5</td>\n",
              "      <td>12</td>\n",
              "      <td>1</td>\n",
              "      <td>0</td>\n",
              "      <td>29</td>\n",
              "      <td>3</td>\n",
              "      <td>15.52</td>\n",
              "      <td>17.24</td>\n",
              "      <td>44</td>\n",
              "      <td>838601</td>\n",
              "      <td>53</td>\n",
              "      <td>2548292</td>\n",
              "      <td>207</td>\n",
              "      <td>689.95</td>\n",
              "      <td>1156.08</td>\n",
              "      <td>923.02</td>\n",
              "      <td>18</td>\n",
              "      <td>63</td>\n",
              "      <td>59</td>\n",
              "      <td>47</td>\n",
              "      <td>15</td>\n",
              "      <td>5</td>\n",
              "      <td>0</td>\n",
              "      <td>15</td>\n",
              "      <td>26</td>\n",
              "      <td>1</td>\n",
              "      <td>2</td>\n",
              "      <td>84</td>\n",
              "      <td>6</td>\n",
              "      <td>7400000</td>\n",
              "    </tr>\n",
              "    <tr>\n",
              "      <th>30467</th>\n",
              "      <td>86</td>\n",
              "      <td>59.000000</td>\n",
              "      <td>3.0</td>\n",
              "      <td>9.000000</td>\n",
              "      <td>2.000000</td>\n",
              "      <td>1935.000000</td>\n",
              "      <td>4.000000</td>\n",
              "      <td>10.000000</td>\n",
              "      <td>3.000000</td>\n",
              "      <td>Investment</td>\n",
              "      <td>Tverskoe</td>\n",
              "      <td>7.307411e+06</td>\n",
              "      <td>75377</td>\n",
              "      <td>0.065444</td>\n",
              "      <td>0.000078</td>\n",
              "      <td>4237</td>\n",
              "      <td>1874.000000</td>\n",
              "      <td>4</td>\n",
              "      <td>6398</td>\n",
              "      <td>6772.000000</td>\n",
              "      <td>4</td>\n",
              "      <td>1</td>\n",
              "      <td>1046.000000</td>\n",
              "      <td>3</td>\n",
              "      <td>2</td>\n",
              "      <td>29</td>\n",
              "      <td>16</td>\n",
              "      <td>yes</td>\n",
              "      <td>10</td>\n",
              "      <td>23</td>\n",
              "      <td>141</td>\n",
              "      <td>no</td>\n",
              "      <td>no</td>\n",
              "      <td>no</td>\n",
              "      <td>yes</td>\n",
              "      <td>yes</td>\n",
              "      <td>no</td>\n",
              "      <td>no</td>\n",
              "      <td>yes</td>\n",
              "      <td>116742</td>\n",
              "      <td>...</td>\n",
              "      <td>895.84</td>\n",
              "      <td>1476.65</td>\n",
              "      <td>1186.24</td>\n",
              "      <td>54</td>\n",
              "      <td>268</td>\n",
              "      <td>258</td>\n",
              "      <td>230</td>\n",
              "      <td>155</td>\n",
              "      <td>57</td>\n",
              "      <td>17</td>\n",
              "      <td>35</td>\n",
              "      <td>62</td>\n",
              "      <td>1</td>\n",
              "      <td>48</td>\n",
              "      <td>80</td>\n",
              "      <td>4</td>\n",
              "      <td>8.29</td>\n",
              "      <td>12.85</td>\n",
              "      <td>617</td>\n",
              "      <td>9949843</td>\n",
              "      <td>90</td>\n",
              "      <td>4345915</td>\n",
              "      <td>2197</td>\n",
              "      <td>887.43</td>\n",
              "      <td>1462.88</td>\n",
              "      <td>1175.16</td>\n",
              "      <td>136</td>\n",
              "      <td>550</td>\n",
              "      <td>535</td>\n",
              "      <td>511</td>\n",
              "      <td>313</td>\n",
              "      <td>128</td>\n",
              "      <td>24</td>\n",
              "      <td>98</td>\n",
              "      <td>182</td>\n",
              "      <td>1</td>\n",
              "      <td>82</td>\n",
              "      <td>171</td>\n",
              "      <td>15</td>\n",
              "      <td>25000000</td>\n",
              "    </tr>\n",
              "    <tr>\n",
              "      <th>30468</th>\n",
              "      <td>45</td>\n",
              "      <td>34.403271</td>\n",
              "      <td>10.0</td>\n",
              "      <td>20.000000</td>\n",
              "      <td>1.000000</td>\n",
              "      <td>3068.057097</td>\n",
              "      <td>1.000000</td>\n",
              "      <td>1.000000</td>\n",
              "      <td>1.000000</td>\n",
              "      <td>OwnerOccupier</td>\n",
              "      <td>Poselenie Vnukovskoe</td>\n",
              "      <td>2.553630e+07</td>\n",
              "      <td>4001</td>\n",
              "      <td>0.496315</td>\n",
              "      <td>0.007122</td>\n",
              "      <td>275</td>\n",
              "      <td>3271.272464</td>\n",
              "      <td>0</td>\n",
              "      <td>264</td>\n",
              "      <td>8324.970739</td>\n",
              "      <td>0</td>\n",
              "      <td>0</td>\n",
              "      <td>1190.738677</td>\n",
              "      <td>0</td>\n",
              "      <td>0</td>\n",
              "      <td>0</td>\n",
              "      <td>0</td>\n",
              "      <td>no</td>\n",
              "      <td>0</td>\n",
              "      <td>1</td>\n",
              "      <td>0</td>\n",
              "      <td>no</td>\n",
              "      <td>no</td>\n",
              "      <td>no</td>\n",
              "      <td>no</td>\n",
              "      <td>no</td>\n",
              "      <td>no</td>\n",
              "      <td>no</td>\n",
              "      <td>no</td>\n",
              "      <td>17790</td>\n",
              "      <td>...</td>\n",
              "      <td>700.00</td>\n",
              "      <td>1222.22</td>\n",
              "      <td>961.11</td>\n",
              "      <td>0</td>\n",
              "      <td>1</td>\n",
              "      <td>5</td>\n",
              "      <td>2</td>\n",
              "      <td>1</td>\n",
              "      <td>0</td>\n",
              "      <td>0</td>\n",
              "      <td>1</td>\n",
              "      <td>4</td>\n",
              "      <td>0</td>\n",
              "      <td>0</td>\n",
              "      <td>6</td>\n",
              "      <td>0</td>\n",
              "      <td>35.62</td>\n",
              "      <td>6.96</td>\n",
              "      <td>1</td>\n",
              "      <td>117300</td>\n",
              "      <td>4</td>\n",
              "      <td>201300</td>\n",
              "      <td>20</td>\n",
              "      <td>747.37</td>\n",
              "      <td>1263.16</td>\n",
              "      <td>1005.26</td>\n",
              "      <td>1</td>\n",
              "      <td>4</td>\n",
              "      <td>8</td>\n",
              "      <td>5</td>\n",
              "      <td>1</td>\n",
              "      <td>1</td>\n",
              "      <td>0</td>\n",
              "      <td>2</td>\n",
              "      <td>12</td>\n",
              "      <td>0</td>\n",
              "      <td>1</td>\n",
              "      <td>11</td>\n",
              "      <td>1</td>\n",
              "      <td>6970959</td>\n",
              "    </tr>\n",
              "    <tr>\n",
              "      <th>30469</th>\n",
              "      <td>64</td>\n",
              "      <td>32.000000</td>\n",
              "      <td>5.0</td>\n",
              "      <td>15.000000</td>\n",
              "      <td>1.000000</td>\n",
              "      <td>2003.000000</td>\n",
              "      <td>2.000000</td>\n",
              "      <td>11.000000</td>\n",
              "      <td>2.000000</td>\n",
              "      <td>Investment</td>\n",
              "      <td>Obruchevskoe</td>\n",
              "      <td>6.050065e+06</td>\n",
              "      <td>78616</td>\n",
              "      <td>0.167526</td>\n",
              "      <td>0.093443</td>\n",
              "      <td>4215</td>\n",
              "      <td>2372.000000</td>\n",
              "      <td>6</td>\n",
              "      <td>4635</td>\n",
              "      <td>6083.000000</td>\n",
              "      <td>8</td>\n",
              "      <td>0</td>\n",
              "      <td>3300.000000</td>\n",
              "      <td>2</td>\n",
              "      <td>1</td>\n",
              "      <td>11</td>\n",
              "      <td>1</td>\n",
              "      <td>no</td>\n",
              "      <td>0</td>\n",
              "      <td>4</td>\n",
              "      <td>5</td>\n",
              "      <td>no</td>\n",
              "      <td>no</td>\n",
              "      <td>no</td>\n",
              "      <td>yes</td>\n",
              "      <td>no</td>\n",
              "      <td>no</td>\n",
              "      <td>no</td>\n",
              "      <td>no</td>\n",
              "      <td>83844</td>\n",
              "      <td>...</td>\n",
              "      <td>681.48</td>\n",
              "      <td>1152.78</td>\n",
              "      <td>917.13</td>\n",
              "      <td>7</td>\n",
              "      <td>32</td>\n",
              "      <td>37</td>\n",
              "      <td>26</td>\n",
              "      <td>13</td>\n",
              "      <td>0</td>\n",
              "      <td>0</td>\n",
              "      <td>2</td>\n",
              "      <td>17</td>\n",
              "      <td>1</td>\n",
              "      <td>2</td>\n",
              "      <td>33</td>\n",
              "      <td>4</td>\n",
              "      <td>30.36</td>\n",
              "      <td>9.33</td>\n",
              "      <td>39</td>\n",
              "      <td>1225712</td>\n",
              "      <td>45</td>\n",
              "      <td>1464521</td>\n",
              "      <td>230</td>\n",
              "      <td>703.20</td>\n",
              "      <td>1182.65</td>\n",
              "      <td>942.92</td>\n",
              "      <td>11</td>\n",
              "      <td>60</td>\n",
              "      <td>77</td>\n",
              "      <td>58</td>\n",
              "      <td>22</td>\n",
              "      <td>1</td>\n",
              "      <td>1</td>\n",
              "      <td>6</td>\n",
              "      <td>31</td>\n",
              "      <td>1</td>\n",
              "      <td>4</td>\n",
              "      <td>65</td>\n",
              "      <td>7</td>\n",
              "      <td>13500000</td>\n",
              "    </tr>\n",
              "    <tr>\n",
              "      <th>30470</th>\n",
              "      <td>43</td>\n",
              "      <td>28.000000</td>\n",
              "      <td>1.0</td>\n",
              "      <td>9.000000</td>\n",
              "      <td>1.000000</td>\n",
              "      <td>1968.000000</td>\n",
              "      <td>2.000000</td>\n",
              "      <td>6.000000</td>\n",
              "      <td>2.000000</td>\n",
              "      <td>Investment</td>\n",
              "      <td>Novogireevo</td>\n",
              "      <td>4.395333e+06</td>\n",
              "      <td>94561</td>\n",
              "      <td>0.063755</td>\n",
              "      <td>0.038693</td>\n",
              "      <td>6120</td>\n",
              "      <td>2215.000000</td>\n",
              "      <td>4</td>\n",
              "      <td>6533</td>\n",
              "      <td>5824.000000</td>\n",
              "      <td>4</td>\n",
              "      <td>0</td>\n",
              "      <td>1015.000000</td>\n",
              "      <td>2</td>\n",
              "      <td>0</td>\n",
              "      <td>7</td>\n",
              "      <td>1</td>\n",
              "      <td>no</td>\n",
              "      <td>0</td>\n",
              "      <td>5</td>\n",
              "      <td>1</td>\n",
              "      <td>no</td>\n",
              "      <td>no</td>\n",
              "      <td>no</td>\n",
              "      <td>yes</td>\n",
              "      <td>no</td>\n",
              "      <td>no</td>\n",
              "      <td>no</td>\n",
              "      <td>no</td>\n",
              "      <td>72131</td>\n",
              "      <td>...</td>\n",
              "      <td>595.65</td>\n",
              "      <td>1054.35</td>\n",
              "      <td>825.00</td>\n",
              "      <td>1</td>\n",
              "      <td>13</td>\n",
              "      <td>24</td>\n",
              "      <td>6</td>\n",
              "      <td>2</td>\n",
              "      <td>1</td>\n",
              "      <td>0</td>\n",
              "      <td>3</td>\n",
              "      <td>7</td>\n",
              "      <td>0</td>\n",
              "      <td>7</td>\n",
              "      <td>26</td>\n",
              "      <td>4</td>\n",
              "      <td>25.10</td>\n",
              "      <td>10.16</td>\n",
              "      <td>15</td>\n",
              "      <td>351244</td>\n",
              "      <td>22</td>\n",
              "      <td>646575</td>\n",
              "      <td>93</td>\n",
              "      <td>664.44</td>\n",
              "      <td>1127.78</td>\n",
              "      <td>896.11</td>\n",
              "      <td>3</td>\n",
              "      <td>26</td>\n",
              "      <td>35</td>\n",
              "      <td>22</td>\n",
              "      <td>5</td>\n",
              "      <td>2</td>\n",
              "      <td>0</td>\n",
              "      <td>7</td>\n",
              "      <td>16</td>\n",
              "      <td>0</td>\n",
              "      <td>9</td>\n",
              "      <td>54</td>\n",
              "      <td>10</td>\n",
              "      <td>5600000</td>\n",
              "    </tr>\n",
              "  </tbody>\n",
              "</table>\n",
              "<p>30471 rows × 290 columns</p>\n",
              "</div>"
            ],
            "text/plain": [
              "       full_sq    life_sq  ...  market_count_5000  price_doc\n",
              "0           43  27.000000  ...                  4    5850000\n",
              "1           34  19.000000  ...                 14    6000000\n",
              "2           43  29.000000  ...                 10    5700000\n",
              "3           89  50.000000  ...                  3   13100000\n",
              "4           77  77.000000  ...                 14   16331452\n",
              "...        ...        ...  ...                ...        ...\n",
              "30466       44  27.000000  ...                  6    7400000\n",
              "30467       86  59.000000  ...                 15   25000000\n",
              "30468       45  34.403271  ...                  1    6970959\n",
              "30469       64  32.000000  ...                  7   13500000\n",
              "30470       43  28.000000  ...                 10    5600000\n",
              "\n",
              "[30471 rows x 290 columns]"
            ]
          },
          "metadata": {
            "tags": []
          },
          "execution_count": 9
        }
      ]
    },
    {
      "cell_type": "markdown",
      "metadata": {
        "id": "1SI-KAjq627z"
      },
      "source": [
        "Удаляем все столбики где есть слова"
      ]
    },
    {
      "cell_type": "code",
      "metadata": {
        "id": "mhUz_Bmdkcro"
      },
      "source": [
        "dataC =data.drop(['id', 'timestamp', 'thermal_power_plant_raion', 'incineration_raion', 'oil_chemistry_raion', 'radiation_raion', 'railroad_terminal_raion', 'big_market_raion', 'nuclear_reactor_raion', 'detention_facility_raion', 'culture_objects_top_25'], axis=1)"
      ],
      "execution_count": 10,
      "outputs": []
    },
    {
      "cell_type": "code",
      "metadata": {
        "id": "vpM__ZXskejb",
        "outputId": "b2730ea8-fc4e-4aeb-8f65-180eed5343c3",
        "colab": {
          "base_uri": "https://localhost:8080/",
          "height": 464
        }
      },
      "source": [
        "dataC"
      ],
      "execution_count": 11,
      "outputs": [
        {
          "output_type": "execute_result",
          "data": {
            "text/html": [
              "<div>\n",
              "<style scoped>\n",
              "    .dataframe tbody tr th:only-of-type {\n",
              "        vertical-align: middle;\n",
              "    }\n",
              "\n",
              "    .dataframe tbody tr th {\n",
              "        vertical-align: top;\n",
              "    }\n",
              "\n",
              "    .dataframe thead th {\n",
              "        text-align: right;\n",
              "    }\n",
              "</style>\n",
              "<table border=\"1\" class=\"dataframe\">\n",
              "  <thead>\n",
              "    <tr style=\"text-align: right;\">\n",
              "      <th></th>\n",
              "      <th>full_sq</th>\n",
              "      <th>life_sq</th>\n",
              "      <th>floor</th>\n",
              "      <th>max_floor</th>\n",
              "      <th>material</th>\n",
              "      <th>build_year</th>\n",
              "      <th>num_room</th>\n",
              "      <th>kitch_sq</th>\n",
              "      <th>state</th>\n",
              "      <th>product_type</th>\n",
              "      <th>sub_area</th>\n",
              "      <th>area_m</th>\n",
              "      <th>raion_popul</th>\n",
              "      <th>green_zone_part</th>\n",
              "      <th>indust_part</th>\n",
              "      <th>children_preschool</th>\n",
              "      <th>preschool_quota</th>\n",
              "      <th>preschool_education_centers_raion</th>\n",
              "      <th>children_school</th>\n",
              "      <th>school_quota</th>\n",
              "      <th>school_education_centers_raion</th>\n",
              "      <th>school_education_centers_top_20_raion</th>\n",
              "      <th>hospital_beds_raion</th>\n",
              "      <th>healthcare_centers_raion</th>\n",
              "      <th>university_top_20_raion</th>\n",
              "      <th>sport_objects_raion</th>\n",
              "      <th>additional_education_raion</th>\n",
              "      <th>culture_objects_top_25_raion</th>\n",
              "      <th>shopping_centers_raion</th>\n",
              "      <th>office_raion</th>\n",
              "      <th>full_all</th>\n",
              "      <th>male_f</th>\n",
              "      <th>female_f</th>\n",
              "      <th>young_all</th>\n",
              "      <th>young_male</th>\n",
              "      <th>young_female</th>\n",
              "      <th>work_all</th>\n",
              "      <th>work_male</th>\n",
              "      <th>work_female</th>\n",
              "      <th>ekder_all</th>\n",
              "      <th>...</th>\n",
              "      <th>cafe_sum_3000_min_price_avg</th>\n",
              "      <th>cafe_sum_3000_max_price_avg</th>\n",
              "      <th>cafe_avg_price_3000</th>\n",
              "      <th>cafe_count_3000_na_price</th>\n",
              "      <th>cafe_count_3000_price_500</th>\n",
              "      <th>cafe_count_3000_price_1000</th>\n",
              "      <th>cafe_count_3000_price_1500</th>\n",
              "      <th>cafe_count_3000_price_2500</th>\n",
              "      <th>cafe_count_3000_price_4000</th>\n",
              "      <th>cafe_count_3000_price_high</th>\n",
              "      <th>big_church_count_3000</th>\n",
              "      <th>church_count_3000</th>\n",
              "      <th>mosque_count_3000</th>\n",
              "      <th>leisure_count_3000</th>\n",
              "      <th>sport_count_3000</th>\n",
              "      <th>market_count_3000</th>\n",
              "      <th>green_part_5000</th>\n",
              "      <th>prom_part_5000</th>\n",
              "      <th>office_count_5000</th>\n",
              "      <th>office_sqm_5000</th>\n",
              "      <th>trc_count_5000</th>\n",
              "      <th>trc_sqm_5000</th>\n",
              "      <th>cafe_count_5000</th>\n",
              "      <th>cafe_sum_5000_min_price_avg</th>\n",
              "      <th>cafe_sum_5000_max_price_avg</th>\n",
              "      <th>cafe_avg_price_5000</th>\n",
              "      <th>cafe_count_5000_na_price</th>\n",
              "      <th>cafe_count_5000_price_500</th>\n",
              "      <th>cafe_count_5000_price_1000</th>\n",
              "      <th>cafe_count_5000_price_1500</th>\n",
              "      <th>cafe_count_5000_price_2500</th>\n",
              "      <th>cafe_count_5000_price_4000</th>\n",
              "      <th>cafe_count_5000_price_high</th>\n",
              "      <th>big_church_count_5000</th>\n",
              "      <th>church_count_5000</th>\n",
              "      <th>mosque_count_5000</th>\n",
              "      <th>leisure_count_5000</th>\n",
              "      <th>sport_count_5000</th>\n",
              "      <th>market_count_5000</th>\n",
              "      <th>price_doc</th>\n",
              "    </tr>\n",
              "  </thead>\n",
              "  <tbody>\n",
              "    <tr>\n",
              "      <th>0</th>\n",
              "      <td>43</td>\n",
              "      <td>27.000000</td>\n",
              "      <td>4.0</td>\n",
              "      <td>12.558974</td>\n",
              "      <td>1.827121</td>\n",
              "      <td>3068.057097</td>\n",
              "      <td>1.909804</td>\n",
              "      <td>6.399301</td>\n",
              "      <td>2.107025</td>\n",
              "      <td>Investment</td>\n",
              "      <td>Bibirevo</td>\n",
              "      <td>6.407578e+06</td>\n",
              "      <td>155572</td>\n",
              "      <td>0.189727</td>\n",
              "      <td>0.000070</td>\n",
              "      <td>9576</td>\n",
              "      <td>5001.000000</td>\n",
              "      <td>5</td>\n",
              "      <td>10309</td>\n",
              "      <td>11065.000000</td>\n",
              "      <td>5</td>\n",
              "      <td>0</td>\n",
              "      <td>240.000000</td>\n",
              "      <td>1</td>\n",
              "      <td>0</td>\n",
              "      <td>7</td>\n",
              "      <td>3</td>\n",
              "      <td>0</td>\n",
              "      <td>16</td>\n",
              "      <td>1</td>\n",
              "      <td>86206</td>\n",
              "      <td>40477</td>\n",
              "      <td>45729</td>\n",
              "      <td>21154</td>\n",
              "      <td>11007</td>\n",
              "      <td>10147</td>\n",
              "      <td>98207</td>\n",
              "      <td>52277</td>\n",
              "      <td>45930</td>\n",
              "      <td>36211</td>\n",
              "      <td>...</td>\n",
              "      <td>639.68</td>\n",
              "      <td>1079.37</td>\n",
              "      <td>859.52</td>\n",
              "      <td>5</td>\n",
              "      <td>21</td>\n",
              "      <td>22</td>\n",
              "      <td>16</td>\n",
              "      <td>3</td>\n",
              "      <td>1</td>\n",
              "      <td>0</td>\n",
              "      <td>2</td>\n",
              "      <td>4</td>\n",
              "      <td>0</td>\n",
              "      <td>0</td>\n",
              "      <td>21</td>\n",
              "      <td>1</td>\n",
              "      <td>13.09</td>\n",
              "      <td>13.31</td>\n",
              "      <td>29</td>\n",
              "      <td>807385</td>\n",
              "      <td>52</td>\n",
              "      <td>4036616</td>\n",
              "      <td>152</td>\n",
              "      <td>708.57</td>\n",
              "      <td>1185.71</td>\n",
              "      <td>947.14</td>\n",
              "      <td>12</td>\n",
              "      <td>39</td>\n",
              "      <td>48</td>\n",
              "      <td>40</td>\n",
              "      <td>9</td>\n",
              "      <td>4</td>\n",
              "      <td>0</td>\n",
              "      <td>13</td>\n",
              "      <td>22</td>\n",
              "      <td>1</td>\n",
              "      <td>0</td>\n",
              "      <td>52</td>\n",
              "      <td>4</td>\n",
              "      <td>5850000</td>\n",
              "    </tr>\n",
              "    <tr>\n",
              "      <th>1</th>\n",
              "      <td>34</td>\n",
              "      <td>19.000000</td>\n",
              "      <td>3.0</td>\n",
              "      <td>12.558974</td>\n",
              "      <td>1.827121</td>\n",
              "      <td>3068.057097</td>\n",
              "      <td>1.909804</td>\n",
              "      <td>6.399301</td>\n",
              "      <td>2.107025</td>\n",
              "      <td>Investment</td>\n",
              "      <td>Nagatinskij Zaton</td>\n",
              "      <td>9.589337e+06</td>\n",
              "      <td>115352</td>\n",
              "      <td>0.372602</td>\n",
              "      <td>0.049637</td>\n",
              "      <td>6880</td>\n",
              "      <td>3119.000000</td>\n",
              "      <td>5</td>\n",
              "      <td>7759</td>\n",
              "      <td>6237.000000</td>\n",
              "      <td>8</td>\n",
              "      <td>0</td>\n",
              "      <td>229.000000</td>\n",
              "      <td>1</td>\n",
              "      <td>0</td>\n",
              "      <td>6</td>\n",
              "      <td>1</td>\n",
              "      <td>1</td>\n",
              "      <td>3</td>\n",
              "      <td>0</td>\n",
              "      <td>76284</td>\n",
              "      <td>34200</td>\n",
              "      <td>42084</td>\n",
              "      <td>15727</td>\n",
              "      <td>7925</td>\n",
              "      <td>7802</td>\n",
              "      <td>70194</td>\n",
              "      <td>35622</td>\n",
              "      <td>34572</td>\n",
              "      <td>29431</td>\n",
              "      <td>...</td>\n",
              "      <td>631.03</td>\n",
              "      <td>1086.21</td>\n",
              "      <td>858.62</td>\n",
              "      <td>1</td>\n",
              "      <td>11</td>\n",
              "      <td>11</td>\n",
              "      <td>4</td>\n",
              "      <td>2</td>\n",
              "      <td>1</td>\n",
              "      <td>0</td>\n",
              "      <td>1</td>\n",
              "      <td>7</td>\n",
              "      <td>0</td>\n",
              "      <td>6</td>\n",
              "      <td>19</td>\n",
              "      <td>1</td>\n",
              "      <td>10.26</td>\n",
              "      <td>27.47</td>\n",
              "      <td>66</td>\n",
              "      <td>2690465</td>\n",
              "      <td>40</td>\n",
              "      <td>2034942</td>\n",
              "      <td>177</td>\n",
              "      <td>673.81</td>\n",
              "      <td>1148.81</td>\n",
              "      <td>911.31</td>\n",
              "      <td>9</td>\n",
              "      <td>49</td>\n",
              "      <td>65</td>\n",
              "      <td>36</td>\n",
              "      <td>15</td>\n",
              "      <td>3</td>\n",
              "      <td>0</td>\n",
              "      <td>15</td>\n",
              "      <td>29</td>\n",
              "      <td>1</td>\n",
              "      <td>10</td>\n",
              "      <td>66</td>\n",
              "      <td>14</td>\n",
              "      <td>6000000</td>\n",
              "    </tr>\n",
              "    <tr>\n",
              "      <th>2</th>\n",
              "      <td>43</td>\n",
              "      <td>29.000000</td>\n",
              "      <td>2.0</td>\n",
              "      <td>12.558974</td>\n",
              "      <td>1.827121</td>\n",
              "      <td>3068.057097</td>\n",
              "      <td>1.909804</td>\n",
              "      <td>6.399301</td>\n",
              "      <td>2.107025</td>\n",
              "      <td>Investment</td>\n",
              "      <td>Tekstil'shhiki</td>\n",
              "      <td>4.808270e+06</td>\n",
              "      <td>101708</td>\n",
              "      <td>0.112560</td>\n",
              "      <td>0.118537</td>\n",
              "      <td>5879</td>\n",
              "      <td>1463.000000</td>\n",
              "      <td>4</td>\n",
              "      <td>6207</td>\n",
              "      <td>5580.000000</td>\n",
              "      <td>7</td>\n",
              "      <td>0</td>\n",
              "      <td>1183.000000</td>\n",
              "      <td>1</td>\n",
              "      <td>0</td>\n",
              "      <td>5</td>\n",
              "      <td>1</td>\n",
              "      <td>0</td>\n",
              "      <td>0</td>\n",
              "      <td>1</td>\n",
              "      <td>101982</td>\n",
              "      <td>46076</td>\n",
              "      <td>55906</td>\n",
              "      <td>13028</td>\n",
              "      <td>6835</td>\n",
              "      <td>6193</td>\n",
              "      <td>63388</td>\n",
              "      <td>31813</td>\n",
              "      <td>31575</td>\n",
              "      <td>25292</td>\n",
              "      <td>...</td>\n",
              "      <td>697.44</td>\n",
              "      <td>1192.31</td>\n",
              "      <td>944.87</td>\n",
              "      <td>2</td>\n",
              "      <td>9</td>\n",
              "      <td>17</td>\n",
              "      <td>9</td>\n",
              "      <td>3</td>\n",
              "      <td>1</td>\n",
              "      <td>0</td>\n",
              "      <td>0</td>\n",
              "      <td>11</td>\n",
              "      <td>0</td>\n",
              "      <td>0</td>\n",
              "      <td>20</td>\n",
              "      <td>6</td>\n",
              "      <td>13.69</td>\n",
              "      <td>21.58</td>\n",
              "      <td>43</td>\n",
              "      <td>1478160</td>\n",
              "      <td>35</td>\n",
              "      <td>1572990</td>\n",
              "      <td>122</td>\n",
              "      <td>702.68</td>\n",
              "      <td>1196.43</td>\n",
              "      <td>949.55</td>\n",
              "      <td>10</td>\n",
              "      <td>29</td>\n",
              "      <td>45</td>\n",
              "      <td>25</td>\n",
              "      <td>10</td>\n",
              "      <td>3</td>\n",
              "      <td>0</td>\n",
              "      <td>11</td>\n",
              "      <td>27</td>\n",
              "      <td>0</td>\n",
              "      <td>4</td>\n",
              "      <td>67</td>\n",
              "      <td>10</td>\n",
              "      <td>5700000</td>\n",
              "    </tr>\n",
              "    <tr>\n",
              "      <th>3</th>\n",
              "      <td>89</td>\n",
              "      <td>50.000000</td>\n",
              "      <td>9.0</td>\n",
              "      <td>12.558974</td>\n",
              "      <td>1.827121</td>\n",
              "      <td>3068.057097</td>\n",
              "      <td>1.909804</td>\n",
              "      <td>6.399301</td>\n",
              "      <td>2.107025</td>\n",
              "      <td>Investment</td>\n",
              "      <td>Mitino</td>\n",
              "      <td>1.258354e+07</td>\n",
              "      <td>178473</td>\n",
              "      <td>0.194703</td>\n",
              "      <td>0.069753</td>\n",
              "      <td>13087</td>\n",
              "      <td>6839.000000</td>\n",
              "      <td>9</td>\n",
              "      <td>13670</td>\n",
              "      <td>17063.000000</td>\n",
              "      <td>10</td>\n",
              "      <td>0</td>\n",
              "      <td>1190.738677</td>\n",
              "      <td>1</td>\n",
              "      <td>0</td>\n",
              "      <td>17</td>\n",
              "      <td>6</td>\n",
              "      <td>0</td>\n",
              "      <td>11</td>\n",
              "      <td>4</td>\n",
              "      <td>21155</td>\n",
              "      <td>9828</td>\n",
              "      <td>11327</td>\n",
              "      <td>28563</td>\n",
              "      <td>14680</td>\n",
              "      <td>13883</td>\n",
              "      <td>120381</td>\n",
              "      <td>60040</td>\n",
              "      <td>60341</td>\n",
              "      <td>29529</td>\n",
              "      <td>...</td>\n",
              "      <td>718.75</td>\n",
              "      <td>1218.75</td>\n",
              "      <td>968.75</td>\n",
              "      <td>0</td>\n",
              "      <td>5</td>\n",
              "      <td>14</td>\n",
              "      <td>10</td>\n",
              "      <td>3</td>\n",
              "      <td>0</td>\n",
              "      <td>0</td>\n",
              "      <td>1</td>\n",
              "      <td>2</td>\n",
              "      <td>0</td>\n",
              "      <td>0</td>\n",
              "      <td>18</td>\n",
              "      <td>3</td>\n",
              "      <td>14.18</td>\n",
              "      <td>3.89</td>\n",
              "      <td>8</td>\n",
              "      <td>244166</td>\n",
              "      <td>22</td>\n",
              "      <td>942180</td>\n",
              "      <td>61</td>\n",
              "      <td>931.58</td>\n",
              "      <td>1552.63</td>\n",
              "      <td>1242.11</td>\n",
              "      <td>4</td>\n",
              "      <td>7</td>\n",
              "      <td>21</td>\n",
              "      <td>15</td>\n",
              "      <td>11</td>\n",
              "      <td>2</td>\n",
              "      <td>1</td>\n",
              "      <td>4</td>\n",
              "      <td>4</td>\n",
              "      <td>0</td>\n",
              "      <td>0</td>\n",
              "      <td>26</td>\n",
              "      <td>3</td>\n",
              "      <td>13100000</td>\n",
              "    </tr>\n",
              "    <tr>\n",
              "      <th>4</th>\n",
              "      <td>77</td>\n",
              "      <td>77.000000</td>\n",
              "      <td>4.0</td>\n",
              "      <td>12.558974</td>\n",
              "      <td>1.827121</td>\n",
              "      <td>3068.057097</td>\n",
              "      <td>1.909804</td>\n",
              "      <td>6.399301</td>\n",
              "      <td>2.107025</td>\n",
              "      <td>Investment</td>\n",
              "      <td>Basmannoe</td>\n",
              "      <td>8.398461e+06</td>\n",
              "      <td>108171</td>\n",
              "      <td>0.015234</td>\n",
              "      <td>0.037316</td>\n",
              "      <td>5706</td>\n",
              "      <td>3240.000000</td>\n",
              "      <td>7</td>\n",
              "      <td>6748</td>\n",
              "      <td>7770.000000</td>\n",
              "      <td>9</td>\n",
              "      <td>0</td>\n",
              "      <td>562.000000</td>\n",
              "      <td>4</td>\n",
              "      <td>2</td>\n",
              "      <td>25</td>\n",
              "      <td>2</td>\n",
              "      <td>0</td>\n",
              "      <td>10</td>\n",
              "      <td>93</td>\n",
              "      <td>28179</td>\n",
              "      <td>13522</td>\n",
              "      <td>14657</td>\n",
              "      <td>13368</td>\n",
              "      <td>7159</td>\n",
              "      <td>6209</td>\n",
              "      <td>68043</td>\n",
              "      <td>34236</td>\n",
              "      <td>33807</td>\n",
              "      <td>26760</td>\n",
              "      <td>...</td>\n",
              "      <td>853.03</td>\n",
              "      <td>1410.45</td>\n",
              "      <td>1131.74</td>\n",
              "      <td>63</td>\n",
              "      <td>266</td>\n",
              "      <td>267</td>\n",
              "      <td>262</td>\n",
              "      <td>149</td>\n",
              "      <td>57</td>\n",
              "      <td>4</td>\n",
              "      <td>70</td>\n",
              "      <td>121</td>\n",
              "      <td>1</td>\n",
              "      <td>40</td>\n",
              "      <td>77</td>\n",
              "      <td>5</td>\n",
              "      <td>8.38</td>\n",
              "      <td>10.92</td>\n",
              "      <td>689</td>\n",
              "      <td>8404624</td>\n",
              "      <td>114</td>\n",
              "      <td>3503058</td>\n",
              "      <td>2283</td>\n",
              "      <td>853.88</td>\n",
              "      <td>1411.45</td>\n",
              "      <td>1132.66</td>\n",
              "      <td>143</td>\n",
              "      <td>566</td>\n",
              "      <td>578</td>\n",
              "      <td>552</td>\n",
              "      <td>319</td>\n",
              "      <td>108</td>\n",
              "      <td>17</td>\n",
              "      <td>135</td>\n",
              "      <td>236</td>\n",
              "      <td>2</td>\n",
              "      <td>91</td>\n",
              "      <td>195</td>\n",
              "      <td>14</td>\n",
              "      <td>16331452</td>\n",
              "    </tr>\n",
              "    <tr>\n",
              "      <th>...</th>\n",
              "      <td>...</td>\n",
              "      <td>...</td>\n",
              "      <td>...</td>\n",
              "      <td>...</td>\n",
              "      <td>...</td>\n",
              "      <td>...</td>\n",
              "      <td>...</td>\n",
              "      <td>...</td>\n",
              "      <td>...</td>\n",
              "      <td>...</td>\n",
              "      <td>...</td>\n",
              "      <td>...</td>\n",
              "      <td>...</td>\n",
              "      <td>...</td>\n",
              "      <td>...</td>\n",
              "      <td>...</td>\n",
              "      <td>...</td>\n",
              "      <td>...</td>\n",
              "      <td>...</td>\n",
              "      <td>...</td>\n",
              "      <td>...</td>\n",
              "      <td>...</td>\n",
              "      <td>...</td>\n",
              "      <td>...</td>\n",
              "      <td>...</td>\n",
              "      <td>...</td>\n",
              "      <td>...</td>\n",
              "      <td>...</td>\n",
              "      <td>...</td>\n",
              "      <td>...</td>\n",
              "      <td>...</td>\n",
              "      <td>...</td>\n",
              "      <td>...</td>\n",
              "      <td>...</td>\n",
              "      <td>...</td>\n",
              "      <td>...</td>\n",
              "      <td>...</td>\n",
              "      <td>...</td>\n",
              "      <td>...</td>\n",
              "      <td>...</td>\n",
              "      <td>...</td>\n",
              "      <td>...</td>\n",
              "      <td>...</td>\n",
              "      <td>...</td>\n",
              "      <td>...</td>\n",
              "      <td>...</td>\n",
              "      <td>...</td>\n",
              "      <td>...</td>\n",
              "      <td>...</td>\n",
              "      <td>...</td>\n",
              "      <td>...</td>\n",
              "      <td>...</td>\n",
              "      <td>...</td>\n",
              "      <td>...</td>\n",
              "      <td>...</td>\n",
              "      <td>...</td>\n",
              "      <td>...</td>\n",
              "      <td>...</td>\n",
              "      <td>...</td>\n",
              "      <td>...</td>\n",
              "      <td>...</td>\n",
              "      <td>...</td>\n",
              "      <td>...</td>\n",
              "      <td>...</td>\n",
              "      <td>...</td>\n",
              "      <td>...</td>\n",
              "      <td>...</td>\n",
              "      <td>...</td>\n",
              "      <td>...</td>\n",
              "      <td>...</td>\n",
              "      <td>...</td>\n",
              "      <td>...</td>\n",
              "      <td>...</td>\n",
              "      <td>...</td>\n",
              "      <td>...</td>\n",
              "      <td>...</td>\n",
              "      <td>...</td>\n",
              "      <td>...</td>\n",
              "      <td>...</td>\n",
              "      <td>...</td>\n",
              "      <td>...</td>\n",
              "    </tr>\n",
              "    <tr>\n",
              "      <th>30466</th>\n",
              "      <td>44</td>\n",
              "      <td>27.000000</td>\n",
              "      <td>7.0</td>\n",
              "      <td>9.000000</td>\n",
              "      <td>1.000000</td>\n",
              "      <td>1975.000000</td>\n",
              "      <td>2.000000</td>\n",
              "      <td>6.000000</td>\n",
              "      <td>3.000000</td>\n",
              "      <td>Investment</td>\n",
              "      <td>Otradnoe</td>\n",
              "      <td>1.005305e+07</td>\n",
              "      <td>175518</td>\n",
              "      <td>0.096270</td>\n",
              "      <td>0.300323</td>\n",
              "      <td>9753</td>\n",
              "      <td>5088.000000</td>\n",
              "      <td>4</td>\n",
              "      <td>10311</td>\n",
              "      <td>12721.000000</td>\n",
              "      <td>4</td>\n",
              "      <td>0</td>\n",
              "      <td>1190.738677</td>\n",
              "      <td>1</td>\n",
              "      <td>0</td>\n",
              "      <td>10</td>\n",
              "      <td>3</td>\n",
              "      <td>0</td>\n",
              "      <td>9</td>\n",
              "      <td>6</td>\n",
              "      <td>61396</td>\n",
              "      <td>27916</td>\n",
              "      <td>33480</td>\n",
              "      <td>21400</td>\n",
              "      <td>11094</td>\n",
              "      <td>10306</td>\n",
              "      <td>112133</td>\n",
              "      <td>59089</td>\n",
              "      <td>53044</td>\n",
              "      <td>41985</td>\n",
              "      <td>...</td>\n",
              "      <td>647.89</td>\n",
              "      <td>1112.68</td>\n",
              "      <td>880.28</td>\n",
              "      <td>8</td>\n",
              "      <td>20</td>\n",
              "      <td>30</td>\n",
              "      <td>15</td>\n",
              "      <td>5</td>\n",
              "      <td>1</td>\n",
              "      <td>0</td>\n",
              "      <td>5</td>\n",
              "      <td>12</td>\n",
              "      <td>1</td>\n",
              "      <td>0</td>\n",
              "      <td>29</td>\n",
              "      <td>3</td>\n",
              "      <td>15.52</td>\n",
              "      <td>17.24</td>\n",
              "      <td>44</td>\n",
              "      <td>838601</td>\n",
              "      <td>53</td>\n",
              "      <td>2548292</td>\n",
              "      <td>207</td>\n",
              "      <td>689.95</td>\n",
              "      <td>1156.08</td>\n",
              "      <td>923.02</td>\n",
              "      <td>18</td>\n",
              "      <td>63</td>\n",
              "      <td>59</td>\n",
              "      <td>47</td>\n",
              "      <td>15</td>\n",
              "      <td>5</td>\n",
              "      <td>0</td>\n",
              "      <td>15</td>\n",
              "      <td>26</td>\n",
              "      <td>1</td>\n",
              "      <td>2</td>\n",
              "      <td>84</td>\n",
              "      <td>6</td>\n",
              "      <td>7400000</td>\n",
              "    </tr>\n",
              "    <tr>\n",
              "      <th>30467</th>\n",
              "      <td>86</td>\n",
              "      <td>59.000000</td>\n",
              "      <td>3.0</td>\n",
              "      <td>9.000000</td>\n",
              "      <td>2.000000</td>\n",
              "      <td>1935.000000</td>\n",
              "      <td>4.000000</td>\n",
              "      <td>10.000000</td>\n",
              "      <td>3.000000</td>\n",
              "      <td>Investment</td>\n",
              "      <td>Tverskoe</td>\n",
              "      <td>7.307411e+06</td>\n",
              "      <td>75377</td>\n",
              "      <td>0.065444</td>\n",
              "      <td>0.000078</td>\n",
              "      <td>4237</td>\n",
              "      <td>1874.000000</td>\n",
              "      <td>4</td>\n",
              "      <td>6398</td>\n",
              "      <td>6772.000000</td>\n",
              "      <td>4</td>\n",
              "      <td>1</td>\n",
              "      <td>1046.000000</td>\n",
              "      <td>3</td>\n",
              "      <td>2</td>\n",
              "      <td>29</td>\n",
              "      <td>16</td>\n",
              "      <td>10</td>\n",
              "      <td>23</td>\n",
              "      <td>141</td>\n",
              "      <td>116742</td>\n",
              "      <td>52836</td>\n",
              "      <td>63906</td>\n",
              "      <td>11272</td>\n",
              "      <td>5470</td>\n",
              "      <td>5802</td>\n",
              "      <td>43921</td>\n",
              "      <td>21901</td>\n",
              "      <td>22020</td>\n",
              "      <td>20184</td>\n",
              "      <td>...</td>\n",
              "      <td>895.84</td>\n",
              "      <td>1476.65</td>\n",
              "      <td>1186.24</td>\n",
              "      <td>54</td>\n",
              "      <td>268</td>\n",
              "      <td>258</td>\n",
              "      <td>230</td>\n",
              "      <td>155</td>\n",
              "      <td>57</td>\n",
              "      <td>17</td>\n",
              "      <td>35</td>\n",
              "      <td>62</td>\n",
              "      <td>1</td>\n",
              "      <td>48</td>\n",
              "      <td>80</td>\n",
              "      <td>4</td>\n",
              "      <td>8.29</td>\n",
              "      <td>12.85</td>\n",
              "      <td>617</td>\n",
              "      <td>9949843</td>\n",
              "      <td>90</td>\n",
              "      <td>4345915</td>\n",
              "      <td>2197</td>\n",
              "      <td>887.43</td>\n",
              "      <td>1462.88</td>\n",
              "      <td>1175.16</td>\n",
              "      <td>136</td>\n",
              "      <td>550</td>\n",
              "      <td>535</td>\n",
              "      <td>511</td>\n",
              "      <td>313</td>\n",
              "      <td>128</td>\n",
              "      <td>24</td>\n",
              "      <td>98</td>\n",
              "      <td>182</td>\n",
              "      <td>1</td>\n",
              "      <td>82</td>\n",
              "      <td>171</td>\n",
              "      <td>15</td>\n",
              "      <td>25000000</td>\n",
              "    </tr>\n",
              "    <tr>\n",
              "      <th>30468</th>\n",
              "      <td>45</td>\n",
              "      <td>34.403271</td>\n",
              "      <td>10.0</td>\n",
              "      <td>20.000000</td>\n",
              "      <td>1.000000</td>\n",
              "      <td>3068.057097</td>\n",
              "      <td>1.000000</td>\n",
              "      <td>1.000000</td>\n",
              "      <td>1.000000</td>\n",
              "      <td>OwnerOccupier</td>\n",
              "      <td>Poselenie Vnukovskoe</td>\n",
              "      <td>2.553630e+07</td>\n",
              "      <td>4001</td>\n",
              "      <td>0.496315</td>\n",
              "      <td>0.007122</td>\n",
              "      <td>275</td>\n",
              "      <td>3271.272464</td>\n",
              "      <td>0</td>\n",
              "      <td>264</td>\n",
              "      <td>8324.970739</td>\n",
              "      <td>0</td>\n",
              "      <td>0</td>\n",
              "      <td>1190.738677</td>\n",
              "      <td>0</td>\n",
              "      <td>0</td>\n",
              "      <td>0</td>\n",
              "      <td>0</td>\n",
              "      <td>0</td>\n",
              "      <td>1</td>\n",
              "      <td>0</td>\n",
              "      <td>17790</td>\n",
              "      <td>8350</td>\n",
              "      <td>9443</td>\n",
              "      <td>574</td>\n",
              "      <td>297</td>\n",
              "      <td>277</td>\n",
              "      <td>2566</td>\n",
              "      <td>1356</td>\n",
              "      <td>1211</td>\n",
              "      <td>861</td>\n",
              "      <td>...</td>\n",
              "      <td>700.00</td>\n",
              "      <td>1222.22</td>\n",
              "      <td>961.11</td>\n",
              "      <td>0</td>\n",
              "      <td>1</td>\n",
              "      <td>5</td>\n",
              "      <td>2</td>\n",
              "      <td>1</td>\n",
              "      <td>0</td>\n",
              "      <td>0</td>\n",
              "      <td>1</td>\n",
              "      <td>4</td>\n",
              "      <td>0</td>\n",
              "      <td>0</td>\n",
              "      <td>6</td>\n",
              "      <td>0</td>\n",
              "      <td>35.62</td>\n",
              "      <td>6.96</td>\n",
              "      <td>1</td>\n",
              "      <td>117300</td>\n",
              "      <td>4</td>\n",
              "      <td>201300</td>\n",
              "      <td>20</td>\n",
              "      <td>747.37</td>\n",
              "      <td>1263.16</td>\n",
              "      <td>1005.26</td>\n",
              "      <td>1</td>\n",
              "      <td>4</td>\n",
              "      <td>8</td>\n",
              "      <td>5</td>\n",
              "      <td>1</td>\n",
              "      <td>1</td>\n",
              "      <td>0</td>\n",
              "      <td>2</td>\n",
              "      <td>12</td>\n",
              "      <td>0</td>\n",
              "      <td>1</td>\n",
              "      <td>11</td>\n",
              "      <td>1</td>\n",
              "      <td>6970959</td>\n",
              "    </tr>\n",
              "    <tr>\n",
              "      <th>30469</th>\n",
              "      <td>64</td>\n",
              "      <td>32.000000</td>\n",
              "      <td>5.0</td>\n",
              "      <td>15.000000</td>\n",
              "      <td>1.000000</td>\n",
              "      <td>2003.000000</td>\n",
              "      <td>2.000000</td>\n",
              "      <td>11.000000</td>\n",
              "      <td>2.000000</td>\n",
              "      <td>Investment</td>\n",
              "      <td>Obruchevskoe</td>\n",
              "      <td>6.050065e+06</td>\n",
              "      <td>78616</td>\n",
              "      <td>0.167526</td>\n",
              "      <td>0.093443</td>\n",
              "      <td>4215</td>\n",
              "      <td>2372.000000</td>\n",
              "      <td>6</td>\n",
              "      <td>4635</td>\n",
              "      <td>6083.000000</td>\n",
              "      <td>8</td>\n",
              "      <td>0</td>\n",
              "      <td>3300.000000</td>\n",
              "      <td>2</td>\n",
              "      <td>1</td>\n",
              "      <td>11</td>\n",
              "      <td>1</td>\n",
              "      <td>0</td>\n",
              "      <td>4</td>\n",
              "      <td>5</td>\n",
              "      <td>83844</td>\n",
              "      <td>36656</td>\n",
              "      <td>47188</td>\n",
              "      <td>9414</td>\n",
              "      <td>4815</td>\n",
              "      <td>4599</td>\n",
              "      <td>51445</td>\n",
              "      <td>25003</td>\n",
              "      <td>26442</td>\n",
              "      <td>17757</td>\n",
              "      <td>...</td>\n",
              "      <td>681.48</td>\n",
              "      <td>1152.78</td>\n",
              "      <td>917.13</td>\n",
              "      <td>7</td>\n",
              "      <td>32</td>\n",
              "      <td>37</td>\n",
              "      <td>26</td>\n",
              "      <td>13</td>\n",
              "      <td>0</td>\n",
              "      <td>0</td>\n",
              "      <td>2</td>\n",
              "      <td>17</td>\n",
              "      <td>1</td>\n",
              "      <td>2</td>\n",
              "      <td>33</td>\n",
              "      <td>4</td>\n",
              "      <td>30.36</td>\n",
              "      <td>9.33</td>\n",
              "      <td>39</td>\n",
              "      <td>1225712</td>\n",
              "      <td>45</td>\n",
              "      <td>1464521</td>\n",
              "      <td>230</td>\n",
              "      <td>703.20</td>\n",
              "      <td>1182.65</td>\n",
              "      <td>942.92</td>\n",
              "      <td>11</td>\n",
              "      <td>60</td>\n",
              "      <td>77</td>\n",
              "      <td>58</td>\n",
              "      <td>22</td>\n",
              "      <td>1</td>\n",
              "      <td>1</td>\n",
              "      <td>6</td>\n",
              "      <td>31</td>\n",
              "      <td>1</td>\n",
              "      <td>4</td>\n",
              "      <td>65</td>\n",
              "      <td>7</td>\n",
              "      <td>13500000</td>\n",
              "    </tr>\n",
              "    <tr>\n",
              "      <th>30470</th>\n",
              "      <td>43</td>\n",
              "      <td>28.000000</td>\n",
              "      <td>1.0</td>\n",
              "      <td>9.000000</td>\n",
              "      <td>1.000000</td>\n",
              "      <td>1968.000000</td>\n",
              "      <td>2.000000</td>\n",
              "      <td>6.000000</td>\n",
              "      <td>2.000000</td>\n",
              "      <td>Investment</td>\n",
              "      <td>Novogireevo</td>\n",
              "      <td>4.395333e+06</td>\n",
              "      <td>94561</td>\n",
              "      <td>0.063755</td>\n",
              "      <td>0.038693</td>\n",
              "      <td>6120</td>\n",
              "      <td>2215.000000</td>\n",
              "      <td>4</td>\n",
              "      <td>6533</td>\n",
              "      <td>5824.000000</td>\n",
              "      <td>4</td>\n",
              "      <td>0</td>\n",
              "      <td>1015.000000</td>\n",
              "      <td>2</td>\n",
              "      <td>0</td>\n",
              "      <td>7</td>\n",
              "      <td>1</td>\n",
              "      <td>0</td>\n",
              "      <td>5</td>\n",
              "      <td>1</td>\n",
              "      <td>72131</td>\n",
              "      <td>34296</td>\n",
              "      <td>37835</td>\n",
              "      <td>13523</td>\n",
              "      <td>6724</td>\n",
              "      <td>6799</td>\n",
              "      <td>56908</td>\n",
              "      <td>27219</td>\n",
              "      <td>29689</td>\n",
              "      <td>24130</td>\n",
              "      <td>...</td>\n",
              "      <td>595.65</td>\n",
              "      <td>1054.35</td>\n",
              "      <td>825.00</td>\n",
              "      <td>1</td>\n",
              "      <td>13</td>\n",
              "      <td>24</td>\n",
              "      <td>6</td>\n",
              "      <td>2</td>\n",
              "      <td>1</td>\n",
              "      <td>0</td>\n",
              "      <td>3</td>\n",
              "      <td>7</td>\n",
              "      <td>0</td>\n",
              "      <td>7</td>\n",
              "      <td>26</td>\n",
              "      <td>4</td>\n",
              "      <td>25.10</td>\n",
              "      <td>10.16</td>\n",
              "      <td>15</td>\n",
              "      <td>351244</td>\n",
              "      <td>22</td>\n",
              "      <td>646575</td>\n",
              "      <td>93</td>\n",
              "      <td>664.44</td>\n",
              "      <td>1127.78</td>\n",
              "      <td>896.11</td>\n",
              "      <td>3</td>\n",
              "      <td>26</td>\n",
              "      <td>35</td>\n",
              "      <td>22</td>\n",
              "      <td>5</td>\n",
              "      <td>2</td>\n",
              "      <td>0</td>\n",
              "      <td>7</td>\n",
              "      <td>16</td>\n",
              "      <td>0</td>\n",
              "      <td>9</td>\n",
              "      <td>54</td>\n",
              "      <td>10</td>\n",
              "      <td>5600000</td>\n",
              "    </tr>\n",
              "  </tbody>\n",
              "</table>\n",
              "<p>30471 rows × 281 columns</p>\n",
              "</div>"
            ],
            "text/plain": [
              "       full_sq    life_sq  ...  market_count_5000  price_doc\n",
              "0           43  27.000000  ...                  4    5850000\n",
              "1           34  19.000000  ...                 14    6000000\n",
              "2           43  29.000000  ...                 10    5700000\n",
              "3           89  50.000000  ...                  3   13100000\n",
              "4           77  77.000000  ...                 14   16331452\n",
              "...        ...        ...  ...                ...        ...\n",
              "30466       44  27.000000  ...                  6    7400000\n",
              "30467       86  59.000000  ...                 15   25000000\n",
              "30468       45  34.403271  ...                  1    6970959\n",
              "30469       64  32.000000  ...                  7   13500000\n",
              "30470       43  28.000000  ...                 10    5600000\n",
              "\n",
              "[30471 rows x 281 columns]"
            ]
          },
          "metadata": {
            "tags": []
          },
          "execution_count": 11
        }
      ]
    },
    {
      "cell_type": "markdown",
      "metadata": {
        "id": "as_TnacE66DJ"
      },
      "source": [
        "переводим product_type и sub_area в числа"
      ]
    },
    {
      "cell_type": "code",
      "metadata": {
        "id": "7FvoRtcokhqf"
      },
      "source": [
        "from sklearn import preprocessing\n",
        "le = preprocessing.LabelEncoder()\n",
        "dataC.sub_area=le.fit_transform(dataC.sub_area)"
      ],
      "execution_count": 12,
      "outputs": []
    },
    {
      "cell_type": "code",
      "metadata": {
        "id": "a0TSrIm8kibW"
      },
      "source": [
        "ley = preprocessing.LabelEncoder()\n",
        "dataC['sub_area']=ley.fit_transform(dataC['sub_area'])"
      ],
      "execution_count": 13,
      "outputs": []
    },
    {
      "cell_type": "code",
      "metadata": {
        "id": "MOj5gN1BlE16"
      },
      "source": [
        "leye = preprocessing.LabelEncoder()\n",
        "dataC.product_type=leye.fit_transform(dataC.product_type)\n"
      ],
      "execution_count": 14,
      "outputs": []
    },
    {
      "cell_type": "code",
      "metadata": {
        "id": "T23GBgD-lFGi",
        "outputId": "f3d8be8f-8028-497c-9b08-a97106620877",
        "colab": {
          "base_uri": "https://localhost:8080/",
          "height": 430
        }
      },
      "source": [
        "dataC"
      ],
      "execution_count": 15,
      "outputs": [
        {
          "output_type": "execute_result",
          "data": {
            "text/html": [
              "<div>\n",
              "<style scoped>\n",
              "    .dataframe tbody tr th:only-of-type {\n",
              "        vertical-align: middle;\n",
              "    }\n",
              "\n",
              "    .dataframe tbody tr th {\n",
              "        vertical-align: top;\n",
              "    }\n",
              "\n",
              "    .dataframe thead th {\n",
              "        text-align: right;\n",
              "    }\n",
              "</style>\n",
              "<table border=\"1\" class=\"dataframe\">\n",
              "  <thead>\n",
              "    <tr style=\"text-align: right;\">\n",
              "      <th></th>\n",
              "      <th>full_sq</th>\n",
              "      <th>life_sq</th>\n",
              "      <th>floor</th>\n",
              "      <th>max_floor</th>\n",
              "      <th>material</th>\n",
              "      <th>build_year</th>\n",
              "      <th>num_room</th>\n",
              "      <th>kitch_sq</th>\n",
              "      <th>state</th>\n",
              "      <th>product_type</th>\n",
              "      <th>sub_area</th>\n",
              "      <th>area_m</th>\n",
              "      <th>raion_popul</th>\n",
              "      <th>green_zone_part</th>\n",
              "      <th>indust_part</th>\n",
              "      <th>children_preschool</th>\n",
              "      <th>preschool_quota</th>\n",
              "      <th>preschool_education_centers_raion</th>\n",
              "      <th>children_school</th>\n",
              "      <th>school_quota</th>\n",
              "      <th>school_education_centers_raion</th>\n",
              "      <th>school_education_centers_top_20_raion</th>\n",
              "      <th>hospital_beds_raion</th>\n",
              "      <th>healthcare_centers_raion</th>\n",
              "      <th>university_top_20_raion</th>\n",
              "      <th>sport_objects_raion</th>\n",
              "      <th>additional_education_raion</th>\n",
              "      <th>culture_objects_top_25_raion</th>\n",
              "      <th>shopping_centers_raion</th>\n",
              "      <th>office_raion</th>\n",
              "      <th>full_all</th>\n",
              "      <th>male_f</th>\n",
              "      <th>female_f</th>\n",
              "      <th>young_all</th>\n",
              "      <th>young_male</th>\n",
              "      <th>young_female</th>\n",
              "      <th>work_all</th>\n",
              "      <th>work_male</th>\n",
              "      <th>work_female</th>\n",
              "      <th>ekder_all</th>\n",
              "      <th>...</th>\n",
              "      <th>cafe_sum_3000_min_price_avg</th>\n",
              "      <th>cafe_sum_3000_max_price_avg</th>\n",
              "      <th>cafe_avg_price_3000</th>\n",
              "      <th>cafe_count_3000_na_price</th>\n",
              "      <th>cafe_count_3000_price_500</th>\n",
              "      <th>cafe_count_3000_price_1000</th>\n",
              "      <th>cafe_count_3000_price_1500</th>\n",
              "      <th>cafe_count_3000_price_2500</th>\n",
              "      <th>cafe_count_3000_price_4000</th>\n",
              "      <th>cafe_count_3000_price_high</th>\n",
              "      <th>big_church_count_3000</th>\n",
              "      <th>church_count_3000</th>\n",
              "      <th>mosque_count_3000</th>\n",
              "      <th>leisure_count_3000</th>\n",
              "      <th>sport_count_3000</th>\n",
              "      <th>market_count_3000</th>\n",
              "      <th>green_part_5000</th>\n",
              "      <th>prom_part_5000</th>\n",
              "      <th>office_count_5000</th>\n",
              "      <th>office_sqm_5000</th>\n",
              "      <th>trc_count_5000</th>\n",
              "      <th>trc_sqm_5000</th>\n",
              "      <th>cafe_count_5000</th>\n",
              "      <th>cafe_sum_5000_min_price_avg</th>\n",
              "      <th>cafe_sum_5000_max_price_avg</th>\n",
              "      <th>cafe_avg_price_5000</th>\n",
              "      <th>cafe_count_5000_na_price</th>\n",
              "      <th>cafe_count_5000_price_500</th>\n",
              "      <th>cafe_count_5000_price_1000</th>\n",
              "      <th>cafe_count_5000_price_1500</th>\n",
              "      <th>cafe_count_5000_price_2500</th>\n",
              "      <th>cafe_count_5000_price_4000</th>\n",
              "      <th>cafe_count_5000_price_high</th>\n",
              "      <th>big_church_count_5000</th>\n",
              "      <th>church_count_5000</th>\n",
              "      <th>mosque_count_5000</th>\n",
              "      <th>leisure_count_5000</th>\n",
              "      <th>sport_count_5000</th>\n",
              "      <th>market_count_5000</th>\n",
              "      <th>price_doc</th>\n",
              "    </tr>\n",
              "  </thead>\n",
              "  <tbody>\n",
              "    <tr>\n",
              "      <th>0</th>\n",
              "      <td>43</td>\n",
              "      <td>27.000000</td>\n",
              "      <td>4.0</td>\n",
              "      <td>12.558974</td>\n",
              "      <td>1.827121</td>\n",
              "      <td>3068.057097</td>\n",
              "      <td>1.909804</td>\n",
              "      <td>6.399301</td>\n",
              "      <td>2.107025</td>\n",
              "      <td>0</td>\n",
              "      <td>9</td>\n",
              "      <td>6.407578e+06</td>\n",
              "      <td>155572</td>\n",
              "      <td>0.189727</td>\n",
              "      <td>0.000070</td>\n",
              "      <td>9576</td>\n",
              "      <td>5001.000000</td>\n",
              "      <td>5</td>\n",
              "      <td>10309</td>\n",
              "      <td>11065.000000</td>\n",
              "      <td>5</td>\n",
              "      <td>0</td>\n",
              "      <td>240.000000</td>\n",
              "      <td>1</td>\n",
              "      <td>0</td>\n",
              "      <td>7</td>\n",
              "      <td>3</td>\n",
              "      <td>0</td>\n",
              "      <td>16</td>\n",
              "      <td>1</td>\n",
              "      <td>86206</td>\n",
              "      <td>40477</td>\n",
              "      <td>45729</td>\n",
              "      <td>21154</td>\n",
              "      <td>11007</td>\n",
              "      <td>10147</td>\n",
              "      <td>98207</td>\n",
              "      <td>52277</td>\n",
              "      <td>45930</td>\n",
              "      <td>36211</td>\n",
              "      <td>...</td>\n",
              "      <td>639.68</td>\n",
              "      <td>1079.37</td>\n",
              "      <td>859.52</td>\n",
              "      <td>5</td>\n",
              "      <td>21</td>\n",
              "      <td>22</td>\n",
              "      <td>16</td>\n",
              "      <td>3</td>\n",
              "      <td>1</td>\n",
              "      <td>0</td>\n",
              "      <td>2</td>\n",
              "      <td>4</td>\n",
              "      <td>0</td>\n",
              "      <td>0</td>\n",
              "      <td>21</td>\n",
              "      <td>1</td>\n",
              "      <td>13.09</td>\n",
              "      <td>13.31</td>\n",
              "      <td>29</td>\n",
              "      <td>807385</td>\n",
              "      <td>52</td>\n",
              "      <td>4036616</td>\n",
              "      <td>152</td>\n",
              "      <td>708.57</td>\n",
              "      <td>1185.71</td>\n",
              "      <td>947.14</td>\n",
              "      <td>12</td>\n",
              "      <td>39</td>\n",
              "      <td>48</td>\n",
              "      <td>40</td>\n",
              "      <td>9</td>\n",
              "      <td>4</td>\n",
              "      <td>0</td>\n",
              "      <td>13</td>\n",
              "      <td>22</td>\n",
              "      <td>1</td>\n",
              "      <td>0</td>\n",
              "      <td>52</td>\n",
              "      <td>4</td>\n",
              "      <td>5850000</td>\n",
              "    </tr>\n",
              "    <tr>\n",
              "      <th>1</th>\n",
              "      <td>34</td>\n",
              "      <td>19.000000</td>\n",
              "      <td>3.0</td>\n",
              "      <td>12.558974</td>\n",
              "      <td>1.827121</td>\n",
              "      <td>3068.057097</td>\n",
              "      <td>1.909804</td>\n",
              "      <td>6.399301</td>\n",
              "      <td>2.107025</td>\n",
              "      <td>0</td>\n",
              "      <td>70</td>\n",
              "      <td>9.589337e+06</td>\n",
              "      <td>115352</td>\n",
              "      <td>0.372602</td>\n",
              "      <td>0.049637</td>\n",
              "      <td>6880</td>\n",
              "      <td>3119.000000</td>\n",
              "      <td>5</td>\n",
              "      <td>7759</td>\n",
              "      <td>6237.000000</td>\n",
              "      <td>8</td>\n",
              "      <td>0</td>\n",
              "      <td>229.000000</td>\n",
              "      <td>1</td>\n",
              "      <td>0</td>\n",
              "      <td>6</td>\n",
              "      <td>1</td>\n",
              "      <td>1</td>\n",
              "      <td>3</td>\n",
              "      <td>0</td>\n",
              "      <td>76284</td>\n",
              "      <td>34200</td>\n",
              "      <td>42084</td>\n",
              "      <td>15727</td>\n",
              "      <td>7925</td>\n",
              "      <td>7802</td>\n",
              "      <td>70194</td>\n",
              "      <td>35622</td>\n",
              "      <td>34572</td>\n",
              "      <td>29431</td>\n",
              "      <td>...</td>\n",
              "      <td>631.03</td>\n",
              "      <td>1086.21</td>\n",
              "      <td>858.62</td>\n",
              "      <td>1</td>\n",
              "      <td>11</td>\n",
              "      <td>11</td>\n",
              "      <td>4</td>\n",
              "      <td>2</td>\n",
              "      <td>1</td>\n",
              "      <td>0</td>\n",
              "      <td>1</td>\n",
              "      <td>7</td>\n",
              "      <td>0</td>\n",
              "      <td>6</td>\n",
              "      <td>19</td>\n",
              "      <td>1</td>\n",
              "      <td>10.26</td>\n",
              "      <td>27.47</td>\n",
              "      <td>66</td>\n",
              "      <td>2690465</td>\n",
              "      <td>40</td>\n",
              "      <td>2034942</td>\n",
              "      <td>177</td>\n",
              "      <td>673.81</td>\n",
              "      <td>1148.81</td>\n",
              "      <td>911.31</td>\n",
              "      <td>9</td>\n",
              "      <td>49</td>\n",
              "      <td>65</td>\n",
              "      <td>36</td>\n",
              "      <td>15</td>\n",
              "      <td>3</td>\n",
              "      <td>0</td>\n",
              "      <td>15</td>\n",
              "      <td>29</td>\n",
              "      <td>1</td>\n",
              "      <td>10</td>\n",
              "      <td>66</td>\n",
              "      <td>14</td>\n",
              "      <td>6000000</td>\n",
              "    </tr>\n",
              "    <tr>\n",
              "      <th>2</th>\n",
              "      <td>43</td>\n",
              "      <td>29.000000</td>\n",
              "      <td>2.0</td>\n",
              "      <td>12.558974</td>\n",
              "      <td>1.827121</td>\n",
              "      <td>3068.057097</td>\n",
              "      <td>1.909804</td>\n",
              "      <td>6.399301</td>\n",
              "      <td>2.107025</td>\n",
              "      <td>0</td>\n",
              "      <td>129</td>\n",
              "      <td>4.808270e+06</td>\n",
              "      <td>101708</td>\n",
              "      <td>0.112560</td>\n",
              "      <td>0.118537</td>\n",
              "      <td>5879</td>\n",
              "      <td>1463.000000</td>\n",
              "      <td>4</td>\n",
              "      <td>6207</td>\n",
              "      <td>5580.000000</td>\n",
              "      <td>7</td>\n",
              "      <td>0</td>\n",
              "      <td>1183.000000</td>\n",
              "      <td>1</td>\n",
              "      <td>0</td>\n",
              "      <td>5</td>\n",
              "      <td>1</td>\n",
              "      <td>0</td>\n",
              "      <td>0</td>\n",
              "      <td>1</td>\n",
              "      <td>101982</td>\n",
              "      <td>46076</td>\n",
              "      <td>55906</td>\n",
              "      <td>13028</td>\n",
              "      <td>6835</td>\n",
              "      <td>6193</td>\n",
              "      <td>63388</td>\n",
              "      <td>31813</td>\n",
              "      <td>31575</td>\n",
              "      <td>25292</td>\n",
              "      <td>...</td>\n",
              "      <td>697.44</td>\n",
              "      <td>1192.31</td>\n",
              "      <td>944.87</td>\n",
              "      <td>2</td>\n",
              "      <td>9</td>\n",
              "      <td>17</td>\n",
              "      <td>9</td>\n",
              "      <td>3</td>\n",
              "      <td>1</td>\n",
              "      <td>0</td>\n",
              "      <td>0</td>\n",
              "      <td>11</td>\n",
              "      <td>0</td>\n",
              "      <td>0</td>\n",
              "      <td>20</td>\n",
              "      <td>6</td>\n",
              "      <td>13.69</td>\n",
              "      <td>21.58</td>\n",
              "      <td>43</td>\n",
              "      <td>1478160</td>\n",
              "      <td>35</td>\n",
              "      <td>1572990</td>\n",
              "      <td>122</td>\n",
              "      <td>702.68</td>\n",
              "      <td>1196.43</td>\n",
              "      <td>949.55</td>\n",
              "      <td>10</td>\n",
              "      <td>29</td>\n",
              "      <td>45</td>\n",
              "      <td>25</td>\n",
              "      <td>10</td>\n",
              "      <td>3</td>\n",
              "      <td>0</td>\n",
              "      <td>11</td>\n",
              "      <td>27</td>\n",
              "      <td>0</td>\n",
              "      <td>4</td>\n",
              "      <td>67</td>\n",
              "      <td>10</td>\n",
              "      <td>5700000</td>\n",
              "    </tr>\n",
              "    <tr>\n",
              "      <th>3</th>\n",
              "      <td>89</td>\n",
              "      <td>50.000000</td>\n",
              "      <td>9.0</td>\n",
              "      <td>12.558974</td>\n",
              "      <td>1.827121</td>\n",
              "      <td>3068.057097</td>\n",
              "      <td>1.909804</td>\n",
              "      <td>6.399301</td>\n",
              "      <td>2.107025</td>\n",
              "      <td>0</td>\n",
              "      <td>65</td>\n",
              "      <td>1.258354e+07</td>\n",
              "      <td>178473</td>\n",
              "      <td>0.194703</td>\n",
              "      <td>0.069753</td>\n",
              "      <td>13087</td>\n",
              "      <td>6839.000000</td>\n",
              "      <td>9</td>\n",
              "      <td>13670</td>\n",
              "      <td>17063.000000</td>\n",
              "      <td>10</td>\n",
              "      <td>0</td>\n",
              "      <td>1190.738677</td>\n",
              "      <td>1</td>\n",
              "      <td>0</td>\n",
              "      <td>17</td>\n",
              "      <td>6</td>\n",
              "      <td>0</td>\n",
              "      <td>11</td>\n",
              "      <td>4</td>\n",
              "      <td>21155</td>\n",
              "      <td>9828</td>\n",
              "      <td>11327</td>\n",
              "      <td>28563</td>\n",
              "      <td>14680</td>\n",
              "      <td>13883</td>\n",
              "      <td>120381</td>\n",
              "      <td>60040</td>\n",
              "      <td>60341</td>\n",
              "      <td>29529</td>\n",
              "      <td>...</td>\n",
              "      <td>718.75</td>\n",
              "      <td>1218.75</td>\n",
              "      <td>968.75</td>\n",
              "      <td>0</td>\n",
              "      <td>5</td>\n",
              "      <td>14</td>\n",
              "      <td>10</td>\n",
              "      <td>3</td>\n",
              "      <td>0</td>\n",
              "      <td>0</td>\n",
              "      <td>1</td>\n",
              "      <td>2</td>\n",
              "      <td>0</td>\n",
              "      <td>0</td>\n",
              "      <td>18</td>\n",
              "      <td>3</td>\n",
              "      <td>14.18</td>\n",
              "      <td>3.89</td>\n",
              "      <td>8</td>\n",
              "      <td>244166</td>\n",
              "      <td>22</td>\n",
              "      <td>942180</td>\n",
              "      <td>61</td>\n",
              "      <td>931.58</td>\n",
              "      <td>1552.63</td>\n",
              "      <td>1242.11</td>\n",
              "      <td>4</td>\n",
              "      <td>7</td>\n",
              "      <td>21</td>\n",
              "      <td>15</td>\n",
              "      <td>11</td>\n",
              "      <td>2</td>\n",
              "      <td>1</td>\n",
              "      <td>4</td>\n",
              "      <td>4</td>\n",
              "      <td>0</td>\n",
              "      <td>0</td>\n",
              "      <td>26</td>\n",
              "      <td>3</td>\n",
              "      <td>13100000</td>\n",
              "    </tr>\n",
              "    <tr>\n",
              "      <th>4</th>\n",
              "      <td>77</td>\n",
              "      <td>77.000000</td>\n",
              "      <td>4.0</td>\n",
              "      <td>12.558974</td>\n",
              "      <td>1.827121</td>\n",
              "      <td>3068.057097</td>\n",
              "      <td>1.909804</td>\n",
              "      <td>6.399301</td>\n",
              "      <td>2.107025</td>\n",
              "      <td>0</td>\n",
              "      <td>6</td>\n",
              "      <td>8.398461e+06</td>\n",
              "      <td>108171</td>\n",
              "      <td>0.015234</td>\n",
              "      <td>0.037316</td>\n",
              "      <td>5706</td>\n",
              "      <td>3240.000000</td>\n",
              "      <td>7</td>\n",
              "      <td>6748</td>\n",
              "      <td>7770.000000</td>\n",
              "      <td>9</td>\n",
              "      <td>0</td>\n",
              "      <td>562.000000</td>\n",
              "      <td>4</td>\n",
              "      <td>2</td>\n",
              "      <td>25</td>\n",
              "      <td>2</td>\n",
              "      <td>0</td>\n",
              "      <td>10</td>\n",
              "      <td>93</td>\n",
              "      <td>28179</td>\n",
              "      <td>13522</td>\n",
              "      <td>14657</td>\n",
              "      <td>13368</td>\n",
              "      <td>7159</td>\n",
              "      <td>6209</td>\n",
              "      <td>68043</td>\n",
              "      <td>34236</td>\n",
              "      <td>33807</td>\n",
              "      <td>26760</td>\n",
              "      <td>...</td>\n",
              "      <td>853.03</td>\n",
              "      <td>1410.45</td>\n",
              "      <td>1131.74</td>\n",
              "      <td>63</td>\n",
              "      <td>266</td>\n",
              "      <td>267</td>\n",
              "      <td>262</td>\n",
              "      <td>149</td>\n",
              "      <td>57</td>\n",
              "      <td>4</td>\n",
              "      <td>70</td>\n",
              "      <td>121</td>\n",
              "      <td>1</td>\n",
              "      <td>40</td>\n",
              "      <td>77</td>\n",
              "      <td>5</td>\n",
              "      <td>8.38</td>\n",
              "      <td>10.92</td>\n",
              "      <td>689</td>\n",
              "      <td>8404624</td>\n",
              "      <td>114</td>\n",
              "      <td>3503058</td>\n",
              "      <td>2283</td>\n",
              "      <td>853.88</td>\n",
              "      <td>1411.45</td>\n",
              "      <td>1132.66</td>\n",
              "      <td>143</td>\n",
              "      <td>566</td>\n",
              "      <td>578</td>\n",
              "      <td>552</td>\n",
              "      <td>319</td>\n",
              "      <td>108</td>\n",
              "      <td>17</td>\n",
              "      <td>135</td>\n",
              "      <td>236</td>\n",
              "      <td>2</td>\n",
              "      <td>91</td>\n",
              "      <td>195</td>\n",
              "      <td>14</td>\n",
              "      <td>16331452</td>\n",
              "    </tr>\n",
              "    <tr>\n",
              "      <th>...</th>\n",
              "      <td>...</td>\n",
              "      <td>...</td>\n",
              "      <td>...</td>\n",
              "      <td>...</td>\n",
              "      <td>...</td>\n",
              "      <td>...</td>\n",
              "      <td>...</td>\n",
              "      <td>...</td>\n",
              "      <td>...</td>\n",
              "      <td>...</td>\n",
              "      <td>...</td>\n",
              "      <td>...</td>\n",
              "      <td>...</td>\n",
              "      <td>...</td>\n",
              "      <td>...</td>\n",
              "      <td>...</td>\n",
              "      <td>...</td>\n",
              "      <td>...</td>\n",
              "      <td>...</td>\n",
              "      <td>...</td>\n",
              "      <td>...</td>\n",
              "      <td>...</td>\n",
              "      <td>...</td>\n",
              "      <td>...</td>\n",
              "      <td>...</td>\n",
              "      <td>...</td>\n",
              "      <td>...</td>\n",
              "      <td>...</td>\n",
              "      <td>...</td>\n",
              "      <td>...</td>\n",
              "      <td>...</td>\n",
              "      <td>...</td>\n",
              "      <td>...</td>\n",
              "      <td>...</td>\n",
              "      <td>...</td>\n",
              "      <td>...</td>\n",
              "      <td>...</td>\n",
              "      <td>...</td>\n",
              "      <td>...</td>\n",
              "      <td>...</td>\n",
              "      <td>...</td>\n",
              "      <td>...</td>\n",
              "      <td>...</td>\n",
              "      <td>...</td>\n",
              "      <td>...</td>\n",
              "      <td>...</td>\n",
              "      <td>...</td>\n",
              "      <td>...</td>\n",
              "      <td>...</td>\n",
              "      <td>...</td>\n",
              "      <td>...</td>\n",
              "      <td>...</td>\n",
              "      <td>...</td>\n",
              "      <td>...</td>\n",
              "      <td>...</td>\n",
              "      <td>...</td>\n",
              "      <td>...</td>\n",
              "      <td>...</td>\n",
              "      <td>...</td>\n",
              "      <td>...</td>\n",
              "      <td>...</td>\n",
              "      <td>...</td>\n",
              "      <td>...</td>\n",
              "      <td>...</td>\n",
              "      <td>...</td>\n",
              "      <td>...</td>\n",
              "      <td>...</td>\n",
              "      <td>...</td>\n",
              "      <td>...</td>\n",
              "      <td>...</td>\n",
              "      <td>...</td>\n",
              "      <td>...</td>\n",
              "      <td>...</td>\n",
              "      <td>...</td>\n",
              "      <td>...</td>\n",
              "      <td>...</td>\n",
              "      <td>...</td>\n",
              "      <td>...</td>\n",
              "      <td>...</td>\n",
              "      <td>...</td>\n",
              "      <td>...</td>\n",
              "    </tr>\n",
              "    <tr>\n",
              "      <th>30466</th>\n",
              "      <td>44</td>\n",
              "      <td>27.000000</td>\n",
              "      <td>7.0</td>\n",
              "      <td>9.000000</td>\n",
              "      <td>1.000000</td>\n",
              "      <td>1975.000000</td>\n",
              "      <td>2.000000</td>\n",
              "      <td>6.000000</td>\n",
              "      <td>3.000000</td>\n",
              "      <td>0</td>\n",
              "      <td>82</td>\n",
              "      <td>1.005305e+07</td>\n",
              "      <td>175518</td>\n",
              "      <td>0.096270</td>\n",
              "      <td>0.300323</td>\n",
              "      <td>9753</td>\n",
              "      <td>5088.000000</td>\n",
              "      <td>4</td>\n",
              "      <td>10311</td>\n",
              "      <td>12721.000000</td>\n",
              "      <td>4</td>\n",
              "      <td>0</td>\n",
              "      <td>1190.738677</td>\n",
              "      <td>1</td>\n",
              "      <td>0</td>\n",
              "      <td>10</td>\n",
              "      <td>3</td>\n",
              "      <td>0</td>\n",
              "      <td>9</td>\n",
              "      <td>6</td>\n",
              "      <td>61396</td>\n",
              "      <td>27916</td>\n",
              "      <td>33480</td>\n",
              "      <td>21400</td>\n",
              "      <td>11094</td>\n",
              "      <td>10306</td>\n",
              "      <td>112133</td>\n",
              "      <td>59089</td>\n",
              "      <td>53044</td>\n",
              "      <td>41985</td>\n",
              "      <td>...</td>\n",
              "      <td>647.89</td>\n",
              "      <td>1112.68</td>\n",
              "      <td>880.28</td>\n",
              "      <td>8</td>\n",
              "      <td>20</td>\n",
              "      <td>30</td>\n",
              "      <td>15</td>\n",
              "      <td>5</td>\n",
              "      <td>1</td>\n",
              "      <td>0</td>\n",
              "      <td>5</td>\n",
              "      <td>12</td>\n",
              "      <td>1</td>\n",
              "      <td>0</td>\n",
              "      <td>29</td>\n",
              "      <td>3</td>\n",
              "      <td>15.52</td>\n",
              "      <td>17.24</td>\n",
              "      <td>44</td>\n",
              "      <td>838601</td>\n",
              "      <td>53</td>\n",
              "      <td>2548292</td>\n",
              "      <td>207</td>\n",
              "      <td>689.95</td>\n",
              "      <td>1156.08</td>\n",
              "      <td>923.02</td>\n",
              "      <td>18</td>\n",
              "      <td>63</td>\n",
              "      <td>59</td>\n",
              "      <td>47</td>\n",
              "      <td>15</td>\n",
              "      <td>5</td>\n",
              "      <td>0</td>\n",
              "      <td>15</td>\n",
              "      <td>26</td>\n",
              "      <td>1</td>\n",
              "      <td>2</td>\n",
              "      <td>84</td>\n",
              "      <td>6</td>\n",
              "      <td>7400000</td>\n",
              "    </tr>\n",
              "    <tr>\n",
              "      <th>30467</th>\n",
              "      <td>86</td>\n",
              "      <td>59.000000</td>\n",
              "      <td>3.0</td>\n",
              "      <td>9.000000</td>\n",
              "      <td>2.000000</td>\n",
              "      <td>1935.000000</td>\n",
              "      <td>4.000000</td>\n",
              "      <td>10.000000</td>\n",
              "      <td>3.000000</td>\n",
              "      <td>0</td>\n",
              "      <td>134</td>\n",
              "      <td>7.307411e+06</td>\n",
              "      <td>75377</td>\n",
              "      <td>0.065444</td>\n",
              "      <td>0.000078</td>\n",
              "      <td>4237</td>\n",
              "      <td>1874.000000</td>\n",
              "      <td>4</td>\n",
              "      <td>6398</td>\n",
              "      <td>6772.000000</td>\n",
              "      <td>4</td>\n",
              "      <td>1</td>\n",
              "      <td>1046.000000</td>\n",
              "      <td>3</td>\n",
              "      <td>2</td>\n",
              "      <td>29</td>\n",
              "      <td>16</td>\n",
              "      <td>10</td>\n",
              "      <td>23</td>\n",
              "      <td>141</td>\n",
              "      <td>116742</td>\n",
              "      <td>52836</td>\n",
              "      <td>63906</td>\n",
              "      <td>11272</td>\n",
              "      <td>5470</td>\n",
              "      <td>5802</td>\n",
              "      <td>43921</td>\n",
              "      <td>21901</td>\n",
              "      <td>22020</td>\n",
              "      <td>20184</td>\n",
              "      <td>...</td>\n",
              "      <td>895.84</td>\n",
              "      <td>1476.65</td>\n",
              "      <td>1186.24</td>\n",
              "      <td>54</td>\n",
              "      <td>268</td>\n",
              "      <td>258</td>\n",
              "      <td>230</td>\n",
              "      <td>155</td>\n",
              "      <td>57</td>\n",
              "      <td>17</td>\n",
              "      <td>35</td>\n",
              "      <td>62</td>\n",
              "      <td>1</td>\n",
              "      <td>48</td>\n",
              "      <td>80</td>\n",
              "      <td>4</td>\n",
              "      <td>8.29</td>\n",
              "      <td>12.85</td>\n",
              "      <td>617</td>\n",
              "      <td>9949843</td>\n",
              "      <td>90</td>\n",
              "      <td>4345915</td>\n",
              "      <td>2197</td>\n",
              "      <td>887.43</td>\n",
              "      <td>1462.88</td>\n",
              "      <td>1175.16</td>\n",
              "      <td>136</td>\n",
              "      <td>550</td>\n",
              "      <td>535</td>\n",
              "      <td>511</td>\n",
              "      <td>313</td>\n",
              "      <td>128</td>\n",
              "      <td>24</td>\n",
              "      <td>98</td>\n",
              "      <td>182</td>\n",
              "      <td>1</td>\n",
              "      <td>82</td>\n",
              "      <td>171</td>\n",
              "      <td>15</td>\n",
              "      <td>25000000</td>\n",
              "    </tr>\n",
              "    <tr>\n",
              "      <th>30468</th>\n",
              "      <td>45</td>\n",
              "      <td>34.403271</td>\n",
              "      <td>10.0</td>\n",
              "      <td>20.000000</td>\n",
              "      <td>1.000000</td>\n",
              "      <td>3068.057097</td>\n",
              "      <td>1.000000</td>\n",
              "      <td>1.000000</td>\n",
              "      <td>1.000000</td>\n",
              "      <td>1</td>\n",
              "      <td>103</td>\n",
              "      <td>2.553630e+07</td>\n",
              "      <td>4001</td>\n",
              "      <td>0.496315</td>\n",
              "      <td>0.007122</td>\n",
              "      <td>275</td>\n",
              "      <td>3271.272464</td>\n",
              "      <td>0</td>\n",
              "      <td>264</td>\n",
              "      <td>8324.970739</td>\n",
              "      <td>0</td>\n",
              "      <td>0</td>\n",
              "      <td>1190.738677</td>\n",
              "      <td>0</td>\n",
              "      <td>0</td>\n",
              "      <td>0</td>\n",
              "      <td>0</td>\n",
              "      <td>0</td>\n",
              "      <td>1</td>\n",
              "      <td>0</td>\n",
              "      <td>17790</td>\n",
              "      <td>8350</td>\n",
              "      <td>9443</td>\n",
              "      <td>574</td>\n",
              "      <td>297</td>\n",
              "      <td>277</td>\n",
              "      <td>2566</td>\n",
              "      <td>1356</td>\n",
              "      <td>1211</td>\n",
              "      <td>861</td>\n",
              "      <td>...</td>\n",
              "      <td>700.00</td>\n",
              "      <td>1222.22</td>\n",
              "      <td>961.11</td>\n",
              "      <td>0</td>\n",
              "      <td>1</td>\n",
              "      <td>5</td>\n",
              "      <td>2</td>\n",
              "      <td>1</td>\n",
              "      <td>0</td>\n",
              "      <td>0</td>\n",
              "      <td>1</td>\n",
              "      <td>4</td>\n",
              "      <td>0</td>\n",
              "      <td>0</td>\n",
              "      <td>6</td>\n",
              "      <td>0</td>\n",
              "      <td>35.62</td>\n",
              "      <td>6.96</td>\n",
              "      <td>1</td>\n",
              "      <td>117300</td>\n",
              "      <td>4</td>\n",
              "      <td>201300</td>\n",
              "      <td>20</td>\n",
              "      <td>747.37</td>\n",
              "      <td>1263.16</td>\n",
              "      <td>1005.26</td>\n",
              "      <td>1</td>\n",
              "      <td>4</td>\n",
              "      <td>8</td>\n",
              "      <td>5</td>\n",
              "      <td>1</td>\n",
              "      <td>1</td>\n",
              "      <td>0</td>\n",
              "      <td>2</td>\n",
              "      <td>12</td>\n",
              "      <td>0</td>\n",
              "      <td>1</td>\n",
              "      <td>11</td>\n",
              "      <td>1</td>\n",
              "      <td>6970959</td>\n",
              "    </tr>\n",
              "    <tr>\n",
              "      <th>30469</th>\n",
              "      <td>64</td>\n",
              "      <td>32.000000</td>\n",
              "      <td>5.0</td>\n",
              "      <td>15.000000</td>\n",
              "      <td>1.000000</td>\n",
              "      <td>2003.000000</td>\n",
              "      <td>2.000000</td>\n",
              "      <td>11.000000</td>\n",
              "      <td>2.000000</td>\n",
              "      <td>0</td>\n",
              "      <td>77</td>\n",
              "      <td>6.050065e+06</td>\n",
              "      <td>78616</td>\n",
              "      <td>0.167526</td>\n",
              "      <td>0.093443</td>\n",
              "      <td>4215</td>\n",
              "      <td>2372.000000</td>\n",
              "      <td>6</td>\n",
              "      <td>4635</td>\n",
              "      <td>6083.000000</td>\n",
              "      <td>8</td>\n",
              "      <td>0</td>\n",
              "      <td>3300.000000</td>\n",
              "      <td>2</td>\n",
              "      <td>1</td>\n",
              "      <td>11</td>\n",
              "      <td>1</td>\n",
              "      <td>0</td>\n",
              "      <td>4</td>\n",
              "      <td>5</td>\n",
              "      <td>83844</td>\n",
              "      <td>36656</td>\n",
              "      <td>47188</td>\n",
              "      <td>9414</td>\n",
              "      <td>4815</td>\n",
              "      <td>4599</td>\n",
              "      <td>51445</td>\n",
              "      <td>25003</td>\n",
              "      <td>26442</td>\n",
              "      <td>17757</td>\n",
              "      <td>...</td>\n",
              "      <td>681.48</td>\n",
              "      <td>1152.78</td>\n",
              "      <td>917.13</td>\n",
              "      <td>7</td>\n",
              "      <td>32</td>\n",
              "      <td>37</td>\n",
              "      <td>26</td>\n",
              "      <td>13</td>\n",
              "      <td>0</td>\n",
              "      <td>0</td>\n",
              "      <td>2</td>\n",
              "      <td>17</td>\n",
              "      <td>1</td>\n",
              "      <td>2</td>\n",
              "      <td>33</td>\n",
              "      <td>4</td>\n",
              "      <td>30.36</td>\n",
              "      <td>9.33</td>\n",
              "      <td>39</td>\n",
              "      <td>1225712</td>\n",
              "      <td>45</td>\n",
              "      <td>1464521</td>\n",
              "      <td>230</td>\n",
              "      <td>703.20</td>\n",
              "      <td>1182.65</td>\n",
              "      <td>942.92</td>\n",
              "      <td>11</td>\n",
              "      <td>60</td>\n",
              "      <td>77</td>\n",
              "      <td>58</td>\n",
              "      <td>22</td>\n",
              "      <td>1</td>\n",
              "      <td>1</td>\n",
              "      <td>6</td>\n",
              "      <td>31</td>\n",
              "      <td>1</td>\n",
              "      <td>4</td>\n",
              "      <td>65</td>\n",
              "      <td>7</td>\n",
              "      <td>13500000</td>\n",
              "    </tr>\n",
              "    <tr>\n",
              "      <th>30470</th>\n",
              "      <td>43</td>\n",
              "      <td>28.000000</td>\n",
              "      <td>1.0</td>\n",
              "      <td>9.000000</td>\n",
              "      <td>1.000000</td>\n",
              "      <td>1968.000000</td>\n",
              "      <td>2.000000</td>\n",
              "      <td>6.000000</td>\n",
              "      <td>2.000000</td>\n",
              "      <td>0</td>\n",
              "      <td>75</td>\n",
              "      <td>4.395333e+06</td>\n",
              "      <td>94561</td>\n",
              "      <td>0.063755</td>\n",
              "      <td>0.038693</td>\n",
              "      <td>6120</td>\n",
              "      <td>2215.000000</td>\n",
              "      <td>4</td>\n",
              "      <td>6533</td>\n",
              "      <td>5824.000000</td>\n",
              "      <td>4</td>\n",
              "      <td>0</td>\n",
              "      <td>1015.000000</td>\n",
              "      <td>2</td>\n",
              "      <td>0</td>\n",
              "      <td>7</td>\n",
              "      <td>1</td>\n",
              "      <td>0</td>\n",
              "      <td>5</td>\n",
              "      <td>1</td>\n",
              "      <td>72131</td>\n",
              "      <td>34296</td>\n",
              "      <td>37835</td>\n",
              "      <td>13523</td>\n",
              "      <td>6724</td>\n",
              "      <td>6799</td>\n",
              "      <td>56908</td>\n",
              "      <td>27219</td>\n",
              "      <td>29689</td>\n",
              "      <td>24130</td>\n",
              "      <td>...</td>\n",
              "      <td>595.65</td>\n",
              "      <td>1054.35</td>\n",
              "      <td>825.00</td>\n",
              "      <td>1</td>\n",
              "      <td>13</td>\n",
              "      <td>24</td>\n",
              "      <td>6</td>\n",
              "      <td>2</td>\n",
              "      <td>1</td>\n",
              "      <td>0</td>\n",
              "      <td>3</td>\n",
              "      <td>7</td>\n",
              "      <td>0</td>\n",
              "      <td>7</td>\n",
              "      <td>26</td>\n",
              "      <td>4</td>\n",
              "      <td>25.10</td>\n",
              "      <td>10.16</td>\n",
              "      <td>15</td>\n",
              "      <td>351244</td>\n",
              "      <td>22</td>\n",
              "      <td>646575</td>\n",
              "      <td>93</td>\n",
              "      <td>664.44</td>\n",
              "      <td>1127.78</td>\n",
              "      <td>896.11</td>\n",
              "      <td>3</td>\n",
              "      <td>26</td>\n",
              "      <td>35</td>\n",
              "      <td>22</td>\n",
              "      <td>5</td>\n",
              "      <td>2</td>\n",
              "      <td>0</td>\n",
              "      <td>7</td>\n",
              "      <td>16</td>\n",
              "      <td>0</td>\n",
              "      <td>9</td>\n",
              "      <td>54</td>\n",
              "      <td>10</td>\n",
              "      <td>5600000</td>\n",
              "    </tr>\n",
              "  </tbody>\n",
              "</table>\n",
              "<p>30471 rows × 281 columns</p>\n",
              "</div>"
            ],
            "text/plain": [
              "       full_sq    life_sq  ...  market_count_5000  price_doc\n",
              "0           43  27.000000  ...                  4    5850000\n",
              "1           34  19.000000  ...                 14    6000000\n",
              "2           43  29.000000  ...                 10    5700000\n",
              "3           89  50.000000  ...                  3   13100000\n",
              "4           77  77.000000  ...                 14   16331452\n",
              "...        ...        ...  ...                ...        ...\n",
              "30466       44  27.000000  ...                  6    7400000\n",
              "30467       86  59.000000  ...                 15   25000000\n",
              "30468       45  34.403271  ...                  1    6970959\n",
              "30469       64  32.000000  ...                  7   13500000\n",
              "30470       43  28.000000  ...                 10    5600000\n",
              "\n",
              "[30471 rows x 281 columns]"
            ]
          },
          "metadata": {
            "tags": []
          },
          "execution_count": 15
        }
      ]
    },
    {
      "cell_type": "markdown",
      "metadata": {
        "id": "WU4FsyX06-6-"
      },
      "source": [
        "fillna - преобразовывает NaN в 0"
      ]
    },
    {
      "cell_type": "code",
      "metadata": {
        "id": "fj7QandclGGS",
        "outputId": "685cf137-e28f-4f12-872c-0c954828dde7",
        "colab": {
          "base_uri": "https://localhost:8080/",
          "height": 430
        }
      },
      "source": [
        "dataC.fillna(0)"
      ],
      "execution_count": 16,
      "outputs": [
        {
          "output_type": "execute_result",
          "data": {
            "text/html": [
              "<div>\n",
              "<style scoped>\n",
              "    .dataframe tbody tr th:only-of-type {\n",
              "        vertical-align: middle;\n",
              "    }\n",
              "\n",
              "    .dataframe tbody tr th {\n",
              "        vertical-align: top;\n",
              "    }\n",
              "\n",
              "    .dataframe thead th {\n",
              "        text-align: right;\n",
              "    }\n",
              "</style>\n",
              "<table border=\"1\" class=\"dataframe\">\n",
              "  <thead>\n",
              "    <tr style=\"text-align: right;\">\n",
              "      <th></th>\n",
              "      <th>full_sq</th>\n",
              "      <th>life_sq</th>\n",
              "      <th>floor</th>\n",
              "      <th>max_floor</th>\n",
              "      <th>material</th>\n",
              "      <th>build_year</th>\n",
              "      <th>num_room</th>\n",
              "      <th>kitch_sq</th>\n",
              "      <th>state</th>\n",
              "      <th>product_type</th>\n",
              "      <th>sub_area</th>\n",
              "      <th>area_m</th>\n",
              "      <th>raion_popul</th>\n",
              "      <th>green_zone_part</th>\n",
              "      <th>indust_part</th>\n",
              "      <th>children_preschool</th>\n",
              "      <th>preschool_quota</th>\n",
              "      <th>preschool_education_centers_raion</th>\n",
              "      <th>children_school</th>\n",
              "      <th>school_quota</th>\n",
              "      <th>school_education_centers_raion</th>\n",
              "      <th>school_education_centers_top_20_raion</th>\n",
              "      <th>hospital_beds_raion</th>\n",
              "      <th>healthcare_centers_raion</th>\n",
              "      <th>university_top_20_raion</th>\n",
              "      <th>sport_objects_raion</th>\n",
              "      <th>additional_education_raion</th>\n",
              "      <th>culture_objects_top_25_raion</th>\n",
              "      <th>shopping_centers_raion</th>\n",
              "      <th>office_raion</th>\n",
              "      <th>full_all</th>\n",
              "      <th>male_f</th>\n",
              "      <th>female_f</th>\n",
              "      <th>young_all</th>\n",
              "      <th>young_male</th>\n",
              "      <th>young_female</th>\n",
              "      <th>work_all</th>\n",
              "      <th>work_male</th>\n",
              "      <th>work_female</th>\n",
              "      <th>ekder_all</th>\n",
              "      <th>...</th>\n",
              "      <th>cafe_sum_3000_min_price_avg</th>\n",
              "      <th>cafe_sum_3000_max_price_avg</th>\n",
              "      <th>cafe_avg_price_3000</th>\n",
              "      <th>cafe_count_3000_na_price</th>\n",
              "      <th>cafe_count_3000_price_500</th>\n",
              "      <th>cafe_count_3000_price_1000</th>\n",
              "      <th>cafe_count_3000_price_1500</th>\n",
              "      <th>cafe_count_3000_price_2500</th>\n",
              "      <th>cafe_count_3000_price_4000</th>\n",
              "      <th>cafe_count_3000_price_high</th>\n",
              "      <th>big_church_count_3000</th>\n",
              "      <th>church_count_3000</th>\n",
              "      <th>mosque_count_3000</th>\n",
              "      <th>leisure_count_3000</th>\n",
              "      <th>sport_count_3000</th>\n",
              "      <th>market_count_3000</th>\n",
              "      <th>green_part_5000</th>\n",
              "      <th>prom_part_5000</th>\n",
              "      <th>office_count_5000</th>\n",
              "      <th>office_sqm_5000</th>\n",
              "      <th>trc_count_5000</th>\n",
              "      <th>trc_sqm_5000</th>\n",
              "      <th>cafe_count_5000</th>\n",
              "      <th>cafe_sum_5000_min_price_avg</th>\n",
              "      <th>cafe_sum_5000_max_price_avg</th>\n",
              "      <th>cafe_avg_price_5000</th>\n",
              "      <th>cafe_count_5000_na_price</th>\n",
              "      <th>cafe_count_5000_price_500</th>\n",
              "      <th>cafe_count_5000_price_1000</th>\n",
              "      <th>cafe_count_5000_price_1500</th>\n",
              "      <th>cafe_count_5000_price_2500</th>\n",
              "      <th>cafe_count_5000_price_4000</th>\n",
              "      <th>cafe_count_5000_price_high</th>\n",
              "      <th>big_church_count_5000</th>\n",
              "      <th>church_count_5000</th>\n",
              "      <th>mosque_count_5000</th>\n",
              "      <th>leisure_count_5000</th>\n",
              "      <th>sport_count_5000</th>\n",
              "      <th>market_count_5000</th>\n",
              "      <th>price_doc</th>\n",
              "    </tr>\n",
              "  </thead>\n",
              "  <tbody>\n",
              "    <tr>\n",
              "      <th>0</th>\n",
              "      <td>43</td>\n",
              "      <td>27.000000</td>\n",
              "      <td>4.0</td>\n",
              "      <td>12.558974</td>\n",
              "      <td>1.827121</td>\n",
              "      <td>3068.057097</td>\n",
              "      <td>1.909804</td>\n",
              "      <td>6.399301</td>\n",
              "      <td>2.107025</td>\n",
              "      <td>0</td>\n",
              "      <td>9</td>\n",
              "      <td>6.407578e+06</td>\n",
              "      <td>155572</td>\n",
              "      <td>0.189727</td>\n",
              "      <td>0.000070</td>\n",
              "      <td>9576</td>\n",
              "      <td>5001.000000</td>\n",
              "      <td>5</td>\n",
              "      <td>10309</td>\n",
              "      <td>11065.000000</td>\n",
              "      <td>5</td>\n",
              "      <td>0</td>\n",
              "      <td>240.000000</td>\n",
              "      <td>1</td>\n",
              "      <td>0</td>\n",
              "      <td>7</td>\n",
              "      <td>3</td>\n",
              "      <td>0</td>\n",
              "      <td>16</td>\n",
              "      <td>1</td>\n",
              "      <td>86206</td>\n",
              "      <td>40477</td>\n",
              "      <td>45729</td>\n",
              "      <td>21154</td>\n",
              "      <td>11007</td>\n",
              "      <td>10147</td>\n",
              "      <td>98207</td>\n",
              "      <td>52277</td>\n",
              "      <td>45930</td>\n",
              "      <td>36211</td>\n",
              "      <td>...</td>\n",
              "      <td>639.68</td>\n",
              "      <td>1079.37</td>\n",
              "      <td>859.52</td>\n",
              "      <td>5</td>\n",
              "      <td>21</td>\n",
              "      <td>22</td>\n",
              "      <td>16</td>\n",
              "      <td>3</td>\n",
              "      <td>1</td>\n",
              "      <td>0</td>\n",
              "      <td>2</td>\n",
              "      <td>4</td>\n",
              "      <td>0</td>\n",
              "      <td>0</td>\n",
              "      <td>21</td>\n",
              "      <td>1</td>\n",
              "      <td>13.09</td>\n",
              "      <td>13.31</td>\n",
              "      <td>29</td>\n",
              "      <td>807385</td>\n",
              "      <td>52</td>\n",
              "      <td>4036616</td>\n",
              "      <td>152</td>\n",
              "      <td>708.57</td>\n",
              "      <td>1185.71</td>\n",
              "      <td>947.14</td>\n",
              "      <td>12</td>\n",
              "      <td>39</td>\n",
              "      <td>48</td>\n",
              "      <td>40</td>\n",
              "      <td>9</td>\n",
              "      <td>4</td>\n",
              "      <td>0</td>\n",
              "      <td>13</td>\n",
              "      <td>22</td>\n",
              "      <td>1</td>\n",
              "      <td>0</td>\n",
              "      <td>52</td>\n",
              "      <td>4</td>\n",
              "      <td>5850000</td>\n",
              "    </tr>\n",
              "    <tr>\n",
              "      <th>1</th>\n",
              "      <td>34</td>\n",
              "      <td>19.000000</td>\n",
              "      <td>3.0</td>\n",
              "      <td>12.558974</td>\n",
              "      <td>1.827121</td>\n",
              "      <td>3068.057097</td>\n",
              "      <td>1.909804</td>\n",
              "      <td>6.399301</td>\n",
              "      <td>2.107025</td>\n",
              "      <td>0</td>\n",
              "      <td>70</td>\n",
              "      <td>9.589337e+06</td>\n",
              "      <td>115352</td>\n",
              "      <td>0.372602</td>\n",
              "      <td>0.049637</td>\n",
              "      <td>6880</td>\n",
              "      <td>3119.000000</td>\n",
              "      <td>5</td>\n",
              "      <td>7759</td>\n",
              "      <td>6237.000000</td>\n",
              "      <td>8</td>\n",
              "      <td>0</td>\n",
              "      <td>229.000000</td>\n",
              "      <td>1</td>\n",
              "      <td>0</td>\n",
              "      <td>6</td>\n",
              "      <td>1</td>\n",
              "      <td>1</td>\n",
              "      <td>3</td>\n",
              "      <td>0</td>\n",
              "      <td>76284</td>\n",
              "      <td>34200</td>\n",
              "      <td>42084</td>\n",
              "      <td>15727</td>\n",
              "      <td>7925</td>\n",
              "      <td>7802</td>\n",
              "      <td>70194</td>\n",
              "      <td>35622</td>\n",
              "      <td>34572</td>\n",
              "      <td>29431</td>\n",
              "      <td>...</td>\n",
              "      <td>631.03</td>\n",
              "      <td>1086.21</td>\n",
              "      <td>858.62</td>\n",
              "      <td>1</td>\n",
              "      <td>11</td>\n",
              "      <td>11</td>\n",
              "      <td>4</td>\n",
              "      <td>2</td>\n",
              "      <td>1</td>\n",
              "      <td>0</td>\n",
              "      <td>1</td>\n",
              "      <td>7</td>\n",
              "      <td>0</td>\n",
              "      <td>6</td>\n",
              "      <td>19</td>\n",
              "      <td>1</td>\n",
              "      <td>10.26</td>\n",
              "      <td>27.47</td>\n",
              "      <td>66</td>\n",
              "      <td>2690465</td>\n",
              "      <td>40</td>\n",
              "      <td>2034942</td>\n",
              "      <td>177</td>\n",
              "      <td>673.81</td>\n",
              "      <td>1148.81</td>\n",
              "      <td>911.31</td>\n",
              "      <td>9</td>\n",
              "      <td>49</td>\n",
              "      <td>65</td>\n",
              "      <td>36</td>\n",
              "      <td>15</td>\n",
              "      <td>3</td>\n",
              "      <td>0</td>\n",
              "      <td>15</td>\n",
              "      <td>29</td>\n",
              "      <td>1</td>\n",
              "      <td>10</td>\n",
              "      <td>66</td>\n",
              "      <td>14</td>\n",
              "      <td>6000000</td>\n",
              "    </tr>\n",
              "    <tr>\n",
              "      <th>2</th>\n",
              "      <td>43</td>\n",
              "      <td>29.000000</td>\n",
              "      <td>2.0</td>\n",
              "      <td>12.558974</td>\n",
              "      <td>1.827121</td>\n",
              "      <td>3068.057097</td>\n",
              "      <td>1.909804</td>\n",
              "      <td>6.399301</td>\n",
              "      <td>2.107025</td>\n",
              "      <td>0</td>\n",
              "      <td>129</td>\n",
              "      <td>4.808270e+06</td>\n",
              "      <td>101708</td>\n",
              "      <td>0.112560</td>\n",
              "      <td>0.118537</td>\n",
              "      <td>5879</td>\n",
              "      <td>1463.000000</td>\n",
              "      <td>4</td>\n",
              "      <td>6207</td>\n",
              "      <td>5580.000000</td>\n",
              "      <td>7</td>\n",
              "      <td>0</td>\n",
              "      <td>1183.000000</td>\n",
              "      <td>1</td>\n",
              "      <td>0</td>\n",
              "      <td>5</td>\n",
              "      <td>1</td>\n",
              "      <td>0</td>\n",
              "      <td>0</td>\n",
              "      <td>1</td>\n",
              "      <td>101982</td>\n",
              "      <td>46076</td>\n",
              "      <td>55906</td>\n",
              "      <td>13028</td>\n",
              "      <td>6835</td>\n",
              "      <td>6193</td>\n",
              "      <td>63388</td>\n",
              "      <td>31813</td>\n",
              "      <td>31575</td>\n",
              "      <td>25292</td>\n",
              "      <td>...</td>\n",
              "      <td>697.44</td>\n",
              "      <td>1192.31</td>\n",
              "      <td>944.87</td>\n",
              "      <td>2</td>\n",
              "      <td>9</td>\n",
              "      <td>17</td>\n",
              "      <td>9</td>\n",
              "      <td>3</td>\n",
              "      <td>1</td>\n",
              "      <td>0</td>\n",
              "      <td>0</td>\n",
              "      <td>11</td>\n",
              "      <td>0</td>\n",
              "      <td>0</td>\n",
              "      <td>20</td>\n",
              "      <td>6</td>\n",
              "      <td>13.69</td>\n",
              "      <td>21.58</td>\n",
              "      <td>43</td>\n",
              "      <td>1478160</td>\n",
              "      <td>35</td>\n",
              "      <td>1572990</td>\n",
              "      <td>122</td>\n",
              "      <td>702.68</td>\n",
              "      <td>1196.43</td>\n",
              "      <td>949.55</td>\n",
              "      <td>10</td>\n",
              "      <td>29</td>\n",
              "      <td>45</td>\n",
              "      <td>25</td>\n",
              "      <td>10</td>\n",
              "      <td>3</td>\n",
              "      <td>0</td>\n",
              "      <td>11</td>\n",
              "      <td>27</td>\n",
              "      <td>0</td>\n",
              "      <td>4</td>\n",
              "      <td>67</td>\n",
              "      <td>10</td>\n",
              "      <td>5700000</td>\n",
              "    </tr>\n",
              "    <tr>\n",
              "      <th>3</th>\n",
              "      <td>89</td>\n",
              "      <td>50.000000</td>\n",
              "      <td>9.0</td>\n",
              "      <td>12.558974</td>\n",
              "      <td>1.827121</td>\n",
              "      <td>3068.057097</td>\n",
              "      <td>1.909804</td>\n",
              "      <td>6.399301</td>\n",
              "      <td>2.107025</td>\n",
              "      <td>0</td>\n",
              "      <td>65</td>\n",
              "      <td>1.258354e+07</td>\n",
              "      <td>178473</td>\n",
              "      <td>0.194703</td>\n",
              "      <td>0.069753</td>\n",
              "      <td>13087</td>\n",
              "      <td>6839.000000</td>\n",
              "      <td>9</td>\n",
              "      <td>13670</td>\n",
              "      <td>17063.000000</td>\n",
              "      <td>10</td>\n",
              "      <td>0</td>\n",
              "      <td>1190.738677</td>\n",
              "      <td>1</td>\n",
              "      <td>0</td>\n",
              "      <td>17</td>\n",
              "      <td>6</td>\n",
              "      <td>0</td>\n",
              "      <td>11</td>\n",
              "      <td>4</td>\n",
              "      <td>21155</td>\n",
              "      <td>9828</td>\n",
              "      <td>11327</td>\n",
              "      <td>28563</td>\n",
              "      <td>14680</td>\n",
              "      <td>13883</td>\n",
              "      <td>120381</td>\n",
              "      <td>60040</td>\n",
              "      <td>60341</td>\n",
              "      <td>29529</td>\n",
              "      <td>...</td>\n",
              "      <td>718.75</td>\n",
              "      <td>1218.75</td>\n",
              "      <td>968.75</td>\n",
              "      <td>0</td>\n",
              "      <td>5</td>\n",
              "      <td>14</td>\n",
              "      <td>10</td>\n",
              "      <td>3</td>\n",
              "      <td>0</td>\n",
              "      <td>0</td>\n",
              "      <td>1</td>\n",
              "      <td>2</td>\n",
              "      <td>0</td>\n",
              "      <td>0</td>\n",
              "      <td>18</td>\n",
              "      <td>3</td>\n",
              "      <td>14.18</td>\n",
              "      <td>3.89</td>\n",
              "      <td>8</td>\n",
              "      <td>244166</td>\n",
              "      <td>22</td>\n",
              "      <td>942180</td>\n",
              "      <td>61</td>\n",
              "      <td>931.58</td>\n",
              "      <td>1552.63</td>\n",
              "      <td>1242.11</td>\n",
              "      <td>4</td>\n",
              "      <td>7</td>\n",
              "      <td>21</td>\n",
              "      <td>15</td>\n",
              "      <td>11</td>\n",
              "      <td>2</td>\n",
              "      <td>1</td>\n",
              "      <td>4</td>\n",
              "      <td>4</td>\n",
              "      <td>0</td>\n",
              "      <td>0</td>\n",
              "      <td>26</td>\n",
              "      <td>3</td>\n",
              "      <td>13100000</td>\n",
              "    </tr>\n",
              "    <tr>\n",
              "      <th>4</th>\n",
              "      <td>77</td>\n",
              "      <td>77.000000</td>\n",
              "      <td>4.0</td>\n",
              "      <td>12.558974</td>\n",
              "      <td>1.827121</td>\n",
              "      <td>3068.057097</td>\n",
              "      <td>1.909804</td>\n",
              "      <td>6.399301</td>\n",
              "      <td>2.107025</td>\n",
              "      <td>0</td>\n",
              "      <td>6</td>\n",
              "      <td>8.398461e+06</td>\n",
              "      <td>108171</td>\n",
              "      <td>0.015234</td>\n",
              "      <td>0.037316</td>\n",
              "      <td>5706</td>\n",
              "      <td>3240.000000</td>\n",
              "      <td>7</td>\n",
              "      <td>6748</td>\n",
              "      <td>7770.000000</td>\n",
              "      <td>9</td>\n",
              "      <td>0</td>\n",
              "      <td>562.000000</td>\n",
              "      <td>4</td>\n",
              "      <td>2</td>\n",
              "      <td>25</td>\n",
              "      <td>2</td>\n",
              "      <td>0</td>\n",
              "      <td>10</td>\n",
              "      <td>93</td>\n",
              "      <td>28179</td>\n",
              "      <td>13522</td>\n",
              "      <td>14657</td>\n",
              "      <td>13368</td>\n",
              "      <td>7159</td>\n",
              "      <td>6209</td>\n",
              "      <td>68043</td>\n",
              "      <td>34236</td>\n",
              "      <td>33807</td>\n",
              "      <td>26760</td>\n",
              "      <td>...</td>\n",
              "      <td>853.03</td>\n",
              "      <td>1410.45</td>\n",
              "      <td>1131.74</td>\n",
              "      <td>63</td>\n",
              "      <td>266</td>\n",
              "      <td>267</td>\n",
              "      <td>262</td>\n",
              "      <td>149</td>\n",
              "      <td>57</td>\n",
              "      <td>4</td>\n",
              "      <td>70</td>\n",
              "      <td>121</td>\n",
              "      <td>1</td>\n",
              "      <td>40</td>\n",
              "      <td>77</td>\n",
              "      <td>5</td>\n",
              "      <td>8.38</td>\n",
              "      <td>10.92</td>\n",
              "      <td>689</td>\n",
              "      <td>8404624</td>\n",
              "      <td>114</td>\n",
              "      <td>3503058</td>\n",
              "      <td>2283</td>\n",
              "      <td>853.88</td>\n",
              "      <td>1411.45</td>\n",
              "      <td>1132.66</td>\n",
              "      <td>143</td>\n",
              "      <td>566</td>\n",
              "      <td>578</td>\n",
              "      <td>552</td>\n",
              "      <td>319</td>\n",
              "      <td>108</td>\n",
              "      <td>17</td>\n",
              "      <td>135</td>\n",
              "      <td>236</td>\n",
              "      <td>2</td>\n",
              "      <td>91</td>\n",
              "      <td>195</td>\n",
              "      <td>14</td>\n",
              "      <td>16331452</td>\n",
              "    </tr>\n",
              "    <tr>\n",
              "      <th>...</th>\n",
              "      <td>...</td>\n",
              "      <td>...</td>\n",
              "      <td>...</td>\n",
              "      <td>...</td>\n",
              "      <td>...</td>\n",
              "      <td>...</td>\n",
              "      <td>...</td>\n",
              "      <td>...</td>\n",
              "      <td>...</td>\n",
              "      <td>...</td>\n",
              "      <td>...</td>\n",
              "      <td>...</td>\n",
              "      <td>...</td>\n",
              "      <td>...</td>\n",
              "      <td>...</td>\n",
              "      <td>...</td>\n",
              "      <td>...</td>\n",
              "      <td>...</td>\n",
              "      <td>...</td>\n",
              "      <td>...</td>\n",
              "      <td>...</td>\n",
              "      <td>...</td>\n",
              "      <td>...</td>\n",
              "      <td>...</td>\n",
              "      <td>...</td>\n",
              "      <td>...</td>\n",
              "      <td>...</td>\n",
              "      <td>...</td>\n",
              "      <td>...</td>\n",
              "      <td>...</td>\n",
              "      <td>...</td>\n",
              "      <td>...</td>\n",
              "      <td>...</td>\n",
              "      <td>...</td>\n",
              "      <td>...</td>\n",
              "      <td>...</td>\n",
              "      <td>...</td>\n",
              "      <td>...</td>\n",
              "      <td>...</td>\n",
              "      <td>...</td>\n",
              "      <td>...</td>\n",
              "      <td>...</td>\n",
              "      <td>...</td>\n",
              "      <td>...</td>\n",
              "      <td>...</td>\n",
              "      <td>...</td>\n",
              "      <td>...</td>\n",
              "      <td>...</td>\n",
              "      <td>...</td>\n",
              "      <td>...</td>\n",
              "      <td>...</td>\n",
              "      <td>...</td>\n",
              "      <td>...</td>\n",
              "      <td>...</td>\n",
              "      <td>...</td>\n",
              "      <td>...</td>\n",
              "      <td>...</td>\n",
              "      <td>...</td>\n",
              "      <td>...</td>\n",
              "      <td>...</td>\n",
              "      <td>...</td>\n",
              "      <td>...</td>\n",
              "      <td>...</td>\n",
              "      <td>...</td>\n",
              "      <td>...</td>\n",
              "      <td>...</td>\n",
              "      <td>...</td>\n",
              "      <td>...</td>\n",
              "      <td>...</td>\n",
              "      <td>...</td>\n",
              "      <td>...</td>\n",
              "      <td>...</td>\n",
              "      <td>...</td>\n",
              "      <td>...</td>\n",
              "      <td>...</td>\n",
              "      <td>...</td>\n",
              "      <td>...</td>\n",
              "      <td>...</td>\n",
              "      <td>...</td>\n",
              "      <td>...</td>\n",
              "      <td>...</td>\n",
              "    </tr>\n",
              "    <tr>\n",
              "      <th>30466</th>\n",
              "      <td>44</td>\n",
              "      <td>27.000000</td>\n",
              "      <td>7.0</td>\n",
              "      <td>9.000000</td>\n",
              "      <td>1.000000</td>\n",
              "      <td>1975.000000</td>\n",
              "      <td>2.000000</td>\n",
              "      <td>6.000000</td>\n",
              "      <td>3.000000</td>\n",
              "      <td>0</td>\n",
              "      <td>82</td>\n",
              "      <td>1.005305e+07</td>\n",
              "      <td>175518</td>\n",
              "      <td>0.096270</td>\n",
              "      <td>0.300323</td>\n",
              "      <td>9753</td>\n",
              "      <td>5088.000000</td>\n",
              "      <td>4</td>\n",
              "      <td>10311</td>\n",
              "      <td>12721.000000</td>\n",
              "      <td>4</td>\n",
              "      <td>0</td>\n",
              "      <td>1190.738677</td>\n",
              "      <td>1</td>\n",
              "      <td>0</td>\n",
              "      <td>10</td>\n",
              "      <td>3</td>\n",
              "      <td>0</td>\n",
              "      <td>9</td>\n",
              "      <td>6</td>\n",
              "      <td>61396</td>\n",
              "      <td>27916</td>\n",
              "      <td>33480</td>\n",
              "      <td>21400</td>\n",
              "      <td>11094</td>\n",
              "      <td>10306</td>\n",
              "      <td>112133</td>\n",
              "      <td>59089</td>\n",
              "      <td>53044</td>\n",
              "      <td>41985</td>\n",
              "      <td>...</td>\n",
              "      <td>647.89</td>\n",
              "      <td>1112.68</td>\n",
              "      <td>880.28</td>\n",
              "      <td>8</td>\n",
              "      <td>20</td>\n",
              "      <td>30</td>\n",
              "      <td>15</td>\n",
              "      <td>5</td>\n",
              "      <td>1</td>\n",
              "      <td>0</td>\n",
              "      <td>5</td>\n",
              "      <td>12</td>\n",
              "      <td>1</td>\n",
              "      <td>0</td>\n",
              "      <td>29</td>\n",
              "      <td>3</td>\n",
              "      <td>15.52</td>\n",
              "      <td>17.24</td>\n",
              "      <td>44</td>\n",
              "      <td>838601</td>\n",
              "      <td>53</td>\n",
              "      <td>2548292</td>\n",
              "      <td>207</td>\n",
              "      <td>689.95</td>\n",
              "      <td>1156.08</td>\n",
              "      <td>923.02</td>\n",
              "      <td>18</td>\n",
              "      <td>63</td>\n",
              "      <td>59</td>\n",
              "      <td>47</td>\n",
              "      <td>15</td>\n",
              "      <td>5</td>\n",
              "      <td>0</td>\n",
              "      <td>15</td>\n",
              "      <td>26</td>\n",
              "      <td>1</td>\n",
              "      <td>2</td>\n",
              "      <td>84</td>\n",
              "      <td>6</td>\n",
              "      <td>7400000</td>\n",
              "    </tr>\n",
              "    <tr>\n",
              "      <th>30467</th>\n",
              "      <td>86</td>\n",
              "      <td>59.000000</td>\n",
              "      <td>3.0</td>\n",
              "      <td>9.000000</td>\n",
              "      <td>2.000000</td>\n",
              "      <td>1935.000000</td>\n",
              "      <td>4.000000</td>\n",
              "      <td>10.000000</td>\n",
              "      <td>3.000000</td>\n",
              "      <td>0</td>\n",
              "      <td>134</td>\n",
              "      <td>7.307411e+06</td>\n",
              "      <td>75377</td>\n",
              "      <td>0.065444</td>\n",
              "      <td>0.000078</td>\n",
              "      <td>4237</td>\n",
              "      <td>1874.000000</td>\n",
              "      <td>4</td>\n",
              "      <td>6398</td>\n",
              "      <td>6772.000000</td>\n",
              "      <td>4</td>\n",
              "      <td>1</td>\n",
              "      <td>1046.000000</td>\n",
              "      <td>3</td>\n",
              "      <td>2</td>\n",
              "      <td>29</td>\n",
              "      <td>16</td>\n",
              "      <td>10</td>\n",
              "      <td>23</td>\n",
              "      <td>141</td>\n",
              "      <td>116742</td>\n",
              "      <td>52836</td>\n",
              "      <td>63906</td>\n",
              "      <td>11272</td>\n",
              "      <td>5470</td>\n",
              "      <td>5802</td>\n",
              "      <td>43921</td>\n",
              "      <td>21901</td>\n",
              "      <td>22020</td>\n",
              "      <td>20184</td>\n",
              "      <td>...</td>\n",
              "      <td>895.84</td>\n",
              "      <td>1476.65</td>\n",
              "      <td>1186.24</td>\n",
              "      <td>54</td>\n",
              "      <td>268</td>\n",
              "      <td>258</td>\n",
              "      <td>230</td>\n",
              "      <td>155</td>\n",
              "      <td>57</td>\n",
              "      <td>17</td>\n",
              "      <td>35</td>\n",
              "      <td>62</td>\n",
              "      <td>1</td>\n",
              "      <td>48</td>\n",
              "      <td>80</td>\n",
              "      <td>4</td>\n",
              "      <td>8.29</td>\n",
              "      <td>12.85</td>\n",
              "      <td>617</td>\n",
              "      <td>9949843</td>\n",
              "      <td>90</td>\n",
              "      <td>4345915</td>\n",
              "      <td>2197</td>\n",
              "      <td>887.43</td>\n",
              "      <td>1462.88</td>\n",
              "      <td>1175.16</td>\n",
              "      <td>136</td>\n",
              "      <td>550</td>\n",
              "      <td>535</td>\n",
              "      <td>511</td>\n",
              "      <td>313</td>\n",
              "      <td>128</td>\n",
              "      <td>24</td>\n",
              "      <td>98</td>\n",
              "      <td>182</td>\n",
              "      <td>1</td>\n",
              "      <td>82</td>\n",
              "      <td>171</td>\n",
              "      <td>15</td>\n",
              "      <td>25000000</td>\n",
              "    </tr>\n",
              "    <tr>\n",
              "      <th>30468</th>\n",
              "      <td>45</td>\n",
              "      <td>34.403271</td>\n",
              "      <td>10.0</td>\n",
              "      <td>20.000000</td>\n",
              "      <td>1.000000</td>\n",
              "      <td>3068.057097</td>\n",
              "      <td>1.000000</td>\n",
              "      <td>1.000000</td>\n",
              "      <td>1.000000</td>\n",
              "      <td>1</td>\n",
              "      <td>103</td>\n",
              "      <td>2.553630e+07</td>\n",
              "      <td>4001</td>\n",
              "      <td>0.496315</td>\n",
              "      <td>0.007122</td>\n",
              "      <td>275</td>\n",
              "      <td>3271.272464</td>\n",
              "      <td>0</td>\n",
              "      <td>264</td>\n",
              "      <td>8324.970739</td>\n",
              "      <td>0</td>\n",
              "      <td>0</td>\n",
              "      <td>1190.738677</td>\n",
              "      <td>0</td>\n",
              "      <td>0</td>\n",
              "      <td>0</td>\n",
              "      <td>0</td>\n",
              "      <td>0</td>\n",
              "      <td>1</td>\n",
              "      <td>0</td>\n",
              "      <td>17790</td>\n",
              "      <td>8350</td>\n",
              "      <td>9443</td>\n",
              "      <td>574</td>\n",
              "      <td>297</td>\n",
              "      <td>277</td>\n",
              "      <td>2566</td>\n",
              "      <td>1356</td>\n",
              "      <td>1211</td>\n",
              "      <td>861</td>\n",
              "      <td>...</td>\n",
              "      <td>700.00</td>\n",
              "      <td>1222.22</td>\n",
              "      <td>961.11</td>\n",
              "      <td>0</td>\n",
              "      <td>1</td>\n",
              "      <td>5</td>\n",
              "      <td>2</td>\n",
              "      <td>1</td>\n",
              "      <td>0</td>\n",
              "      <td>0</td>\n",
              "      <td>1</td>\n",
              "      <td>4</td>\n",
              "      <td>0</td>\n",
              "      <td>0</td>\n",
              "      <td>6</td>\n",
              "      <td>0</td>\n",
              "      <td>35.62</td>\n",
              "      <td>6.96</td>\n",
              "      <td>1</td>\n",
              "      <td>117300</td>\n",
              "      <td>4</td>\n",
              "      <td>201300</td>\n",
              "      <td>20</td>\n",
              "      <td>747.37</td>\n",
              "      <td>1263.16</td>\n",
              "      <td>1005.26</td>\n",
              "      <td>1</td>\n",
              "      <td>4</td>\n",
              "      <td>8</td>\n",
              "      <td>5</td>\n",
              "      <td>1</td>\n",
              "      <td>1</td>\n",
              "      <td>0</td>\n",
              "      <td>2</td>\n",
              "      <td>12</td>\n",
              "      <td>0</td>\n",
              "      <td>1</td>\n",
              "      <td>11</td>\n",
              "      <td>1</td>\n",
              "      <td>6970959</td>\n",
              "    </tr>\n",
              "    <tr>\n",
              "      <th>30469</th>\n",
              "      <td>64</td>\n",
              "      <td>32.000000</td>\n",
              "      <td>5.0</td>\n",
              "      <td>15.000000</td>\n",
              "      <td>1.000000</td>\n",
              "      <td>2003.000000</td>\n",
              "      <td>2.000000</td>\n",
              "      <td>11.000000</td>\n",
              "      <td>2.000000</td>\n",
              "      <td>0</td>\n",
              "      <td>77</td>\n",
              "      <td>6.050065e+06</td>\n",
              "      <td>78616</td>\n",
              "      <td>0.167526</td>\n",
              "      <td>0.093443</td>\n",
              "      <td>4215</td>\n",
              "      <td>2372.000000</td>\n",
              "      <td>6</td>\n",
              "      <td>4635</td>\n",
              "      <td>6083.000000</td>\n",
              "      <td>8</td>\n",
              "      <td>0</td>\n",
              "      <td>3300.000000</td>\n",
              "      <td>2</td>\n",
              "      <td>1</td>\n",
              "      <td>11</td>\n",
              "      <td>1</td>\n",
              "      <td>0</td>\n",
              "      <td>4</td>\n",
              "      <td>5</td>\n",
              "      <td>83844</td>\n",
              "      <td>36656</td>\n",
              "      <td>47188</td>\n",
              "      <td>9414</td>\n",
              "      <td>4815</td>\n",
              "      <td>4599</td>\n",
              "      <td>51445</td>\n",
              "      <td>25003</td>\n",
              "      <td>26442</td>\n",
              "      <td>17757</td>\n",
              "      <td>...</td>\n",
              "      <td>681.48</td>\n",
              "      <td>1152.78</td>\n",
              "      <td>917.13</td>\n",
              "      <td>7</td>\n",
              "      <td>32</td>\n",
              "      <td>37</td>\n",
              "      <td>26</td>\n",
              "      <td>13</td>\n",
              "      <td>0</td>\n",
              "      <td>0</td>\n",
              "      <td>2</td>\n",
              "      <td>17</td>\n",
              "      <td>1</td>\n",
              "      <td>2</td>\n",
              "      <td>33</td>\n",
              "      <td>4</td>\n",
              "      <td>30.36</td>\n",
              "      <td>9.33</td>\n",
              "      <td>39</td>\n",
              "      <td>1225712</td>\n",
              "      <td>45</td>\n",
              "      <td>1464521</td>\n",
              "      <td>230</td>\n",
              "      <td>703.20</td>\n",
              "      <td>1182.65</td>\n",
              "      <td>942.92</td>\n",
              "      <td>11</td>\n",
              "      <td>60</td>\n",
              "      <td>77</td>\n",
              "      <td>58</td>\n",
              "      <td>22</td>\n",
              "      <td>1</td>\n",
              "      <td>1</td>\n",
              "      <td>6</td>\n",
              "      <td>31</td>\n",
              "      <td>1</td>\n",
              "      <td>4</td>\n",
              "      <td>65</td>\n",
              "      <td>7</td>\n",
              "      <td>13500000</td>\n",
              "    </tr>\n",
              "    <tr>\n",
              "      <th>30470</th>\n",
              "      <td>43</td>\n",
              "      <td>28.000000</td>\n",
              "      <td>1.0</td>\n",
              "      <td>9.000000</td>\n",
              "      <td>1.000000</td>\n",
              "      <td>1968.000000</td>\n",
              "      <td>2.000000</td>\n",
              "      <td>6.000000</td>\n",
              "      <td>2.000000</td>\n",
              "      <td>0</td>\n",
              "      <td>75</td>\n",
              "      <td>4.395333e+06</td>\n",
              "      <td>94561</td>\n",
              "      <td>0.063755</td>\n",
              "      <td>0.038693</td>\n",
              "      <td>6120</td>\n",
              "      <td>2215.000000</td>\n",
              "      <td>4</td>\n",
              "      <td>6533</td>\n",
              "      <td>5824.000000</td>\n",
              "      <td>4</td>\n",
              "      <td>0</td>\n",
              "      <td>1015.000000</td>\n",
              "      <td>2</td>\n",
              "      <td>0</td>\n",
              "      <td>7</td>\n",
              "      <td>1</td>\n",
              "      <td>0</td>\n",
              "      <td>5</td>\n",
              "      <td>1</td>\n",
              "      <td>72131</td>\n",
              "      <td>34296</td>\n",
              "      <td>37835</td>\n",
              "      <td>13523</td>\n",
              "      <td>6724</td>\n",
              "      <td>6799</td>\n",
              "      <td>56908</td>\n",
              "      <td>27219</td>\n",
              "      <td>29689</td>\n",
              "      <td>24130</td>\n",
              "      <td>...</td>\n",
              "      <td>595.65</td>\n",
              "      <td>1054.35</td>\n",
              "      <td>825.00</td>\n",
              "      <td>1</td>\n",
              "      <td>13</td>\n",
              "      <td>24</td>\n",
              "      <td>6</td>\n",
              "      <td>2</td>\n",
              "      <td>1</td>\n",
              "      <td>0</td>\n",
              "      <td>3</td>\n",
              "      <td>7</td>\n",
              "      <td>0</td>\n",
              "      <td>7</td>\n",
              "      <td>26</td>\n",
              "      <td>4</td>\n",
              "      <td>25.10</td>\n",
              "      <td>10.16</td>\n",
              "      <td>15</td>\n",
              "      <td>351244</td>\n",
              "      <td>22</td>\n",
              "      <td>646575</td>\n",
              "      <td>93</td>\n",
              "      <td>664.44</td>\n",
              "      <td>1127.78</td>\n",
              "      <td>896.11</td>\n",
              "      <td>3</td>\n",
              "      <td>26</td>\n",
              "      <td>35</td>\n",
              "      <td>22</td>\n",
              "      <td>5</td>\n",
              "      <td>2</td>\n",
              "      <td>0</td>\n",
              "      <td>7</td>\n",
              "      <td>16</td>\n",
              "      <td>0</td>\n",
              "      <td>9</td>\n",
              "      <td>54</td>\n",
              "      <td>10</td>\n",
              "      <td>5600000</td>\n",
              "    </tr>\n",
              "  </tbody>\n",
              "</table>\n",
              "<p>30471 rows × 281 columns</p>\n",
              "</div>"
            ],
            "text/plain": [
              "       full_sq    life_sq  ...  market_count_5000  price_doc\n",
              "0           43  27.000000  ...                  4    5850000\n",
              "1           34  19.000000  ...                 14    6000000\n",
              "2           43  29.000000  ...                 10    5700000\n",
              "3           89  50.000000  ...                  3   13100000\n",
              "4           77  77.000000  ...                 14   16331452\n",
              "...        ...        ...  ...                ...        ...\n",
              "30466       44  27.000000  ...                  6    7400000\n",
              "30467       86  59.000000  ...                 15   25000000\n",
              "30468       45  34.403271  ...                  1    6970959\n",
              "30469       64  32.000000  ...                  7   13500000\n",
              "30470       43  28.000000  ...                 10    5600000\n",
              "\n",
              "[30471 rows x 281 columns]"
            ]
          },
          "metadata": {
            "tags": []
          },
          "execution_count": 16
        }
      ]
    },
    {
      "cell_type": "code",
      "metadata": {
        "id": "Oa9JP3B3lICh"
      },
      "source": [
        "X=dataC.drop(['price_doc'], axis=1)\n",
        "y=dataC.price_doc"
      ],
      "execution_count": 17,
      "outputs": []
    },
    {
      "cell_type": "markdown",
      "metadata": {
        "id": "Xc1497TT7Ese"
      },
      "source": [
        "Подготовка данных"
      ]
    },
    {
      "cell_type": "code",
      "metadata": {
        "id": "-mJhBIABlNAk"
      },
      "source": [
        "from sklearn.model_selection import train_test_split\n",
        "X_train, X_test, y_train, y_test = train_test_split(X, y, test_size=0.33, random_state=42)"
      ],
      "execution_count": 18,
      "outputs": []
    },
    {
      "cell_type": "code",
      "metadata": {
        "id": "tbjfBToRlOgI"
      },
      "source": [
        "X_train = X_train.apply(preprocessing.LabelEncoder().fit_transform)"
      ],
      "execution_count": 19,
      "outputs": []
    },
    {
      "cell_type": "code",
      "metadata": {
        "id": "Ecmby0RhlQIu"
      },
      "source": [
        "X_test = X_test.apply(preprocessing.LabelEncoder().fit_transform)"
      ],
      "execution_count": 20,
      "outputs": []
    },
    {
      "cell_type": "markdown",
      "metadata": {
        "id": "Caobzeua7H4W"
      },
      "source": [
        "Стандартизация данных"
      ]
    },
    {
      "cell_type": "code",
      "metadata": {
        "id": "InNVb-CVlRPT"
      },
      "source": [
        "# Среднее значение\n",
        "mean = X_train.mean(axis=0)\n",
        "# Стандартное отклонение\n",
        "std = X_train.std(axis=0)\n",
        "X_train -= mean\n",
        "X_train /= std\n",
        "X_test -= mean\n",
        "X_test /= std"
      ],
      "execution_count": 21,
      "outputs": []
    },
    {
      "cell_type": "markdown",
      "metadata": {
        "id": "KcJJ3dOxPvF7"
      },
      "source": [
        "Создание нейронной сети"
      ]
    },
    {
      "cell_type": "code",
      "metadata": {
        "id": "SSFcI2kmlShc"
      },
      "source": [
        "model = Sequential()\n",
        "model.add(Dense(256, activation='relu', input_shape=(X_train.shape[1],)))\n",
        "model.add(Dense(128, activation='relu'))\n",
        "model.add(Dense(64, activation='relu'))\n",
        "model.add(Dense(32, activation='relu'))\n",
        "model.add(Dense(1))"
      ],
      "execution_count": 22,
      "outputs": []
    },
    {
      "cell_type": "code",
      "metadata": {
        "id": "oupFosGPlT0e",
        "outputId": "f8adf4bd-3461-4f8b-e5ef-18847d268e76",
        "colab": {
          "base_uri": "https://localhost:8080/"
        }
      },
      "source": [
        "print(model.summary())"
      ],
      "execution_count": 23,
      "outputs": [
        {
          "output_type": "stream",
          "text": [
            "Model: \"sequential\"\n",
            "_________________________________________________________________\n",
            "Layer (type)                 Output Shape              Param #   \n",
            "=================================================================\n",
            "dense (Dense)                (None, 256)               71936     \n",
            "_________________________________________________________________\n",
            "dense_1 (Dense)              (None, 128)               32896     \n",
            "_________________________________________________________________\n",
            "dense_2 (Dense)              (None, 64)                8256      \n",
            "_________________________________________________________________\n",
            "dense_3 (Dense)              (None, 32)                2080      \n",
            "_________________________________________________________________\n",
            "dense_4 (Dense)              (None, 1)                 33        \n",
            "=================================================================\n",
            "Total params: 115,201\n",
            "Trainable params: 115,201\n",
            "Non-trainable params: 0\n",
            "_________________________________________________________________\n",
            "None\n"
          ],
          "name": "stdout"
        }
      ]
    },
    {
      "cell_type": "code",
      "metadata": {
        "id": "78kTdtlylU8g"
      },
      "source": [
        "model.compile(optimizer='adam', loss='mse', metrics=['mae'])"
      ],
      "execution_count": 24,
      "outputs": []
    },
    {
      "cell_type": "markdown",
      "metadata": {
        "id": "Ca0cSQTr7O7D"
      },
      "source": [
        "Обучение нейронной сети"
      ]
    },
    {
      "cell_type": "code",
      "metadata": {
        "id": "MDU8wL9JlYwn",
        "outputId": "f66b48ec-218f-4930-b5ac-7bff8bb9a3c4",
        "colab": {
          "base_uri": "https://localhost:8080/"
        }
      },
      "source": [
        "history=model.fit(X_train, y_train, epochs=100, batch_size=50, verbose=2, validation_split=0.2)\n"
      ],
      "execution_count": 25,
      "outputs": [
        {
          "output_type": "stream",
          "text": [
            "Epoch 1/100\n",
            "327/327 - 1s - loss: 49801148235776.0000 - mae: 5111029.0000 - val_loss: 18826827661312.0000 - val_mae: 2770413.7500\n",
            "Epoch 2/100\n",
            "327/327 - 1s - loss: 19273422471168.0000 - mae: 2549026.2500 - val_loss: 13128465121280.0000 - val_mae: 2234235.2500\n",
            "Epoch 3/100\n",
            "327/327 - 1s - loss: 15306118397952.0000 - mae: 2183311.0000 - val_loss: 10850132819968.0000 - val_mae: 2003742.3750\n",
            "Epoch 4/100\n",
            "327/327 - 1s - loss: 13310566072320.0000 - mae: 2006346.6250 - val_loss: 9799875952640.0000 - val_mae: 1884534.0000\n",
            "Epoch 5/100\n",
            "327/327 - 1s - loss: 12275810304000.0000 - mae: 1921993.7500 - val_loss: 9302033039360.0000 - val_mae: 1854371.2500\n",
            "Epoch 6/100\n",
            "327/327 - 1s - loss: 11641400852480.0000 - mae: 1874999.1250 - val_loss: 9000036859904.0000 - val_mae: 1812406.2500\n",
            "Epoch 7/100\n",
            "327/327 - 1s - loss: 11217306386432.0000 - mae: 1841695.6250 - val_loss: 8706724462592.0000 - val_mae: 1788983.1250\n",
            "Epoch 8/100\n",
            "327/327 - 1s - loss: 10796851527680.0000 - mae: 1809928.2500 - val_loss: 8608334479360.0000 - val_mae: 1741713.7500\n",
            "Epoch 9/100\n",
            "327/327 - 1s - loss: 10504806334464.0000 - mae: 1772355.5000 - val_loss: 8505855049728.0000 - val_mae: 1766027.5000\n",
            "Epoch 10/100\n",
            "327/327 - 1s - loss: 10227142361088.0000 - mae: 1761258.0000 - val_loss: 8118984507392.0000 - val_mae: 1690049.3750\n",
            "Epoch 11/100\n",
            "327/327 - 1s - loss: 10057334915072.0000 - mae: 1723809.5000 - val_loss: 8064487391232.0000 - val_mae: 1687165.1250\n",
            "Epoch 12/100\n",
            "327/327 - 1s - loss: 9879226941440.0000 - mae: 1720582.1250 - val_loss: 7844132290560.0000 - val_mae: 1656126.0000\n",
            "Epoch 13/100\n",
            "327/327 - 1s - loss: 9738406330368.0000 - mae: 1695169.2500 - val_loss: 7827691143168.0000 - val_mae: 1693553.1250\n",
            "Epoch 14/100\n",
            "327/327 - 1s - loss: 9569459765248.0000 - mae: 1675511.7500 - val_loss: 7676733423616.0000 - val_mae: 1634475.2500\n",
            "Epoch 15/100\n",
            "327/327 - 1s - loss: 9413775589376.0000 - mae: 1659476.1250 - val_loss: 7601572020224.0000 - val_mae: 1637131.6250\n",
            "Epoch 16/100\n",
            "327/327 - 1s - loss: 9293312032768.0000 - mae: 1648480.7500 - val_loss: 7609726795776.0000 - val_mae: 1635022.7500\n",
            "Epoch 17/100\n",
            "327/327 - 1s - loss: 9210294173696.0000 - mae: 1638710.6250 - val_loss: 7553014562816.0000 - val_mae: 1679044.7500\n",
            "Epoch 18/100\n",
            "327/327 - 1s - loss: 9147122712576.0000 - mae: 1640065.3750 - val_loss: 7975458045952.0000 - val_mae: 1626733.2500\n",
            "Epoch 19/100\n",
            "327/327 - 1s - loss: 9019644182528.0000 - mae: 1619228.3750 - val_loss: 7521806843904.0000 - val_mae: 1576957.1250\n",
            "Epoch 20/100\n",
            "327/327 - 1s - loss: 8912093839360.0000 - mae: 1618774.7500 - val_loss: 7307284971520.0000 - val_mae: 1550627.5000\n",
            "Epoch 21/100\n",
            "327/327 - 1s - loss: 8875635900416.0000 - mae: 1605038.7500 - val_loss: 7266385264640.0000 - val_mae: 1599127.1250\n",
            "Epoch 22/100\n",
            "327/327 - 1s - loss: 8774836289536.0000 - mae: 1599177.6250 - val_loss: 7248920707072.0000 - val_mae: 1609708.7500\n",
            "Epoch 23/100\n",
            "327/327 - 1s - loss: 8756518191104.0000 - mae: 1596931.2500 - val_loss: 7222461988864.0000 - val_mae: 1561594.8750\n",
            "Epoch 24/100\n",
            "327/327 - 1s - loss: 8629572337664.0000 - mae: 1588860.2500 - val_loss: 7152804560896.0000 - val_mae: 1569069.1250\n",
            "Epoch 25/100\n",
            "327/327 - 1s - loss: 8584979546112.0000 - mae: 1575304.2500 - val_loss: 7213046824960.0000 - val_mae: 1576793.6250\n",
            "Epoch 26/100\n",
            "327/327 - 1s - loss: 8516339761152.0000 - mae: 1584497.0000 - val_loss: 7061877817344.0000 - val_mae: 1566412.7500\n",
            "Epoch 27/100\n",
            "327/327 - 1s - loss: 8449608908800.0000 - mae: 1572145.1250 - val_loss: 7135747899392.0000 - val_mae: 1550177.7500\n",
            "Epoch 28/100\n",
            "327/327 - 1s - loss: 8445932077056.0000 - mae: 1574490.5000 - val_loss: 7173669650432.0000 - val_mae: 1569296.2500\n",
            "Epoch 29/100\n",
            "327/327 - 1s - loss: 8392376057856.0000 - mae: 1576907.7500 - val_loss: 7002460258304.0000 - val_mae: 1556126.2500\n",
            "Epoch 30/100\n",
            "327/327 - 1s - loss: 8347511685120.0000 - mae: 1564694.0000 - val_loss: 7077885378560.0000 - val_mae: 1571076.8750\n",
            "Epoch 31/100\n",
            "327/327 - 1s - loss: 8329255976960.0000 - mae: 1566523.6250 - val_loss: 7006618910720.0000 - val_mae: 1563250.7500\n",
            "Epoch 32/100\n",
            "327/327 - 1s - loss: 8242411339776.0000 - mae: 1554650.2500 - val_loss: 6978023718912.0000 - val_mae: 1539959.6250\n",
            "Epoch 33/100\n",
            "327/327 - 1s - loss: 8234413326336.0000 - mae: 1552727.0000 - val_loss: 7034531479552.0000 - val_mae: 1572783.2500\n",
            "Epoch 34/100\n",
            "327/327 - 1s - loss: 8127153963008.0000 - mae: 1542018.0000 - val_loss: 7397868306432.0000 - val_mae: 1585427.5000\n",
            "Epoch 35/100\n",
            "327/327 - 1s - loss: 8136218378240.0000 - mae: 1549672.2500 - val_loss: 6969305333760.0000 - val_mae: 1553214.8750\n",
            "Epoch 36/100\n",
            "327/327 - 1s - loss: 8078306050048.0000 - mae: 1547732.3750 - val_loss: 6945771094016.0000 - val_mae: 1548260.7500\n",
            "Epoch 37/100\n",
            "327/327 - 1s - loss: 8049826201600.0000 - mae: 1543004.3750 - val_loss: 7022901723136.0000 - val_mae: 1553834.7500\n",
            "Epoch 38/100\n",
            "327/327 - 1s - loss: 8017490739200.0000 - mae: 1541087.7500 - val_loss: 7028529954816.0000 - val_mae: 1559893.6250\n",
            "Epoch 39/100\n",
            "327/327 - 1s - loss: 7933259153408.0000 - mae: 1532507.7500 - val_loss: 6927494938624.0000 - val_mae: 1531177.8750\n",
            "Epoch 40/100\n",
            "327/327 - 1s - loss: 7885925908480.0000 - mae: 1528929.5000 - val_loss: 6917612634112.0000 - val_mae: 1546682.7500\n",
            "Epoch 41/100\n",
            "327/327 - 1s - loss: 7822351794176.0000 - mae: 1529415.8750 - val_loss: 6820308975616.0000 - val_mae: 1544387.6250\n",
            "Epoch 42/100\n",
            "327/327 - 1s - loss: 7844877303808.0000 - mae: 1526548.2500 - val_loss: 6887952613376.0000 - val_mae: 1523981.2500\n",
            "Epoch 43/100\n",
            "327/327 - 1s - loss: 7812592173056.0000 - mae: 1527976.6250 - val_loss: 6857602105344.0000 - val_mae: 1565437.5000\n",
            "Epoch 44/100\n",
            "327/327 - 1s - loss: 7732501938176.0000 - mae: 1515065.3750 - val_loss: 6824283602944.0000 - val_mae: 1522258.1250\n",
            "Epoch 45/100\n",
            "327/327 - 1s - loss: 7710033051648.0000 - mae: 1512408.6250 - val_loss: 6836189134848.0000 - val_mae: 1533047.8750\n",
            "Epoch 46/100\n",
            "327/327 - 1s - loss: 7706389774336.0000 - mae: 1512480.3750 - val_loss: 6824595554304.0000 - val_mae: 1535625.5000\n",
            "Epoch 47/100\n",
            "327/327 - 1s - loss: 7643682832384.0000 - mae: 1512391.5000 - val_loss: 6824734490624.0000 - val_mae: 1504691.6250\n",
            "Epoch 48/100\n",
            "327/327 - 1s - loss: 7623108722688.0000 - mae: 1506276.6250 - val_loss: 6811250851840.0000 - val_mae: 1543582.1250\n",
            "Epoch 49/100\n",
            "327/327 - 1s - loss: 7556436066304.0000 - mae: 1501732.0000 - val_loss: 6727760609280.0000 - val_mae: 1528012.2500\n",
            "Epoch 50/100\n",
            "327/327 - 1s - loss: 7485343137792.0000 - mae: 1495199.1250 - val_loss: 6816422952960.0000 - val_mae: 1542358.6250\n",
            "Epoch 51/100\n",
            "327/327 - 1s - loss: 7493599100928.0000 - mae: 1494725.0000 - val_loss: 6800983195648.0000 - val_mae: 1577909.1250\n",
            "Epoch 52/100\n",
            "327/327 - 1s - loss: 7436283412480.0000 - mae: 1496230.3750 - val_loss: 7053431013376.0000 - val_mae: 1567973.7500\n",
            "Epoch 53/100\n",
            "327/327 - 1s - loss: 7420537470976.0000 - mae: 1493240.0000 - val_loss: 6779419754496.0000 - val_mae: 1518659.6250\n",
            "Epoch 54/100\n",
            "327/327 - 1s - loss: 7360293634048.0000 - mae: 1484494.5000 - val_loss: 6741992931328.0000 - val_mae: 1540944.0000\n",
            "Epoch 55/100\n",
            "327/327 - 1s - loss: 7336385576960.0000 - mae: 1488560.7500 - val_loss: 6733865418752.0000 - val_mae: 1553719.8750\n",
            "Epoch 56/100\n",
            "327/327 - 1s - loss: 7304566013952.0000 - mae: 1480927.2500 - val_loss: 6758555189248.0000 - val_mae: 1541462.7500\n",
            "Epoch 57/100\n",
            "327/327 - 1s - loss: 7233943371776.0000 - mae: 1478642.3750 - val_loss: 6702111916032.0000 - val_mae: 1561298.5000\n",
            "Epoch 58/100\n",
            "327/327 - 1s - loss: 7212924665856.0000 - mae: 1480417.7500 - val_loss: 6664159756288.0000 - val_mae: 1516118.6250\n",
            "Epoch 59/100\n",
            "327/327 - 1s - loss: 7166006657024.0000 - mae: 1472733.1250 - val_loss: 6968346935296.0000 - val_mae: 1521904.2500\n",
            "Epoch 60/100\n",
            "327/327 - 1s - loss: 7140397809664.0000 - mae: 1470133.8750 - val_loss: 6655952551936.0000 - val_mae: 1522279.8750\n",
            "Epoch 61/100\n",
            "327/327 - 1s - loss: 7064246026240.0000 - mae: 1466914.6250 - val_loss: 6827857149952.0000 - val_mae: 1526813.2500\n",
            "Epoch 62/100\n",
            "327/327 - 1s - loss: 7016263188480.0000 - mae: 1461252.2500 - val_loss: 6738501173248.0000 - val_mae: 1541157.1250\n",
            "Epoch 63/100\n",
            "327/327 - 1s - loss: 6984081342464.0000 - mae: 1467436.8750 - val_loss: 6699256643584.0000 - val_mae: 1528093.3750\n",
            "Epoch 64/100\n",
            "327/327 - 1s - loss: 6978458877952.0000 - mae: 1463694.7500 - val_loss: 6712536858624.0000 - val_mae: 1547442.1250\n",
            "Epoch 65/100\n",
            "327/327 - 1s - loss: 6918407979008.0000 - mae: 1456698.2500 - val_loss: 6777842171904.0000 - val_mae: 1612902.7500\n",
            "Epoch 66/100\n",
            "327/327 - 1s - loss: 6848040665088.0000 - mae: 1456620.6250 - val_loss: 7338223730688.0000 - val_mae: 1557099.2500\n",
            "Epoch 67/100\n",
            "327/327 - 1s - loss: 6810669940736.0000 - mae: 1457574.1250 - val_loss: 6649448759296.0000 - val_mae: 1503089.0000\n",
            "Epoch 68/100\n",
            "327/327 - 1s - loss: 6743781277696.0000 - mae: 1445366.5000 - val_loss: 6680479268864.0000 - val_mae: 1530535.8750\n",
            "Epoch 69/100\n",
            "327/327 - 1s - loss: 6683616608256.0000 - mae: 1447958.3750 - val_loss: 7372844040192.0000 - val_mae: 1583540.0000\n",
            "Epoch 70/100\n",
            "327/327 - 1s - loss: 6668588941312.0000 - mae: 1447700.7500 - val_loss: 6883586867200.0000 - val_mae: 1521304.1250\n",
            "Epoch 71/100\n",
            "327/327 - 1s - loss: 6681178144768.0000 - mae: 1443952.5000 - val_loss: 6771699089408.0000 - val_mae: 1540044.7500\n",
            "Epoch 72/100\n",
            "327/327 - 1s - loss: 6579014860800.0000 - mae: 1438869.5000 - val_loss: 6691400712192.0000 - val_mae: 1536583.6250\n",
            "Epoch 73/100\n",
            "327/327 - 1s - loss: 6547605291008.0000 - mae: 1442294.3750 - val_loss: 6602241867776.0000 - val_mae: 1529999.5000\n",
            "Epoch 74/100\n",
            "327/327 - 1s - loss: 6498596421632.0000 - mae: 1432433.8750 - val_loss: 6596895178752.0000 - val_mae: 1512985.2500\n",
            "Epoch 75/100\n",
            "327/327 - 1s - loss: 6399776522240.0000 - mae: 1427143.2500 - val_loss: 6610397691904.0000 - val_mae: 1533678.7500\n",
            "Epoch 76/100\n",
            "327/327 - 1s - loss: 6389756854272.0000 - mae: 1431719.1250 - val_loss: 6812567339008.0000 - val_mae: 1512015.2500\n",
            "Epoch 77/100\n",
            "327/327 - 1s - loss: 6383533555712.0000 - mae: 1430317.6250 - val_loss: 6699172757504.0000 - val_mae: 1540941.3750\n",
            "Epoch 78/100\n",
            "327/327 - 1s - loss: 6306236727296.0000 - mae: 1426170.5000 - val_loss: 6641741201408.0000 - val_mae: 1523427.8750\n",
            "Epoch 79/100\n",
            "327/327 - 1s - loss: 6242970370048.0000 - mae: 1414150.7500 - val_loss: 7051494817792.0000 - val_mae: 1605348.6250\n",
            "Epoch 80/100\n",
            "327/327 - 1s - loss: 6215074578432.0000 - mae: 1418781.6250 - val_loss: 6795219173376.0000 - val_mae: 1542754.0000\n",
            "Epoch 81/100\n",
            "327/327 - 1s - loss: 6175109152768.0000 - mae: 1415737.0000 - val_loss: 6707822460928.0000 - val_mae: 1533954.6250\n",
            "Epoch 82/100\n",
            "327/327 - 1s - loss: 6114072068096.0000 - mae: 1415172.7500 - val_loss: 6646726131712.0000 - val_mae: 1543122.7500\n",
            "Epoch 83/100\n",
            "327/327 - 1s - loss: 6041535250432.0000 - mae: 1405813.0000 - val_loss: 6692375363584.0000 - val_mae: 1539974.7500\n",
            "Epoch 84/100\n",
            "327/327 - 1s - loss: 5997485621248.0000 - mae: 1402785.5000 - val_loss: 6765988020224.0000 - val_mae: 1570106.3750\n",
            "Epoch 85/100\n",
            "327/327 - 1s - loss: 5994929717248.0000 - mae: 1405022.8750 - val_loss: 6870143074304.0000 - val_mae: 1594504.8750\n",
            "Epoch 86/100\n",
            "327/327 - 1s - loss: 5910687121408.0000 - mae: 1402709.6250 - val_loss: 6689682620416.0000 - val_mae: 1541505.7500\n",
            "Epoch 87/100\n",
            "327/327 - 1s - loss: 5863270514688.0000 - mae: 1388435.5000 - val_loss: 6787945725952.0000 - val_mae: 1572300.1250\n",
            "Epoch 88/100\n",
            "327/327 - 1s - loss: 5829549359104.0000 - mae: 1391806.6250 - val_loss: 6821734514688.0000 - val_mae: 1585759.1250\n",
            "Epoch 89/100\n",
            "327/327 - 1s - loss: 5788742975488.0000 - mae: 1389393.6250 - val_loss: 6782718050304.0000 - val_mae: 1589428.3750\n",
            "Epoch 90/100\n",
            "327/327 - 1s - loss: 5716981055488.0000 - mae: 1391863.0000 - val_loss: 7049841737728.0000 - val_mae: 1578501.7500\n",
            "Epoch 91/100\n",
            "327/327 - 1s - loss: 5683375767552.0000 - mae: 1384284.7500 - val_loss: 6773379432448.0000 - val_mae: 1556762.5000\n",
            "Epoch 92/100\n",
            "327/327 - 1s - loss: 5611276206080.0000 - mae: 1384520.8750 - val_loss: 6799516237824.0000 - val_mae: 1554838.8750\n",
            "Epoch 93/100\n",
            "327/327 - 1s - loss: 5610534862848.0000 - mae: 1379206.6250 - val_loss: 6873723437056.0000 - val_mae: 1592387.7500\n",
            "Epoch 94/100\n",
            "327/327 - 1s - loss: 5566280237056.0000 - mae: 1383659.8750 - val_loss: 6734139621376.0000 - val_mae: 1540508.5000\n",
            "Epoch 95/100\n",
            "327/327 - 1s - loss: 5504722534400.0000 - mae: 1372346.1250 - val_loss: 6711501389824.0000 - val_mae: 1555537.7500\n",
            "Epoch 96/100\n",
            "327/327 - 1s - loss: 5484194562048.0000 - mae: 1372499.7500 - val_loss: 7055845359616.0000 - val_mae: 1594535.8750\n",
            "Epoch 97/100\n",
            "327/327 - 1s - loss: 5368895766528.0000 - mae: 1367330.5000 - val_loss: 7173796528128.0000 - val_mae: 1588112.3750\n",
            "Epoch 98/100\n",
            "327/327 - 1s - loss: 5369639206912.0000 - mae: 1359670.7500 - val_loss: 7367169146880.0000 - val_mae: 1578134.1250\n",
            "Epoch 99/100\n",
            "327/327 - 1s - loss: 5395957940224.0000 - mae: 1371402.2500 - val_loss: 6790204358656.0000 - val_mae: 1577475.5000\n",
            "Epoch 100/100\n",
            "327/327 - 1s - loss: 5304511102976.0000 - mae: 1359775.2500 - val_loss: 6736513073152.0000 - val_mae: 1574997.8750\n"
          ],
          "name": "stdout"
        }
      ]
    },
    {
      "cell_type": "code",
      "metadata": {
        "id": "E1N24lRcul25",
        "outputId": "bd61319c-6b7e-48b5-bc96-216cb6d830e1",
        "colab": {
          "base_uri": "https://localhost:8080/"
        }
      },
      "source": [
        "history"
      ],
      "execution_count": 26,
      "outputs": [
        {
          "output_type": "execute_result",
          "data": {
            "text/plain": [
              "<tensorflow.python.keras.callbacks.History at 0x7f818a9c0f28>"
            ]
          },
          "metadata": {
            "tags": []
          },
          "execution_count": 26
        }
      ]
    },
    {
      "cell_type": "markdown",
      "metadata": {
        "id": "grDLHQif7XRA"
      },
      "source": [
        "Графики loss и val_loss"
      ]
    },
    {
      "cell_type": "code",
      "metadata": {
        "id": "qGZ3s96niPEi",
        "outputId": "44bd9891-5c59-4460-8355-91bd8509bfff",
        "colab": {
          "base_uri": "https://localhost:8080/",
          "height": 295
        }
      },
      "source": [
        "import keras \n",
        "from matplotlib import pyplot as plt \n",
        "plt.plot(history.history['val_loss'])\n",
        "plt.plot(history.history['loss'])\n",
        "plt.title('model accuracy')\n",
        "plt.ylabel('accuracy')\n",
        "plt.xlabel('epoch')\n",
        "plt.legend(['train', 'val'], loc='upper left')\n",
        "plt.show()"
      ],
      "execution_count": 27,
      "outputs": [
        {
          "output_type": "display_data",
          "data": {
            "image/png": "[encoded data removed]",
            "text/plain": [
              "<Figure size 432x288 with 1 Axes>"
            ]
          },
          "metadata": {
            "tags": [],
            "needs_background": "light"
          }
        }
      ]
    },
    {
      "cell_type": "markdown",
      "metadata": {
        "id": "77d5Mqir7byJ"
      },
      "source": [
        "Графики mae и val_mae"
      ]
    },
    {
      "cell_type": "code",
      "metadata": {
        "id": "Mt3VRPdZu1v6",
        "outputId": "5e796355-4e2a-4ad3-dd49-e0c94a3608ab",
        "colab": {
          "base_uri": "https://localhost:8080/",
          "height": 295
        }
      },
      "source": [
        "import keras \n",
        "from matplotlib import pyplot as plt \n",
        "plt.plot(history.history['val_mae'])\n",
        "plt.plot(history.history['mae'])\n",
        "plt.title('model accuracy')\n",
        "plt.ylabel('accuracy')\n",
        "plt.xlabel('epoch')\n",
        "plt.legend(['train', 'val'], loc='upper left')\n",
        "plt.show()"
      ],
      "execution_count": 28,
      "outputs": [
        {
          "output_type": "display_data",
          "data": {
            "image/png": "[encoded data removed]",
            "text/plain": [
              "<Figure size 432x288 with 1 Axes>"
            ]
          },
          "metadata": {
            "tags": [],
            "needs_background": "light"
          }
        }
      ]
    },
    {
      "cell_type": "code",
      "metadata": {
        "id": "fzlmu547k09B",
        "outputId": "713134f0-d600-4cad-be36-05d85c22c23c",
        "colab": {
          "base_uri": "https://localhost:8080/"
        }
      },
      "source": [
        "history=model.fit(X_train, y_train, epochs=10, validation_split=0.2, shuffle=True)"
      ],
      "execution_count": 29,
      "outputs": [
        {
          "output_type": "stream",
          "text": [
            "Epoch 1/10\n",
            "511/511 [==============================] - 1s 3ms/step - loss: 5345160724480.0000 - mae: 1373821.1250 - val_loss: 7367319617536.0000 - val_mae: 1586626.1250\n",
            "Epoch 2/10\n",
            "511/511 [==============================] - 1s 2ms/step - loss: 5324137299968.0000 - mae: 1372881.5000 - val_loss: 6974058528768.0000 - val_mae: 1586531.0000\n",
            "Epoch 3/10\n",
            "511/511 [==============================] - 1s 3ms/step - loss: 5233424465920.0000 - mae: 1363753.6250 - val_loss: 6988156108800.0000 - val_mae: 1556332.8750\n",
            "Epoch 4/10\n",
            "511/511 [==============================] - 1s 3ms/step - loss: 5180243312640.0000 - mae: 1362076.2500 - val_loss: 6952605712384.0000 - val_mae: 1583186.1250\n",
            "Epoch 5/10\n",
            "511/511 [==============================] - 1s 3ms/step - loss: 5058872737792.0000 - mae: 1348164.7500 - val_loss: 7057092116480.0000 - val_mae: 1585924.5000\n",
            "Epoch 6/10\n",
            "511/511 [==============================] - 1s 3ms/step - loss: 5064024391680.0000 - mae: 1343325.1250 - val_loss: 7187596836864.0000 - val_mae: 1657868.0000\n",
            "Epoch 7/10\n",
            "511/511 [==============================] - 1s 3ms/step - loss: 5009981308928.0000 - mae: 1346387.7500 - val_loss: 6940809232384.0000 - val_mae: 1623636.6250\n",
            "Epoch 8/10\n",
            "511/511 [==============================] - 1s 2ms/step - loss: 4901117100032.0000 - mae: 1336460.8750 - val_loss: 7043127181312.0000 - val_mae: 1595304.3750\n",
            "Epoch 9/10\n",
            "511/511 [==============================] - 1s 3ms/step - loss: 4855089332224.0000 - mae: 1333382.2500 - val_loss: 7018364010496.0000 - val_mae: 1614451.2500\n",
            "Epoch 10/10\n",
            "511/511 [==============================] - 1s 3ms/step - loss: 4870792806400.0000 - mae: 1340605.5000 - val_loss: 6885876957184.0000 - val_mae: 1604130.1250\n"
          ],
          "name": "stdout"
        }
      ]
    },
    {
      "cell_type": "markdown",
      "metadata": {
        "id": "4FtSYIwy7iqa"
      },
      "source": [
        "Выполняем предсказание для тестовой выборки"
      ]
    },
    {
      "cell_type": "code",
      "metadata": {
        "id": "i7jYN6iwlZ6N"
      },
      "source": [
        "pred = model.predict(X_test)"
      ],
      "execution_count": 30,
      "outputs": []
    },
    {
      "cell_type": "markdown",
      "metadata": {
        "id": "scCCmIdM7kt0"
      },
      "source": [
        "Печатаем примеры результатов"
      ]
    },
    {
      "cell_type": "code",
      "metadata": {
        "id": "_HKsrXL63vjw"
      },
      "source": [
        "predicted_x = np.reshape(pred, (pred.shape[0]))\n",
        "predicted_y = np.reshape(y_test, (y_test.shape[0]))"
      ],
      "execution_count": 32,
      "outputs": []
    },
    {
      "cell_type": "code",
      "metadata": {
        "id": "eYpC19J64Vlu",
        "outputId": "91505249-bfce-4674-ca20-a591acaddfde",
        "colab": {
          "base_uri": "https://localhost:8080/"
        }
      },
      "source": [
        "for test_index in range(30):\n",
        "  print(\"Предсказанная стоимость:\", predicted_x[test_index],\", правильная стоимость:\",predicted_y.values[test_index])"
      ],
      "execution_count": 33,
      "outputs": [
        {
          "output_type": "stream",
          "text": [
            "Предсказанная стоимость: 14391735.0 , правильная стоимость: 12319849\n",
            "Предсказанная стоимость: 7437803.5 , правильная стоимость: 6800000\n",
            "Предсказанная стоимость: 6815665.5 , правильная стоимость: 4650000\n",
            "Предсказанная стоимость: 9216884.0 , правильная стоимость: 1200000\n",
            "Предсказанная стоимость: 10450726.0 , правильная стоимость: 5650000\n",
            "Предсказанная стоимость: 12024172.0 , правильная стоимость: 10850000\n",
            "Предсказанная стоимость: 4901596.0 , правильная стоимость: 3649323\n",
            "Предсказанная стоимость: 8861268.0 , правильная стоимость: 4900000\n",
            "Предсказанная стоимость: 10063517.0 , правильная стоимость: 9400000\n",
            "Предсказанная стоимость: 4519526.0 , правильная стоимость: 3069381\n",
            "Предсказанная стоимость: 7721276.5 , правильная стоимость: 6000000\n",
            "Предсказанная стоимость: 13874820.0 , правильная стоимость: 13950000\n",
            "Предсказанная стоимость: 17017870.0 , правильная стоимость: 16350000\n",
            "Предсказанная стоимость: 8112872.5 , правильная стоимость: 2100000\n",
            "Предсказанная стоимость: 8221878.5 , правильная стоимость: 6900000\n",
            "Предсказанная стоимость: 4458321.5 , правильная стоимость: 3810125\n",
            "Предсказанная стоимость: 11058600.0 , правильная стоимость: 16500000\n",
            "Предсказанная стоимость: 7404330.5 , правильная стоимость: 9200000\n",
            "Предсказанная стоимость: 10628870.0 , правильная стоимость: 7655760\n",
            "Предсказанная стоимость: 4631158.5 , правильная стоимость: 3190980\n",
            "Предсказанная стоимость: 4940188.5 , правильная стоимость: 1000000\n",
            "Предсказанная стоимость: 2486000.2 , правильная стоимость: 4411384\n",
            "Предсказанная стоимость: 8917460.0 , правильная стоимость: 1000000\n",
            "Предсказанная стоимость: 5340419.0 , правильная стоимость: 4850000\n",
            "Предсказанная стоимость: 6935775.0 , правильная стоимость: 6900000\n",
            "Предсказанная стоимость: 4588602.0 , правильная стоимость: 4475741\n",
            "Предсказанная стоимость: 5363134.0 , правильная стоимость: 7426930\n",
            "Предсказанная стоимость: 8617726.0 , правильная стоимость: 5500000\n",
            "Предсказанная стоимость: 4431417.5 , правильная стоимость: 4433926\n",
            "Предсказанная стоимость: 8071319.0 , правильная стоимость: 5200000\n"
          ],
          "name": "stdout"
        }
      ]
    },
    {
      "cell_type": "markdown",
      "metadata": {
        "id": "DLefdXzh7xfH"
      },
      "source": [
        "Коэффициент корреляции"
      ]
    },
    {
      "cell_type": "code",
      "metadata": {
        "id": "B9oJspKW3PHg",
        "outputId": "c7802346-f8d7-4436-a782-3fde2a2f2304",
        "colab": {
          "base_uri": "https://localhost:8080/"
        }
      },
      "source": [
        "cc = np.corrcoef(predicted_x, predicted_y)\n",
        "ccc = cc[0][1]\n",
        "print(f'Коэффициент корреляции: {ccc}')"
      ],
      "execution_count": 34,
      "outputs": [
        {
          "output_type": "stream",
          "text": [
            "Коэффициент корреляции: 0.7190510282250981\n"
          ],
          "name": "stdout"
        }
      ]
    },
    {
      "cell_type": "markdown",
      "metadata": {
        "id": "xU9awinOROaO"
      },
      "source": [
        "keras"
      ]
    },
    {
      "cell_type": "code",
      "metadata": {
        "id": "KdFSk00UROAz"
      },
      "source": [
        "def build_model(hp):\n",
        "  hidden_layers = hp.Choice('hidden_layers', values=[1,2,3])\n",
        "  activation_choice = hp.Choice('activation', values=['relu', 'selu', 'elu'])\n",
        "  model = Sequential()\n",
        "  model.add(Dense(units=hp.Int('units',min_value=256,max_value=5059,step=768),activation=activation_choice, input_shape=(X_train.shape[1], )))\n",
        "  model.add(Dropout(0.3))\n",
        "  for i in range(hidden_layers):\n",
        "    model.add(Dense(units=hp.Int(f'layer_{i}_units_',min_value=237//(i+1), max_value=1264//(i+1),step=316//(i+1)),activation=activation_choice))\n",
        "  model.add(Dense(1))  \n",
        "  model.compile(optimizer='rmsprop', loss=\"mse\", metrics=[\"mae\"])\n",
        "  return model"
      ],
      "execution_count": 35,
      "outputs": []
    },
    {
      "cell_type": "code",
      "metadata": {
        "id": "gWHOvi9pTN1s"
      },
      "source": [
        "! rm -rf untitled_project/"
      ],
      "execution_count": 36,
      "outputs": []
    },
    {
      "cell_type": "code",
      "metadata": {
        "id": "Uyt0kVIXTPNa",
        "outputId": "688017e5-ee74-4229-a731-8061a64dadc7",
        "colab": {
          "base_uri": "https://localhost:8080/",
          "height": 1000
        }
      },
      "source": [
        "from kerastuner.tuners import RandomSearch\n",
        "from tensorflow.keras.layers import Dense, Dropout\n",
        "def find_best_NN(X_train, y_train):\n",
        "  # создаю тюнер, который сможет подобрать оптимальную архитектуру модели\n",
        "  tuner = RandomSearch(build_model, objective=\"val_mae\", max_trials=40, executions_per_trial=1,)\n",
        "  print(\"\\n\\n\\n\")\n",
        "  # начинается автоматический подбор гиперпараметров\n",
        "  print('[INFO] start searching')\n",
        "  tuner.search(X_train, y_train, batch_size=50, epochs=10, validation_split=0.2)\n",
        "  # выбираем лучшую модель\n",
        "  print(\"\\n\\n\\nRESULTS SUMMARY\")\n",
        "  tuner.results_summary()\n",
        "  print(\"\\n\\n\\n\")\n",
        "  # получаем лучшую модель\n",
        "  print(\"\\n\\n\\nHERE IS THE BEST MODEL\\n\\n\\n\")\n",
        "  best_params = tuner.get_best_hyperparameters()[0]\n",
        "  best_model = tuner.hypermodel.build(best_params)\n",
        "  best_model.summary()\n",
        "  return best_model\n",
        "\n",
        "best_model = find_best_NN(X_train, y_train)"
      ],
      "execution_count": 37,
      "outputs": [
        {
          "output_type": "stream",
          "text": [
            "\n",
            "\n",
            "\n",
            "\n",
            "[INFO] start searching\n",
            "Epoch 1/10\n",
            "327/327 [==============================] - 12s 38ms/step - loss: 69916493348864.0000 - mae: 6729321.5000 - val_loss: 51158450176000.0000 - val_mae: 5656830.0000\n",
            "Epoch 2/10\n",
            "327/327 [==============================] - 12s 36ms/step - loss: 39081706782720.0000 - mae: 4259224.5000 - val_loss: 23271948943360.0000 - val_mae: 3115592.5000\n",
            "Epoch 3/10\n",
            "327/327 [==============================] - 12s 37ms/step - loss: 24009156591616.0000 - mae: 2931521.7500 - val_loss: 17831169097728.0000 - val_mae: 2632293.2500\n",
            "Epoch 4/10\n",
            "327/327 [==============================] - 12s 36ms/step - loss: 20430123433984.0000 - mae: 2624440.5000 - val_loss: 15209558179840.0000 - val_mae: 2401042.0000\n",
            "Epoch 5/10\n",
            "327/327 [==============================] - 12s 36ms/step - loss: 18157089587200.0000 - mae: 2418084.5000 - val_loss: 13400684888064.0000 - val_mae: 2236940.7500\n",
            "Epoch 6/10\n",
            "327/327 [==============================] - 12s 36ms/step - loss: 16470479208448.0000 - mae: 2272220.5000 - val_loss: 12136388493312.0000 - val_mae: 2104978.2500\n",
            "Epoch 7/10\n",
            "327/327 [==============================] - 12s 36ms/step - loss: 15164247113728.0000 - mae: 2153577.5000 - val_loss: 11267699900416.0000 - val_mae: 2026398.3750\n",
            "Epoch 8/10\n",
            "327/327 [==============================] - 12s 36ms/step - loss: 14215808024576.0000 - mae: 2071798.3750 - val_loss: 10640315908096.0000 - val_mae: 1963678.1250\n",
            "Epoch 9/10\n",
            "327/327 [==============================] - 12s 36ms/step - loss: 13519974039552.0000 - mae: 2014117.6250 - val_loss: 10156457852928.0000 - val_mae: 1914775.6250\n",
            "Epoch 10/10\n",
            "327/327 [==============================] - 12s 36ms/step - loss: 12995344203776.0000 - mae: 1966355.2500 - val_loss: 9833749151744.0000 - val_mae: 1871380.6250\n"
          ],
          "name": "stdout"
        },
        {
          "output_type": "display_data",
          "data": {
            "text/html": [
              "<span style=\"color:#4527A0\"><h1 style=\"font-size:18px\">Trial complete</h1></span>"
            ],
            "text/plain": [
              "<IPython.core.display.HTML object>"
            ]
          },
          "metadata": {
            "tags": []
          }
        },
        {
          "output_type": "display_data",
          "data": {
            "text/html": [
              "<span style=\"color:#4527A0\"><h1 style=\"font-size:18px\">Trial summary</h1></span>"
            ],
            "text/plain": [
              "<IPython.core.display.HTML object>"
            ]
          },
          "metadata": {
            "tags": []
          }
        },
        {
          "output_type": "display_data",
          "data": {
            "text/html": [
              "<span style=\"color:cyan\"> |-Trial ID: 3664e527fef020097feb3f9ecb9e68ff</span>"
            ],
            "text/plain": [
              "<IPython.core.display.HTML object>"
            ]
          },
          "metadata": {
            "tags": []
          }
        },
        {
          "output_type": "display_data",
          "data": {
            "text/html": [
              "<span style=\"color:cyan\"> |-Score: 1871380.625</span>"
            ],
            "text/plain": [
              "<IPython.core.display.HTML object>"
            ]
          },
          "metadata": {
            "tags": []
          }
        },
        {
          "output_type": "display_data",
          "data": {
            "text/html": [
              "<span style=\"color:cyan\"> |-Best step: 0</span>"
            ],
            "text/plain": [
              "<IPython.core.display.HTML object>"
            ]
          },
          "metadata": {
            "tags": []
          }
        },
        {
          "output_type": "display_data",
          "data": {
            "text/html": [
              "<span style=\"color:#7E57C2\"><h2 style=\"font-size:16px\">Hyperparameters:</h2></span>"
            ],
            "text/plain": [
              "<IPython.core.display.HTML object>"
            ]
          },
          "metadata": {
            "tags": []
          }
        },
        {
          "output_type": "display_data",
          "data": {
            "text/html": [
              "<span style=\"color:cyan\"> |-activation: relu</span>"
            ],
            "text/plain": [
              "<IPython.core.display.HTML object>"
            ]
          },
          "metadata": {
            "tags": []
          }
        },
        {
          "output_type": "display_data",
          "data": {
            "text/html": [
              "<span style=\"color:blue\"> |-hidden_layers: 1</span>"
            ],
            "text/plain": [
              "<IPython.core.display.HTML object>"
            ]
          },
          "metadata": {
            "tags": []
          }
        },
        {
          "output_type": "display_data",
          "data": {
            "text/html": [
              "<span style=\"color:cyan\"> |-layer_0_units_: 869</span>"
            ],
            "text/plain": [
              "<IPython.core.display.HTML object>"
            ]
          },
          "metadata": {
            "tags": []
          }
        },
        {
          "output_type": "display_data",
          "data": {
            "text/html": [
              "<span style=\"color:blue\"> |-units: 1792</span>"
            ],
            "text/plain": [
              "<IPython.core.display.HTML object>"
            ]
          },
          "metadata": {
            "tags": []
          }
        },
        {
          "output_type": "stream",
          "text": [
            "Epoch 1/10\n",
            "327/327 [==============================] - 13s 38ms/step - loss: 42905213337600.0000 - mae: 4559705.5000 - val_loss: 17686761308160.0000 - val_mae: 2662102.2500\n",
            "Epoch 2/10\n",
            "327/327 [==============================] - 12s 37ms/step - loss: 18384234217472.0000 - mae: 2461909.2500 - val_loss: 12267872583680.0000 - val_mae: 2113396.7500\n",
            "Epoch 3/10\n",
            "327/327 [==============================] - 12s 37ms/step - loss: 14381886734336.0000 - mae: 2093131.8750 - val_loss: 10057483812864.0000 - val_mae: 1896285.0000\n",
            "Epoch 4/10\n",
            "327/327 [==============================] - 12s 37ms/step - loss: 12405423734784.0000 - mae: 1933749.5000 - val_loss: 9276652257280.0000 - val_mae: 1829865.0000\n",
            "Epoch 5/10\n",
            "327/327 [==============================] - 12s 37ms/step - loss: 11573337784320.0000 - mae: 1862087.6250 - val_loss: 8767477907456.0000 - val_mae: 1777812.3750\n",
            "Epoch 6/10\n",
            "327/327 [==============================] - 12s 37ms/step - loss: 11008660733952.0000 - mae: 1806591.1250 - val_loss: 8625678974976.0000 - val_mae: 1753610.1250\n",
            "Epoch 7/10\n",
            "327/327 [==============================] - 12s 37ms/step - loss: 10629929762816.0000 - mae: 1777610.8750 - val_loss: 8329716301824.0000 - val_mae: 1744962.8750\n",
            "Epoch 8/10\n",
            "327/327 [==============================] - 12s 37ms/step - loss: 10286749712384.0000 - mae: 1744021.8750 - val_loss: 8049479122944.0000 - val_mae: 1683573.0000\n",
            "Epoch 9/10\n",
            "327/327 [==============================] - 12s 37ms/step - loss: 10105934315520.0000 - mae: 1704770.2500 - val_loss: 8370794266624.0000 - val_mae: 1704696.8750\n",
            "Epoch 10/10\n",
            "327/327 [==============================] - 12s 38ms/step - loss: 9885006692352.0000 - mae: 1694712.5000 - val_loss: 7865060818944.0000 - val_mae: 1641974.3750\n"
          ],
          "name": "stdout"
        },
        {
          "output_type": "display_data",
          "data": {
            "text/html": [
              "<span style=\"color:#4527A0\"><h1 style=\"font-size:18px\">Trial complete</h1></span>"
            ],
            "text/plain": [
              "<IPython.core.display.HTML object>"
            ]
          },
          "metadata": {
            "tags": []
          }
        },
        {
          "output_type": "display_data",
          "data": {
            "text/html": [
              "<span style=\"color:#4527A0\"><h1 style=\"font-size:18px\">Trial summary</h1></span>"
            ],
            "text/plain": [
              "<IPython.core.display.HTML object>"
            ]
          },
          "metadata": {
            "tags": []
          }
        },
        {
          "output_type": "display_data",
          "data": {
            "text/html": [
              "<span style=\"color:cyan\"> |-Trial ID: 2689ef318342023129b6e0e0b36bfbb2</span>"
            ],
            "text/plain": [
              "<IPython.core.display.HTML object>"
            ]
          },
          "metadata": {
            "tags": []
          }
        },
        {
          "output_type": "display_data",
          "data": {
            "text/html": [
              "<span style=\"color:cyan\"> |-Score: 1641974.375</span>"
            ],
            "text/plain": [
              "<IPython.core.display.HTML object>"
            ]
          },
          "metadata": {
            "tags": []
          }
        },
        {
          "output_type": "display_data",
          "data": {
            "text/html": [
              "<span style=\"color:cyan\"> |-Best step: 0</span>"
            ],
            "text/plain": [
              "<IPython.core.display.HTML object>"
            ]
          },
          "metadata": {
            "tags": []
          }
        },
        {
          "output_type": "display_data",
          "data": {
            "text/html": [
              "<span style=\"color:#7E57C2\"><h2 style=\"font-size:16px\">Hyperparameters:</h2></span>"
            ],
            "text/plain": [
              "<IPython.core.display.HTML object>"
            ]
          },
          "metadata": {
            "tags": []
          }
        },
        {
          "output_type": "display_data",
          "data": {
            "text/html": [
              "<span style=\"color:cyan\"> |-activation: relu</span>"
            ],
            "text/plain": [
              "<IPython.core.display.HTML object>"
            ]
          },
          "metadata": {
            "tags": []
          }
        },
        {
          "output_type": "display_data",
          "data": {
            "text/html": [
              "<span style=\"color:blue\"> |-hidden_layers: 2</span>"
            ],
            "text/plain": [
              "<IPython.core.display.HTML object>"
            ]
          },
          "metadata": {
            "tags": []
          }
        },
        {
          "output_type": "display_data",
          "data": {
            "text/html": [
              "<span style=\"color:cyan\"> |-layer_0_units_: 553</span>"
            ],
            "text/plain": [
              "<IPython.core.display.HTML object>"
            ]
          },
          "metadata": {
            "tags": []
          }
        },
        {
          "output_type": "display_data",
          "data": {
            "text/html": [
              "<span style=\"color:blue\"> |-layer_1_units_: 118</span>"
            ],
            "text/plain": [
              "<IPython.core.display.HTML object>"
            ]
          },
          "metadata": {
            "tags": []
          }
        },
        {
          "output_type": "display_data",
          "data": {
            "text/html": [
              "<span style=\"color:cyan\"> |-units: 2560</span>"
            ],
            "text/plain": [
              "<IPython.core.display.HTML object>"
            ]
          },
          "metadata": {
            "tags": []
          }
        },
        {
          "output_type": "stream",
          "text": [
            "Epoch 1/10\n",
            "327/327 [==============================] - 34s 104ms/step - loss: 30715179696128.0000 - mae: 3509075.0000 - val_loss: 12681077587968.0000 - val_mae: 2143495.5000\n",
            "Epoch 2/10\n",
            "327/327 [==============================] - 34s 104ms/step - loss: 13986412101632.0000 - mae: 2056458.5000 - val_loss: 9564789407744.0000 - val_mae: 1859054.0000\n",
            "Epoch 3/10\n",
            "327/327 [==============================] - 40s 121ms/step - loss: 11707563900928.0000 - mae: 1872208.7500 - val_loss: 8658241454080.0000 - val_mae: 1757113.7500\n",
            "Epoch 4/10\n",
            "327/327 [==============================] - 35s 106ms/step - loss: 10844552298496.0000 - mae: 1796787.2500 - val_loss: 8269807484928.0000 - val_mae: 1707187.0000\n",
            "Epoch 5/10\n",
            "327/327 [==============================] - 34s 105ms/step - loss: 10338814656512.0000 - mae: 1749251.7500 - val_loss: 7925854633984.0000 - val_mae: 1679994.2500\n",
            "Epoch 6/10\n",
            "327/327 [==============================] - 35s 106ms/step - loss: 9970376507392.0000 - mae: 1706126.7500 - val_loss: 7877814648832.0000 - val_mae: 1622642.8750\n",
            "Epoch 7/10\n",
            "327/327 [==============================] - 35s 106ms/step - loss: 9714445320192.0000 - mae: 1669406.2500 - val_loss: 7656139915264.0000 - val_mae: 1586351.1250\n",
            "Epoch 8/10\n",
            "327/327 [==============================] - 35s 106ms/step - loss: 9450824925184.0000 - mae: 1648492.1250 - val_loss: 7412010975232.0000 - val_mae: 1607824.0000\n",
            "Epoch 9/10\n",
            "327/327 [==============================] - 35s 106ms/step - loss: 9308047671296.0000 - mae: 1627876.5000 - val_loss: 7425723727872.0000 - val_mae: 1589320.3750\n",
            "Epoch 10/10\n",
            "327/327 [==============================] - 35s 106ms/step - loss: 9168121495552.0000 - mae: 1621187.7500 - val_loss: 7302237126656.0000 - val_mae: 1544479.2500\n"
          ],
          "name": "stdout"
        },
        {
          "output_type": "display_data",
          "data": {
            "text/html": [
              "<span style=\"color:#4527A0\"><h1 style=\"font-size:18px\">Trial complete</h1></span>"
            ],
            "text/plain": [
              "<IPython.core.display.HTML object>"
            ]
          },
          "metadata": {
            "tags": []
          }
        },
        {
          "output_type": "display_data",
          "data": {
            "text/html": [
              "<span style=\"color:#4527A0\"><h1 style=\"font-size:18px\">Trial summary</h1></span>"
            ],
            "text/plain": [
              "<IPython.core.display.HTML object>"
            ]
          },
          "metadata": {
            "tags": []
          }
        },
        {
          "output_type": "display_data",
          "data": {
            "text/html": [
              "<span style=\"color:cyan\"> |-Trial ID: d1b6cefa5937d9bb0c0f8a8fc6703de1</span>"
            ],
            "text/plain": [
              "<IPython.core.display.HTML object>"
            ]
          },
          "metadata": {
            "tags": []
          }
        },
        {
          "output_type": "display_data",
          "data": {
            "text/html": [
              "<span style=\"color:cyan\"> |-Score: 1544479.25</span>"
            ],
            "text/plain": [
              "<IPython.core.display.HTML object>"
            ]
          },
          "metadata": {
            "tags": []
          }
        },
        {
          "output_type": "display_data",
          "data": {
            "text/html": [
              "<span style=\"color:cyan\"> |-Best step: 0</span>"
            ],
            "text/plain": [
              "<IPython.core.display.HTML object>"
            ]
          },
          "metadata": {
            "tags": []
          }
        },
        {
          "output_type": "display_data",
          "data": {
            "text/html": [
              "<span style=\"color:#7E57C2\"><h2 style=\"font-size:16px\">Hyperparameters:</h2></span>"
            ],
            "text/plain": [
              "<IPython.core.display.HTML object>"
            ]
          },
          "metadata": {
            "tags": []
          }
        },
        {
          "output_type": "display_data",
          "data": {
            "text/html": [
              "<span style=\"color:cyan\"> |-activation: relu</span>"
            ],
            "text/plain": [
              "<IPython.core.display.HTML object>"
            ]
          },
          "metadata": {
            "tags": []
          }
        },
        {
          "output_type": "display_data",
          "data": {
            "text/html": [
              "<span style=\"color:blue\"> |-hidden_layers: 2</span>"
            ],
            "text/plain": [
              "<IPython.core.display.HTML object>"
            ]
          },
          "metadata": {
            "tags": []
          }
        },
        {
          "output_type": "display_data",
          "data": {
            "text/html": [
              "<span style=\"color:cyan\"> |-layer_0_units_: 1185</span>"
            ],
            "text/plain": [
              "<IPython.core.display.HTML object>"
            ]
          },
          "metadata": {
            "tags": []
          }
        },
        {
          "output_type": "display_data",
          "data": {
            "text/html": [
              "<span style=\"color:blue\"> |-layer_1_units_: 434</span>"
            ],
            "text/plain": [
              "<IPython.core.display.HTML object>"
            ]
          },
          "metadata": {
            "tags": []
          }
        },
        {
          "output_type": "display_data",
          "data": {
            "text/html": [
              "<span style=\"color:cyan\"> |-units: 4096</span>"
            ],
            "text/plain": [
              "<IPython.core.display.HTML object>"
            ]
          },
          "metadata": {
            "tags": []
          }
        },
        {
          "output_type": "stream",
          "text": [
            "Epoch 1/10\n",
            "327/327 [==============================] - 13s 38ms/step - loss: 72145686233088.0000 - mae: 6938433.5000 - val_loss: 58302603984896.0000 - val_mae: 6360062.5000\n",
            "Epoch 2/10\n",
            "327/327 [==============================] - 12s 38ms/step - loss: 51036823748608.0000 - mae: 5597351.0000 - val_loss: 36316129525760.0000 - val_mae: 4718260.0000\n",
            "Epoch 3/10\n",
            "327/327 [==============================] - 12s 38ms/step - loss: 35102530732032.0000 - mae: 4350207.5000 - val_loss: 28760254447616.0000 - val_mae: 4091790.0000\n",
            "Epoch 4/10\n",
            "327/327 [==============================] - 12s 38ms/step - loss: 29877952577536.0000 - mae: 3882866.0000 - val_loss: 23932813967360.0000 - val_mae: 3577306.0000\n",
            "Epoch 5/10\n",
            "327/327 [==============================] - 13s 39ms/step - loss: 25250341322752.0000 - mae: 3371389.2500 - val_loss: 19510698442752.0000 - val_mae: 3047030.7500\n",
            "Epoch 6/10\n",
            "327/327 [==============================] - 12s 38ms/step - loss: 21671706624000.0000 - mae: 2965666.2500 - val_loss: 16943066120192.0000 - val_mae: 2736226.2500\n",
            "Epoch 7/10\n",
            "327/327 [==============================] - 12s 38ms/step - loss: 19773234610176.0000 - mae: 2787865.5000 - val_loss: 15557561679872.0000 - val_mae: 2623710.2500\n",
            "Epoch 8/10\n",
            "327/327 [==============================] - 12s 38ms/step - loss: 18268263809024.0000 - mae: 2668033.5000 - val_loss: 14466060124160.0000 - val_mae: 2536828.2500\n",
            "Epoch 9/10\n",
            "327/327 [==============================] - 13s 38ms/step - loss: 17046424256512.0000 - mae: 2565302.0000 - val_loss: 13604543791104.0000 - val_mae: 2463707.0000\n",
            "Epoch 10/10\n",
            "327/327 [==============================] - 12s 38ms/step - loss: 16027097235456.0000 - mae: 2482150.0000 - val_loss: 12905680470016.0000 - val_mae: 2381464.7500\n"
          ],
          "name": "stdout"
        },
        {
          "output_type": "display_data",
          "data": {
            "text/html": [
              "<span style=\"color:#4527A0\"><h1 style=\"font-size:18px\">Trial complete</h1></span>"
            ],
            "text/plain": [
              "<IPython.core.display.HTML object>"
            ]
          },
          "metadata": {
            "tags": []
          }
        },
        {
          "output_type": "display_data",
          "data": {
            "text/html": [
              "<span style=\"color:#4527A0\"><h1 style=\"font-size:18px\">Trial summary</h1></span>"
            ],
            "text/plain": [
              "<IPython.core.display.HTML object>"
            ]
          },
          "metadata": {
            "tags": []
          }
        },
        {
          "output_type": "display_data",
          "data": {
            "text/html": [
              "<span style=\"color:cyan\"> |-Trial ID: 1990eba3fedde3e41f868976341915dd</span>"
            ],
            "text/plain": [
              "<IPython.core.display.HTML object>"
            ]
          },
          "metadata": {
            "tags": []
          }
        },
        {
          "output_type": "display_data",
          "data": {
            "text/html": [
              "<span style=\"color:cyan\"> |-Score: 2381464.75</span>"
            ],
            "text/plain": [
              "<IPython.core.display.HTML object>"
            ]
          },
          "metadata": {
            "tags": []
          }
        },
        {
          "output_type": "display_data",
          "data": {
            "text/html": [
              "<span style=\"color:cyan\"> |-Best step: 0</span>"
            ],
            "text/plain": [
              "<IPython.core.display.HTML object>"
            ]
          },
          "metadata": {
            "tags": []
          }
        },
        {
          "output_type": "display_data",
          "data": {
            "text/html": [
              "<span style=\"color:#7E57C2\"><h2 style=\"font-size:16px\">Hyperparameters:</h2></span>"
            ],
            "text/plain": [
              "<IPython.core.display.HTML object>"
            ]
          },
          "metadata": {
            "tags": []
          }
        },
        {
          "output_type": "display_data",
          "data": {
            "text/html": [
              "<span style=\"color:cyan\"> |-activation: elu</span>"
            ],
            "text/plain": [
              "<IPython.core.display.HTML object>"
            ]
          },
          "metadata": {
            "tags": []
          }
        },
        {
          "output_type": "display_data",
          "data": {
            "text/html": [
              "<span style=\"color:blue\"> |-hidden_layers: 1</span>"
            ],
            "text/plain": [
              "<IPython.core.display.HTML object>"
            ]
          },
          "metadata": {
            "tags": []
          }
        },
        {
          "output_type": "display_data",
          "data": {
            "text/html": [
              "<span style=\"color:cyan\"> |-layer_0_units_: 553</span>"
            ],
            "text/plain": [
              "<IPython.core.display.HTML object>"
            ]
          },
          "metadata": {
            "tags": []
          }
        },
        {
          "output_type": "display_data",
          "data": {
            "text/html": [
              "<span style=\"color:blue\"> |-layer_1_units_: 434</span>"
            ],
            "text/plain": [
              "<IPython.core.display.HTML object>"
            ]
          },
          "metadata": {
            "tags": []
          }
        },
        {
          "output_type": "display_data",
          "data": {
            "text/html": [
              "<span style=\"color:cyan\"> |-units: 2560</span>"
            ],
            "text/plain": [
              "<IPython.core.display.HTML object>"
            ]
          },
          "metadata": {
            "tags": []
          }
        },
        {
          "output_type": "stream",
          "text": [
            "Epoch 1/10\n",
            "327/327 [==============================] - 20s 61ms/step - loss: 72604845080576.0000 - mae: 6953059.5000 - val_loss: 59145025748992.0000 - val_mae: 6381780.5000\n",
            "Epoch 2/10\n",
            "327/327 [==============================] - 20s 61ms/step - loss: 50927939616768.0000 - mae: 5516684.0000 - val_loss: 34325890334720.0000 - val_mae: 4524845.5000\n",
            "Epoch 3/10\n",
            "327/327 [==============================] - 20s 61ms/step - loss: 32618902978560.0000 - mae: 4065276.0000 - val_loss: 25329670291456.0000 - val_mae: 3682827.5000\n",
            "Epoch 4/10\n",
            "327/327 [==============================] - 20s 61ms/step - loss: 26349135724544.0000 - mae: 3388927.2500 - val_loss: 20216442519552.0000 - val_mae: 3016290.5000\n",
            "Epoch 5/10\n",
            "327/327 [==============================] - 20s 61ms/step - loss: 22776144461824.0000 - mae: 2980459.7500 - val_loss: 17942834053120.0000 - val_mae: 2790775.0000\n",
            "Epoch 6/10\n",
            "327/327 [==============================] - 20s 61ms/step - loss: 20972400803840.0000 - mae: 2822812.7500 - val_loss: 16446097719296.0000 - val_mae: 2669831.0000\n",
            "Epoch 7/10\n",
            "327/327 [==============================] - 20s 61ms/step - loss: 19346990563328.0000 - mae: 2695343.7500 - val_loss: 15067825307648.0000 - val_mae: 2541332.2500\n",
            "Epoch 8/10\n",
            "327/327 [==============================] - 20s 60ms/step - loss: 17961337225216.0000 - mae: 2573843.7500 - val_loss: 13985591066624.0000 - val_mae: 2426995.7500\n",
            "Epoch 9/10\n",
            "327/327 [==============================] - 20s 61ms/step - loss: 16734592434176.0000 - mae: 2465657.5000 - val_loss: 13154562080768.0000 - val_mae: 2355528.5000\n",
            "Epoch 10/10\n",
            "327/327 [==============================] - 20s 61ms/step - loss: 15793324556288.0000 - mae: 2381782.7500 - val_loss: 12363562483712.0000 - val_mae: 2266790.7500\n"
          ],
          "name": "stdout"
        },
        {
          "output_type": "display_data",
          "data": {
            "text/html": [
              "<span style=\"color:#4527A0\"><h1 style=\"font-size:18px\">Trial complete</h1></span>"
            ],
            "text/plain": [
              "<IPython.core.display.HTML object>"
            ]
          },
          "metadata": {
            "tags": []
          }
        },
        {
          "output_type": "display_data",
          "data": {
            "text/html": [
              "<span style=\"color:#4527A0\"><h1 style=\"font-size:18px\">Trial summary</h1></span>"
            ],
            "text/plain": [
              "<IPython.core.display.HTML object>"
            ]
          },
          "metadata": {
            "tags": []
          }
        },
        {
          "output_type": "display_data",
          "data": {
            "text/html": [
              "<span style=\"color:cyan\"> |-Trial ID: f8fab69ef16d8242be1bc037b66db9ed</span>"
            ],
            "text/plain": [
              "<IPython.core.display.HTML object>"
            ]
          },
          "metadata": {
            "tags": []
          }
        },
        {
          "output_type": "display_data",
          "data": {
            "text/html": [
              "<span style=\"color:cyan\"> |-Score: 2266790.75</span>"
            ],
            "text/plain": [
              "<IPython.core.display.HTML object>"
            ]
          },
          "metadata": {
            "tags": []
          }
        },
        {
          "output_type": "display_data",
          "data": {
            "text/html": [
              "<span style=\"color:cyan\"> |-Best step: 0</span>"
            ],
            "text/plain": [
              "<IPython.core.display.HTML object>"
            ]
          },
          "metadata": {
            "tags": []
          }
        },
        {
          "output_type": "display_data",
          "data": {
            "text/html": [
              "<span style=\"color:#7E57C2\"><h2 style=\"font-size:16px\">Hyperparameters:</h2></span>"
            ],
            "text/plain": [
              "<IPython.core.display.HTML object>"
            ]
          },
          "metadata": {
            "tags": []
          }
        },
        {
          "output_type": "display_data",
          "data": {
            "text/html": [
              "<span style=\"color:cyan\"> |-activation: selu</span>"
            ],
            "text/plain": [
              "<IPython.core.display.HTML object>"
            ]
          },
          "metadata": {
            "tags": []
          }
        },
        {
          "output_type": "display_data",
          "data": {
            "text/html": [
              "<span style=\"color:blue\"> |-hidden_layers: 1</span>"
            ],
            "text/plain": [
              "<IPython.core.display.HTML object>"
            ]
          },
          "metadata": {
            "tags": []
          }
        },
        {
          "output_type": "display_data",
          "data": {
            "text/html": [
              "<span style=\"color:cyan\"> |-layer_0_units_: 553</span>"
            ],
            "text/plain": [
              "<IPython.core.display.HTML object>"
            ]
          },
          "metadata": {
            "tags": []
          }
        },
        {
          "output_type": "display_data",
          "data": {
            "text/html": [
              "<span style=\"color:blue\"> |-layer_1_units_: 434</span>"
            ],
            "text/plain": [
              "<IPython.core.display.HTML object>"
            ]
          },
          "metadata": {
            "tags": []
          }
        },
        {
          "output_type": "display_data",
          "data": {
            "text/html": [
              "<span style=\"color:cyan\"> |-units: 4096</span>"
            ],
            "text/plain": [
              "<IPython.core.display.HTML object>"
            ]
          },
          "metadata": {
            "tags": []
          }
        },
        {
          "output_type": "stream",
          "text": [
            "Epoch 1/10\n",
            "327/327 [==============================] - 10s 31ms/step - loss: 71290014662656.0000 - mae: 6818456.5000 - val_loss: 54310624821248.0000 - val_mae: 5885543.5000\n",
            "Epoch 2/10\n",
            "327/327 [==============================] - 10s 31ms/step - loss: 42388525416448.0000 - mae: 4516300.5000 - val_loss: 24858857570304.0000 - val_mae: 3242276.5000\n",
            "Epoch 3/10\n",
            "327/327 [==============================] - 10s 31ms/step - loss: 25079180165120.0000 - mae: 3003192.7500 - val_loss: 18561076559872.0000 - val_mae: 2673334.7500\n",
            "Epoch 4/10\n",
            "327/327 [==============================] - 10s 31ms/step - loss: 21123248947200.0000 - mae: 2671354.7500 - val_loss: 15790509129728.0000 - val_mae: 2444877.5000\n",
            "Epoch 5/10\n",
            "327/327 [==============================] - 10s 31ms/step - loss: 18847371362304.0000 - mae: 2470737.5000 - val_loss: 13956302241792.0000 - val_mae: 2278071.2500\n",
            "Epoch 6/10\n",
            "327/327 [==============================] - 10s 31ms/step - loss: 17076210106368.0000 - mae: 2317591.5000 - val_loss: 12581942067200.0000 - val_mae: 2138707.2500\n",
            "Epoch 7/10\n",
            "327/327 [==============================] - 10s 31ms/step - loss: 15777760542720.0000 - mae: 2195393.0000 - val_loss: 11603627999232.0000 - val_mae: 2042243.0000\n",
            "Epoch 8/10\n",
            "327/327 [==============================] - 10s 31ms/step - loss: 14772053475328.0000 - mae: 2108757.2500 - val_loss: 10902940155904.0000 - val_mae: 1971188.3750\n",
            "Epoch 9/10\n",
            "327/327 [==============================] - 10s 31ms/step - loss: 14011637694464.0000 - mae: 2039868.7500 - val_loss: 10441941057536.0000 - val_mae: 1932326.3750\n",
            "Epoch 10/10\n",
            "327/327 [==============================] - 10s 31ms/step - loss: 13351471022080.0000 - mae: 1992278.1250 - val_loss: 10176160595968.0000 - val_mae: 1914530.6250\n"
          ],
          "name": "stdout"
        },
        {
          "output_type": "display_data",
          "data": {
            "text/html": [
              "<span style=\"color:#4527A0\"><h1 style=\"font-size:18px\">Trial complete</h1></span>"
            ],
            "text/plain": [
              "<IPython.core.display.HTML object>"
            ]
          },
          "metadata": {
            "tags": []
          }
        },
        {
          "output_type": "display_data",
          "data": {
            "text/html": [
              "<span style=\"color:#4527A0\"><h1 style=\"font-size:18px\">Trial summary</h1></span>"
            ],
            "text/plain": [
              "<IPython.core.display.HTML object>"
            ]
          },
          "metadata": {
            "tags": []
          }
        },
        {
          "output_type": "display_data",
          "data": {
            "text/html": [
              "<span style=\"color:cyan\"> |-Trial ID: 7b89fbf9a5afdd664a15673fd5d41dbc</span>"
            ],
            "text/plain": [
              "<IPython.core.display.HTML object>"
            ]
          },
          "metadata": {
            "tags": []
          }
        },
        {
          "output_type": "display_data",
          "data": {
            "text/html": [
              "<span style=\"color:cyan\"> |-Score: 1914530.625</span>"
            ],
            "text/plain": [
              "<IPython.core.display.HTML object>"
            ]
          },
          "metadata": {
            "tags": []
          }
        },
        {
          "output_type": "display_data",
          "data": {
            "text/html": [
              "<span style=\"color:cyan\"> |-Best step: 0</span>"
            ],
            "text/plain": [
              "<IPython.core.display.HTML object>"
            ]
          },
          "metadata": {
            "tags": []
          }
        },
        {
          "output_type": "display_data",
          "data": {
            "text/html": [
              "<span style=\"color:#7E57C2\"><h2 style=\"font-size:16px\">Hyperparameters:</h2></span>"
            ],
            "text/plain": [
              "<IPython.core.display.HTML object>"
            ]
          },
          "metadata": {
            "tags": []
          }
        },
        {
          "output_type": "display_data",
          "data": {
            "text/html": [
              "<span style=\"color:cyan\"> |-activation: relu</span>"
            ],
            "text/plain": [
              "<IPython.core.display.HTML object>"
            ]
          },
          "metadata": {
            "tags": []
          }
        },
        {
          "output_type": "display_data",
          "data": {
            "text/html": [
              "<span style=\"color:blue\"> |-hidden_layers: 1</span>"
            ],
            "text/plain": [
              "<IPython.core.display.HTML object>"
            ]
          },
          "metadata": {
            "tags": []
          }
        },
        {
          "output_type": "display_data",
          "data": {
            "text/html": [
              "<span style=\"color:cyan\"> |-layer_0_units_: 1185</span>"
            ],
            "text/plain": [
              "<IPython.core.display.HTML object>"
            ]
          },
          "metadata": {
            "tags": []
          }
        },
        {
          "output_type": "display_data",
          "data": {
            "text/html": [
              "<span style=\"color:blue\"> |-layer_1_units_: 276</span>"
            ],
            "text/plain": [
              "<IPython.core.display.HTML object>"
            ]
          },
          "metadata": {
            "tags": []
          }
        },
        {
          "output_type": "display_data",
          "data": {
            "text/html": [
              "<span style=\"color:cyan\"> |-units: 1024</span>"
            ],
            "text/plain": [
              "<IPython.core.display.HTML object>"
            ]
          },
          "metadata": {
            "tags": []
          }
        },
        {
          "output_type": "stream",
          "text": [
            "Epoch 1/10\n",
            "327/327 [==============================] - 11s 35ms/step - loss: 42120350007296.0000 - mae: 4635747.5000 - val_loss: 19360697548800.0000 - val_mae: 2868012.2500\n",
            "Epoch 2/10\n",
            "327/327 [==============================] - 12s 35ms/step - loss: 19452106113024.0000 - mae: 2719484.2500 - val_loss: 13548372623360.0000 - val_mae: 2432955.5000\n",
            "Epoch 3/10\n",
            "327/327 [==============================] - 12s 35ms/step - loss: 15031175479296.0000 - mae: 2339366.0000 - val_loss: 11333301960704.0000 - val_mae: 2165237.7500\n",
            "Epoch 4/10\n",
            "327/327 [==============================] - 12s 35ms/step - loss: 13269606596608.0000 - mae: 2174393.2500 - val_loss: 10156360335360.0000 - val_mae: 2029266.3750\n",
            "Epoch 5/10\n",
            "327/327 [==============================] - 11s 34ms/step - loss: 12089813893120.0000 - mae: 2034105.7500 - val_loss: 9235555418112.0000 - val_mae: 1890063.0000\n",
            "Epoch 6/10\n",
            "327/327 [==============================] - 11s 34ms/step - loss: 11031495573504.0000 - mae: 1883780.1250 - val_loss: 8508533112832.0000 - val_mae: 1769485.1250\n",
            "Epoch 7/10\n",
            "327/327 [==============================] - 11s 34ms/step - loss: 10477285408768.0000 - mae: 1805535.1250 - val_loss: 8813565444096.0000 - val_mae: 1769556.2500\n",
            "Epoch 8/10\n",
            "327/327 [==============================] - 11s 34ms/step - loss: 10140075950080.0000 - mae: 1765525.7500 - val_loss: 7940118937600.0000 - val_mae: 1703651.2500\n",
            "Epoch 9/10\n",
            "327/327 [==============================] - 11s 34ms/step - loss: 9856905904128.0000 - mae: 1730718.5000 - val_loss: 7855808708608.0000 - val_mae: 1661221.3750\n",
            "Epoch 10/10\n",
            "327/327 [==============================] - 11s 35ms/step - loss: 9601451819008.0000 - mae: 1708806.6250 - val_loss: 7585269284864.0000 - val_mae: 1679262.3750\n"
          ],
          "name": "stdout"
        },
        {
          "output_type": "display_data",
          "data": {
            "text/html": [
              "<span style=\"color:#4527A0\"><h1 style=\"font-size:18px\">Trial complete</h1></span>"
            ],
            "text/plain": [
              "<IPython.core.display.HTML object>"
            ]
          },
          "metadata": {
            "tags": []
          }
        },
        {
          "output_type": "display_data",
          "data": {
            "text/html": [
              "<span style=\"color:#4527A0\"><h1 style=\"font-size:18px\">Trial summary</h1></span>"
            ],
            "text/plain": [
              "<IPython.core.display.HTML object>"
            ]
          },
          "metadata": {
            "tags": []
          }
        },
        {
          "output_type": "display_data",
          "data": {
            "text/html": [
              "<span style=\"color:cyan\"> |-Trial ID: d6bfb8a63fc58af858086cf82ad8a296</span>"
            ],
            "text/plain": [
              "<IPython.core.display.HTML object>"
            ]
          },
          "metadata": {
            "tags": []
          }
        },
        {
          "output_type": "display_data",
          "data": {
            "text/html": [
              "<span style=\"color:cyan\"> |-Score: 1661221.375</span>"
            ],
            "text/plain": [
              "<IPython.core.display.HTML object>"
            ]
          },
          "metadata": {
            "tags": []
          }
        },
        {
          "output_type": "display_data",
          "data": {
            "text/html": [
              "<span style=\"color:cyan\"> |-Best step: 0</span>"
            ],
            "text/plain": [
              "<IPython.core.display.HTML object>"
            ]
          },
          "metadata": {
            "tags": []
          }
        },
        {
          "output_type": "display_data",
          "data": {
            "text/html": [
              "<span style=\"color:#7E57C2\"><h2 style=\"font-size:16px\">Hyperparameters:</h2></span>"
            ],
            "text/plain": [
              "<IPython.core.display.HTML object>"
            ]
          },
          "metadata": {
            "tags": []
          }
        },
        {
          "output_type": "display_data",
          "data": {
            "text/html": [
              "<span style=\"color:cyan\"> |-activation: elu</span>"
            ],
            "text/plain": [
              "<IPython.core.display.HTML object>"
            ]
          },
          "metadata": {
            "tags": []
          }
        },
        {
          "output_type": "display_data",
          "data": {
            "text/html": [
              "<span style=\"color:blue\"> |-hidden_layers: 2</span>"
            ],
            "text/plain": [
              "<IPython.core.display.HTML object>"
            ]
          },
          "metadata": {
            "tags": []
          }
        },
        {
          "output_type": "display_data",
          "data": {
            "text/html": [
              "<span style=\"color:cyan\"> |-layer_0_units_: 553</span>"
            ],
            "text/plain": [
              "<IPython.core.display.HTML object>"
            ]
          },
          "metadata": {
            "tags": []
          }
        },
        {
          "output_type": "display_data",
          "data": {
            "text/html": [
              "<span style=\"color:blue\"> |-layer_1_units_: 592</span>"
            ],
            "text/plain": [
              "<IPython.core.display.HTML object>"
            ]
          },
          "metadata": {
            "tags": []
          }
        },
        {
          "output_type": "display_data",
          "data": {
            "text/html": [
              "<span style=\"color:cyan\"> |-units: 1792</span>"
            ],
            "text/plain": [
              "<IPython.core.display.HTML object>"
            ]
          },
          "metadata": {
            "tags": []
          }
        },
        {
          "output_type": "stream",
          "text": [
            "Epoch 1/10\n",
            "327/327 [==============================] - 23s 70ms/step - loss: 39429594939392.0000 - mae: 4379582.5000 - val_loss: 17895109165056.0000 - val_mae: 2831003.2500\n",
            "Epoch 2/10\n",
            "327/327 [==============================] - 23s 70ms/step - loss: 17967681110016.0000 - mae: 2578045.7500 - val_loss: 12280772165632.0000 - val_mae: 2246556.0000\n",
            "Epoch 3/10\n",
            "327/327 [==============================] - 23s 70ms/step - loss: 14169048875008.0000 - mae: 2240850.0000 - val_loss: 10565010325504.0000 - val_mae: 2095469.2500\n",
            "Epoch 4/10\n",
            "327/327 [==============================] - 23s 70ms/step - loss: 12420682612736.0000 - mae: 2064832.1250 - val_loss: 9404204187648.0000 - val_mae: 1922553.6250\n",
            "Epoch 5/10\n",
            "327/327 [==============================] - 22s 68ms/step - loss: 11298986262528.0000 - mae: 1915479.5000 - val_loss: 8941748617216.0000 - val_mae: 1808828.1250\n",
            "Epoch 6/10\n",
            "327/327 [==============================] - 23s 69ms/step - loss: 10555862548480.0000 - mae: 1810700.8750 - val_loss: 8666808320000.0000 - val_mae: 1751900.6250\n",
            "Epoch 7/10\n",
            "327/327 [==============================] - 22s 69ms/step - loss: 10143572951040.0000 - mae: 1758223.5000 - val_loss: 7939843686400.0000 - val_mae: 1707286.3750\n",
            "Epoch 8/10\n",
            "327/327 [==============================] - 22s 68ms/step - loss: 9768960786432.0000 - mae: 1717173.5000 - val_loss: 7845310365696.0000 - val_mae: 1639798.2500\n",
            "Epoch 9/10\n",
            "327/327 [==============================] - 22s 68ms/step - loss: 9577282142208.0000 - mae: 1695539.3750 - val_loss: 7570640601088.0000 - val_mae: 1611076.0000\n",
            "Epoch 10/10\n",
            "327/327 [==============================] - 23s 69ms/step - loss: 9312814497792.0000 - mae: 1664877.7500 - val_loss: 7382404431872.0000 - val_mae: 1576637.8750\n"
          ],
          "name": "stdout"
        },
        {
          "output_type": "display_data",
          "data": {
            "text/html": [
              "<span style=\"color:#4527A0\"><h1 style=\"font-size:18px\">Trial complete</h1></span>"
            ],
            "text/plain": [
              "<IPython.core.display.HTML object>"
            ]
          },
          "metadata": {
            "tags": []
          }
        },
        {
          "output_type": "display_data",
          "data": {
            "text/html": [
              "<span style=\"color:#4527A0\"><h1 style=\"font-size:18px\">Trial summary</h1></span>"
            ],
            "text/plain": [
              "<IPython.core.display.HTML object>"
            ]
          },
          "metadata": {
            "tags": []
          }
        },
        {
          "output_type": "display_data",
          "data": {
            "text/html": [
              "<span style=\"color:cyan\"> |-Trial ID: 1a7ed91aa0e2460d64a32d4033fca7a0</span>"
            ],
            "text/plain": [
              "<IPython.core.display.HTML object>"
            ]
          },
          "metadata": {
            "tags": []
          }
        },
        {
          "output_type": "display_data",
          "data": {
            "text/html": [
              "<span style=\"color:cyan\"> |-Score: 1576637.875</span>"
            ],
            "text/plain": [
              "<IPython.core.display.HTML object>"
            ]
          },
          "metadata": {
            "tags": []
          }
        },
        {
          "output_type": "display_data",
          "data": {
            "text/html": [
              "<span style=\"color:cyan\"> |-Best step: 0</span>"
            ],
            "text/plain": [
              "<IPython.core.display.HTML object>"
            ]
          },
          "metadata": {
            "tags": []
          }
        },
        {
          "output_type": "display_data",
          "data": {
            "text/html": [
              "<span style=\"color:#7E57C2\"><h2 style=\"font-size:16px\">Hyperparameters:</h2></span>"
            ],
            "text/plain": [
              "<IPython.core.display.HTML object>"
            ]
          },
          "metadata": {
            "tags": []
          }
        },
        {
          "output_type": "display_data",
          "data": {
            "text/html": [
              "<span style=\"color:cyan\"> |-activation: elu</span>"
            ],
            "text/plain": [
              "<IPython.core.display.HTML object>"
            ]
          },
          "metadata": {
            "tags": []
          }
        },
        {
          "output_type": "display_data",
          "data": {
            "text/html": [
              "<span style=\"color:blue\"> |-hidden_layers: 2</span>"
            ],
            "text/plain": [
              "<IPython.core.display.HTML object>"
            ]
          },
          "metadata": {
            "tags": []
          }
        },
        {
          "output_type": "display_data",
          "data": {
            "text/html": [
              "<span style=\"color:cyan\"> |-layer_0_units_: 1185</span>"
            ],
            "text/plain": [
              "<IPython.core.display.HTML object>"
            ]
          },
          "metadata": {
            "tags": []
          }
        },
        {
          "output_type": "display_data",
          "data": {
            "text/html": [
              "<span style=\"color:blue\"> |-layer_1_units_: 276</span>"
            ],
            "text/plain": [
              "<IPython.core.display.HTML object>"
            ]
          },
          "metadata": {
            "tags": []
          }
        },
        {
          "output_type": "display_data",
          "data": {
            "text/html": [
              "<span style=\"color:cyan\"> |-units: 2560</span>"
            ],
            "text/plain": [
              "<IPython.core.display.HTML object>"
            ]
          },
          "metadata": {
            "tags": []
          }
        },
        {
          "output_type": "stream",
          "text": [
            "Epoch 1/10\n",
            "327/327 [==============================] - 11s 32ms/step - loss: 43329626570752.0000 - mae: 4578167.5000 - val_loss: 17968633217024.0000 - val_mae: 2664073.5000\n",
            "Epoch 2/10\n",
            "327/327 [==============================] - 10s 31ms/step - loss: 18507997642752.0000 - mae: 2449759.7500 - val_loss: 12184883036160.0000 - val_mae: 2114410.5000\n",
            "Epoch 3/10\n",
            "327/327 [==============================] - 10s 32ms/step - loss: 14412314312704.0000 - mae: 2081349.1250 - val_loss: 10125574144000.0000 - val_mae: 1918870.3750\n",
            "Epoch 4/10\n",
            "327/327 [==============================] - 10s 32ms/step - loss: 12634715848704.0000 - mae: 1933159.8750 - val_loss: 9369934626816.0000 - val_mae: 1842203.5000\n",
            "Epoch 5/10\n",
            "327/327 [==============================] - 11s 32ms/step - loss: 11736227774464.0000 - mae: 1867956.7500 - val_loss: 8956150808576.0000 - val_mae: 1815487.0000\n",
            "Epoch 6/10\n",
            "327/327 [==============================] - 10s 32ms/step - loss: 11083297325056.0000 - mae: 1815651.8750 - val_loss: 8640624852992.0000 - val_mae: 1784926.7500\n",
            "Epoch 7/10\n",
            "327/327 [==============================] - 11s 32ms/step - loss: 10706969690112.0000 - mae: 1778671.5000 - val_loss: 8309735161856.0000 - val_mae: 1717953.3750\n",
            "Epoch 8/10\n",
            "327/327 [==============================] - 11s 33ms/step - loss: 10403930177536.0000 - mae: 1744570.0000 - val_loss: 8089241124864.0000 - val_mae: 1680960.7500\n",
            "Epoch 9/10\n",
            "327/327 [==============================] - 11s 33ms/step - loss: 10105112231936.0000 - mae: 1715403.2500 - val_loss: 7925230731264.0000 - val_mae: 1668253.7500\n",
            "Epoch 10/10\n",
            "327/327 [==============================] - 11s 32ms/step - loss: 9935609921536.0000 - mae: 1696582.5000 - val_loss: 7775816515584.0000 - val_mae: 1652687.2500\n"
          ],
          "name": "stdout"
        },
        {
          "output_type": "display_data",
          "data": {
            "text/html": [
              "<span style=\"color:#4527A0\"><h1 style=\"font-size:18px\">Trial complete</h1></span>"
            ],
            "text/plain": [
              "<IPython.core.display.HTML object>"
            ]
          },
          "metadata": {
            "tags": []
          }
        },
        {
          "output_type": "display_data",
          "data": {
            "text/html": [
              "<span style=\"color:#4527A0\"><h1 style=\"font-size:18px\">Trial summary</h1></span>"
            ],
            "text/plain": [
              "<IPython.core.display.HTML object>"
            ]
          },
          "metadata": {
            "tags": []
          }
        },
        {
          "output_type": "display_data",
          "data": {
            "text/html": [
              "<span style=\"color:cyan\"> |-Trial ID: b056fa0e9d9735f3e4a302ff8c46128b</span>"
            ],
            "text/plain": [
              "<IPython.core.display.HTML object>"
            ]
          },
          "metadata": {
            "tags": []
          }
        },
        {
          "output_type": "display_data",
          "data": {
            "text/html": [
              "<span style=\"color:cyan\"> |-Score: 1652687.25</span>"
            ],
            "text/plain": [
              "<IPython.core.display.HTML object>"
            ]
          },
          "metadata": {
            "tags": []
          }
        },
        {
          "output_type": "display_data",
          "data": {
            "text/html": [
              "<span style=\"color:cyan\"> |-Best step: 0</span>"
            ],
            "text/plain": [
              "<IPython.core.display.HTML object>"
            ]
          },
          "metadata": {
            "tags": []
          }
        },
        {
          "output_type": "display_data",
          "data": {
            "text/html": [
              "<span style=\"color:#7E57C2\"><h2 style=\"font-size:16px\">Hyperparameters:</h2></span>"
            ],
            "text/plain": [
              "<IPython.core.display.HTML object>"
            ]
          },
          "metadata": {
            "tags": []
          }
        },
        {
          "output_type": "display_data",
          "data": {
            "text/html": [
              "<span style=\"color:cyan\"> |-activation: relu</span>"
            ],
            "text/plain": [
              "<IPython.core.display.HTML object>"
            ]
          },
          "metadata": {
            "tags": []
          }
        },
        {
          "output_type": "display_data",
          "data": {
            "text/html": [
              "<span style=\"color:blue\"> |-hidden_layers: 2</span>"
            ],
            "text/plain": [
              "<IPython.core.display.HTML object>"
            ]
          },
          "metadata": {
            "tags": []
          }
        },
        {
          "output_type": "display_data",
          "data": {
            "text/html": [
              "<span style=\"color:cyan\"> |-layer_0_units_: 237</span>"
            ],
            "text/plain": [
              "<IPython.core.display.HTML object>"
            ]
          },
          "metadata": {
            "tags": []
          }
        },
        {
          "output_type": "display_data",
          "data": {
            "text/html": [
              "<span style=\"color:blue\"> |-layer_1_units_: 276</span>"
            ],
            "text/plain": [
              "<IPython.core.display.HTML object>"
            ]
          },
          "metadata": {
            "tags": []
          }
        },
        {
          "output_type": "display_data",
          "data": {
            "text/html": [
              "<span style=\"color:cyan\"> |-units: 3328</span>"
            ],
            "text/plain": [
              "<IPython.core.display.HTML object>"
            ]
          },
          "metadata": {
            "tags": []
          }
        },
        {
          "output_type": "stream",
          "text": [
            "Epoch 1/10\n",
            "327/327 [==============================] - 20s 63ms/step - loss: 32413323362304.0000 - mae: 3665256.5000 - val_loss: 13385106194432.0000 - val_mae: 2229907.5000\n",
            "Epoch 2/10\n",
            "327/327 [==============================] - 20s 61ms/step - loss: 14495675056128.0000 - mae: 2120497.5000 - val_loss: 9790254219264.0000 - val_mae: 1904949.5000\n",
            "Epoch 3/10\n",
            "327/327 [==============================] - 20s 61ms/step - loss: 11924719796224.0000 - mae: 1894468.8750 - val_loss: 8852236926976.0000 - val_mae: 1811221.6250\n",
            "Epoch 4/10\n",
            "327/327 [==============================] - 20s 61ms/step - loss: 11039427002368.0000 - mae: 1819912.6250 - val_loss: 8711309885440.0000 - val_mae: 1803173.1250\n",
            "Epoch 5/10\n",
            "327/327 [==============================] - 20s 62ms/step - loss: 10500544921600.0000 - mae: 1767482.6250 - val_loss: 8074969481216.0000 - val_mae: 1689698.0000\n",
            "Epoch 6/10\n",
            "327/327 [==============================] - 20s 61ms/step - loss: 10091931631616.0000 - mae: 1726588.7500 - val_loss: 7813206638592.0000 - val_mae: 1644890.5000\n",
            "Epoch 7/10\n",
            "327/327 [==============================] - 20s 60ms/step - loss: 9783369269248.0000 - mae: 1680210.7500 - val_loss: 7616555122688.0000 - val_mae: 1648802.0000\n",
            "Epoch 8/10\n",
            "327/327 [==============================] - 20s 60ms/step - loss: 9592868175872.0000 - mae: 1661455.0000 - val_loss: 7534777204736.0000 - val_mae: 1619536.6250\n",
            "Epoch 9/10\n",
            "327/327 [==============================] - 20s 61ms/step - loss: 9371724546048.0000 - mae: 1641237.3750 - val_loss: 7451095072768.0000 - val_mae: 1629194.5000\n",
            "Epoch 10/10\n",
            "327/327 [==============================] - 20s 61ms/step - loss: 9275964391424.0000 - mae: 1631574.8750 - val_loss: 7492331896832.0000 - val_mae: 1614436.3750\n"
          ],
          "name": "stdout"
        },
        {
          "output_type": "display_data",
          "data": {
            "text/html": [
              "<span style=\"color:#4527A0\"><h1 style=\"font-size:18px\">Trial complete</h1></span>"
            ],
            "text/plain": [
              "<IPython.core.display.HTML object>"
            ]
          },
          "metadata": {
            "tags": []
          }
        },
        {
          "output_type": "display_data",
          "data": {
            "text/html": [
              "<span style=\"color:#4527A0\"><h1 style=\"font-size:18px\">Trial summary</h1></span>"
            ],
            "text/plain": [
              "<IPython.core.display.HTML object>"
            ]
          },
          "metadata": {
            "tags": []
          }
        },
        {
          "output_type": "display_data",
          "data": {
            "text/html": [
              "<span style=\"color:cyan\"> |-Trial ID: 1cadb4880e725fd236a7b1b50dc11a72</span>"
            ],
            "text/plain": [
              "<IPython.core.display.HTML object>"
            ]
          },
          "metadata": {
            "tags": []
          }
        },
        {
          "output_type": "display_data",
          "data": {
            "text/html": [
              "<span style=\"color:cyan\"> |-Score: 1614436.375</span>"
            ],
            "text/plain": [
              "<IPython.core.display.HTML object>"
            ]
          },
          "metadata": {
            "tags": []
          }
        },
        {
          "output_type": "display_data",
          "data": {
            "text/html": [
              "<span style=\"color:cyan\"> |-Best step: 0</span>"
            ],
            "text/plain": [
              "<IPython.core.display.HTML object>"
            ]
          },
          "metadata": {
            "tags": []
          }
        },
        {
          "output_type": "display_data",
          "data": {
            "text/html": [
              "<span style=\"color:#7E57C2\"><h2 style=\"font-size:16px\">Hyperparameters:</h2></span>"
            ],
            "text/plain": [
              "<IPython.core.display.HTML object>"
            ]
          },
          "metadata": {
            "tags": []
          }
        },
        {
          "output_type": "display_data",
          "data": {
            "text/html": [
              "<span style=\"color:cyan\"> |-activation: relu</span>"
            ],
            "text/plain": [
              "<IPython.core.display.HTML object>"
            ]
          },
          "metadata": {
            "tags": []
          }
        },
        {
          "output_type": "display_data",
          "data": {
            "text/html": [
              "<span style=\"color:blue\"> |-hidden_layers: 2</span>"
            ],
            "text/plain": [
              "<IPython.core.display.HTML object>"
            ]
          },
          "metadata": {
            "tags": []
          }
        },
        {
          "output_type": "display_data",
          "data": {
            "text/html": [
              "<span style=\"color:cyan\"> |-layer_0_units_: 869</span>"
            ],
            "text/plain": [
              "<IPython.core.display.HTML object>"
            ]
          },
          "metadata": {
            "tags": []
          }
        },
        {
          "output_type": "display_data",
          "data": {
            "text/html": [
              "<span style=\"color:blue\"> |-layer_1_units_: 592</span>"
            ],
            "text/plain": [
              "<IPython.core.display.HTML object>"
            ]
          },
          "metadata": {
            "tags": []
          }
        },
        {
          "output_type": "display_data",
          "data": {
            "text/html": [
              "<span style=\"color:cyan\"> |-units: 2560</span>"
            ],
            "text/plain": [
              "<IPython.core.display.HTML object>"
            ]
          },
          "metadata": {
            "tags": []
          }
        },
        {
          "output_type": "stream",
          "text": [
            "Epoch 1/10\n",
            "327/327 [==============================] - 14s 42ms/step - loss: 44513988968448.0000 - mae: 5021546.0000 - val_loss: 24465930977280.0000 - val_mae: 3703673.0000\n",
            "Epoch 2/10\n",
            "327/327 [==============================] - 13s 41ms/step - loss: 21158896336896.0000 - mae: 2957922.5000 - val_loss: 13679821062144.0000 - val_mae: 2411234.2500\n",
            "Epoch 3/10\n",
            "327/327 [==============================] - 13s 41ms/step - loss: 15346034540544.0000 - mae: 2340785.2500 - val_loss: 11084373164032.0000 - val_mae: 2126432.5000\n",
            "Epoch 4/10\n",
            "327/327 [==============================] - 14s 42ms/step - loss: 13351830683648.0000 - mae: 2179226.7500 - val_loss: 10100464943104.0000 - val_mae: 2050431.2500\n",
            "Epoch 5/10\n",
            "327/327 [==============================] - 13s 41ms/step - loss: 12417636499456.0000 - mae: 2102081.5000 - val_loss: 9608993177600.0000 - val_mae: 1993985.2500\n",
            "Epoch 6/10\n",
            "327/327 [==============================] - 14s 42ms/step - loss: 11824614342656.0000 - mae: 2049503.3750 - val_loss: 9392582819840.0000 - val_mae: 1987786.5000\n",
            "Epoch 7/10\n",
            "327/327 [==============================] - 14s 42ms/step - loss: 11330605023232.0000 - mae: 2001042.2500 - val_loss: 8912627564544.0000 - val_mae: 1926067.5000\n",
            "Epoch 8/10\n",
            "327/327 [==============================] - 14s 42ms/step - loss: 10980027269120.0000 - mae: 1967958.3750 - val_loss: 8695423434752.0000 - val_mae: 1895898.6250\n",
            "Epoch 9/10\n",
            "327/327 [==============================] - 14s 42ms/step - loss: 10868306739200.0000 - mae: 1944423.3750 - val_loss: 8577332281344.0000 - val_mae: 1860434.1250\n",
            "Epoch 10/10\n",
            "327/327 [==============================] - 13s 40ms/step - loss: 13647367634944.0000 - mae: 1991828.8750 - val_loss: 9662872158208.0000 - val_mae: 1907377.0000\n"
          ],
          "name": "stdout"
        },
        {
          "output_type": "display_data",
          "data": {
            "text/html": [
              "<span style=\"color:#4527A0\"><h1 style=\"font-size:18px\">Trial complete</h1></span>"
            ],
            "text/plain": [
              "<IPython.core.display.HTML object>"
            ]
          },
          "metadata": {
            "tags": []
          }
        },
        {
          "output_type": "display_data",
          "data": {
            "text/html": [
              "<span style=\"color:#4527A0\"><h1 style=\"font-size:18px\">Trial summary</h1></span>"
            ],
            "text/plain": [
              "<IPython.core.display.HTML object>"
            ]
          },
          "metadata": {
            "tags": []
          }
        },
        {
          "output_type": "display_data",
          "data": {
            "text/html": [
              "<span style=\"color:cyan\"> |-Trial ID: 9ee4f198834c959dd7a0bc6952334d53</span>"
            ],
            "text/plain": [
              "<IPython.core.display.HTML object>"
            ]
          },
          "metadata": {
            "tags": []
          }
        },
        {
          "output_type": "display_data",
          "data": {
            "text/html": [
              "<span style=\"color:cyan\"> |-Score: 1860434.125</span>"
            ],
            "text/plain": [
              "<IPython.core.display.HTML object>"
            ]
          },
          "metadata": {
            "tags": []
          }
        },
        {
          "output_type": "display_data",
          "data": {
            "text/html": [
              "<span style=\"color:cyan\"> |-Best step: 0</span>"
            ],
            "text/plain": [
              "<IPython.core.display.HTML object>"
            ]
          },
          "metadata": {
            "tags": []
          }
        },
        {
          "output_type": "display_data",
          "data": {
            "text/html": [
              "<span style=\"color:#7E57C2\"><h2 style=\"font-size:16px\">Hyperparameters:</h2></span>"
            ],
            "text/plain": [
              "<IPython.core.display.HTML object>"
            ]
          },
          "metadata": {
            "tags": []
          }
        },
        {
          "output_type": "display_data",
          "data": {
            "text/html": [
              "<span style=\"color:cyan\"> |-activation: selu</span>"
            ],
            "text/plain": [
              "<IPython.core.display.HTML object>"
            ]
          },
          "metadata": {
            "tags": []
          }
        },
        {
          "output_type": "display_data",
          "data": {
            "text/html": [
              "<span style=\"color:blue\"> |-hidden_layers: 2</span>"
            ],
            "text/plain": [
              "<IPython.core.display.HTML object>"
            ]
          },
          "metadata": {
            "tags": []
          }
        },
        {
          "output_type": "display_data",
          "data": {
            "text/html": [
              "<span style=\"color:cyan\"> |-layer_0_units_: 1185</span>"
            ],
            "text/plain": [
              "<IPython.core.display.HTML object>"
            ]
          },
          "metadata": {
            "tags": []
          }
        },
        {
          "output_type": "display_data",
          "data": {
            "text/html": [
              "<span style=\"color:blue\"> |-layer_1_units_: 592</span>"
            ],
            "text/plain": [
              "<IPython.core.display.HTML object>"
            ]
          },
          "metadata": {
            "tags": []
          }
        },
        {
          "output_type": "display_data",
          "data": {
            "text/html": [
              "<span style=\"color:cyan\"> |-units: 1024</span>"
            ],
            "text/plain": [
              "<IPython.core.display.HTML object>"
            ]
          },
          "metadata": {
            "tags": []
          }
        },
        {
          "output_type": "stream",
          "text": [
            "Epoch 1/10\n",
            "327/327 [==============================] - 36s 109ms/step - loss: 60472602656768.0000 - mae: 5912826.0000 - val_loss: 30031787065344.0000 - val_mae: 3709319.5000\n",
            "Epoch 2/10\n",
            "327/327 [==============================] - 36s 110ms/step - loss: 25225626386432.0000 - mae: 2995852.5000 - val_loss: 17278392336384.0000 - val_mae: 2563322.2500\n",
            "Epoch 3/10\n",
            "327/327 [==============================] - 36s 110ms/step - loss: 19405291388928.0000 - mae: 2503790.0000 - val_loss: 13797053956096.0000 - val_mae: 2236554.7500\n",
            "Epoch 4/10\n",
            "327/327 [==============================] - 36s 109ms/step - loss: 16615555989504.0000 - mae: 2245580.0000 - val_loss: 11858048188416.0000 - val_mae: 2069190.2500\n",
            "Epoch 5/10\n",
            "327/327 [==============================] - 35s 108ms/step - loss: 14813849714688.0000 - mae: 2088466.0000 - val_loss: 10704594665472.0000 - val_mae: 1938194.2500\n",
            "Epoch 6/10\n",
            "327/327 [==============================] - 36s 109ms/step - loss: 13719009492992.0000 - mae: 1998857.6250 - val_loss: 10121473163264.0000 - val_mae: 1883672.0000\n",
            "Epoch 7/10\n",
            "327/327 [==============================] - 36s 109ms/step - loss: 13052823994368.0000 - mae: 1940818.6250 - val_loss: 9805515194368.0000 - val_mae: 1859730.3750\n",
            "Epoch 8/10\n",
            "327/327 [==============================] - 36s 110ms/step - loss: 12543638634496.0000 - mae: 1905750.6250 - val_loss: 9523589808128.0000 - val_mae: 1867567.0000\n",
            "Epoch 9/10\n",
            "327/327 [==============================] - 36s 109ms/step - loss: 12120476352512.0000 - mae: 1878041.1250 - val_loss: 9218520252416.0000 - val_mae: 1797779.1250\n",
            "Epoch 10/10\n",
            "327/327 [==============================] - 36s 109ms/step - loss: 11736337874944.0000 - mae: 1845489.1250 - val_loss: 9054728486912.0000 - val_mae: 1793952.7500\n"
          ],
          "name": "stdout"
        },
        {
          "output_type": "display_data",
          "data": {
            "text/html": [
              "<span style=\"color:#4527A0\"><h1 style=\"font-size:18px\">Trial complete</h1></span>"
            ],
            "text/plain": [
              "<IPython.core.display.HTML object>"
            ]
          },
          "metadata": {
            "tags": []
          }
        },
        {
          "output_type": "display_data",
          "data": {
            "text/html": [
              "<span style=\"color:#4527A0\"><h1 style=\"font-size:18px\">Trial summary</h1></span>"
            ],
            "text/plain": [
              "<IPython.core.display.HTML object>"
            ]
          },
          "metadata": {
            "tags": []
          }
        },
        {
          "output_type": "display_data",
          "data": {
            "text/html": [
              "<span style=\"color:cyan\"> |-Trial ID: 1fa11f024fa01d36aae6ce7da723beaf</span>"
            ],
            "text/plain": [
              "<IPython.core.display.HTML object>"
            ]
          },
          "metadata": {
            "tags": []
          }
        },
        {
          "output_type": "display_data",
          "data": {
            "text/html": [
              "<span style=\"color:cyan\"> |-Score: 1793952.75</span>"
            ],
            "text/plain": [
              "<IPython.core.display.HTML object>"
            ]
          },
          "metadata": {
            "tags": []
          }
        },
        {
          "output_type": "display_data",
          "data": {
            "text/html": [
              "<span style=\"color:cyan\"> |-Best step: 0</span>"
            ],
            "text/plain": [
              "<IPython.core.display.HTML object>"
            ]
          },
          "metadata": {
            "tags": []
          }
        },
        {
          "output_type": "display_data",
          "data": {
            "text/html": [
              "<span style=\"color:#7E57C2\"><h2 style=\"font-size:16px\">Hyperparameters:</h2></span>"
            ],
            "text/plain": [
              "<IPython.core.display.HTML object>"
            ]
          },
          "metadata": {
            "tags": []
          }
        },
        {
          "output_type": "display_data",
          "data": {
            "text/html": [
              "<span style=\"color:cyan\"> |-activation: relu</span>"
            ],
            "text/plain": [
              "<IPython.core.display.HTML object>"
            ]
          },
          "metadata": {
            "tags": []
          }
        },
        {
          "output_type": "display_data",
          "data": {
            "text/html": [
              "<span style=\"color:blue\"> |-hidden_layers: 1</span>"
            ],
            "text/plain": [
              "<IPython.core.display.HTML object>"
            ]
          },
          "metadata": {
            "tags": []
          }
        },
        {
          "output_type": "display_data",
          "data": {
            "text/html": [
              "<span style=\"color:cyan\"> |-layer_0_units_: 1185</span>"
            ],
            "text/plain": [
              "<IPython.core.display.HTML object>"
            ]
          },
          "metadata": {
            "tags": []
          }
        },
        {
          "output_type": "display_data",
          "data": {
            "text/html": [
              "<span style=\"color:blue\"> |-layer_1_units_: 118</span>"
            ],
            "text/plain": [
              "<IPython.core.display.HTML object>"
            ]
          },
          "metadata": {
            "tags": []
          }
        },
        {
          "output_type": "display_data",
          "data": {
            "text/html": [
              "<span style=\"color:cyan\"> |-units: 4864</span>"
            ],
            "text/plain": [
              "<IPython.core.display.HTML object>"
            ]
          },
          "metadata": {
            "tags": []
          }
        },
        {
          "output_type": "stream",
          "text": [
            "Epoch 1/10\n",
            "327/327 [==============================] - 20s 61ms/step - loss: 28188482732032.0000 - mae: 3485995.7500 - val_loss: 13217500758016.0000 - val_mae: 2361621.0000\n",
            "Epoch 2/10\n",
            "327/327 [==============================] - 20s 61ms/step - loss: 14396321431552.0000 - mae: 2272005.2500 - val_loss: 10321900077056.0000 - val_mae: 2078175.3750\n",
            "Epoch 3/10\n",
            "327/327 [==============================] - 20s 62ms/step - loss: 12367218868224.0000 - mae: 2089008.3750 - val_loss: 9227714166784.0000 - val_mae: 1952287.5000\n",
            "Epoch 4/10\n",
            "327/327 [==============================] - 20s 61ms/step - loss: 11175924334592.0000 - mae: 1937495.5000 - val_loss: 8298871914496.0000 - val_mae: 1741469.3750\n",
            "Epoch 5/10\n",
            "327/327 [==============================] - 20s 61ms/step - loss: 10282358276096.0000 - mae: 1809751.3750 - val_loss: 7783280803840.0000 - val_mae: 1679325.1250\n",
            "Epoch 6/10\n",
            "327/327 [==============================] - 20s 61ms/step - loss: 9721012551680.0000 - mae: 1730738.7500 - val_loss: 7564282560512.0000 - val_mae: 1658000.6250\n",
            "Epoch 7/10\n",
            "327/327 [==============================] - 20s 61ms/step - loss: 9537548451840.0000 - mae: 1705913.0000 - val_loss: 7355845574656.0000 - val_mae: 1653963.8750\n",
            "Epoch 8/10\n",
            "327/327 [==============================] - 20s 61ms/step - loss: 9135923920896.0000 - mae: 1676098.3750 - val_loss: 7289010913280.0000 - val_mae: 1607457.5000\n",
            "Epoch 9/10\n",
            "327/327 [==============================] - 20s 61ms/step - loss: 8972732989440.0000 - mae: 1657082.7500 - val_loss: 7605053816832.0000 - val_mae: 1754279.3750\n",
            "Epoch 10/10\n",
            "327/327 [==============================] - 20s 62ms/step - loss: 8733220929536.0000 - mae: 1643124.3750 - val_loss: 7049143386112.0000 - val_mae: 1588895.5000\n"
          ],
          "name": "stdout"
        },
        {
          "output_type": "display_data",
          "data": {
            "text/html": [
              "<span style=\"color:#4527A0\"><h1 style=\"font-size:18px\">Trial complete</h1></span>"
            ],
            "text/plain": [
              "<IPython.core.display.HTML object>"
            ]
          },
          "metadata": {
            "tags": []
          }
        },
        {
          "output_type": "display_data",
          "data": {
            "text/html": [
              "<span style=\"color:#4527A0\"><h1 style=\"font-size:18px\">Trial summary</h1></span>"
            ],
            "text/plain": [
              "<IPython.core.display.HTML object>"
            ]
          },
          "metadata": {
            "tags": []
          }
        },
        {
          "output_type": "display_data",
          "data": {
            "text/html": [
              "<span style=\"color:cyan\"> |-Trial ID: 2b10b6ed88530b435f497150f4479814</span>"
            ],
            "text/plain": [
              "<IPython.core.display.HTML object>"
            ]
          },
          "metadata": {
            "tags": []
          }
        },
        {
          "output_type": "display_data",
          "data": {
            "text/html": [
              "<span style=\"color:cyan\"> |-Score: 1588895.5</span>"
            ],
            "text/plain": [
              "<IPython.core.display.HTML object>"
            ]
          },
          "metadata": {
            "tags": []
          }
        },
        {
          "output_type": "display_data",
          "data": {
            "text/html": [
              "<span style=\"color:cyan\"> |-Best step: 0</span>"
            ],
            "text/plain": [
              "<IPython.core.display.HTML object>"
            ]
          },
          "metadata": {
            "tags": []
          }
        },
        {
          "output_type": "display_data",
          "data": {
            "text/html": [
              "<span style=\"color:#7E57C2\"><h2 style=\"font-size:16px\">Hyperparameters:</h2></span>"
            ],
            "text/plain": [
              "<IPython.core.display.HTML object>"
            ]
          },
          "metadata": {
            "tags": []
          }
        },
        {
          "output_type": "display_data",
          "data": {
            "text/html": [
              "<span style=\"color:cyan\"> |-activation: elu</span>"
            ],
            "text/plain": [
              "<IPython.core.display.HTML object>"
            ]
          },
          "metadata": {
            "tags": []
          }
        },
        {
          "output_type": "display_data",
          "data": {
            "text/html": [
              "<span style=\"color:blue\"> |-hidden_layers: 3</span>"
            ],
            "text/plain": [
              "<IPython.core.display.HTML object>"
            ]
          },
          "metadata": {
            "tags": []
          }
        },
        {
          "output_type": "display_data",
          "data": {
            "text/html": [
              "<span style=\"color:cyan\"> |-layer_0_units_: 1185</span>"
            ],
            "text/plain": [
              "<IPython.core.display.HTML object>"
            ]
          },
          "metadata": {
            "tags": []
          }
        },
        {
          "output_type": "display_data",
          "data": {
            "text/html": [
              "<span style=\"color:blue\"> |-layer_1_units_: 592</span>"
            ],
            "text/plain": [
              "<IPython.core.display.HTML object>"
            ]
          },
          "metadata": {
            "tags": []
          }
        },
        {
          "output_type": "display_data",
          "data": {
            "text/html": [
              "<span style=\"color:cyan\"> |-layer_2_units_: 79</span>"
            ],
            "text/plain": [
              "<IPython.core.display.HTML object>"
            ]
          },
          "metadata": {
            "tags": []
          }
        },
        {
          "output_type": "display_data",
          "data": {
            "text/html": [
              "<span style=\"color:blue\"> |-units: 1792</span>"
            ],
            "text/plain": [
              "<IPython.core.display.HTML object>"
            ]
          },
          "metadata": {
            "tags": []
          }
        },
        {
          "output_type": "stream",
          "text": [
            "Epoch 1/10\n",
            "327/327 [==============================] - 26s 79ms/step - loss: 68851807027200.0000 - mae: 6733273.0000 - val_loss: 50702336393216.0000 - val_mae: 5886565.5000\n",
            "Epoch 2/10\n",
            "327/327 [==============================] - 26s 80ms/step - loss: 41454432944128.0000 - mae: 4840529.0000 - val_loss: 29522720194560.0000 - val_mae: 4134750.7500\n",
            "Epoch 3/10\n",
            "327/327 [==============================] - 26s 79ms/step - loss: 29302890430464.0000 - mae: 3773716.7500 - val_loss: 22359157243904.0000 - val_mae: 3325246.5000\n",
            "Epoch 4/10\n",
            "327/327 [==============================] - 26s 80ms/step - loss: 23554313682944.0000 - mae: 3103064.2500 - val_loss: 17957753192448.0000 - val_mae: 2785747.2500\n",
            "Epoch 5/10\n",
            "327/327 [==============================] - 26s 80ms/step - loss: 20573686071296.0000 - mae: 2816365.0000 - val_loss: 16101309153280.0000 - val_mae: 2649694.2500\n",
            "Epoch 6/10\n",
            "327/327 [==============================] - 26s 80ms/step - loss: 18837089026048.0000 - mae: 2670617.2500 - val_loss: 14621192749056.0000 - val_mae: 2496684.2500\n",
            "Epoch 7/10\n",
            "327/327 [==============================] - 26s 79ms/step - loss: 17297695571968.0000 - mae: 2531448.7500 - val_loss: 13567360237568.0000 - val_mae: 2412143.5000\n",
            "Epoch 8/10\n",
            "327/327 [==============================] - 26s 78ms/step - loss: 16075182833664.0000 - mae: 2428737.0000 - val_loss: 12662204268544.0000 - val_mae: 2310866.5000\n",
            "Epoch 9/10\n",
            "327/327 [==============================] - 26s 79ms/step - loss: 15219136921600.0000 - mae: 2350846.5000 - val_loss: 12124731473920.0000 - val_mae: 2265425.2500\n",
            "Epoch 10/10\n",
            "327/327 [==============================] - 26s 79ms/step - loss: 14554340786176.0000 - mae: 2302210.5000 - val_loss: 11706589773824.0000 - val_mae: 2215647.0000\n"
          ],
          "name": "stdout"
        },
        {
          "output_type": "display_data",
          "data": {
            "text/html": [
              "<span style=\"color:#4527A0\"><h1 style=\"font-size:18px\">Trial complete</h1></span>"
            ],
            "text/plain": [
              "<IPython.core.display.HTML object>"
            ]
          },
          "metadata": {
            "tags": []
          }
        },
        {
          "output_type": "display_data",
          "data": {
            "text/html": [
              "<span style=\"color:#4527A0\"><h1 style=\"font-size:18px\">Trial summary</h1></span>"
            ],
            "text/plain": [
              "<IPython.core.display.HTML object>"
            ]
          },
          "metadata": {
            "tags": []
          }
        },
        {
          "output_type": "display_data",
          "data": {
            "text/html": [
              "<span style=\"color:cyan\"> |-Trial ID: 8d1692491377ad5efbd4dd2fc9a5f4a7</span>"
            ],
            "text/plain": [
              "<IPython.core.display.HTML object>"
            ]
          },
          "metadata": {
            "tags": []
          }
        },
        {
          "output_type": "display_data",
          "data": {
            "text/html": [
              "<span style=\"color:cyan\"> |-Score: 2215647.0</span>"
            ],
            "text/plain": [
              "<IPython.core.display.HTML object>"
            ]
          },
          "metadata": {
            "tags": []
          }
        },
        {
          "output_type": "display_data",
          "data": {
            "text/html": [
              "<span style=\"color:cyan\"> |-Best step: 0</span>"
            ],
            "text/plain": [
              "<IPython.core.display.HTML object>"
            ]
          },
          "metadata": {
            "tags": []
          }
        },
        {
          "output_type": "display_data",
          "data": {
            "text/html": [
              "<span style=\"color:#7E57C2\"><h2 style=\"font-size:16px\">Hyperparameters:</h2></span>"
            ],
            "text/plain": [
              "<IPython.core.display.HTML object>"
            ]
          },
          "metadata": {
            "tags": []
          }
        },
        {
          "output_type": "display_data",
          "data": {
            "text/html": [
              "<span style=\"color:cyan\"> |-activation: selu</span>"
            ],
            "text/plain": [
              "<IPython.core.display.HTML object>"
            ]
          },
          "metadata": {
            "tags": []
          }
        },
        {
          "output_type": "display_data",
          "data": {
            "text/html": [
              "<span style=\"color:blue\"> |-hidden_layers: 1</span>"
            ],
            "text/plain": [
              "<IPython.core.display.HTML object>"
            ]
          },
          "metadata": {
            "tags": []
          }
        },
        {
          "output_type": "display_data",
          "data": {
            "text/html": [
              "<span style=\"color:cyan\"> |-layer_0_units_: 869</span>"
            ],
            "text/plain": [
              "<IPython.core.display.HTML object>"
            ]
          },
          "metadata": {
            "tags": []
          }
        },
        {
          "output_type": "display_data",
          "data": {
            "text/html": [
              "<span style=\"color:blue\"> |-layer_1_units_: 434</span>"
            ],
            "text/plain": [
              "<IPython.core.display.HTML object>"
            ]
          },
          "metadata": {
            "tags": []
          }
        },
        {
          "output_type": "display_data",
          "data": {
            "text/html": [
              "<span style=\"color:cyan\"> |-layer_2_units_: 289</span>"
            ],
            "text/plain": [
              "<IPython.core.display.HTML object>"
            ]
          },
          "metadata": {
            "tags": []
          }
        },
        {
          "output_type": "display_data",
          "data": {
            "text/html": [
              "<span style=\"color:blue\"> |-units: 4096</span>"
            ],
            "text/plain": [
              "<IPython.core.display.HTML object>"
            ]
          },
          "metadata": {
            "tags": []
          }
        },
        {
          "output_type": "stream",
          "text": [
            "Epoch 1/10\n",
            "327/327 [==============================] - 10s 32ms/step - loss: 30083362324480.0000 - mae: 3528929.5000 - val_loss: 15007422087168.0000 - val_mae: 2456329.0000\n",
            "Epoch 2/10\n",
            "327/327 [==============================] - 10s 31ms/step - loss: 15972943527936.0000 - mae: 2382214.0000 - val_loss: 11156132462592.0000 - val_mae: 2140734.7500\n",
            "Epoch 3/10\n",
            "327/327 [==============================] - 10s 31ms/step - loss: 13016032608256.0000 - mae: 2150494.7500 - val_loss: 9703697416192.0000 - val_mae: 2015736.2500\n",
            "Epoch 4/10\n",
            "327/327 [==============================] - 10s 31ms/step - loss: 11414304456704.0000 - mae: 1958957.7500 - val_loss: 8729227952128.0000 - val_mae: 1859811.1250\n",
            "Epoch 5/10\n",
            "327/327 [==============================] - 10s 31ms/step - loss: 10305678606336.0000 - mae: 1812889.3750 - val_loss: 8186897629184.0000 - val_mae: 1743486.3750\n",
            "Epoch 6/10\n",
            "327/327 [==============================] - 10s 31ms/step - loss: 9906873696256.0000 - mae: 1747639.8750 - val_loss: 7630878146560.0000 - val_mae: 1685579.6250\n",
            "Epoch 7/10\n",
            "327/327 [==============================] - 10s 31ms/step - loss: 9508570005504.0000 - mae: 1719431.8750 - val_loss: 7375135178752.0000 - val_mae: 1599756.6250\n",
            "Epoch 8/10\n",
            "327/327 [==============================] - 10s 31ms/step - loss: 9129416458240.0000 - mae: 1682939.5000 - val_loss: 7333800837120.0000 - val_mae: 1576137.3750\n",
            "Epoch 9/10\n",
            "327/327 [==============================] - 10s 31ms/step - loss: 8895359614976.0000 - mae: 1665892.0000 - val_loss: 7205837864960.0000 - val_mae: 1644549.6250\n",
            "Epoch 10/10\n",
            "327/327 [==============================] - 10s 31ms/step - loss: 8693090353152.0000 - mae: 1647825.8750 - val_loss: 7472001581056.0000 - val_mae: 1655052.5000\n"
          ],
          "name": "stdout"
        },
        {
          "output_type": "display_data",
          "data": {
            "text/html": [
              "<span style=\"color:#4527A0\"><h1 style=\"font-size:18px\">Trial complete</h1></span>"
            ],
            "text/plain": [
              "<IPython.core.display.HTML object>"
            ]
          },
          "metadata": {
            "tags": []
          }
        },
        {
          "output_type": "display_data",
          "data": {
            "text/html": [
              "<span style=\"color:#4527A0\"><h1 style=\"font-size:18px\">Trial summary</h1></span>"
            ],
            "text/plain": [
              "<IPython.core.display.HTML object>"
            ]
          },
          "metadata": {
            "tags": []
          }
        },
        {
          "output_type": "display_data",
          "data": {
            "text/html": [
              "<span style=\"color:cyan\"> |-Trial ID: e40d8b3abe8d08e7c3c40373bf67ac94</span>"
            ],
            "text/plain": [
              "<IPython.core.display.HTML object>"
            ]
          },
          "metadata": {
            "tags": []
          }
        },
        {
          "output_type": "display_data",
          "data": {
            "text/html": [
              "<span style=\"color:cyan\"> |-Score: 1576137.375</span>"
            ],
            "text/plain": [
              "<IPython.core.display.HTML object>"
            ]
          },
          "metadata": {
            "tags": []
          }
        },
        {
          "output_type": "display_data",
          "data": {
            "text/html": [
              "<span style=\"color:cyan\"> |-Best step: 0</span>"
            ],
            "text/plain": [
              "<IPython.core.display.HTML object>"
            ]
          },
          "metadata": {
            "tags": []
          }
        },
        {
          "output_type": "display_data",
          "data": {
            "text/html": [
              "<span style=\"color:#7E57C2\"><h2 style=\"font-size:16px\">Hyperparameters:</h2></span>"
            ],
            "text/plain": [
              "<IPython.core.display.HTML object>"
            ]
          },
          "metadata": {
            "tags": []
          }
        },
        {
          "output_type": "display_data",
          "data": {
            "text/html": [
              "<span style=\"color:cyan\"> |-activation: selu</span>"
            ],
            "text/plain": [
              "<IPython.core.display.HTML object>"
            ]
          },
          "metadata": {
            "tags": []
          }
        },
        {
          "output_type": "display_data",
          "data": {
            "text/html": [
              "<span style=\"color:blue\"> |-hidden_layers: 3</span>"
            ],
            "text/plain": [
              "<IPython.core.display.HTML object>"
            ]
          },
          "metadata": {
            "tags": []
          }
        },
        {
          "output_type": "display_data",
          "data": {
            "text/html": [
              "<span style=\"color:cyan\"> |-layer_0_units_: 237</span>"
            ],
            "text/plain": [
              "<IPython.core.display.HTML object>"
            ]
          },
          "metadata": {
            "tags": []
          }
        },
        {
          "output_type": "display_data",
          "data": {
            "text/html": [
              "<span style=\"color:blue\"> |-layer_1_units_: 592</span>"
            ],
            "text/plain": [
              "<IPython.core.display.HTML object>"
            ]
          },
          "metadata": {
            "tags": []
          }
        },
        {
          "output_type": "display_data",
          "data": {
            "text/html": [
              "<span style=\"color:cyan\"> |-layer_2_units_: 289</span>"
            ],
            "text/plain": [
              "<IPython.core.display.HTML object>"
            ]
          },
          "metadata": {
            "tags": []
          }
        },
        {
          "output_type": "display_data",
          "data": {
            "text/html": [
              "<span style=\"color:blue\"> |-units: 2560</span>"
            ],
            "text/plain": [
              "<IPython.core.display.HTML object>"
            ]
          },
          "metadata": {
            "tags": []
          }
        },
        {
          "output_type": "stream",
          "text": [
            "Epoch 1/10\n",
            "327/327 [==============================] - 38s 118ms/step - loss: 28970951114752.0000 - mae: 3323966.7500 - val_loss: 16221647929344.0000 - val_mae: 2489977.5000\n",
            "Epoch 2/10\n",
            "327/327 [==============================] - 38s 117ms/step - loss: 17276082323456.0000 - mae: 2417572.0000 - val_loss: 11290119503872.0000 - val_mae: 2185084.5000\n",
            "Epoch 3/10\n",
            "327/327 [==============================] - 38s 117ms/step - loss: 12486113755136.0000 - mae: 2050622.3750 - val_loss: 8851207225344.0000 - val_mae: 1896260.0000\n",
            "Epoch 4/10\n",
            "327/327 [==============================] - 39s 118ms/step - loss: 10696944254976.0000 - mae: 1828290.6250 - val_loss: 7989098446848.0000 - val_mae: 1723766.6250\n",
            "Epoch 5/10\n",
            "327/327 [==============================] - 38s 117ms/step - loss: 10028723470336.0000 - mae: 1762526.1250 - val_loss: 7488852197376.0000 - val_mae: 1608457.3750\n",
            "Epoch 6/10\n",
            "327/327 [==============================] - 39s 118ms/step - loss: 9545377120256.0000 - mae: 1715039.0000 - val_loss: 7533827194880.0000 - val_mae: 1662086.2500\n",
            "Epoch 7/10\n",
            "327/327 [==============================] - 39s 118ms/step - loss: 9299649626112.0000 - mae: 1688110.3750 - val_loss: 7097796788224.0000 - val_mae: 1614952.1250\n",
            "Epoch 8/10\n",
            "327/327 [==============================] - 39s 119ms/step - loss: 9152498761728.0000 - mae: 1670420.6250 - val_loss: 7853762936832.0000 - val_mae: 1603215.3750\n",
            "Epoch 9/10\n",
            "327/327 [==============================] - 39s 118ms/step - loss: 9027940515840.0000 - mae: 1654796.7500 - val_loss: 6873609666560.0000 - val_mae: 1597090.1250\n",
            "Epoch 10/10\n",
            "327/327 [==============================] - 39s 118ms/step - loss: 8795146682368.0000 - mae: 1639643.3750 - val_loss: 6815662735360.0000 - val_mae: 1587193.8750\n"
          ],
          "name": "stdout"
        },
        {
          "output_type": "display_data",
          "data": {
            "text/html": [
              "<span style=\"color:#4527A0\"><h1 style=\"font-size:18px\">Trial complete</h1></span>"
            ],
            "text/plain": [
              "<IPython.core.display.HTML object>"
            ]
          },
          "metadata": {
            "tags": []
          }
        },
        {
          "output_type": "display_data",
          "data": {
            "text/html": [
              "<span style=\"color:#4527A0\"><h1 style=\"font-size:18px\">Trial summary</h1></span>"
            ],
            "text/plain": [
              "<IPython.core.display.HTML object>"
            ]
          },
          "metadata": {
            "tags": []
          }
        },
        {
          "output_type": "display_data",
          "data": {
            "text/html": [
              "<span style=\"color:cyan\"> |-Trial ID: fbcada6d18ac773c6cf77bc1ea21d60c</span>"
            ],
            "text/plain": [
              "<IPython.core.display.HTML object>"
            ]
          },
          "metadata": {
            "tags": []
          }
        },
        {
          "output_type": "display_data",
          "data": {
            "text/html": [
              "<span style=\"color:cyan\"> |-Score: 1587193.875</span>"
            ],
            "text/plain": [
              "<IPython.core.display.HTML object>"
            ]
          },
          "metadata": {
            "tags": []
          }
        },
        {
          "output_type": "display_data",
          "data": {
            "text/html": [
              "<span style=\"color:cyan\"> |-Best step: 0</span>"
            ],
            "text/plain": [
              "<IPython.core.display.HTML object>"
            ]
          },
          "metadata": {
            "tags": []
          }
        },
        {
          "output_type": "display_data",
          "data": {
            "text/html": [
              "<span style=\"color:#7E57C2\"><h2 style=\"font-size:16px\">Hyperparameters:</h2></span>"
            ],
            "text/plain": [
              "<IPython.core.display.HTML object>"
            ]
          },
          "metadata": {
            "tags": []
          }
        },
        {
          "output_type": "display_data",
          "data": {
            "text/html": [
              "<span style=\"color:cyan\"> |-activation: selu</span>"
            ],
            "text/plain": [
              "<IPython.core.display.HTML object>"
            ]
          },
          "metadata": {
            "tags": []
          }
        },
        {
          "output_type": "display_data",
          "data": {
            "text/html": [
              "<span style=\"color:blue\"> |-hidden_layers: 3</span>"
            ],
            "text/plain": [
              "<IPython.core.display.HTML object>"
            ]
          },
          "metadata": {
            "tags": []
          }
        },
        {
          "output_type": "display_data",
          "data": {
            "text/html": [
              "<span style=\"color:cyan\"> |-layer_0_units_: 1185</span>"
            ],
            "text/plain": [
              "<IPython.core.display.HTML object>"
            ]
          },
          "metadata": {
            "tags": []
          }
        },
        {
          "output_type": "display_data",
          "data": {
            "text/html": [
              "<span style=\"color:blue\"> |-layer_1_units_: 276</span>"
            ],
            "text/plain": [
              "<IPython.core.display.HTML object>"
            ]
          },
          "metadata": {
            "tags": []
          }
        },
        {
          "output_type": "display_data",
          "data": {
            "text/html": [
              "<span style=\"color:cyan\"> |-layer_2_units_: 184</span>"
            ],
            "text/plain": [
              "<IPython.core.display.HTML object>"
            ]
          },
          "metadata": {
            "tags": []
          }
        },
        {
          "output_type": "display_data",
          "data": {
            "text/html": [
              "<span style=\"color:blue\"> |-units: 4864</span>"
            ],
            "text/plain": [
              "<IPython.core.display.HTML object>"
            ]
          },
          "metadata": {
            "tags": []
          }
        },
        {
          "output_type": "stream",
          "text": [
            "Epoch 1/10\n",
            "327/327 [==============================] - 4s 14ms/step - loss: 60964284137472.0000 - mae: 6207985.5000 - val_loss: 33142085779456.0000 - val_mae: 4462064.0000\n",
            "Epoch 2/10\n",
            "327/327 [==============================] - 4s 13ms/step - loss: 32081319034880.0000 - mae: 4115450.0000 - val_loss: 23813825757184.0000 - val_mae: 3592951.5000\n",
            "Epoch 3/10\n",
            "327/327 [==============================] - 4s 13ms/step - loss: 22252783403008.0000 - mae: 3088830.0000 - val_loss: 15506847301632.0000 - val_mae: 2599956.7500\n",
            "Epoch 4/10\n",
            "327/327 [==============================] - 4s 13ms/step - loss: 17549480689664.0000 - mae: 2565347.5000 - val_loss: 12939708858368.0000 - val_mae: 2338052.2500\n",
            "Epoch 5/10\n",
            "327/327 [==============================] - 4s 13ms/step - loss: 15335366328320.0000 - mae: 2359767.2500 - val_loss: 11545386942464.0000 - val_mae: 2196088.5000\n",
            "Epoch 6/10\n",
            "327/327 [==============================] - 4s 13ms/step - loss: 14182050168832.0000 - mae: 2257883.2500 - val_loss: 10794015129600.0000 - val_mae: 2119760.0000\n",
            "Epoch 7/10\n",
            "327/327 [==============================] - 4s 13ms/step - loss: 13412677451776.0000 - mae: 2201060.2500 - val_loss: 10357088190464.0000 - val_mae: 2067979.5000\n",
            "Epoch 8/10\n",
            "327/327 [==============================] - 4s 14ms/step - loss: 12873685270528.0000 - mae: 2161023.2500 - val_loss: 10053738299392.0000 - val_mae: 2049225.1250\n",
            "Epoch 9/10\n",
            "327/327 [==============================] - 4s 13ms/step - loss: 12504566595584.0000 - mae: 2123342.5000 - val_loss: 9705386672128.0000 - val_mae: 2007036.6250\n",
            "Epoch 10/10\n",
            "327/327 [==============================] - 4s 13ms/step - loss: 12250529136640.0000 - mae: 2098410.2500 - val_loss: 9504829734912.0000 - val_mae: 1988260.8750\n"
          ],
          "name": "stdout"
        },
        {
          "output_type": "display_data",
          "data": {
            "text/html": [
              "<span style=\"color:#4527A0\"><h1 style=\"font-size:18px\">Trial complete</h1></span>"
            ],
            "text/plain": [
              "<IPython.core.display.HTML object>"
            ]
          },
          "metadata": {
            "tags": []
          }
        },
        {
          "output_type": "display_data",
          "data": {
            "text/html": [
              "<span style=\"color:#4527A0\"><h1 style=\"font-size:18px\">Trial summary</h1></span>"
            ],
            "text/plain": [
              "<IPython.core.display.HTML object>"
            ]
          },
          "metadata": {
            "tags": []
          }
        },
        {
          "output_type": "display_data",
          "data": {
            "text/html": [
              "<span style=\"color:cyan\"> |-Trial ID: 470a35b5ddf575640b72ef5283f1a76b</span>"
            ],
            "text/plain": [
              "<IPython.core.display.HTML object>"
            ]
          },
          "metadata": {
            "tags": []
          }
        },
        {
          "output_type": "display_data",
          "data": {
            "text/html": [
              "<span style=\"color:cyan\"> |-Score: 1988260.875</span>"
            ],
            "text/plain": [
              "<IPython.core.display.HTML object>"
            ]
          },
          "metadata": {
            "tags": []
          }
        },
        {
          "output_type": "display_data",
          "data": {
            "text/html": [
              "<span style=\"color:cyan\"> |-Best step: 0</span>"
            ],
            "text/plain": [
              "<IPython.core.display.HTML object>"
            ]
          },
          "metadata": {
            "tags": []
          }
        },
        {
          "output_type": "display_data",
          "data": {
            "text/html": [
              "<span style=\"color:#7E57C2\"><h2 style=\"font-size:16px\">Hyperparameters:</h2></span>"
            ],
            "text/plain": [
              "<IPython.core.display.HTML object>"
            ]
          },
          "metadata": {
            "tags": []
          }
        },
        {
          "output_type": "display_data",
          "data": {
            "text/html": [
              "<span style=\"color:cyan\"> |-activation: selu</span>"
            ],
            "text/plain": [
              "<IPython.core.display.HTML object>"
            ]
          },
          "metadata": {
            "tags": []
          }
        },
        {
          "output_type": "display_data",
          "data": {
            "text/html": [
              "<span style=\"color:blue\"> |-hidden_layers: 2</span>"
            ],
            "text/plain": [
              "<IPython.core.display.HTML object>"
            ]
          },
          "metadata": {
            "tags": []
          }
        },
        {
          "output_type": "display_data",
          "data": {
            "text/html": [
              "<span style=\"color:cyan\"> |-layer_0_units_: 869</span>"
            ],
            "text/plain": [
              "<IPython.core.display.HTML object>"
            ]
          },
          "metadata": {
            "tags": []
          }
        },
        {
          "output_type": "display_data",
          "data": {
            "text/html": [
              "<span style=\"color:blue\"> |-layer_1_units_: 276</span>"
            ],
            "text/plain": [
              "<IPython.core.display.HTML object>"
            ]
          },
          "metadata": {
            "tags": []
          }
        },
        {
          "output_type": "display_data",
          "data": {
            "text/html": [
              "<span style=\"color:cyan\"> |-layer_2_units_: 394</span>"
            ],
            "text/plain": [
              "<IPython.core.display.HTML object>"
            ]
          },
          "metadata": {
            "tags": []
          }
        },
        {
          "output_type": "display_data",
          "data": {
            "text/html": [
              "<span style=\"color:blue\"> |-units: 256</span>"
            ],
            "text/plain": [
              "<IPython.core.display.HTML object>"
            ]
          },
          "metadata": {
            "tags": []
          }
        },
        {
          "output_type": "stream",
          "text": [
            "Epoch 1/10\n",
            "327/327 [==============================] - 6s 19ms/step - loss: 74117034278912.0000 - mae: 7054237.5000 - val_loss: 63795816824832.0000 - val_mae: 6700660.0000\n",
            "Epoch 2/10\n",
            "327/327 [==============================] - 6s 19ms/step - loss: 60025271746560.0000 - mae: 6220646.5000 - val_loss: 45745956716544.0000 - val_mae: 5536791.0000\n",
            "Epoch 3/10\n",
            "327/327 [==============================] - 6s 19ms/step - loss: 41597345464320.0000 - mae: 4899715.5000 - val_loss: 33471321866240.0000 - val_mae: 4511528.5000\n",
            "Epoch 4/10\n",
            "327/327 [==============================] - 6s 19ms/step - loss: 35531652071424.0000 - mae: 4429664.5000 - val_loss: 31081969483776.0000 - val_mae: 4323969.5000\n",
            "Epoch 5/10\n",
            "327/327 [==============================] - 6s 19ms/step - loss: 33333578825728.0000 - mae: 4281094.0000 - val_loss: 28918302113792.0000 - val_mae: 4155705.5000\n",
            "Epoch 6/10\n",
            "327/327 [==============================] - 6s 19ms/step - loss: 31179010998272.0000 - mae: 4119121.2500 - val_loss: 26941302243328.0000 - val_mae: 4012696.2500\n",
            "Epoch 7/10\n",
            "327/327 [==============================] - 6s 19ms/step - loss: 29099456200704.0000 - mae: 3970016.7500 - val_loss: 25200263430144.0000 - val_mae: 3861452.7500\n",
            "Epoch 8/10\n",
            "327/327 [==============================] - 6s 19ms/step - loss: 27252815298560.0000 - mae: 3828430.2500 - val_loss: 23761598283776.0000 - val_mae: 3744806.5000\n",
            "Epoch 9/10\n",
            "327/327 [==============================] - 6s 19ms/step - loss: 25742136049664.0000 - mae: 3711472.7500 - val_loss: 22655885377536.0000 - val_mae: 3656134.0000\n",
            "Epoch 10/10\n",
            "327/327 [==============================] - 6s 19ms/step - loss: 24525091635200.0000 - mae: 3615794.5000 - val_loss: 21666709110784.0000 - val_mae: 3564107.0000\n"
          ],
          "name": "stdout"
        },
        {
          "output_type": "display_data",
          "data": {
            "text/html": [
              "<span style=\"color:#4527A0\"><h1 style=\"font-size:18px\">Trial complete</h1></span>"
            ],
            "text/plain": [
              "<IPython.core.display.HTML object>"
            ]
          },
          "metadata": {
            "tags": []
          }
        },
        {
          "output_type": "display_data",
          "data": {
            "text/html": [
              "<span style=\"color:#4527A0\"><h1 style=\"font-size:18px\">Trial summary</h1></span>"
            ],
            "text/plain": [
              "<IPython.core.display.HTML object>"
            ]
          },
          "metadata": {
            "tags": []
          }
        },
        {
          "output_type": "display_data",
          "data": {
            "text/html": [
              "<span style=\"color:cyan\"> |-Trial ID: d1a4f7f1a8459ed71f0a261b180892da</span>"
            ],
            "text/plain": [
              "<IPython.core.display.HTML object>"
            ]
          },
          "metadata": {
            "tags": []
          }
        },
        {
          "output_type": "display_data",
          "data": {
            "text/html": [
              "<span style=\"color:cyan\"> |-Score: 3564107.0</span>"
            ],
            "text/plain": [
              "<IPython.core.display.HTML object>"
            ]
          },
          "metadata": {
            "tags": []
          }
        },
        {
          "output_type": "display_data",
          "data": {
            "text/html": [
              "<span style=\"color:cyan\"> |-Best step: 0</span>"
            ],
            "text/plain": [
              "<IPython.core.display.HTML object>"
            ]
          },
          "metadata": {
            "tags": []
          }
        },
        {
          "output_type": "display_data",
          "data": {
            "text/html": [
              "<span style=\"color:#7E57C2\"><h2 style=\"font-size:16px\">Hyperparameters:</h2></span>"
            ],
            "text/plain": [
              "<IPython.core.display.HTML object>"
            ]
          },
          "metadata": {
            "tags": []
          }
        },
        {
          "output_type": "display_data",
          "data": {
            "text/html": [
              "<span style=\"color:cyan\"> |-activation: elu</span>"
            ],
            "text/plain": [
              "<IPython.core.display.HTML object>"
            ]
          },
          "metadata": {
            "tags": []
          }
        },
        {
          "output_type": "display_data",
          "data": {
            "text/html": [
              "<span style=\"color:blue\"> |-hidden_layers: 1</span>"
            ],
            "text/plain": [
              "<IPython.core.display.HTML object>"
            ]
          },
          "metadata": {
            "tags": []
          }
        },
        {
          "output_type": "display_data",
          "data": {
            "text/html": [
              "<span style=\"color:cyan\"> |-layer_0_units_: 553</span>"
            ],
            "text/plain": [
              "<IPython.core.display.HTML object>"
            ]
          },
          "metadata": {
            "tags": []
          }
        },
        {
          "output_type": "display_data",
          "data": {
            "text/html": [
              "<span style=\"color:blue\"> |-layer_1_units_: 434</span>"
            ],
            "text/plain": [
              "<IPython.core.display.HTML object>"
            ]
          },
          "metadata": {
            "tags": []
          }
        },
        {
          "output_type": "display_data",
          "data": {
            "text/html": [
              "<span style=\"color:cyan\"> |-layer_2_units_: 394</span>"
            ],
            "text/plain": [
              "<IPython.core.display.HTML object>"
            ]
          },
          "metadata": {
            "tags": []
          }
        },
        {
          "output_type": "display_data",
          "data": {
            "text/html": [
              "<span style=\"color:blue\"> |-units: 1024</span>"
            ],
            "text/plain": [
              "<IPython.core.display.HTML object>"
            ]
          },
          "metadata": {
            "tags": []
          }
        },
        {
          "output_type": "stream",
          "text": [
            "Epoch 1/10\n",
            "327/327 [==============================] - 22s 66ms/step - loss: 65840644882432.0000 - mae: 6417462.0000 - val_loss: 41005977960448.0000 - val_mae: 4767527.0000\n",
            "Epoch 2/10\n",
            "327/327 [==============================] - 21s 65ms/step - loss: 30996640563200.0000 - mae: 3522191.2500 - val_loss: 19816681308160.0000 - val_mae: 2804464.5000\n",
            "Epoch 3/10\n",
            "327/327 [==============================] - 21s 64ms/step - loss: 21584798547968.0000 - mae: 2715444.2500 - val_loss: 15806655102976.0000 - val_mae: 2446129.5000\n",
            "Epoch 4/10\n",
            "327/327 [==============================] - 21s 64ms/step - loss: 18453834498048.0000 - mae: 2443098.2500 - val_loss: 13481465085952.0000 - val_mae: 2240856.2500\n",
            "Epoch 5/10\n",
            "327/327 [==============================] - 21s 65ms/step - loss: 16404454572032.0000 - mae: 2259423.2500 - val_loss: 11947224334336.0000 - val_mae: 2070896.7500\n",
            "Epoch 6/10\n",
            "327/327 [==============================] - 21s 64ms/step - loss: 14935922835456.0000 - mae: 2122111.7500 - val_loss: 10922226614272.0000 - val_mae: 1966456.6250\n",
            "Epoch 7/10\n",
            "327/327 [==============================] - 21s 64ms/step - loss: 13914165215232.0000 - mae: 2033449.2500 - val_loss: 10293460598784.0000 - val_mae: 1917440.5000\n",
            "Epoch 8/10\n",
            "327/327 [==============================] - 21s 65ms/step - loss: 13177970491392.0000 - mae: 1974264.7500 - val_loss: 9880956043264.0000 - val_mae: 1876122.3750\n",
            "Epoch 9/10\n",
            "327/327 [==============================] - 21s 64ms/step - loss: 12672877723648.0000 - mae: 1936141.7500 - val_loss: 9621556166656.0000 - val_mae: 1851655.8750\n",
            "Epoch 10/10\n",
            "327/327 [==============================] - 21s 64ms/step - loss: 12239945859072.0000 - mae: 1901526.1250 - val_loss: 9388795363328.0000 - val_mae: 1833478.5000\n"
          ],
          "name": "stdout"
        },
        {
          "output_type": "display_data",
          "data": {
            "text/html": [
              "<span style=\"color:#4527A0\"><h1 style=\"font-size:18px\">Trial complete</h1></span>"
            ],
            "text/plain": [
              "<IPython.core.display.HTML object>"
            ]
          },
          "metadata": {
            "tags": []
          }
        },
        {
          "output_type": "display_data",
          "data": {
            "text/html": [
              "<span style=\"color:#4527A0\"><h1 style=\"font-size:18px\">Trial summary</h1></span>"
            ],
            "text/plain": [
              "<IPython.core.display.HTML object>"
            ]
          },
          "metadata": {
            "tags": []
          }
        },
        {
          "output_type": "display_data",
          "data": {
            "text/html": [
              "<span style=\"color:cyan\"> |-Trial ID: ea168e1c954f43b8a7dfe51a70b1f658</span>"
            ],
            "text/plain": [
              "<IPython.core.display.HTML object>"
            ]
          },
          "metadata": {
            "tags": []
          }
        },
        {
          "output_type": "display_data",
          "data": {
            "text/html": [
              "<span style=\"color:cyan\"> |-Score: 1833478.5</span>"
            ],
            "text/plain": [
              "<IPython.core.display.HTML object>"
            ]
          },
          "metadata": {
            "tags": []
          }
        },
        {
          "output_type": "display_data",
          "data": {
            "text/html": [
              "<span style=\"color:cyan\"> |-Best step: 0</span>"
            ],
            "text/plain": [
              "<IPython.core.display.HTML object>"
            ]
          },
          "metadata": {
            "tags": []
          }
        },
        {
          "output_type": "display_data",
          "data": {
            "text/html": [
              "<span style=\"color:#7E57C2\"><h2 style=\"font-size:16px\">Hyperparameters:</h2></span>"
            ],
            "text/plain": [
              "<IPython.core.display.HTML object>"
            ]
          },
          "metadata": {
            "tags": []
          }
        },
        {
          "output_type": "display_data",
          "data": {
            "text/html": [
              "<span style=\"color:cyan\"> |-activation: relu</span>"
            ],
            "text/plain": [
              "<IPython.core.display.HTML object>"
            ]
          },
          "metadata": {
            "tags": []
          }
        },
        {
          "output_type": "display_data",
          "data": {
            "text/html": [
              "<span style=\"color:blue\"> |-hidden_layers: 1</span>"
            ],
            "text/plain": [
              "<IPython.core.display.HTML object>"
            ]
          },
          "metadata": {
            "tags": []
          }
        },
        {
          "output_type": "display_data",
          "data": {
            "text/html": [
              "<span style=\"color:cyan\"> |-layer_0_units_: 1185</span>"
            ],
            "text/plain": [
              "<IPython.core.display.HTML object>"
            ]
          },
          "metadata": {
            "tags": []
          }
        },
        {
          "output_type": "display_data",
          "data": {
            "text/html": [
              "<span style=\"color:blue\"> |-layer_1_units_: 434</span>"
            ],
            "text/plain": [
              "<IPython.core.display.HTML object>"
            ]
          },
          "metadata": {
            "tags": []
          }
        },
        {
          "output_type": "display_data",
          "data": {
            "text/html": [
              "<span style=\"color:cyan\"> |-layer_2_units_: 184</span>"
            ],
            "text/plain": [
              "<IPython.core.display.HTML object>"
            ]
          },
          "metadata": {
            "tags": []
          }
        },
        {
          "output_type": "display_data",
          "data": {
            "text/html": [
              "<span style=\"color:blue\"> |-units: 2560</span>"
            ],
            "text/plain": [
              "<IPython.core.display.HTML object>"
            ]
          },
          "metadata": {
            "tags": []
          }
        },
        {
          "output_type": "stream",
          "text": [
            "Epoch 1/10\n",
            "327/327 [==============================] - 14s 44ms/step - loss: 30384949559296.0000 - mae: 3567141.0000 - val_loss: 13934241251328.0000 - val_mae: 2375413.2500\n",
            "Epoch 2/10\n",
            "327/327 [==============================] - 14s 43ms/step - loss: 14317313327104.0000 - mae: 2195381.5000 - val_loss: 9713111531520.0000 - val_mae: 1958042.6250\n",
            "Epoch 3/10\n",
            "327/327 [==============================] - 14s 44ms/step - loss: 11465651126272.0000 - mae: 1899108.3750 - val_loss: 8852150943744.0000 - val_mae: 1860215.7500\n",
            "Epoch 4/10\n",
            "327/327 [==============================] - 14s 44ms/step - loss: 10516308164608.0000 - mae: 1801442.8750 - val_loss: 8102275973120.0000 - val_mae: 1754750.6250\n",
            "Epoch 5/10\n",
            "327/327 [==============================] - 14s 43ms/step - loss: 9910202925056.0000 - mae: 1735608.6250 - val_loss: 7892981252096.0000 - val_mae: 1690840.2500\n",
            "Epoch 6/10\n",
            "327/327 [==============================] - 14s 43ms/step - loss: 9578937843712.0000 - mae: 1711219.7500 - val_loss: 7715732062208.0000 - val_mae: 1699071.8750\n",
            "Epoch 7/10\n",
            "327/327 [==============================] - 14s 43ms/step - loss: 9260729630720.0000 - mae: 1686685.2500 - val_loss: 7321159729152.0000 - val_mae: 1584890.6250\n",
            "Epoch 8/10\n",
            "327/327 [==============================] - 14s 44ms/step - loss: 9026874114048.0000 - mae: 1659166.7500 - val_loss: 7220854521856.0000 - val_mae: 1565899.0000\n",
            "Epoch 9/10\n",
            "327/327 [==============================] - 14s 44ms/step - loss: 8807056932864.0000 - mae: 1648514.0000 - val_loss: 7151749693440.0000 - val_mae: 1583843.5000\n",
            "Epoch 10/10\n",
            "327/327 [==============================] - 14s 44ms/step - loss: 8759914004480.0000 - mae: 1641421.2500 - val_loss: 7029757313024.0000 - val_mae: 1595819.6250\n"
          ],
          "name": "stdout"
        },
        {
          "output_type": "display_data",
          "data": {
            "text/html": [
              "<span style=\"color:#4527A0\"><h1 style=\"font-size:18px\">Trial complete</h1></span>"
            ],
            "text/plain": [
              "<IPython.core.display.HTML object>"
            ]
          },
          "metadata": {
            "tags": []
          }
        },
        {
          "output_type": "display_data",
          "data": {
            "text/html": [
              "<span style=\"color:#4527A0\"><h1 style=\"font-size:18px\">Trial summary</h1></span>"
            ],
            "text/plain": [
              "<IPython.core.display.HTML object>"
            ]
          },
          "metadata": {
            "tags": []
          }
        },
        {
          "output_type": "display_data",
          "data": {
            "text/html": [
              "<span style=\"color:cyan\"> |-Trial ID: 01a801653b75e3e00c924b056be59b43</span>"
            ],
            "text/plain": [
              "<IPython.core.display.HTML object>"
            ]
          },
          "metadata": {
            "tags": []
          }
        },
        {
          "output_type": "display_data",
          "data": {
            "text/html": [
              "<span style=\"color:cyan\"> |-Score: 1565899.0</span>"
            ],
            "text/plain": [
              "<IPython.core.display.HTML object>"
            ]
          },
          "metadata": {
            "tags": []
          }
        },
        {
          "output_type": "display_data",
          "data": {
            "text/html": [
              "<span style=\"color:cyan\"> |-Best step: 0</span>"
            ],
            "text/plain": [
              "<IPython.core.display.HTML object>"
            ]
          },
          "metadata": {
            "tags": []
          }
        },
        {
          "output_type": "display_data",
          "data": {
            "text/html": [
              "<span style=\"color:#7E57C2\"><h2 style=\"font-size:16px\">Hyperparameters:</h2></span>"
            ],
            "text/plain": [
              "<IPython.core.display.HTML object>"
            ]
          },
          "metadata": {
            "tags": []
          }
        },
        {
          "output_type": "display_data",
          "data": {
            "text/html": [
              "<span style=\"color:cyan\"> |-activation: elu</span>"
            ],
            "text/plain": [
              "<IPython.core.display.HTML object>"
            ]
          },
          "metadata": {
            "tags": []
          }
        },
        {
          "output_type": "display_data",
          "data": {
            "text/html": [
              "<span style=\"color:blue\"> |-hidden_layers: 3</span>"
            ],
            "text/plain": [
              "<IPython.core.display.HTML object>"
            ]
          },
          "metadata": {
            "tags": []
          }
        },
        {
          "output_type": "display_data",
          "data": {
            "text/html": [
              "<span style=\"color:cyan\"> |-layer_0_units_: 553</span>"
            ],
            "text/plain": [
              "<IPython.core.display.HTML object>"
            ]
          },
          "metadata": {
            "tags": []
          }
        },
        {
          "output_type": "display_data",
          "data": {
            "text/html": [
              "<span style=\"color:blue\"> |-layer_1_units_: 434</span>"
            ],
            "text/plain": [
              "<IPython.core.display.HTML object>"
            ]
          },
          "metadata": {
            "tags": []
          }
        },
        {
          "output_type": "display_data",
          "data": {
            "text/html": [
              "<span style=\"color:cyan\"> |-layer_2_units_: 184</span>"
            ],
            "text/plain": [
              "<IPython.core.display.HTML object>"
            ]
          },
          "metadata": {
            "tags": []
          }
        },
        {
          "output_type": "display_data",
          "data": {
            "text/html": [
              "<span style=\"color:blue\"> |-units: 2560</span>"
            ],
            "text/plain": [
              "<IPython.core.display.HTML object>"
            ]
          },
          "metadata": {
            "tags": []
          }
        },
        {
          "output_type": "stream",
          "text": [
            "Epoch 1/10\n",
            "327/327 [==============================] - 15s 45ms/step - loss: 28311149346816.0000 - mae: 3401409.7500 - val_loss: 14180279123968.0000 - val_mae: 2404527.5000\n",
            "Epoch 2/10\n",
            "327/327 [==============================] - 14s 44ms/step - loss: 15192973901824.0000 - mae: 2335579.2500 - val_loss: 11152503341056.0000 - val_mae: 2152492.2500\n",
            "Epoch 3/10\n",
            "327/327 [==============================] - 14s 43ms/step - loss: 12781446234112.0000 - mae: 2128212.5000 - val_loss: 9379363422208.0000 - val_mae: 1918744.2500\n",
            "Epoch 4/10\n",
            "327/327 [==============================] - 14s 44ms/step - loss: 11277249282048.0000 - mae: 1934621.0000 - val_loss: 8794918092800.0000 - val_mae: 1944307.1250\n",
            "Epoch 5/10\n",
            "327/327 [==============================] - 15s 45ms/step - loss: 10402715926528.0000 - mae: 1814264.3750 - val_loss: 7782822051840.0000 - val_mae: 1711405.3750\n",
            "Epoch 6/10\n",
            "327/327 [==============================] - 14s 44ms/step - loss: 10041798164480.0000 - mae: 1750702.1250 - val_loss: 8488184971264.0000 - val_mae: 1710074.2500\n",
            "Epoch 7/10\n",
            "327/327 [==============================] - 14s 44ms/step - loss: 9656347918336.0000 - mae: 1727654.7500 - val_loss: 7388597846016.0000 - val_mae: 1623255.6250\n",
            "Epoch 8/10\n",
            "327/327 [==============================] - 14s 44ms/step - loss: 9199221211136.0000 - mae: 1690170.8750 - val_loss: 7453312811008.0000 - val_mae: 1577697.8750\n",
            "Epoch 9/10\n",
            "327/327 [==============================] - 14s 43ms/step - loss: 9008338436096.0000 - mae: 1673476.6250 - val_loss: 7238838648832.0000 - val_mae: 1608253.1250\n",
            "Epoch 10/10\n",
            "327/327 [==============================] - 14s 44ms/step - loss: 8708620288000.0000 - mae: 1655879.2500 - val_loss: 7024176267264.0000 - val_mae: 1625110.5000\n"
          ],
          "name": "stdout"
        },
        {
          "output_type": "display_data",
          "data": {
            "text/html": [
              "<span style=\"color:#4527A0\"><h1 style=\"font-size:18px\">Trial complete</h1></span>"
            ],
            "text/plain": [
              "<IPython.core.display.HTML object>"
            ]
          },
          "metadata": {
            "tags": []
          }
        },
        {
          "output_type": "display_data",
          "data": {
            "text/html": [
              "<span style=\"color:#4527A0\"><h1 style=\"font-size:18px\">Trial summary</h1></span>"
            ],
            "text/plain": [
              "<IPython.core.display.HTML object>"
            ]
          },
          "metadata": {
            "tags": []
          }
        },
        {
          "output_type": "display_data",
          "data": {
            "text/html": [
              "<span style=\"color:cyan\"> |-Trial ID: 64ee1544b3ae3309b73228a4fbbfde0f</span>"
            ],
            "text/plain": [
              "<IPython.core.display.HTML object>"
            ]
          },
          "metadata": {
            "tags": []
          }
        },
        {
          "output_type": "display_data",
          "data": {
            "text/html": [
              "<span style=\"color:cyan\"> |-Score: 1577697.875</span>"
            ],
            "text/plain": [
              "<IPython.core.display.HTML object>"
            ]
          },
          "metadata": {
            "tags": []
          }
        },
        {
          "output_type": "display_data",
          "data": {
            "text/html": [
              "<span style=\"color:cyan\"> |-Best step: 0</span>"
            ],
            "text/plain": [
              "<IPython.core.display.HTML object>"
            ]
          },
          "metadata": {
            "tags": []
          }
        },
        {
          "output_type": "display_data",
          "data": {
            "text/html": [
              "<span style=\"color:#7E57C2\"><h2 style=\"font-size:16px\">Hyperparameters:</h2></span>"
            ],
            "text/plain": [
              "<IPython.core.display.HTML object>"
            ]
          },
          "metadata": {
            "tags": []
          }
        },
        {
          "output_type": "display_data",
          "data": {
            "text/html": [
              "<span style=\"color:cyan\"> |-activation: selu</span>"
            ],
            "text/plain": [
              "<IPython.core.display.HTML object>"
            ]
          },
          "metadata": {
            "tags": []
          }
        },
        {
          "output_type": "display_data",
          "data": {
            "text/html": [
              "<span style=\"color:blue\"> |-hidden_layers: 3</span>"
            ],
            "text/plain": [
              "<IPython.core.display.HTML object>"
            ]
          },
          "metadata": {
            "tags": []
          }
        },
        {
          "output_type": "display_data",
          "data": {
            "text/html": [
              "<span style=\"color:cyan\"> |-layer_0_units_: 869</span>"
            ],
            "text/plain": [
              "<IPython.core.display.HTML object>"
            ]
          },
          "metadata": {
            "tags": []
          }
        },
        {
          "output_type": "display_data",
          "data": {
            "text/html": [
              "<span style=\"color:blue\"> |-layer_1_units_: 276</span>"
            ],
            "text/plain": [
              "<IPython.core.display.HTML object>"
            ]
          },
          "metadata": {
            "tags": []
          }
        },
        {
          "output_type": "display_data",
          "data": {
            "text/html": [
              "<span style=\"color:cyan\"> |-layer_2_units_: 289</span>"
            ],
            "text/plain": [
              "<IPython.core.display.HTML object>"
            ]
          },
          "metadata": {
            "tags": []
          }
        },
        {
          "output_type": "display_data",
          "data": {
            "text/html": [
              "<span style=\"color:blue\"> |-units: 1792</span>"
            ],
            "text/plain": [
              "<IPython.core.display.HTML object>"
            ]
          },
          "metadata": {
            "tags": []
          }
        },
        {
          "output_type": "stream",
          "text": [
            "Epoch 1/10\n",
            "327/327 [==============================] - 19s 60ms/step - loss: 39270454657024.0000 - mae: 4282638.0000 - val_loss: 18588700246016.0000 - val_mae: 2887779.0000\n",
            "Epoch 2/10\n",
            "327/327 [==============================] - 19s 59ms/step - loss: 18323026739200.0000 - mae: 2605069.7500 - val_loss: 12173219725312.0000 - val_mae: 2263406.2500\n",
            "Epoch 3/10\n",
            "327/327 [==============================] - 19s 59ms/step - loss: 13692816064512.0000 - mae: 2159326.0000 - val_loss: 9896412053504.0000 - val_mae: 1959032.7500\n",
            "Epoch 4/10\n",
            "327/327 [==============================] - 19s 59ms/step - loss: 11989989457920.0000 - mae: 1979327.8750 - val_loss: 9115624538112.0000 - val_mae: 1829289.8750\n",
            "Epoch 5/10\n",
            "327/327 [==============================] - 19s 59ms/step - loss: 11000015224832.0000 - mae: 1850421.7500 - val_loss: 8461424263168.0000 - val_mae: 1771244.8750\n",
            "Epoch 6/10\n",
            "327/327 [==============================] - 19s 59ms/step - loss: 10505926213632.0000 - mae: 1795783.6250 - val_loss: 8104774205440.0000 - val_mae: 1687611.3750\n",
            "Epoch 7/10\n",
            "327/327 [==============================] - 19s 59ms/step - loss: 10000383606784.0000 - mae: 1740573.3750 - val_loss: 8068609343488.0000 - val_mae: 1721445.8750\n",
            "Epoch 8/10\n",
            "327/327 [==============================] - 20s 60ms/step - loss: 9804896534528.0000 - mae: 1718036.6250 - val_loss: 7661026803712.0000 - val_mae: 1638713.6250\n",
            "Epoch 9/10\n",
            "327/327 [==============================] - 19s 59ms/step - loss: 9463839850496.0000 - mae: 1692308.6250 - val_loss: 7504905895936.0000 - val_mae: 1594604.8750\n",
            "Epoch 10/10\n",
            "327/327 [==============================] - 20s 60ms/step - loss: 9309657235456.0000 - mae: 1667161.7500 - val_loss: 7386567802880.0000 - val_mae: 1619769.0000\n"
          ],
          "name": "stdout"
        },
        {
          "output_type": "display_data",
          "data": {
            "text/html": [
              "<span style=\"color:#4527A0\"><h1 style=\"font-size:18px\">Trial complete</h1></span>"
            ],
            "text/plain": [
              "<IPython.core.display.HTML object>"
            ]
          },
          "metadata": {
            "tags": []
          }
        },
        {
          "output_type": "display_data",
          "data": {
            "text/html": [
              "<span style=\"color:#4527A0\"><h1 style=\"font-size:18px\">Trial summary</h1></span>"
            ],
            "text/plain": [
              "<IPython.core.display.HTML object>"
            ]
          },
          "metadata": {
            "tags": []
          }
        },
        {
          "output_type": "display_data",
          "data": {
            "text/html": [
              "<span style=\"color:cyan\"> |-Trial ID: 25d52485f9cbe1f4d7ee76321c380e99</span>"
            ],
            "text/plain": [
              "<IPython.core.display.HTML object>"
            ]
          },
          "metadata": {
            "tags": []
          }
        },
        {
          "output_type": "display_data",
          "data": {
            "text/html": [
              "<span style=\"color:cyan\"> |-Score: 1594604.875</span>"
            ],
            "text/plain": [
              "<IPython.core.display.HTML object>"
            ]
          },
          "metadata": {
            "tags": []
          }
        },
        {
          "output_type": "display_data",
          "data": {
            "text/html": [
              "<span style=\"color:cyan\"> |-Best step: 0</span>"
            ],
            "text/plain": [
              "<IPython.core.display.HTML object>"
            ]
          },
          "metadata": {
            "tags": []
          }
        },
        {
          "output_type": "display_data",
          "data": {
            "text/html": [
              "<span style=\"color:#7E57C2\"><h2 style=\"font-size:16px\">Hyperparameters:</h2></span>"
            ],
            "text/plain": [
              "<IPython.core.display.HTML object>"
            ]
          },
          "metadata": {
            "tags": []
          }
        },
        {
          "output_type": "display_data",
          "data": {
            "text/html": [
              "<span style=\"color:cyan\"> |-activation: elu</span>"
            ],
            "text/plain": [
              "<IPython.core.display.HTML object>"
            ]
          },
          "metadata": {
            "tags": []
          }
        },
        {
          "output_type": "display_data",
          "data": {
            "text/html": [
              "<span style=\"color:blue\"> |-hidden_layers: 2</span>"
            ],
            "text/plain": [
              "<IPython.core.display.HTML object>"
            ]
          },
          "metadata": {
            "tags": []
          }
        },
        {
          "output_type": "display_data",
          "data": {
            "text/html": [
              "<span style=\"color:cyan\"> |-layer_0_units_: 1185</span>"
            ],
            "text/plain": [
              "<IPython.core.display.HTML object>"
            ]
          },
          "metadata": {
            "tags": []
          }
        },
        {
          "output_type": "display_data",
          "data": {
            "text/html": [
              "<span style=\"color:blue\"> |-layer_1_units_: 434</span>"
            ],
            "text/plain": [
              "<IPython.core.display.HTML object>"
            ]
          },
          "metadata": {
            "tags": []
          }
        },
        {
          "output_type": "display_data",
          "data": {
            "text/html": [
              "<span style=\"color:cyan\"> |-layer_2_units_: 184</span>"
            ],
            "text/plain": [
              "<IPython.core.display.HTML object>"
            ]
          },
          "metadata": {
            "tags": []
          }
        },
        {
          "output_type": "display_data",
          "data": {
            "text/html": [
              "<span style=\"color:blue\"> |-units: 1792</span>"
            ],
            "text/plain": [
              "<IPython.core.display.HTML object>"
            ]
          },
          "metadata": {
            "tags": []
          }
        },
        {
          "output_type": "stream",
          "text": [
            "Epoch 1/10\n",
            "327/327 [==============================] - 25s 76ms/step - loss: 28528454139904.0000 - mae: 3437624.2500 - val_loss: 12825684606976.0000 - val_mae: 2323485.7500\n",
            "Epoch 2/10\n",
            "327/327 [==============================] - 22s 67ms/step - loss: 13654279847936.0000 - mae: 2162658.5000 - val_loss: 9466544128000.0000 - val_mae: 1890503.8750\n",
            "Epoch 3/10\n",
            "327/327 [==============================] - 21s 66ms/step - loss: 11249303683072.0000 - mae: 1871811.5000 - val_loss: 8473921716224.0000 - val_mae: 1754899.8750\n",
            "Epoch 4/10\n",
            "327/327 [==============================] - 21s 66ms/step - loss: 10476237881344.0000 - mae: 1783725.5000 - val_loss: 8011503370240.0000 - val_mae: 1721470.5000\n",
            "Epoch 5/10\n",
            "327/327 [==============================] - 21s 66ms/step - loss: 9925390499840.0000 - mae: 1730800.1250 - val_loss: 7653776949248.0000 - val_mae: 1617887.7500\n",
            "Epoch 6/10\n",
            "327/327 [==============================] - 21s 66ms/step - loss: 9638081724416.0000 - mae: 1703767.0000 - val_loss: 7540445282304.0000 - val_mae: 1673333.6250\n",
            "Epoch 7/10\n",
            "327/327 [==============================] - 21s 65ms/step - loss: 9447398178816.0000 - mae: 1677914.1250 - val_loss: 7399829667840.0000 - val_mae: 1634740.7500\n",
            "Epoch 8/10\n",
            "327/327 [==============================] - 21s 65ms/step - loss: 9054999019520.0000 - mae: 1655951.5000 - val_loss: 7246469136384.0000 - val_mae: 1662720.6250\n",
            "Epoch 9/10\n",
            "327/327 [==============================] - 21s 65ms/step - loss: 8934031097856.0000 - mae: 1635559.2500 - val_loss: 7140999168000.0000 - val_mae: 1562007.3750\n",
            "Epoch 10/10\n",
            "327/327 [==============================] - 21s 65ms/step - loss: 8842236657664.0000 - mae: 1630573.5000 - val_loss: 7374772895744.0000 - val_mae: 1599412.8750\n"
          ],
          "name": "stdout"
        },
        {
          "output_type": "display_data",
          "data": {
            "text/html": [
              "<span style=\"color:#4527A0\"><h1 style=\"font-size:18px\">Trial complete</h1></span>"
            ],
            "text/plain": [
              "<IPython.core.display.HTML object>"
            ]
          },
          "metadata": {
            "tags": []
          }
        },
        {
          "output_type": "display_data",
          "data": {
            "text/html": [
              "<span style=\"color:#4527A0\"><h1 style=\"font-size:18px\">Trial summary</h1></span>"
            ],
            "text/plain": [
              "<IPython.core.display.HTML object>"
            ]
          },
          "metadata": {
            "tags": []
          }
        },
        {
          "output_type": "display_data",
          "data": {
            "text/html": [
              "<span style=\"color:cyan\"> |-Trial ID: 023fc8037548c06584b55938cacfa5b5</span>"
            ],
            "text/plain": [
              "<IPython.core.display.HTML object>"
            ]
          },
          "metadata": {
            "tags": []
          }
        },
        {
          "output_type": "display_data",
          "data": {
            "text/html": [
              "<span style=\"color:cyan\"> |-Score: 1562007.375</span>"
            ],
            "text/plain": [
              "<IPython.core.display.HTML object>"
            ]
          },
          "metadata": {
            "tags": []
          }
        },
        {
          "output_type": "display_data",
          "data": {
            "text/html": [
              "<span style=\"color:cyan\"> |-Best step: 0</span>"
            ],
            "text/plain": [
              "<IPython.core.display.HTML object>"
            ]
          },
          "metadata": {
            "tags": []
          }
        },
        {
          "output_type": "display_data",
          "data": {
            "text/html": [
              "<span style=\"color:#7E57C2\"><h2 style=\"font-size:16px\">Hyperparameters:</h2></span>"
            ],
            "text/plain": [
              "<IPython.core.display.HTML object>"
            ]
          },
          "metadata": {
            "tags": []
          }
        },
        {
          "output_type": "display_data",
          "data": {
            "text/html": [
              "<span style=\"color:cyan\"> |-activation: elu</span>"
            ],
            "text/plain": [
              "<IPython.core.display.HTML object>"
            ]
          },
          "metadata": {
            "tags": []
          }
        },
        {
          "output_type": "display_data",
          "data": {
            "text/html": [
              "<span style=\"color:blue\"> |-hidden_layers: 3</span>"
            ],
            "text/plain": [
              "<IPython.core.display.HTML object>"
            ]
          },
          "metadata": {
            "tags": []
          }
        },
        {
          "output_type": "display_data",
          "data": {
            "text/html": [
              "<span style=\"color:cyan\"> |-layer_0_units_: 553</span>"
            ],
            "text/plain": [
              "<IPython.core.display.HTML object>"
            ]
          },
          "metadata": {
            "tags": []
          }
        },
        {
          "output_type": "display_data",
          "data": {
            "text/html": [
              "<span style=\"color:blue\"> |-layer_1_units_: 434</span>"
            ],
            "text/plain": [
              "<IPython.core.display.HTML object>"
            ]
          },
          "metadata": {
            "tags": []
          }
        },
        {
          "output_type": "display_data",
          "data": {
            "text/html": [
              "<span style=\"color:cyan\"> |-layer_2_units_: 79</span>"
            ],
            "text/plain": [
              "<IPython.core.display.HTML object>"
            ]
          },
          "metadata": {
            "tags": []
          }
        },
        {
          "output_type": "display_data",
          "data": {
            "text/html": [
              "<span style=\"color:blue\"> |-units: 4096</span>"
            ],
            "text/plain": [
              "<IPython.core.display.HTML object>"
            ]
          },
          "metadata": {
            "tags": []
          }
        },
        {
          "output_type": "stream",
          "text": [
            "Epoch 1/10\n",
            "327/327 [==============================] - 7s 20ms/step - loss: 52409174851584.0000 - mae: 5336526.5000 - val_loss: 23801268011008.0000 - val_mae: 3247383.5000\n",
            "Epoch 2/10\n",
            "327/327 [==============================] - 7s 20ms/step - loss: 24067893624832.0000 - mae: 3077456.7500 - val_loss: 17076670431232.0000 - val_mae: 2709216.0000\n",
            "Epoch 3/10\n",
            "327/327 [==============================] - 6s 20ms/step - loss: 18311676952576.0000 - mae: 2590767.0000 - val_loss: 12536389828608.0000 - val_mae: 2241105.5000\n",
            "Epoch 4/10\n",
            "327/327 [==============================] - 6s 19ms/step - loss: 14637268467712.0000 - mae: 2224952.0000 - val_loss: 10505492103168.0000 - val_mae: 2008502.2500\n",
            "Epoch 5/10\n",
            "327/327 [==============================] - 6s 20ms/step - loss: 12853319827456.0000 - mae: 2049349.1250 - val_loss: 9646774419456.0000 - val_mae: 1906958.2500\n",
            "Epoch 6/10\n",
            "327/327 [==============================] - 7s 20ms/step - loss: 11918062387200.0000 - mae: 1948509.3750 - val_loss: 9127786971136.0000 - val_mae: 1847929.7500\n",
            "Epoch 7/10\n",
            "327/327 [==============================] - 7s 20ms/step - loss: 11282539347968.0000 - mae: 1865701.3750 - val_loss: 8752038150144.0000 - val_mae: 1761511.3750\n",
            "Epoch 8/10\n",
            "327/327 [==============================] - 7s 20ms/step - loss: 10822915981312.0000 - mae: 1805431.5000 - val_loss: 8609962393600.0000 - val_mae: 1764894.0000\n",
            "Epoch 9/10\n",
            "327/327 [==============================] - 6s 20ms/step - loss: 10471841202176.0000 - mae: 1768221.7500 - val_loss: 8740415209472.0000 - val_mae: 1748720.6250\n",
            "Epoch 10/10\n",
            "327/327 [==============================] - 7s 20ms/step - loss: 10165917057024.0000 - mae: 1734114.3750 - val_loss: 7995872247808.0000 - val_mae: 1676000.8750\n"
          ],
          "name": "stdout"
        },
        {
          "output_type": "display_data",
          "data": {
            "text/html": [
              "<span style=\"color:#4527A0\"><h1 style=\"font-size:18px\">Trial complete</h1></span>"
            ],
            "text/plain": [
              "<IPython.core.display.HTML object>"
            ]
          },
          "metadata": {
            "tags": []
          }
        },
        {
          "output_type": "display_data",
          "data": {
            "text/html": [
              "<span style=\"color:#4527A0\"><h1 style=\"font-size:18px\">Trial summary</h1></span>"
            ],
            "text/plain": [
              "<IPython.core.display.HTML object>"
            ]
          },
          "metadata": {
            "tags": []
          }
        },
        {
          "output_type": "display_data",
          "data": {
            "text/html": [
              "<span style=\"color:cyan\"> |-Trial ID: 14923afc8ae5afb316fa08f5af22283c</span>"
            ],
            "text/plain": [
              "<IPython.core.display.HTML object>"
            ]
          },
          "metadata": {
            "tags": []
          }
        },
        {
          "output_type": "display_data",
          "data": {
            "text/html": [
              "<span style=\"color:cyan\"> |-Score: 1676000.875</span>"
            ],
            "text/plain": [
              "<IPython.core.display.HTML object>"
            ]
          },
          "metadata": {
            "tags": []
          }
        },
        {
          "output_type": "display_data",
          "data": {
            "text/html": [
              "<span style=\"color:cyan\"> |-Best step: 0</span>"
            ],
            "text/plain": [
              "<IPython.core.display.HTML object>"
            ]
          },
          "metadata": {
            "tags": []
          }
        },
        {
          "output_type": "display_data",
          "data": {
            "text/html": [
              "<span style=\"color:#7E57C2\"><h2 style=\"font-size:16px\">Hyperparameters:</h2></span>"
            ],
            "text/plain": [
              "<IPython.core.display.HTML object>"
            ]
          },
          "metadata": {
            "tags": []
          }
        },
        {
          "output_type": "display_data",
          "data": {
            "text/html": [
              "<span style=\"color:cyan\"> |-activation: elu</span>"
            ],
            "text/plain": [
              "<IPython.core.display.HTML object>"
            ]
          },
          "metadata": {
            "tags": []
          }
        },
        {
          "output_type": "display_data",
          "data": {
            "text/html": [
              "<span style=\"color:blue\"> |-hidden_layers: 2</span>"
            ],
            "text/plain": [
              "<IPython.core.display.HTML object>"
            ]
          },
          "metadata": {
            "tags": []
          }
        },
        {
          "output_type": "display_data",
          "data": {
            "text/html": [
              "<span style=\"color:cyan\"> |-layer_0_units_: 237</span>"
            ],
            "text/plain": [
              "<IPython.core.display.HTML object>"
            ]
          },
          "metadata": {
            "tags": []
          }
        },
        {
          "output_type": "display_data",
          "data": {
            "text/html": [
              "<span style=\"color:blue\"> |-layer_1_units_: 276</span>"
            ],
            "text/plain": [
              "<IPython.core.display.HTML object>"
            ]
          },
          "metadata": {
            "tags": []
          }
        },
        {
          "output_type": "display_data",
          "data": {
            "text/html": [
              "<span style=\"color:cyan\"> |-layer_2_units_: 394</span>"
            ],
            "text/plain": [
              "<IPython.core.display.HTML object>"
            ]
          },
          "metadata": {
            "tags": []
          }
        },
        {
          "output_type": "display_data",
          "data": {
            "text/html": [
              "<span style=\"color:blue\"> |-units: 1792</span>"
            ],
            "text/plain": [
              "<IPython.core.display.HTML object>"
            ]
          },
          "metadata": {
            "tags": []
          }
        },
        {
          "output_type": "stream",
          "text": [
            "Epoch 1/10\n",
            "327/327 [==============================] - 23s 70ms/step - loss: 45732551720960.0000 - mae: 4926992.0000 - val_loss: 20667919499264.0000 - val_mae: 2990206.5000\n",
            "Epoch 2/10\n",
            "327/327 [==============================] - 23s 70ms/step - loss: 21053512351744.0000 - mae: 2855501.0000 - val_loss: 14644645199872.0000 - val_mae: 2512850.2500\n",
            "Epoch 3/10\n",
            "327/327 [==============================] - 23s 71ms/step - loss: 16188629319680.0000 - mae: 2438276.0000 - val_loss: 11917995278336.0000 - val_mae: 2232552.5000\n",
            "Epoch 4/10\n",
            "327/327 [==============================] - 22s 68ms/step - loss: 13924471668736.0000 - mae: 2239431.5000 - val_loss: 10774736011264.0000 - val_mae: 2113603.0000\n",
            "Epoch 5/10\n",
            "327/327 [==============================] - 22s 68ms/step - loss: 12688488923136.0000 - mae: 2111312.7500 - val_loss: 9693485334528.0000 - val_mae: 1982795.7500\n",
            "Epoch 6/10\n",
            "327/327 [==============================] - 22s 68ms/step - loss: 11591990902784.0000 - mae: 1964426.3750 - val_loss: 9854000300032.0000 - val_mae: 1940770.7500\n",
            "Epoch 7/10\n",
            "327/327 [==============================] - 22s 68ms/step - loss: 10906067009536.0000 - mae: 1861133.1250 - val_loss: 8513088126976.0000 - val_mae: 1768032.7500\n",
            "Epoch 8/10\n",
            "327/327 [==============================] - 22s 67ms/step - loss: 10473874391040.0000 - mae: 1802718.5000 - val_loss: 8223228690432.0000 - val_mae: 1754031.3750\n",
            "Epoch 9/10\n",
            "327/327 [==============================] - 22s 67ms/step - loss: 10152184905728.0000 - mae: 1768049.0000 - val_loss: 7957470248960.0000 - val_mae: 1711027.7500\n",
            "Epoch 10/10\n",
            "327/327 [==============================] - 22s 67ms/step - loss: 9897149202432.0000 - mae: 1731072.5000 - val_loss: 7710737170432.0000 - val_mae: 1652934.2500\n"
          ],
          "name": "stdout"
        },
        {
          "output_type": "display_data",
          "data": {
            "text/html": [
              "<span style=\"color:#4527A0\"><h1 style=\"font-size:18px\">Trial complete</h1></span>"
            ],
            "text/plain": [
              "<IPython.core.display.HTML object>"
            ]
          },
          "metadata": {
            "tags": []
          }
        },
        {
          "output_type": "display_data",
          "data": {
            "text/html": [
              "<span style=\"color:#4527A0\"><h1 style=\"font-size:18px\">Trial summary</h1></span>"
            ],
            "text/plain": [
              "<IPython.core.display.HTML object>"
            ]
          },
          "metadata": {
            "tags": []
          }
        },
        {
          "output_type": "display_data",
          "data": {
            "text/html": [
              "<span style=\"color:cyan\"> |-Trial ID: 566b946cfca46b27cbb15cd3dfbcb810</span>"
            ],
            "text/plain": [
              "<IPython.core.display.HTML object>"
            ]
          },
          "metadata": {
            "tags": []
          }
        },
        {
          "output_type": "display_data",
          "data": {
            "text/html": [
              "<span style=\"color:cyan\"> |-Score: 1652934.25</span>"
            ],
            "text/plain": [
              "<IPython.core.display.HTML object>"
            ]
          },
          "metadata": {
            "tags": []
          }
        },
        {
          "output_type": "display_data",
          "data": {
            "text/html": [
              "<span style=\"color:cyan\"> |-Best step: 0</span>"
            ],
            "text/plain": [
              "<IPython.core.display.HTML object>"
            ]
          },
          "metadata": {
            "tags": []
          }
        },
        {
          "output_type": "display_data",
          "data": {
            "text/html": [
              "<span style=\"color:#7E57C2\"><h2 style=\"font-size:16px\">Hyperparameters:</h2></span>"
            ],
            "text/plain": [
              "<IPython.core.display.HTML object>"
            ]
          },
          "metadata": {
            "tags": []
          }
        },
        {
          "output_type": "display_data",
          "data": {
            "text/html": [
              "<span style=\"color:cyan\"> |-activation: elu</span>"
            ],
            "text/plain": [
              "<IPython.core.display.HTML object>"
            ]
          },
          "metadata": {
            "tags": []
          }
        },
        {
          "output_type": "display_data",
          "data": {
            "text/html": [
              "<span style=\"color:blue\"> |-hidden_layers: 2</span>"
            ],
            "text/plain": [
              "<IPython.core.display.HTML object>"
            ]
          },
          "metadata": {
            "tags": []
          }
        },
        {
          "output_type": "display_data",
          "data": {
            "text/html": [
              "<span style=\"color:cyan\"> |-layer_0_units_: 869</span>"
            ],
            "text/plain": [
              "<IPython.core.display.HTML object>"
            ]
          },
          "metadata": {
            "tags": []
          }
        },
        {
          "output_type": "display_data",
          "data": {
            "text/html": [
              "<span style=\"color:blue\"> |-layer_1_units_: 118</span>"
            ],
            "text/plain": [
              "<IPython.core.display.HTML object>"
            ]
          },
          "metadata": {
            "tags": []
          }
        },
        {
          "output_type": "display_data",
          "data": {
            "text/html": [
              "<span style=\"color:cyan\"> |-layer_2_units_: 79</span>"
            ],
            "text/plain": [
              "<IPython.core.display.HTML object>"
            ]
          },
          "metadata": {
            "tags": []
          }
        },
        {
          "output_type": "display_data",
          "data": {
            "text/html": [
              "<span style=\"color:blue\"> |-units: 3328</span>"
            ],
            "text/plain": [
              "<IPython.core.display.HTML object>"
            ]
          },
          "metadata": {
            "tags": []
          }
        },
        {
          "output_type": "stream",
          "text": [
            "Epoch 1/10\n",
            "327/327 [==============================] - 29s 89ms/step - loss: 28911828205568.0000 - mae: 3331705.5000 - val_loss: 14626928459776.0000 - val_mae: 2453780.5000\n",
            "Epoch 2/10\n",
            "327/327 [==============================] - 29s 90ms/step - loss: 16668859301888.0000 - mae: 2377290.2500 - val_loss: 12225952612352.0000 - val_mae: 2215815.7500\n",
            "Epoch 3/10\n",
            "327/327 [==============================] - 29s 90ms/step - loss: 14662387105792.0000 - mae: 2166635.0000 - val_loss: 9702079463424.0000 - val_mae: 1939935.7500\n",
            "Epoch 4/10\n",
            "327/327 [==============================] - 32s 99ms/step - loss: 11808631947264.0000 - mae: 1922753.8750 - val_loss: 8190150311936.0000 - val_mae: 1736119.7500\n",
            "Epoch 5/10\n",
            "327/327 [==============================] - 30s 91ms/step - loss: 10234311475200.0000 - mae: 1781944.6250 - val_loss: 7803195883520.0000 - val_mae: 1650143.5000\n",
            "Epoch 6/10\n",
            "327/327 [==============================] - 29s 89ms/step - loss: 10042585645056.0000 - mae: 1737094.0000 - val_loss: 7541800566784.0000 - val_mae: 1709217.3750\n",
            "Epoch 7/10\n",
            "327/327 [==============================] - 29s 88ms/step - loss: 9453582680064.0000 - mae: 1714709.6250 - val_loss: 8076597395456.0000 - val_mae: 1762442.7500\n",
            "Epoch 8/10\n",
            "327/327 [==============================] - 29s 88ms/step - loss: 9229756792832.0000 - mae: 1693617.1250 - val_loss: 7334513344512.0000 - val_mae: 1582557.6250\n",
            "Epoch 9/10\n",
            "327/327 [==============================] - 29s 88ms/step - loss: 9078772334592.0000 - mae: 1676067.0000 - val_loss: 7195742175232.0000 - val_mae: 1589991.2500\n",
            "Epoch 10/10\n",
            "327/327 [==============================] - 29s 88ms/step - loss: 8917767684096.0000 - mae: 1655770.0000 - val_loss: 7191060283392.0000 - val_mae: 1666092.1250\n"
          ],
          "name": "stdout"
        },
        {
          "output_type": "display_data",
          "data": {
            "text/html": [
              "<span style=\"color:#4527A0\"><h1 style=\"font-size:18px\">Trial complete</h1></span>"
            ],
            "text/plain": [
              "<IPython.core.display.HTML object>"
            ]
          },
          "metadata": {
            "tags": []
          }
        },
        {
          "output_type": "display_data",
          "data": {
            "text/html": [
              "<span style=\"color:#4527A0\"><h1 style=\"font-size:18px\">Trial summary</h1></span>"
            ],
            "text/plain": [
              "<IPython.core.display.HTML object>"
            ]
          },
          "metadata": {
            "tags": []
          }
        },
        {
          "output_type": "display_data",
          "data": {
            "text/html": [
              "<span style=\"color:cyan\"> |-Trial ID: c344a015e0308802771bbbf7e0d028e5</span>"
            ],
            "text/plain": [
              "<IPython.core.display.HTML object>"
            ]
          },
          "metadata": {
            "tags": []
          }
        },
        {
          "output_type": "display_data",
          "data": {
            "text/html": [
              "<span style=\"color:cyan\"> |-Score: 1582557.625</span>"
            ],
            "text/plain": [
              "<IPython.core.display.HTML object>"
            ]
          },
          "metadata": {
            "tags": []
          }
        },
        {
          "output_type": "display_data",
          "data": {
            "text/html": [
              "<span style=\"color:cyan\"> |-Best step: 0</span>"
            ],
            "text/plain": [
              "<IPython.core.display.HTML object>"
            ]
          },
          "metadata": {
            "tags": []
          }
        },
        {
          "output_type": "display_data",
          "data": {
            "text/html": [
              "<span style=\"color:#7E57C2\"><h2 style=\"font-size:16px\">Hyperparameters:</h2></span>"
            ],
            "text/plain": [
              "<IPython.core.display.HTML object>"
            ]
          },
          "metadata": {
            "tags": []
          }
        },
        {
          "output_type": "display_data",
          "data": {
            "text/html": [
              "<span style=\"color:cyan\"> |-activation: selu</span>"
            ],
            "text/plain": [
              "<IPython.core.display.HTML object>"
            ]
          },
          "metadata": {
            "tags": []
          }
        },
        {
          "output_type": "display_data",
          "data": {
            "text/html": [
              "<span style=\"color:blue\"> |-hidden_layers: 3</span>"
            ],
            "text/plain": [
              "<IPython.core.display.HTML object>"
            ]
          },
          "metadata": {
            "tags": []
          }
        },
        {
          "output_type": "display_data",
          "data": {
            "text/html": [
              "<span style=\"color:cyan\"> |-layer_0_units_: 1185</span>"
            ],
            "text/plain": [
              "<IPython.core.display.HTML object>"
            ]
          },
          "metadata": {
            "tags": []
          }
        },
        {
          "output_type": "display_data",
          "data": {
            "text/html": [
              "<span style=\"color:blue\"> |-layer_1_units_: 276</span>"
            ],
            "text/plain": [
              "<IPython.core.display.HTML object>"
            ]
          },
          "metadata": {
            "tags": []
          }
        },
        {
          "output_type": "display_data",
          "data": {
            "text/html": [
              "<span style=\"color:cyan\"> |-layer_2_units_: 289</span>"
            ],
            "text/plain": [
              "<IPython.core.display.HTML object>"
            ]
          },
          "metadata": {
            "tags": []
          }
        },
        {
          "output_type": "display_data",
          "data": {
            "text/html": [
              "<span style=\"color:blue\"> |-units: 3328</span>"
            ],
            "text/plain": [
              "<IPython.core.display.HTML object>"
            ]
          },
          "metadata": {
            "tags": []
          }
        },
        {
          "output_type": "stream",
          "text": [
            "Epoch 1/10\n",
            "327/327 [==============================] - 4s 12ms/step - loss: 63932706324480.0000 - mae: 6412039.0000 - val_loss: 38042811236352.0000 - val_mae: 4853181.5000\n",
            "Epoch 2/10\n",
            "327/327 [==============================] - 4s 12ms/step - loss: 31421141876736.0000 - mae: 3897951.2500 - val_loss: 20923667185664.0000 - val_mae: 3101451.5000\n",
            "Epoch 3/10\n",
            "327/327 [==============================] - 4s 12ms/step - loss: 22734576812032.0000 - mae: 2985172.0000 - val_loss: 16998714048512.0000 - val_mae: 2715308.0000\n",
            "Epoch 4/10\n",
            "327/327 [==============================] - 4s 12ms/step - loss: 19463376207872.0000 - mae: 2719923.0000 - val_loss: 14666285711360.0000 - val_mae: 2507809.5000\n",
            "Epoch 5/10\n",
            "327/327 [==============================] - 4s 13ms/step - loss: 17074242977792.0000 - mae: 2516997.2500 - val_loss: 12957394141184.0000 - val_mae: 2329655.7500\n",
            "Epoch 6/10\n",
            "327/327 [==============================] - 4s 12ms/step - loss: 15409825710080.0000 - mae: 2379466.2500 - val_loss: 11814596247552.0000 - val_mae: 2227092.2500\n",
            "Epoch 7/10\n",
            "327/327 [==============================] - 4s 13ms/step - loss: 14270580391936.0000 - mae: 2275875.7500 - val_loss: 11182640463872.0000 - val_mae: 2162578.5000\n",
            "Epoch 8/10\n",
            "327/327 [==============================] - 4s 12ms/step - loss: 13629495705600.0000 - mae: 2228255.5000 - val_loss: 10781550706688.0000 - val_mae: 2123177.0000\n",
            "Epoch 9/10\n",
            "327/327 [==============================] - 4s 12ms/step - loss: 13107649839104.0000 - mae: 2185550.2500 - val_loss: 10409781231616.0000 - val_mae: 2080288.1250\n",
            "Epoch 10/10\n",
            "327/327 [==============================] - 4s 13ms/step - loss: 12709037867008.0000 - mae: 2148994.5000 - val_loss: 10142656495616.0000 - val_mae: 2058679.0000\n"
          ],
          "name": "stdout"
        },
        {
          "output_type": "display_data",
          "data": {
            "text/html": [
              "<span style=\"color:#4527A0\"><h1 style=\"font-size:18px\">Trial complete</h1></span>"
            ],
            "text/plain": [
              "<IPython.core.display.HTML object>"
            ]
          },
          "metadata": {
            "tags": []
          }
        },
        {
          "output_type": "display_data",
          "data": {
            "text/html": [
              "<span style=\"color:#4527A0\"><h1 style=\"font-size:18px\">Trial summary</h1></span>"
            ],
            "text/plain": [
              "<IPython.core.display.HTML object>"
            ]
          },
          "metadata": {
            "tags": []
          }
        },
        {
          "output_type": "display_data",
          "data": {
            "text/html": [
              "<span style=\"color:cyan\"> |-Trial ID: 598cdde7ee999b84c2e25f8b116a2eb1</span>"
            ],
            "text/plain": [
              "<IPython.core.display.HTML object>"
            ]
          },
          "metadata": {
            "tags": []
          }
        },
        {
          "output_type": "display_data",
          "data": {
            "text/html": [
              "<span style=\"color:cyan\"> |-Score: 2058679.0</span>"
            ],
            "text/plain": [
              "<IPython.core.display.HTML object>"
            ]
          },
          "metadata": {
            "tags": []
          }
        },
        {
          "output_type": "display_data",
          "data": {
            "text/html": [
              "<span style=\"color:cyan\"> |-Best step: 0</span>"
            ],
            "text/plain": [
              "<IPython.core.display.HTML object>"
            ]
          },
          "metadata": {
            "tags": []
          }
        },
        {
          "output_type": "display_data",
          "data": {
            "text/html": [
              "<span style=\"color:#7E57C2\"><h2 style=\"font-size:16px\">Hyperparameters:</h2></span>"
            ],
            "text/plain": [
              "<IPython.core.display.HTML object>"
            ]
          },
          "metadata": {
            "tags": []
          }
        },
        {
          "output_type": "display_data",
          "data": {
            "text/html": [
              "<span style=\"color:cyan\"> |-activation: selu</span>"
            ],
            "text/plain": [
              "<IPython.core.display.HTML object>"
            ]
          },
          "metadata": {
            "tags": []
          }
        },
        {
          "output_type": "display_data",
          "data": {
            "text/html": [
              "<span style=\"color:blue\"> |-hidden_layers: 2</span>"
            ],
            "text/plain": [
              "<IPython.core.display.HTML object>"
            ]
          },
          "metadata": {
            "tags": []
          }
        },
        {
          "output_type": "display_data",
          "data": {
            "text/html": [
              "<span style=\"color:cyan\"> |-layer_0_units_: 1185</span>"
            ],
            "text/plain": [
              "<IPython.core.display.HTML object>"
            ]
          },
          "metadata": {
            "tags": []
          }
        },
        {
          "output_type": "display_data",
          "data": {
            "text/html": [
              "<span style=\"color:blue\"> |-layer_1_units_: 118</span>"
            ],
            "text/plain": [
              "<IPython.core.display.HTML object>"
            ]
          },
          "metadata": {
            "tags": []
          }
        },
        {
          "output_type": "display_data",
          "data": {
            "text/html": [
              "<span style=\"color:cyan\"> |-layer_2_units_: 79</span>"
            ],
            "text/plain": [
              "<IPython.core.display.HTML object>"
            ]
          },
          "metadata": {
            "tags": []
          }
        },
        {
          "output_type": "display_data",
          "data": {
            "text/html": [
              "<span style=\"color:blue\"> |-units: 256</span>"
            ],
            "text/plain": [
              "<IPython.core.display.HTML object>"
            ]
          },
          "metadata": {
            "tags": []
          }
        },
        {
          "output_type": "stream",
          "text": [
            "Epoch 1/10\n",
            "327/327 [==============================] - 6s 20ms/step - loss: 27397990645760.0000 - mae: 3226648.7500 - val_loss: 11066222313472.0000 - val_mae: 1978117.5000\n",
            "Epoch 2/10\n",
            "327/327 [==============================] - 6s 19ms/step - loss: 13157435179008.0000 - mae: 1987235.1250 - val_loss: 9012895547392.0000 - val_mae: 1819540.5000\n",
            "Epoch 3/10\n",
            "327/327 [==============================] - 6s 19ms/step - loss: 11400600616960.0000 - mae: 1884949.1250 - val_loss: 8747560730624.0000 - val_mae: 1756693.6250\n",
            "Epoch 4/10\n",
            "327/327 [==============================] - 6s 19ms/step - loss: 10750430019584.0000 - mae: 1805694.5000 - val_loss: 8296981856256.0000 - val_mae: 1738023.8750\n",
            "Epoch 5/10\n",
            "327/327 [==============================] - 6s 20ms/step - loss: 10380604604416.0000 - mae: 1769951.8750 - val_loss: 7800878530560.0000 - val_mae: 1652601.1250\n",
            "Epoch 6/10\n",
            "327/327 [==============================] - 6s 19ms/step - loss: 9912171102208.0000 - mae: 1727766.7500 - val_loss: 7509986770944.0000 - val_mae: 1633856.0000\n",
            "Epoch 7/10\n",
            "327/327 [==============================] - 6s 19ms/step - loss: 9745752653824.0000 - mae: 1715419.2500 - val_loss: 7422881038336.0000 - val_mae: 1565230.7500\n",
            "Epoch 8/10\n",
            "327/327 [==============================] - 6s 19ms/step - loss: 9563515387904.0000 - mae: 1695138.5000 - val_loss: 7453550313472.0000 - val_mae: 1563965.1250\n",
            "Epoch 9/10\n",
            "327/327 [==============================] - 6s 19ms/step - loss: 9350882000896.0000 - mae: 1688760.7500 - val_loss: 7928933777408.0000 - val_mae: 1775923.7500\n",
            "Epoch 10/10\n",
            "327/327 [==============================] - 6s 19ms/step - loss: 9350031605760.0000 - mae: 1684475.1250 - val_loss: 7151377973248.0000 - val_mae: 1562893.2500\n"
          ],
          "name": "stdout"
        },
        {
          "output_type": "display_data",
          "data": {
            "text/html": [
              "<span style=\"color:#4527A0\"><h1 style=\"font-size:18px\">Trial complete</h1></span>"
            ],
            "text/plain": [
              "<IPython.core.display.HTML object>"
            ]
          },
          "metadata": {
            "tags": []
          }
        },
        {
          "output_type": "display_data",
          "data": {
            "text/html": [
              "<span style=\"color:#4527A0\"><h1 style=\"font-size:18px\">Trial summary</h1></span>"
            ],
            "text/plain": [
              "<IPython.core.display.HTML object>"
            ]
          },
          "metadata": {
            "tags": []
          }
        },
        {
          "output_type": "display_data",
          "data": {
            "text/html": [
              "<span style=\"color:cyan\"> |-Trial ID: 844c980466c19884a1c678c5ed9f10b0</span>"
            ],
            "text/plain": [
              "<IPython.core.display.HTML object>"
            ]
          },
          "metadata": {
            "tags": []
          }
        },
        {
          "output_type": "display_data",
          "data": {
            "text/html": [
              "<span style=\"color:cyan\"> |-Score: 1562893.25</span>"
            ],
            "text/plain": [
              "<IPython.core.display.HTML object>"
            ]
          },
          "metadata": {
            "tags": []
          }
        },
        {
          "output_type": "display_data",
          "data": {
            "text/html": [
              "<span style=\"color:cyan\"> |-Best step: 0</span>"
            ],
            "text/plain": [
              "<IPython.core.display.HTML object>"
            ]
          },
          "metadata": {
            "tags": []
          }
        },
        {
          "output_type": "display_data",
          "data": {
            "text/html": [
              "<span style=\"color:#7E57C2\"><h2 style=\"font-size:16px\">Hyperparameters:</h2></span>"
            ],
            "text/plain": [
              "<IPython.core.display.HTML object>"
            ]
          },
          "metadata": {
            "tags": []
          }
        },
        {
          "output_type": "display_data",
          "data": {
            "text/html": [
              "<span style=\"color:cyan\"> |-activation: relu</span>"
            ],
            "text/plain": [
              "<IPython.core.display.HTML object>"
            ]
          },
          "metadata": {
            "tags": []
          }
        },
        {
          "output_type": "display_data",
          "data": {
            "text/html": [
              "<span style=\"color:blue\"> |-hidden_layers: 3</span>"
            ],
            "text/plain": [
              "<IPython.core.display.HTML object>"
            ]
          },
          "metadata": {
            "tags": []
          }
        },
        {
          "output_type": "display_data",
          "data": {
            "text/html": [
              "<span style=\"color:cyan\"> |-layer_0_units_: 869</span>"
            ],
            "text/plain": [
              "<IPython.core.display.HTML object>"
            ]
          },
          "metadata": {
            "tags": []
          }
        },
        {
          "output_type": "display_data",
          "data": {
            "text/html": [
              "<span style=\"color:blue\"> |-layer_1_units_: 434</span>"
            ],
            "text/plain": [
              "<IPython.core.display.HTML object>"
            ]
          },
          "metadata": {
            "tags": []
          }
        },
        {
          "output_type": "display_data",
          "data": {
            "text/html": [
              "<span style=\"color:cyan\"> |-layer_2_units_: 394</span>"
            ],
            "text/plain": [
              "<IPython.core.display.HTML object>"
            ]
          },
          "metadata": {
            "tags": []
          }
        },
        {
          "output_type": "display_data",
          "data": {
            "text/html": [
              "<span style=\"color:blue\"> |-units: 256</span>"
            ],
            "text/plain": [
              "<IPython.core.display.HTML object>"
            ]
          },
          "metadata": {
            "tags": []
          }
        },
        {
          "output_type": "stream",
          "text": [
            "Epoch 1/10\n",
            "327/327 [==============================] - 2s 7ms/step - loss: 75370703355904.0000 - mae: 7119300.0000 - val_loss: 67306705125376.0000 - val_mae: 6902828.0000\n",
            "Epoch 2/10\n",
            "327/327 [==============================] - 2s 7ms/step - loss: 68555114545152.0000 - mae: 6638033.0000 - val_loss: 56125592436736.0000 - val_mae: 6052692.5000\n",
            "Epoch 3/10\n",
            "327/327 [==============================] - 2s 7ms/step - loss: 52436081311744.0000 - mae: 5424474.5000 - val_loss: 38408349024256.0000 - val_mae: 4564482.0000\n",
            "Epoch 4/10\n",
            "327/327 [==============================] - 2s 6ms/step - loss: 35804034367488.0000 - mae: 3977239.2500 - val_loss: 25726222860288.0000 - val_mae: 3353700.0000\n",
            "Epoch 5/10\n",
            "327/327 [==============================] - 2s 7ms/step - loss: 27024261382144.0000 - mae: 3200551.2500 - val_loss: 20917684011008.0000 - val_mae: 2917107.7500\n",
            "Epoch 6/10\n",
            "327/327 [==============================] - 2s 7ms/step - loss: 23841436860416.0000 - mae: 2930876.0000 - val_loss: 18714103644160.0000 - val_mae: 2713798.7500\n",
            "Epoch 7/10\n",
            "327/327 [==============================] - 2s 6ms/step - loss: 21977064538112.0000 - mae: 2776401.0000 - val_loss: 17129570041856.0000 - val_mae: 2572382.2500\n",
            "Epoch 8/10\n",
            "327/327 [==============================] - 2s 6ms/step - loss: 20614542786560.0000 - mae: 2652499.0000 - val_loss: 15883955077120.0000 - val_mae: 2460738.2500\n",
            "Epoch 9/10\n",
            "327/327 [==============================] - 2s 7ms/step - loss: 19404456722432.0000 - mae: 2550623.5000 - val_loss: 14844384247808.0000 - val_mae: 2354140.7500\n",
            "Epoch 10/10\n",
            "327/327 [==============================] - 2s 6ms/step - loss: 18511684435968.0000 - mae: 2463150.7500 - val_loss: 13975857135616.0000 - val_mae: 2277012.7500\n"
          ],
          "name": "stdout"
        },
        {
          "output_type": "display_data",
          "data": {
            "text/html": [
              "<span style=\"color:#4527A0\"><h1 style=\"font-size:18px\">Trial complete</h1></span>"
            ],
            "text/plain": [
              "<IPython.core.display.HTML object>"
            ]
          },
          "metadata": {
            "tags": []
          }
        },
        {
          "output_type": "display_data",
          "data": {
            "text/html": [
              "<span style=\"color:#4527A0\"><h1 style=\"font-size:18px\">Trial summary</h1></span>"
            ],
            "text/plain": [
              "<IPython.core.display.HTML object>"
            ]
          },
          "metadata": {
            "tags": []
          }
        },
        {
          "output_type": "display_data",
          "data": {
            "text/html": [
              "<span style=\"color:cyan\"> |-Trial ID: 3a8d673eff72f407e12a4549ccc601e8</span>"
            ],
            "text/plain": [
              "<IPython.core.display.HTML object>"
            ]
          },
          "metadata": {
            "tags": []
          }
        },
        {
          "output_type": "display_data",
          "data": {
            "text/html": [
              "<span style=\"color:cyan\"> |-Score: 2277012.75</span>"
            ],
            "text/plain": [
              "<IPython.core.display.HTML object>"
            ]
          },
          "metadata": {
            "tags": []
          }
        },
        {
          "output_type": "display_data",
          "data": {
            "text/html": [
              "<span style=\"color:cyan\"> |-Best step: 0</span>"
            ],
            "text/plain": [
              "<IPython.core.display.HTML object>"
            ]
          },
          "metadata": {
            "tags": []
          }
        },
        {
          "output_type": "display_data",
          "data": {
            "text/html": [
              "<span style=\"color:#7E57C2\"><h2 style=\"font-size:16px\">Hyperparameters:</h2></span>"
            ],
            "text/plain": [
              "<IPython.core.display.HTML object>"
            ]
          },
          "metadata": {
            "tags": []
          }
        },
        {
          "output_type": "display_data",
          "data": {
            "text/html": [
              "<span style=\"color:cyan\"> |-activation: relu</span>"
            ],
            "text/plain": [
              "<IPython.core.display.HTML object>"
            ]
          },
          "metadata": {
            "tags": []
          }
        },
        {
          "output_type": "display_data",
          "data": {
            "text/html": [
              "<span style=\"color:blue\"> |-hidden_layers: 1</span>"
            ],
            "text/plain": [
              "<IPython.core.display.HTML object>"
            ]
          },
          "metadata": {
            "tags": []
          }
        },
        {
          "output_type": "display_data",
          "data": {
            "text/html": [
              "<span style=\"color:cyan\"> |-layer_0_units_: 553</span>"
            ],
            "text/plain": [
              "<IPython.core.display.HTML object>"
            ]
          },
          "metadata": {
            "tags": []
          }
        },
        {
          "output_type": "display_data",
          "data": {
            "text/html": [
              "<span style=\"color:blue\"> |-layer_1_units_: 434</span>"
            ],
            "text/plain": [
              "<IPython.core.display.HTML object>"
            ]
          },
          "metadata": {
            "tags": []
          }
        },
        {
          "output_type": "display_data",
          "data": {
            "text/html": [
              "<span style=\"color:cyan\"> |-layer_2_units_: 289</span>"
            ],
            "text/plain": [
              "<IPython.core.display.HTML object>"
            ]
          },
          "metadata": {
            "tags": []
          }
        },
        {
          "output_type": "display_data",
          "data": {
            "text/html": [
              "<span style=\"color:blue\"> |-units: 256</span>"
            ],
            "text/plain": [
              "<IPython.core.display.HTML object>"
            ]
          },
          "metadata": {
            "tags": []
          }
        },
        {
          "output_type": "stream",
          "text": [
            "Epoch 1/10\n",
            "327/327 [==============================] - 11s 35ms/step - loss: 26370155479040.0000 - mae: 3146705.7500 - val_loss: 10949819891712.0000 - val_mae: 1973342.7500\n",
            "Epoch 2/10\n",
            "327/327 [==============================] - 11s 34ms/step - loss: 13137258479616.0000 - mae: 1989653.6250 - val_loss: 9472884867072.0000 - val_mae: 1867870.6250\n",
            "Epoch 3/10\n",
            "327/327 [==============================] - 11s 35ms/step - loss: 11399504855040.0000 - mae: 1849805.0000 - val_loss: 8390463979520.0000 - val_mae: 1684308.2500\n",
            "Epoch 4/10\n",
            "327/327 [==============================] - 11s 34ms/step - loss: 10459431305216.0000 - mae: 1772335.6250 - val_loss: 7893259124736.0000 - val_mae: 1646125.3750\n",
            "Epoch 5/10\n",
            "327/327 [==============================] - 11s 34ms/step - loss: 10001436377088.0000 - mae: 1719321.7500 - val_loss: 7797616410624.0000 - val_mae: 1726435.0000\n",
            "Epoch 6/10\n",
            "327/327 [==============================] - 11s 34ms/step - loss: 9683773423616.0000 - mae: 1702239.1250 - val_loss: 7351441555456.0000 - val_mae: 1609003.6250\n",
            "Epoch 7/10\n",
            "327/327 [==============================] - 11s 34ms/step - loss: 9387015929856.0000 - mae: 1676681.3750 - val_loss: 7722185523200.0000 - val_mae: 1579617.8750\n",
            "Epoch 8/10\n",
            "327/327 [==============================] - 11s 33ms/step - loss: 9161216622592.0000 - mae: 1669771.7500 - val_loss: 7330028584960.0000 - val_mae: 1629687.3750\n",
            "Epoch 9/10\n",
            "327/327 [==============================] - 11s 34ms/step - loss: 9003348262912.0000 - mae: 1648651.7500 - val_loss: 7207392903168.0000 - val_mae: 1612372.1250\n",
            "Epoch 10/10\n",
            "327/327 [==============================] - 11s 33ms/step - loss: 8876918308864.0000 - mae: 1636652.6250 - val_loss: 7284089421824.0000 - val_mae: 1578245.8750\n"
          ],
          "name": "stdout"
        },
        {
          "output_type": "display_data",
          "data": {
            "text/html": [
              "<span style=\"color:#4527A0\"><h1 style=\"font-size:18px\">Trial complete</h1></span>"
            ],
            "text/plain": [
              "<IPython.core.display.HTML object>"
            ]
          },
          "metadata": {
            "tags": []
          }
        },
        {
          "output_type": "display_data",
          "data": {
            "text/html": [
              "<span style=\"color:#4527A0\"><h1 style=\"font-size:18px\">Trial summary</h1></span>"
            ],
            "text/plain": [
              "<IPython.core.display.HTML object>"
            ]
          },
          "metadata": {
            "tags": []
          }
        },
        {
          "output_type": "display_data",
          "data": {
            "text/html": [
              "<span style=\"color:cyan\"> |-Trial ID: 68d0295a07e10415b0577d6afa5caf10</span>"
            ],
            "text/plain": [
              "<IPython.core.display.HTML object>"
            ]
          },
          "metadata": {
            "tags": []
          }
        },
        {
          "output_type": "display_data",
          "data": {
            "text/html": [
              "<span style=\"color:cyan\"> |-Score: 1578245.875</span>"
            ],
            "text/plain": [
              "<IPython.core.display.HTML object>"
            ]
          },
          "metadata": {
            "tags": []
          }
        },
        {
          "output_type": "display_data",
          "data": {
            "text/html": [
              "<span style=\"color:cyan\"> |-Best step: 0</span>"
            ],
            "text/plain": [
              "<IPython.core.display.HTML object>"
            ]
          },
          "metadata": {
            "tags": []
          }
        },
        {
          "output_type": "display_data",
          "data": {
            "text/html": [
              "<span style=\"color:#7E57C2\"><h2 style=\"font-size:16px\">Hyperparameters:</h2></span>"
            ],
            "text/plain": [
              "<IPython.core.display.HTML object>"
            ]
          },
          "metadata": {
            "tags": []
          }
        },
        {
          "output_type": "display_data",
          "data": {
            "text/html": [
              "<span style=\"color:cyan\"> |-activation: elu</span>"
            ],
            "text/plain": [
              "<IPython.core.display.HTML object>"
            ]
          },
          "metadata": {
            "tags": []
          }
        },
        {
          "output_type": "display_data",
          "data": {
            "text/html": [
              "<span style=\"color:blue\"> |-hidden_layers: 3</span>"
            ],
            "text/plain": [
              "<IPython.core.display.HTML object>"
            ]
          },
          "metadata": {
            "tags": []
          }
        },
        {
          "output_type": "display_data",
          "data": {
            "text/html": [
              "<span style=\"color:cyan\"> |-layer_0_units_: 869</span>"
            ],
            "text/plain": [
              "<IPython.core.display.HTML object>"
            ]
          },
          "metadata": {
            "tags": []
          }
        },
        {
          "output_type": "display_data",
          "data": {
            "text/html": [
              "<span style=\"color:blue\"> |-layer_1_units_: 434</span>"
            ],
            "text/plain": [
              "<IPython.core.display.HTML object>"
            ]
          },
          "metadata": {
            "tags": []
          }
        },
        {
          "output_type": "display_data",
          "data": {
            "text/html": [
              "<span style=\"color:cyan\"> |-layer_2_units_: 289</span>"
            ],
            "text/plain": [
              "<IPython.core.display.HTML object>"
            ]
          },
          "metadata": {
            "tags": []
          }
        },
        {
          "output_type": "display_data",
          "data": {
            "text/html": [
              "<span style=\"color:blue\"> |-units: 1024</span>"
            ],
            "text/plain": [
              "<IPython.core.display.HTML object>"
            ]
          },
          "metadata": {
            "tags": []
          }
        },
        {
          "output_type": "stream",
          "text": [
            "Epoch 1/10\n",
            "327/327 [==============================] - 18s 57ms/step - loss: 39605365637120.0000 - mae: 4320178.0000 - val_loss: 18241818722304.0000 - val_mae: 2795204.5000\n",
            "Epoch 2/10\n",
            "327/327 [==============================] - 18s 56ms/step - loss: 19466266083328.0000 - mae: 2656202.5000 - val_loss: 13676456181760.0000 - val_mae: 2374230.7500\n",
            "Epoch 3/10\n",
            "327/327 [==============================] - 18s 56ms/step - loss: 15600385523712.0000 - mae: 2337007.7500 - val_loss: 11431233716224.0000 - val_mae: 2149294.2500\n",
            "Epoch 4/10\n",
            "327/327 [==============================] - 18s 56ms/step - loss: 13579995578368.0000 - mae: 2181413.7500 - val_loss: 10558608769024.0000 - val_mae: 2100213.0000\n",
            "Epoch 5/10\n",
            "327/327 [==============================] - 18s 55ms/step - loss: 12489643261952.0000 - mae: 2092788.8750 - val_loss: 9867125325824.0000 - val_mae: 2013432.7500\n",
            "Epoch 6/10\n",
            "327/327 [==============================] - 18s 55ms/step - loss: 11667754713088.0000 - mae: 1998533.2500 - val_loss: 8966167855104.0000 - val_mae: 1889021.2500\n",
            "Epoch 7/10\n",
            "327/327 [==============================] - 18s 55ms/step - loss: 10994195628032.0000 - mae: 1904439.1250 - val_loss: 8592963403776.0000 - val_mae: 1803254.1250\n",
            "Epoch 8/10\n",
            "327/327 [==============================] - 18s 56ms/step - loss: 10336581189632.0000 - mae: 1829120.2500 - val_loss: 8106651680768.0000 - val_mae: 1745794.3750\n",
            "Epoch 9/10\n",
            "327/327 [==============================] - 18s 55ms/step - loss: 9935696953344.0000 - mae: 1767717.2500 - val_loss: 7900323381248.0000 - val_mae: 1758492.5000\n",
            "Epoch 10/10\n",
            "327/327 [==============================] - 21s 63ms/step - loss: 9646612938752.0000 - mae: 1732867.3750 - val_loss: 7964021751808.0000 - val_mae: 1706894.6250\n"
          ],
          "name": "stdout"
        },
        {
          "output_type": "display_data",
          "data": {
            "text/html": [
              "<span style=\"color:#4527A0\"><h1 style=\"font-size:18px\">Trial complete</h1></span>"
            ],
            "text/plain": [
              "<IPython.core.display.HTML object>"
            ]
          },
          "metadata": {
            "tags": []
          }
        },
        {
          "output_type": "display_data",
          "data": {
            "text/html": [
              "<span style=\"color:#4527A0\"><h1 style=\"font-size:18px\">Trial summary</h1></span>"
            ],
            "text/plain": [
              "<IPython.core.display.HTML object>"
            ]
          },
          "metadata": {
            "tags": []
          }
        },
        {
          "output_type": "display_data",
          "data": {
            "text/html": [
              "<span style=\"color:cyan\"> |-Trial ID: bdc1f538ec47d1068dcb383dc6882911</span>"
            ],
            "text/plain": [
              "<IPython.core.display.HTML object>"
            ]
          },
          "metadata": {
            "tags": []
          }
        },
        {
          "output_type": "display_data",
          "data": {
            "text/html": [
              "<span style=\"color:cyan\"> |-Score: 1706894.625</span>"
            ],
            "text/plain": [
              "<IPython.core.display.HTML object>"
            ]
          },
          "metadata": {
            "tags": []
          }
        },
        {
          "output_type": "display_data",
          "data": {
            "text/html": [
              "<span style=\"color:cyan\"> |-Best step: 0</span>"
            ],
            "text/plain": [
              "<IPython.core.display.HTML object>"
            ]
          },
          "metadata": {
            "tags": []
          }
        },
        {
          "output_type": "display_data",
          "data": {
            "text/html": [
              "<span style=\"color:#7E57C2\"><h2 style=\"font-size:16px\">Hyperparameters:</h2></span>"
            ],
            "text/plain": [
              "<IPython.core.display.HTML object>"
            ]
          },
          "metadata": {
            "tags": []
          }
        },
        {
          "output_type": "display_data",
          "data": {
            "text/html": [
              "<span style=\"color:cyan\"> |-activation: selu</span>"
            ],
            "text/plain": [
              "<IPython.core.display.HTML object>"
            ]
          },
          "metadata": {
            "tags": []
          }
        },
        {
          "output_type": "display_data",
          "data": {
            "text/html": [
              "<span style=\"color:blue\"> |-hidden_layers: 2</span>"
            ],
            "text/plain": [
              "<IPython.core.display.HTML object>"
            ]
          },
          "metadata": {
            "tags": []
          }
        },
        {
          "output_type": "display_data",
          "data": {
            "text/html": [
              "<span style=\"color:cyan\"> |-layer_0_units_: 553</span>"
            ],
            "text/plain": [
              "<IPython.core.display.HTML object>"
            ]
          },
          "metadata": {
            "tags": []
          }
        },
        {
          "output_type": "display_data",
          "data": {
            "text/html": [
              "<span style=\"color:blue\"> |-layer_1_units_: 434</span>"
            ],
            "text/plain": [
              "<IPython.core.display.HTML object>"
            ]
          },
          "metadata": {
            "tags": []
          }
        },
        {
          "output_type": "display_data",
          "data": {
            "text/html": [
              "<span style=\"color:cyan\"> |-layer_2_units_: 289</span>"
            ],
            "text/plain": [
              "<IPython.core.display.HTML object>"
            ]
          },
          "metadata": {
            "tags": []
          }
        },
        {
          "output_type": "display_data",
          "data": {
            "text/html": [
              "<span style=\"color:blue\"> |-units: 3328</span>"
            ],
            "text/plain": [
              "<IPython.core.display.HTML object>"
            ]
          },
          "metadata": {
            "tags": []
          }
        },
        {
          "output_type": "stream",
          "text": [
            "Epoch 1/10\n",
            "327/327 [==============================] - 12s 36ms/step - loss: 38652864364544.0000 - mae: 4145851.7500 - val_loss: 15346206507008.0000 - val_mae: 2398008.7500\n",
            "Epoch 2/10\n",
            "327/327 [==============================] - 12s 36ms/step - loss: 16549282840576.0000 - mae: 2273877.2500 - val_loss: 10822537445376.0000 - val_mae: 1959667.7500\n",
            "Epoch 3/10\n",
            "327/327 [==============================] - 12s 36ms/step - loss: 13119130697728.0000 - mae: 1969591.2500 - val_loss: 9506879700992.0000 - val_mae: 1866789.6250\n",
            "Epoch 4/10\n",
            "327/327 [==============================] - 12s 36ms/step - loss: 11736357797888.0000 - mae: 1880401.8750 - val_loss: 8994974334976.0000 - val_mae: 1784100.8750\n",
            "Epoch 5/10\n",
            "327/327 [==============================] - 12s 35ms/step - loss: 11073671397376.0000 - mae: 1820824.2500 - val_loss: 8566491054080.0000 - val_mae: 1753953.1250\n",
            "Epoch 6/10\n",
            "327/327 [==============================] - 12s 35ms/step - loss: 10628590731264.0000 - mae: 1782299.5000 - val_loss: 8269740376064.0000 - val_mae: 1763059.1250\n",
            "Epoch 7/10\n",
            "327/327 [==============================] - 12s 36ms/step - loss: 10345665003520.0000 - mae: 1731104.0000 - val_loss: 8109710376960.0000 - val_mae: 1687428.1250\n",
            "Epoch 8/10\n",
            "327/327 [==============================] - 12s 36ms/step - loss: 10001272799232.0000 - mae: 1710853.1250 - val_loss: 7793100718080.0000 - val_mae: 1640439.5000\n",
            "Epoch 9/10\n",
            "327/327 [==============================] - 12s 35ms/step - loss: 9787639070720.0000 - mae: 1682576.6250 - val_loss: 7766174859264.0000 - val_mae: 1677048.3750\n",
            "Epoch 10/10\n",
            "327/327 [==============================] - 12s 36ms/step - loss: 9623640735744.0000 - mae: 1671476.0000 - val_loss: 7556970315776.0000 - val_mae: 1604531.6250\n"
          ],
          "name": "stdout"
        },
        {
          "output_type": "display_data",
          "data": {
            "text/html": [
              "<span style=\"color:#4527A0\"><h1 style=\"font-size:18px\">Trial complete</h1></span>"
            ],
            "text/plain": [
              "<IPython.core.display.HTML object>"
            ]
          },
          "metadata": {
            "tags": []
          }
        },
        {
          "output_type": "display_data",
          "data": {
            "text/html": [
              "<span style=\"color:#4527A0\"><h1 style=\"font-size:18px\">Trial summary</h1></span>"
            ],
            "text/plain": [
              "<IPython.core.display.HTML object>"
            ]
          },
          "metadata": {
            "tags": []
          }
        },
        {
          "output_type": "display_data",
          "data": {
            "text/html": [
              "<span style=\"color:cyan\"> |-Trial ID: cb3bcc1bdf6738e636916647d1fec145</span>"
            ],
            "text/plain": [
              "<IPython.core.display.HTML object>"
            ]
          },
          "metadata": {
            "tags": []
          }
        },
        {
          "output_type": "display_data",
          "data": {
            "text/html": [
              "<span style=\"color:cyan\"> |-Score: 1604531.625</span>"
            ],
            "text/plain": [
              "<IPython.core.display.HTML object>"
            ]
          },
          "metadata": {
            "tags": []
          }
        },
        {
          "output_type": "display_data",
          "data": {
            "text/html": [
              "<span style=\"color:cyan\"> |-Best step: 0</span>"
            ],
            "text/plain": [
              "<IPython.core.display.HTML object>"
            ]
          },
          "metadata": {
            "tags": []
          }
        },
        {
          "output_type": "display_data",
          "data": {
            "text/html": [
              "<span style=\"color:#7E57C2\"><h2 style=\"font-size:16px\">Hyperparameters:</h2></span>"
            ],
            "text/plain": [
              "<IPython.core.display.HTML object>"
            ]
          },
          "metadata": {
            "tags": []
          }
        },
        {
          "output_type": "display_data",
          "data": {
            "text/html": [
              "<span style=\"color:cyan\"> |-activation: relu</span>"
            ],
            "text/plain": [
              "<IPython.core.display.HTML object>"
            ]
          },
          "metadata": {
            "tags": []
          }
        },
        {
          "output_type": "display_data",
          "data": {
            "text/html": [
              "<span style=\"color:blue\"> |-hidden_layers: 2</span>"
            ],
            "text/plain": [
              "<IPython.core.display.HTML object>"
            ]
          },
          "metadata": {
            "tags": []
          }
        },
        {
          "output_type": "display_data",
          "data": {
            "text/html": [
              "<span style=\"color:cyan\"> |-layer_0_units_: 1185</span>"
            ],
            "text/plain": [
              "<IPython.core.display.HTML object>"
            ]
          },
          "metadata": {
            "tags": []
          }
        },
        {
          "output_type": "display_data",
          "data": {
            "text/html": [
              "<span style=\"color:blue\"> |-layer_1_units_: 276</span>"
            ],
            "text/plain": [
              "<IPython.core.display.HTML object>"
            ]
          },
          "metadata": {
            "tags": []
          }
        },
        {
          "output_type": "display_data",
          "data": {
            "text/html": [
              "<span style=\"color:cyan\"> |-layer_2_units_: 289</span>"
            ],
            "text/plain": [
              "<IPython.core.display.HTML object>"
            ]
          },
          "metadata": {
            "tags": []
          }
        },
        {
          "output_type": "display_data",
          "data": {
            "text/html": [
              "<span style=\"color:blue\"> |-units: 1024</span>"
            ],
            "text/plain": [
              "<IPython.core.display.HTML object>"
            ]
          },
          "metadata": {
            "tags": []
          }
        },
        {
          "output_type": "stream",
          "text": [
            "Epoch 1/10\n",
            "327/327 [==============================] - 12s 36ms/step - loss: 29144096178176.0000 - mae: 3477830.2500 - val_loss: 13996251938816.0000 - val_mae: 2406639.7500\n",
            "Epoch 2/10\n",
            "327/327 [==============================] - 11s 34ms/step - loss: 15217633263616.0000 - mae: 2332631.5000 - val_loss: 10900246364160.0000 - val_mae: 2125675.0000\n",
            "Epoch 3/10\n",
            "327/327 [==============================] - 11s 34ms/step - loss: 12818529124352.0000 - mae: 2123714.7500 - val_loss: 9755794866176.0000 - val_mae: 2099613.5000\n",
            "Epoch 4/10\n",
            "327/327 [==============================] - 11s 33ms/step - loss: 11484575825920.0000 - mae: 2021525.8750 - val_loss: 8698442809344.0000 - val_mae: 1863694.1250\n",
            "Epoch 5/10\n",
            "327/327 [==============================] - 11s 34ms/step - loss: 10579609649152.0000 - mae: 1862374.0000 - val_loss: 8767605309440.0000 - val_mae: 1735684.5000\n",
            "Epoch 6/10\n",
            "327/327 [==============================] - 11s 34ms/step - loss: 9989917769728.0000 - mae: 1782847.1250 - val_loss: 8562046140416.0000 - val_mae: 1729758.1250\n",
            "Epoch 7/10\n",
            "327/327 [==============================] - 11s 34ms/step - loss: 9622815506432.0000 - mae: 1740617.3750 - val_loss: 8355327770624.0000 - val_mae: 1700350.1250\n",
            "Epoch 8/10\n",
            "327/327 [==============================] - 11s 34ms/step - loss: 9317706104832.0000 - mae: 1716353.7500 - val_loss: 7416696012800.0000 - val_mae: 1645544.8750\n",
            "Epoch 9/10\n",
            "327/327 [==============================] - 11s 34ms/step - loss: 9116962521088.0000 - mae: 1700855.0000 - val_loss: 7383320363008.0000 - val_mae: 1643219.1250\n",
            "Epoch 10/10\n",
            "327/327 [==============================] - 11s 34ms/step - loss: 8898738126848.0000 - mae: 1673496.0000 - val_loss: 7085710901248.0000 - val_mae: 1601760.0000\n"
          ],
          "name": "stdout"
        },
        {
          "output_type": "display_data",
          "data": {
            "text/html": [
              "<span style=\"color:#4527A0\"><h1 style=\"font-size:18px\">Trial complete</h1></span>"
            ],
            "text/plain": [
              "<IPython.core.display.HTML object>"
            ]
          },
          "metadata": {
            "tags": []
          }
        },
        {
          "output_type": "display_data",
          "data": {
            "text/html": [
              "<span style=\"color:#4527A0\"><h1 style=\"font-size:18px\">Trial summary</h1></span>"
            ],
            "text/plain": [
              "<IPython.core.display.HTML object>"
            ]
          },
          "metadata": {
            "tags": []
          }
        },
        {
          "output_type": "display_data",
          "data": {
            "text/html": [
              "<span style=\"color:cyan\"> |-Trial ID: b16676222d2d3928a14f7e9984b33eb7</span>"
            ],
            "text/plain": [
              "<IPython.core.display.HTML object>"
            ]
          },
          "metadata": {
            "tags": []
          }
        },
        {
          "output_type": "display_data",
          "data": {
            "text/html": [
              "<span style=\"color:cyan\"> |-Score: 1601760.0</span>"
            ],
            "text/plain": [
              "<IPython.core.display.HTML object>"
            ]
          },
          "metadata": {
            "tags": []
          }
        },
        {
          "output_type": "display_data",
          "data": {
            "text/html": [
              "<span style=\"color:cyan\"> |-Best step: 0</span>"
            ],
            "text/plain": [
              "<IPython.core.display.HTML object>"
            ]
          },
          "metadata": {
            "tags": []
          }
        },
        {
          "output_type": "display_data",
          "data": {
            "text/html": [
              "<span style=\"color:#7E57C2\"><h2 style=\"font-size:16px\">Hyperparameters:</h2></span>"
            ],
            "text/plain": [
              "<IPython.core.display.HTML object>"
            ]
          },
          "metadata": {
            "tags": []
          }
        },
        {
          "output_type": "display_data",
          "data": {
            "text/html": [
              "<span style=\"color:cyan\"> |-activation: selu</span>"
            ],
            "text/plain": [
              "<IPython.core.display.HTML object>"
            ]
          },
          "metadata": {
            "tags": []
          }
        },
        {
          "output_type": "display_data",
          "data": {
            "text/html": [
              "<span style=\"color:blue\"> |-hidden_layers: 3</span>"
            ],
            "text/plain": [
              "<IPython.core.display.HTML object>"
            ]
          },
          "metadata": {
            "tags": []
          }
        },
        {
          "output_type": "display_data",
          "data": {
            "text/html": [
              "<span style=\"color:cyan\"> |-layer_0_units_: 869</span>"
            ],
            "text/plain": [
              "<IPython.core.display.HTML object>"
            ]
          },
          "metadata": {
            "tags": []
          }
        },
        {
          "output_type": "display_data",
          "data": {
            "text/html": [
              "<span style=\"color:blue\"> |-layer_1_units_: 434</span>"
            ],
            "text/plain": [
              "<IPython.core.display.HTML object>"
            ]
          },
          "metadata": {
            "tags": []
          }
        },
        {
          "output_type": "display_data",
          "data": {
            "text/html": [
              "<span style=\"color:cyan\"> |-layer_2_units_: 394</span>"
            ],
            "text/plain": [
              "<IPython.core.display.HTML object>"
            ]
          },
          "metadata": {
            "tags": []
          }
        },
        {
          "output_type": "display_data",
          "data": {
            "text/html": [
              "<span style=\"color:blue\"> |-units: 1024</span>"
            ],
            "text/plain": [
              "<IPython.core.display.HTML object>"
            ]
          },
          "metadata": {
            "tags": []
          }
        },
        {
          "output_type": "stream",
          "text": [
            "Epoch 1/10\n",
            "327/327 [==============================] - 7s 22ms/step - loss: 42858979524608.0000 - mae: 4488475.5000 - val_loss: 17610695507968.0000 - val_mae: 2646768.5000\n",
            "Epoch 2/10\n",
            "327/327 [==============================] - 7s 21ms/step - loss: 18293528199168.0000 - mae: 2432031.5000 - val_loss: 11905998520320.0000 - val_mae: 2082144.3750\n",
            "Epoch 3/10\n",
            "327/327 [==============================] - 7s 21ms/step - loss: 14298617217024.0000 - mae: 2070795.8750 - val_loss: 10243422552064.0000 - val_mae: 1910766.7500\n",
            "Epoch 4/10\n",
            "327/327 [==============================] - 7s 22ms/step - loss: 12440770183168.0000 - mae: 1925108.5000 - val_loss: 9335298064384.0000 - val_mae: 1848061.7500\n",
            "Epoch 5/10\n",
            "327/327 [==============================] - 7s 21ms/step - loss: 11653207818240.0000 - mae: 1859286.7500 - val_loss: 8833391919104.0000 - val_mae: 1773797.8750\n",
            "Epoch 6/10\n",
            "327/327 [==============================] - 7s 21ms/step - loss: 11096854364160.0000 - mae: 1817049.3750 - val_loss: 8546936684544.0000 - val_mae: 1749880.1250\n",
            "Epoch 7/10\n",
            "327/327 [==============================] - 7s 21ms/step - loss: 10656365412352.0000 - mae: 1778193.5000 - val_loss: 8322844983296.0000 - val_mae: 1687562.6250\n",
            "Epoch 8/10\n",
            "327/327 [==============================] - 7s 21ms/step - loss: 10335122620416.0000 - mae: 1741282.3750 - val_loss: 8134845267968.0000 - val_mae: 1718365.1250\n",
            "Epoch 9/10\n",
            "327/327 [==============================] - 7s 21ms/step - loss: 10100512129024.0000 - mae: 1722110.1250 - val_loss: 7925110669312.0000 - val_mae: 1637280.1250\n",
            "Epoch 10/10\n",
            "327/327 [==============================] - 7s 21ms/step - loss: 9905293492224.0000 - mae: 1693456.2500 - val_loss: 7716678402048.0000 - val_mae: 1619165.2500\n"
          ],
          "name": "stdout"
        },
        {
          "output_type": "display_data",
          "data": {
            "text/html": [
              "<span style=\"color:#4527A0\"><h1 style=\"font-size:18px\">Trial complete</h1></span>"
            ],
            "text/plain": [
              "<IPython.core.display.HTML object>"
            ]
          },
          "metadata": {
            "tags": []
          }
        },
        {
          "output_type": "display_data",
          "data": {
            "text/html": [
              "<span style=\"color:#4527A0\"><h1 style=\"font-size:18px\">Trial summary</h1></span>"
            ],
            "text/plain": [
              "<IPython.core.display.HTML object>"
            ]
          },
          "metadata": {
            "tags": []
          }
        },
        {
          "output_type": "display_data",
          "data": {
            "text/html": [
              "<span style=\"color:cyan\"> |-Trial ID: 3477607a313b0f23192369d1b8ea6e3d</span>"
            ],
            "text/plain": [
              "<IPython.core.display.HTML object>"
            ]
          },
          "metadata": {
            "tags": []
          }
        },
        {
          "output_type": "display_data",
          "data": {
            "text/html": [
              "<span style=\"color:cyan\"> |-Score: 1619165.25</span>"
            ],
            "text/plain": [
              "<IPython.core.display.HTML object>"
            ]
          },
          "metadata": {
            "tags": []
          }
        },
        {
          "output_type": "display_data",
          "data": {
            "text/html": [
              "<span style=\"color:cyan\"> |-Best step: 0</span>"
            ],
            "text/plain": [
              "<IPython.core.display.HTML object>"
            ]
          },
          "metadata": {
            "tags": []
          }
        },
        {
          "output_type": "display_data",
          "data": {
            "text/html": [
              "<span style=\"color:#7E57C2\"><h2 style=\"font-size:16px\">Hyperparameters:</h2></span>"
            ],
            "text/plain": [
              "<IPython.core.display.HTML object>"
            ]
          },
          "metadata": {
            "tags": []
          }
        },
        {
          "output_type": "display_data",
          "data": {
            "text/html": [
              "<span style=\"color:cyan\"> |-activation: relu</span>"
            ],
            "text/plain": [
              "<IPython.core.display.HTML object>"
            ]
          },
          "metadata": {
            "tags": []
          }
        },
        {
          "output_type": "display_data",
          "data": {
            "text/html": [
              "<span style=\"color:blue\"> |-hidden_layers: 2</span>"
            ],
            "text/plain": [
              "<IPython.core.display.HTML object>"
            ]
          },
          "metadata": {
            "tags": []
          }
        },
        {
          "output_type": "display_data",
          "data": {
            "text/html": [
              "<span style=\"color:cyan\"> |-layer_0_units_: 553</span>"
            ],
            "text/plain": [
              "<IPython.core.display.HTML object>"
            ]
          },
          "metadata": {
            "tags": []
          }
        },
        {
          "output_type": "display_data",
          "data": {
            "text/html": [
              "<span style=\"color:blue\"> |-layer_1_units_: 276</span>"
            ],
            "text/plain": [
              "<IPython.core.display.HTML object>"
            ]
          },
          "metadata": {
            "tags": []
          }
        },
        {
          "output_type": "display_data",
          "data": {
            "text/html": [
              "<span style=\"color:cyan\"> |-layer_2_units_: 394</span>"
            ],
            "text/plain": [
              "<IPython.core.display.HTML object>"
            ]
          },
          "metadata": {
            "tags": []
          }
        },
        {
          "output_type": "display_data",
          "data": {
            "text/html": [
              "<span style=\"color:blue\"> |-units: 1024</span>"
            ],
            "text/plain": [
              "<IPython.core.display.HTML object>"
            ]
          },
          "metadata": {
            "tags": []
          }
        },
        {
          "output_type": "stream",
          "text": [
            "Epoch 1/10\n",
            "327/327 [==============================] - 15s 47ms/step - loss: 28532023492608.0000 - mae: 3454104.2500 - val_loss: 14269454221312.0000 - val_mae: 2466118.2500\n",
            "Epoch 2/10\n",
            "327/327 [==============================] - 15s 46ms/step - loss: 15122477088768.0000 - mae: 2352075.7500 - val_loss: 11099089928192.0000 - val_mae: 2212758.5000\n",
            "Epoch 3/10\n",
            "327/327 [==============================] - 15s 46ms/step - loss: 12481126727680.0000 - mae: 2124620.7500 - val_loss: 11441111302144.0000 - val_mae: 2164564.2500\n",
            "Epoch 4/10\n",
            "327/327 [==============================] - 16s 48ms/step - loss: 11296993968128.0000 - mae: 1971193.5000 - val_loss: 9115475640320.0000 - val_mae: 1876805.8750\n",
            "Epoch 5/10\n",
            "327/327 [==============================] - 15s 47ms/step - loss: 10356130840576.0000 - mae: 1830893.1250 - val_loss: 7890818039808.0000 - val_mae: 1712860.0000\n",
            "Epoch 6/10\n",
            "327/327 [==============================] - 15s 46ms/step - loss: 9784137875456.0000 - mae: 1760932.8750 - val_loss: 8117220802560.0000 - val_mae: 1726692.1250\n",
            "Epoch 7/10\n",
            "327/327 [==============================] - 15s 47ms/step - loss: 9446821462016.0000 - mae: 1724722.2500 - val_loss: 7472806887424.0000 - val_mae: 1672243.0000\n",
            "Epoch 8/10\n",
            "327/327 [==============================] - 15s 46ms/step - loss: 9085331177472.0000 - mae: 1689084.8750 - val_loss: 7601579884544.0000 - val_mae: 1670180.0000\n",
            "Epoch 9/10\n",
            "327/327 [==============================] - 15s 47ms/step - loss: 8983262789632.0000 - mae: 1675301.0000 - val_loss: 7283233259520.0000 - val_mae: 1708300.6250\n",
            "Epoch 10/10\n",
            "327/327 [==============================] - 15s 46ms/step - loss: 8775076937728.0000 - mae: 1656807.6250 - val_loss: 7601644371968.0000 - val_mae: 1632091.0000\n"
          ],
          "name": "stdout"
        },
        {
          "output_type": "display_data",
          "data": {
            "text/html": [
              "<span style=\"color:#4527A0\"><h1 style=\"font-size:18px\">Trial complete</h1></span>"
            ],
            "text/plain": [
              "<IPython.core.display.HTML object>"
            ]
          },
          "metadata": {
            "tags": []
          }
        },
        {
          "output_type": "display_data",
          "data": {
            "text/html": [
              "<span style=\"color:#4527A0\"><h1 style=\"font-size:18px\">Trial summary</h1></span>"
            ],
            "text/plain": [
              "<IPython.core.display.HTML object>"
            ]
          },
          "metadata": {
            "tags": []
          }
        },
        {
          "output_type": "display_data",
          "data": {
            "text/html": [
              "<span style=\"color:cyan\"> |-Trial ID: 9aee3e0dd173d080cf564e264da46ac6</span>"
            ],
            "text/plain": [
              "<IPython.core.display.HTML object>"
            ]
          },
          "metadata": {
            "tags": []
          }
        },
        {
          "output_type": "display_data",
          "data": {
            "text/html": [
              "<span style=\"color:cyan\"> |-Score: 1632091.0</span>"
            ],
            "text/plain": [
              "<IPython.core.display.HTML object>"
            ]
          },
          "metadata": {
            "tags": []
          }
        },
        {
          "output_type": "display_data",
          "data": {
            "text/html": [
              "<span style=\"color:cyan\"> |-Best step: 0</span>"
            ],
            "text/plain": [
              "<IPython.core.display.HTML object>"
            ]
          },
          "metadata": {
            "tags": []
          }
        },
        {
          "output_type": "display_data",
          "data": {
            "text/html": [
              "<span style=\"color:#7E57C2\"><h2 style=\"font-size:16px\">Hyperparameters:</h2></span>"
            ],
            "text/plain": [
              "<IPython.core.display.HTML object>"
            ]
          },
          "metadata": {
            "tags": []
          }
        },
        {
          "output_type": "display_data",
          "data": {
            "text/html": [
              "<span style=\"color:cyan\"> |-activation: selu</span>"
            ],
            "text/plain": [
              "<IPython.core.display.HTML object>"
            ]
          },
          "metadata": {
            "tags": []
          }
        },
        {
          "output_type": "display_data",
          "data": {
            "text/html": [
              "<span style=\"color:blue\"> |-hidden_layers: 3</span>"
            ],
            "text/plain": [
              "<IPython.core.display.HTML object>"
            ]
          },
          "metadata": {
            "tags": []
          }
        },
        {
          "output_type": "display_data",
          "data": {
            "text/html": [
              "<span style=\"color:cyan\"> |-layer_0_units_: 553</span>"
            ],
            "text/plain": [
              "<IPython.core.display.HTML object>"
            ]
          },
          "metadata": {
            "tags": []
          }
        },
        {
          "output_type": "display_data",
          "data": {
            "text/html": [
              "<span style=\"color:blue\"> |-layer_1_units_: 592</span>"
            ],
            "text/plain": [
              "<IPython.core.display.HTML object>"
            ]
          },
          "metadata": {
            "tags": []
          }
        },
        {
          "output_type": "display_data",
          "data": {
            "text/html": [
              "<span style=\"color:cyan\"> |-layer_2_units_: 289</span>"
            ],
            "text/plain": [
              "<IPython.core.display.HTML object>"
            ]
          },
          "metadata": {
            "tags": []
          }
        },
        {
          "output_type": "display_data",
          "data": {
            "text/html": [
              "<span style=\"color:blue\"> |-units: 2560</span>"
            ],
            "text/plain": [
              "<IPython.core.display.HTML object>"
            ]
          },
          "metadata": {
            "tags": []
          }
        },
        {
          "output_type": "stream",
          "text": [
            "Epoch 1/10\n",
            "327/327 [==============================] - 15s 46ms/step - loss: 71488648511488.0000 - mae: 6902127.5000 - val_loss: 57016487772160.0000 - val_mae: 6287888.5000\n",
            "Epoch 2/10\n",
            "327/327 [==============================] - 16s 47ms/step - loss: 49177652363264.0000 - mae: 5461243.0000 - val_loss: 35568096378880.0000 - val_mae: 4663949.5000\n",
            "Epoch 3/10\n",
            "327/327 [==============================] - 15s 47ms/step - loss: 35585255276544.0000 - mae: 4416148.0000 - val_loss: 30239302352896.0000 - val_mae: 4250167.0000\n",
            "Epoch 4/10\n",
            "327/327 [==============================] - 15s 47ms/step - loss: 32195295051776.0000 - mae: 4160751.2500 - val_loss: 27352723619840.0000 - val_mae: 4006847.7500\n",
            "Epoch 5/10\n",
            "327/327 [==============================] - 15s 47ms/step - loss: 29394263343104.0000 - mae: 3942575.7500 - val_loss: 24641693286400.0000 - val_mae: 3779651.0000\n",
            "Epoch 6/10\n",
            "327/327 [==============================] - 15s 47ms/step - loss: 26560386039808.0000 - mae: 3705519.7500 - val_loss: 21948581019648.0000 - val_mae: 3521524.7500\n",
            "Epoch 7/10\n",
            "327/327 [==============================] - 15s 47ms/step - loss: 23708659875840.0000 - mae: 3427163.0000 - val_loss: 19278476607488.0000 - val_mae: 3249542.7500\n",
            "Epoch 8/10\n",
            "327/327 [==============================] - 15s 47ms/step - loss: 20926697570304.0000 - mae: 3126288.5000 - val_loss: 16687657123840.0000 - val_mae: 2924367.7500\n",
            "Epoch 9/10\n",
            "327/327 [==============================] - 15s 46ms/step - loss: 18428876292096.0000 - mae: 2816192.7500 - val_loss: 14549145092096.0000 - val_mae: 2627168.7500\n",
            "Epoch 10/10\n",
            "327/327 [==============================] - 18s 56ms/step - loss: 16539821539328.0000 - mae: 2573124.0000 - val_loss: 13159094026240.0000 - val_mae: 2425661.7500\n"
          ],
          "name": "stdout"
        },
        {
          "output_type": "display_data",
          "data": {
            "text/html": [
              "<span style=\"color:#4527A0\"><h1 style=\"font-size:18px\">Trial complete</h1></span>"
            ],
            "text/plain": [
              "<IPython.core.display.HTML object>"
            ]
          },
          "metadata": {
            "tags": []
          }
        },
        {
          "output_type": "display_data",
          "data": {
            "text/html": [
              "<span style=\"color:#4527A0\"><h1 style=\"font-size:18px\">Trial summary</h1></span>"
            ],
            "text/plain": [
              "<IPython.core.display.HTML object>"
            ]
          },
          "metadata": {
            "tags": []
          }
        },
        {
          "output_type": "display_data",
          "data": {
            "text/html": [
              "<span style=\"color:cyan\"> |-Trial ID: ee93ea724d1617368c0d5b4d531ce8cd</span>"
            ],
            "text/plain": [
              "<IPython.core.display.HTML object>"
            ]
          },
          "metadata": {
            "tags": []
          }
        },
        {
          "output_type": "display_data",
          "data": {
            "text/html": [
              "<span style=\"color:cyan\"> |-Score: 2425661.75</span>"
            ],
            "text/plain": [
              "<IPython.core.display.HTML object>"
            ]
          },
          "metadata": {
            "tags": []
          }
        },
        {
          "output_type": "display_data",
          "data": {
            "text/html": [
              "<span style=\"color:cyan\"> |-Best step: 0</span>"
            ],
            "text/plain": [
              "<IPython.core.display.HTML object>"
            ]
          },
          "metadata": {
            "tags": []
          }
        },
        {
          "output_type": "display_data",
          "data": {
            "text/html": [
              "<span style=\"color:#7E57C2\"><h2 style=\"font-size:16px\">Hyperparameters:</h2></span>"
            ],
            "text/plain": [
              "<IPython.core.display.HTML object>"
            ]
          },
          "metadata": {
            "tags": []
          }
        },
        {
          "output_type": "display_data",
          "data": {
            "text/html": [
              "<span style=\"color:cyan\"> |-activation: elu</span>"
            ],
            "text/plain": [
              "<IPython.core.display.HTML object>"
            ]
          },
          "metadata": {
            "tags": []
          }
        },
        {
          "output_type": "display_data",
          "data": {
            "text/html": [
              "<span style=\"color:blue\"> |-hidden_layers: 1</span>"
            ],
            "text/plain": [
              "<IPython.core.display.HTML object>"
            ]
          },
          "metadata": {
            "tags": []
          }
        },
        {
          "output_type": "display_data",
          "data": {
            "text/html": [
              "<span style=\"color:cyan\"> |-layer_0_units_: 553</span>"
            ],
            "text/plain": [
              "<IPython.core.display.HTML object>"
            ]
          },
          "metadata": {
            "tags": []
          }
        },
        {
          "output_type": "display_data",
          "data": {
            "text/html": [
              "<span style=\"color:blue\"> |-layer_1_units_: 434</span>"
            ],
            "text/plain": [
              "<IPython.core.display.HTML object>"
            ]
          },
          "metadata": {
            "tags": []
          }
        },
        {
          "output_type": "display_data",
          "data": {
            "text/html": [
              "<span style=\"color:cyan\"> |-layer_2_units_: 289</span>"
            ],
            "text/plain": [
              "<IPython.core.display.HTML object>"
            ]
          },
          "metadata": {
            "tags": []
          }
        },
        {
          "output_type": "display_data",
          "data": {
            "text/html": [
              "<span style=\"color:blue\"> |-units: 3328</span>"
            ],
            "text/plain": [
              "<IPython.core.display.HTML object>"
            ]
          },
          "metadata": {
            "tags": []
          }
        },
        {
          "output_type": "stream",
          "text": [
            "Epoch 1/10\n",
            "327/327 [==============================] - 12s 38ms/step - loss: 70755031187456.0000 - mae: 6788074.5000 - val_loss: 52802470543360.0000 - val_mae: 5808275.0000\n",
            "Epoch 2/10\n",
            "327/327 [==============================] - 12s 37ms/step - loss: 40374986866688.0000 - mae: 4389234.0000 - val_loss: 23551077777408.0000 - val_mae: 3137573.7500\n",
            "Epoch 3/10\n",
            "327/327 [==============================] - 12s 37ms/step - loss: 24276618969088.0000 - mae: 2961496.2500 - val_loss: 18120693514240.0000 - val_mae: 2667031.2500\n",
            "Epoch 4/10\n",
            "327/327 [==============================] - 12s 38ms/step - loss: 20690566643712.0000 - mae: 2649832.2500 - val_loss: 15440997777408.0000 - val_mae: 2422393.7500\n",
            "Epoch 5/10\n",
            "327/327 [==============================] - 12s 37ms/step - loss: 18451806552064.0000 - mae: 2452923.2500 - val_loss: 13696801701888.0000 - val_mae: 2230821.2500\n",
            "Epoch 6/10\n",
            "327/327 [==============================] - 12s 37ms/step - loss: 16758632087552.0000 - mae: 2294468.2500 - val_loss: 12337063919616.0000 - val_mae: 2123805.5000\n",
            "Epoch 7/10\n",
            "327/327 [==============================] - 12s 37ms/step - loss: 15466158358528.0000 - mae: 2180238.7500 - val_loss: 11395983736832.0000 - val_mae: 2027606.7500\n",
            "Epoch 8/10\n",
            "327/327 [==============================] - 12s 37ms/step - loss: 14457630621696.0000 - mae: 2090719.5000 - val_loss: 10714867564544.0000 - val_mae: 1956728.5000\n",
            "Epoch 9/10\n",
            "327/327 [==============================] - 12s 37ms/step - loss: 13710845280256.0000 - mae: 2028958.7500 - val_loss: 10238949326848.0000 - val_mae: 1918672.5000\n",
            "Epoch 10/10\n",
            "327/327 [==============================] - 12s 37ms/step - loss: 13106225872896.0000 - mae: 1976199.8750 - val_loss: 9918483529728.0000 - val_mae: 1899015.7500\n"
          ],
          "name": "stdout"
        },
        {
          "output_type": "display_data",
          "data": {
            "text/html": [
              "<span style=\"color:#4527A0\"><h1 style=\"font-size:18px\">Trial complete</h1></span>"
            ],
            "text/plain": [
              "<IPython.core.display.HTML object>"
            ]
          },
          "metadata": {
            "tags": []
          }
        },
        {
          "output_type": "display_data",
          "data": {
            "text/html": [
              "<span style=\"color:#4527A0\"><h1 style=\"font-size:18px\">Trial summary</h1></span>"
            ],
            "text/plain": [
              "<IPython.core.display.HTML object>"
            ]
          },
          "metadata": {
            "tags": []
          }
        },
        {
          "output_type": "display_data",
          "data": {
            "text/html": [
              "<span style=\"color:cyan\"> |-Trial ID: 93d1068e5006a8cdac78e0c60aede975</span>"
            ],
            "text/plain": [
              "<IPython.core.display.HTML object>"
            ]
          },
          "metadata": {
            "tags": []
          }
        },
        {
          "output_type": "display_data",
          "data": {
            "text/html": [
              "<span style=\"color:cyan\"> |-Score: 1899015.75</span>"
            ],
            "text/plain": [
              "<IPython.core.display.HTML object>"
            ]
          },
          "metadata": {
            "tags": []
          }
        },
        {
          "output_type": "display_data",
          "data": {
            "text/html": [
              "<span style=\"color:cyan\"> |-Best step: 0</span>"
            ],
            "text/plain": [
              "<IPython.core.display.HTML object>"
            ]
          },
          "metadata": {
            "tags": []
          }
        },
        {
          "output_type": "display_data",
          "data": {
            "text/html": [
              "<span style=\"color:#7E57C2\"><h2 style=\"font-size:16px\">Hyperparameters:</h2></span>"
            ],
            "text/plain": [
              "<IPython.core.display.HTML object>"
            ]
          },
          "metadata": {
            "tags": []
          }
        },
        {
          "output_type": "display_data",
          "data": {
            "text/html": [
              "<span style=\"color:cyan\"> |-activation: relu</span>"
            ],
            "text/plain": [
              "<IPython.core.display.HTML object>"
            ]
          },
          "metadata": {
            "tags": []
          }
        },
        {
          "output_type": "display_data",
          "data": {
            "text/html": [
              "<span style=\"color:blue\"> |-hidden_layers: 1</span>"
            ],
            "text/plain": [
              "<IPython.core.display.HTML object>"
            ]
          },
          "metadata": {
            "tags": []
          }
        },
        {
          "output_type": "display_data",
          "data": {
            "text/html": [
              "<span style=\"color:cyan\"> |-layer_0_units_: 553</span>"
            ],
            "text/plain": [
              "<IPython.core.display.HTML object>"
            ]
          },
          "metadata": {
            "tags": []
          }
        },
        {
          "output_type": "display_data",
          "data": {
            "text/html": [
              "<span style=\"color:blue\"> |-layer_1_units_: 276</span>"
            ],
            "text/plain": [
              "<IPython.core.display.HTML object>"
            ]
          },
          "metadata": {
            "tags": []
          }
        },
        {
          "output_type": "display_data",
          "data": {
            "text/html": [
              "<span style=\"color:cyan\"> |-layer_2_units_: 394</span>"
            ],
            "text/plain": [
              "<IPython.core.display.HTML object>"
            ]
          },
          "metadata": {
            "tags": []
          }
        },
        {
          "output_type": "display_data",
          "data": {
            "text/html": [
              "<span style=\"color:blue\"> |-units: 2560</span>"
            ],
            "text/plain": [
              "<IPython.core.display.HTML object>"
            ]
          },
          "metadata": {
            "tags": []
          }
        },
        {
          "output_type": "stream",
          "text": [
            "Epoch 1/10\n",
            "327/327 [==============================] - 15s 46ms/step - loss: 69147249606656.0000 - mae: 6634597.0000 - val_loss: 49054075584512.0000 - val_mae: 5353934.5000\n",
            "Epoch 2/10\n",
            "327/327 [==============================] - 15s 45ms/step - loss: 38313675194368.0000 - mae: 4118377.0000 - val_loss: 22470245482496.0000 - val_mae: 2999998.7500\n",
            "Epoch 3/10\n",
            "327/327 [==============================] - 15s 45ms/step - loss: 23380042448896.0000 - mae: 2854616.2500 - val_loss: 17380021370880.0000 - val_mae: 2575572.2500\n",
            "Epoch 4/10\n",
            "327/327 [==============================] - 15s 46ms/step - loss: 20002285551616.0000 - mae: 2561850.2500 - val_loss: 14808543920128.0000 - val_mae: 2348840.0000\n",
            "Epoch 5/10\n",
            "327/327 [==============================] - 15s 46ms/step - loss: 17770399924224.0000 - mae: 2366727.7500 - val_loss: 13051767029760.0000 - val_mae: 2174820.5000\n",
            "Epoch 6/10\n",
            "327/327 [==============================] - 15s 44ms/step - loss: 16035963994112.0000 - mae: 2206936.0000 - val_loss: 11857451548672.0000 - val_mae: 2076880.5000\n",
            "Epoch 7/10\n",
            "327/327 [==============================] - 15s 45ms/step - loss: 14904484429824.0000 - mae: 2112707.5000 - val_loss: 10939103444992.0000 - val_mae: 1965365.6250\n",
            "Epoch 8/10\n",
            "327/327 [==============================] - 15s 46ms/step - loss: 14020203511808.0000 - mae: 2035286.8750 - val_loss: 10458394263552.0000 - val_mae: 1944738.0000\n",
            "Epoch 9/10\n",
            "327/327 [==============================] - 15s 46ms/step - loss: 13439269339136.0000 - mae: 1988476.5000 - val_loss: 10065606082560.0000 - val_mae: 1896003.0000\n",
            "Epoch 10/10\n",
            "327/327 [==============================] - 15s 45ms/step - loss: 12991025119232.0000 - mae: 1949003.7500 - val_loss: 9847872421888.0000 - val_mae: 1881432.5000\n"
          ],
          "name": "stdout"
        },
        {
          "output_type": "display_data",
          "data": {
            "text/html": [
              "<span style=\"color:#4527A0\"><h1 style=\"font-size:18px\">Trial complete</h1></span>"
            ],
            "text/plain": [
              "<IPython.core.display.HTML object>"
            ]
          },
          "metadata": {
            "tags": []
          }
        },
        {
          "output_type": "display_data",
          "data": {
            "text/html": [
              "<span style=\"color:#4527A0\"><h1 style=\"font-size:18px\">Trial summary</h1></span>"
            ],
            "text/plain": [
              "<IPython.core.display.HTML object>"
            ]
          },
          "metadata": {
            "tags": []
          }
        },
        {
          "output_type": "display_data",
          "data": {
            "text/html": [
              "<span style=\"color:cyan\"> |-Trial ID: f9f43c8b964efe2370bed870f69debef</span>"
            ],
            "text/plain": [
              "<IPython.core.display.HTML object>"
            ]
          },
          "metadata": {
            "tags": []
          }
        },
        {
          "output_type": "display_data",
          "data": {
            "text/html": [
              "<span style=\"color:cyan\"> |-Score: 1881432.5</span>"
            ],
            "text/plain": [
              "<IPython.core.display.HTML object>"
            ]
          },
          "metadata": {
            "tags": []
          }
        },
        {
          "output_type": "display_data",
          "data": {
            "text/html": [
              "<span style=\"color:cyan\"> |-Best step: 0</span>"
            ],
            "text/plain": [
              "<IPython.core.display.HTML object>"
            ]
          },
          "metadata": {
            "tags": []
          }
        },
        {
          "output_type": "display_data",
          "data": {
            "text/html": [
              "<span style=\"color:#7E57C2\"><h2 style=\"font-size:16px\">Hyperparameters:</h2></span>"
            ],
            "text/plain": [
              "<IPython.core.display.HTML object>"
            ]
          },
          "metadata": {
            "tags": []
          }
        },
        {
          "output_type": "display_data",
          "data": {
            "text/html": [
              "<span style=\"color:cyan\"> |-activation: relu</span>"
            ],
            "text/plain": [
              "<IPython.core.display.HTML object>"
            ]
          },
          "metadata": {
            "tags": []
          }
        },
        {
          "output_type": "display_data",
          "data": {
            "text/html": [
              "<span style=\"color:blue\"> |-hidden_layers: 1</span>"
            ],
            "text/plain": [
              "<IPython.core.display.HTML object>"
            ]
          },
          "metadata": {
            "tags": []
          }
        },
        {
          "output_type": "display_data",
          "data": {
            "text/html": [
              "<span style=\"color:cyan\"> |-layer_0_units_: 553</span>"
            ],
            "text/plain": [
              "<IPython.core.display.HTML object>"
            ]
          },
          "metadata": {
            "tags": []
          }
        },
        {
          "output_type": "display_data",
          "data": {
            "text/html": [
              "<span style=\"color:blue\"> |-layer_1_units_: 276</span>"
            ],
            "text/plain": [
              "<IPython.core.display.HTML object>"
            ]
          },
          "metadata": {
            "tags": []
          }
        },
        {
          "output_type": "display_data",
          "data": {
            "text/html": [
              "<span style=\"color:cyan\"> |-layer_2_units_: 184</span>"
            ],
            "text/plain": [
              "<IPython.core.display.HTML object>"
            ]
          },
          "metadata": {
            "tags": []
          }
        },
        {
          "output_type": "display_data",
          "data": {
            "text/html": [
              "<span style=\"color:blue\"> |-units: 3328</span>"
            ],
            "text/plain": [
              "<IPython.core.display.HTML object>"
            ]
          },
          "metadata": {
            "tags": []
          }
        },
        {
          "output_type": "stream",
          "text": [
            "Epoch 1/10\n",
            "327/327 [==============================] - 30s 91ms/step - loss: 36177541332992.0000 - mae: 4147617.0000 - val_loss: 16786029281280.0000 - val_mae: 2701202.5000\n",
            "Epoch 2/10\n",
            "327/327 [==============================] - 30s 91ms/step - loss: 17626220724224.0000 - mae: 2522127.0000 - val_loss: 12362225549312.0000 - val_mae: 2280362.5000\n",
            "Epoch 3/10\n",
            "327/327 [==============================] - 30s 92ms/step - loss: 13822493458432.0000 - mae: 2217694.0000 - val_loss: 10520499322880.0000 - val_mae: 2126687.5000\n",
            "Epoch 4/10\n",
            "327/327 [==============================] - 30s 91ms/step - loss: 12550221594624.0000 - mae: 2111285.2500 - val_loss: 9952113459200.0000 - val_mae: 2059749.1250\n",
            "Epoch 5/10\n",
            "327/327 [==============================] - 30s 91ms/step - loss: 11722621452288.0000 - mae: 2031523.2500 - val_loss: 9495796252672.0000 - val_mae: 2022729.0000\n",
            "Epoch 6/10\n",
            "327/327 [==============================] - 30s 92ms/step - loss: 11933673586688.0000 - mae: 2005178.8750 - val_loss: 8815922642944.0000 - val_mae: 1904990.0000\n",
            "Epoch 7/10\n",
            "327/327 [==============================] - 30s 92ms/step - loss: 11149047234560.0000 - mae: 1930569.3750 - val_loss: 8748438913024.0000 - val_mae: 1872805.8750\n",
            "Epoch 8/10\n",
            "327/327 [==============================] - 30s 91ms/step - loss: 10315551997952.0000 - mae: 1860778.2500 - val_loss: 8159223611392.0000 - val_mae: 1775603.6250\n",
            "Epoch 9/10\n",
            "327/327 [==============================] - 30s 91ms/step - loss: 9878082945024.0000 - mae: 1783239.2500 - val_loss: 7757617954816.0000 - val_mae: 1698364.1250\n",
            "Epoch 10/10\n",
            "327/327 [==============================] - 30s 90ms/step - loss: 9418682925056.0000 - mae: 1729701.6250 - val_loss: 7545716998144.0000 - val_mae: 1674044.1250\n"
          ],
          "name": "stdout"
        },
        {
          "output_type": "display_data",
          "data": {
            "text/html": [
              "<span style=\"color:#4527A0\"><h1 style=\"font-size:18px\">Trial complete</h1></span>"
            ],
            "text/plain": [
              "<IPython.core.display.HTML object>"
            ]
          },
          "metadata": {
            "tags": []
          }
        },
        {
          "output_type": "display_data",
          "data": {
            "text/html": [
              "<span style=\"color:#4527A0\"><h1 style=\"font-size:18px\">Trial summary</h1></span>"
            ],
            "text/plain": [
              "<IPython.core.display.HTML object>"
            ]
          },
          "metadata": {
            "tags": []
          }
        },
        {
          "output_type": "display_data",
          "data": {
            "text/html": [
              "<span style=\"color:cyan\"> |-Trial ID: 5e29c68f76b4cde3481f5846be0e6888</span>"
            ],
            "text/plain": [
              "<IPython.core.display.HTML object>"
            ]
          },
          "metadata": {
            "tags": []
          }
        },
        {
          "output_type": "display_data",
          "data": {
            "text/html": [
              "<span style=\"color:cyan\"> |-Score: 1674044.125</span>"
            ],
            "text/plain": [
              "<IPython.core.display.HTML object>"
            ]
          },
          "metadata": {
            "tags": []
          }
        },
        {
          "output_type": "display_data",
          "data": {
            "text/html": [
              "<span style=\"color:cyan\"> |-Best step: 0</span>"
            ],
            "text/plain": [
              "<IPython.core.display.HTML object>"
            ]
          },
          "metadata": {
            "tags": []
          }
        },
        {
          "output_type": "display_data",
          "data": {
            "text/html": [
              "<span style=\"color:#7E57C2\"><h2 style=\"font-size:16px\">Hyperparameters:</h2></span>"
            ],
            "text/plain": [
              "<IPython.core.display.HTML object>"
            ]
          },
          "metadata": {
            "tags": []
          }
        },
        {
          "output_type": "display_data",
          "data": {
            "text/html": [
              "<span style=\"color:cyan\"> |-activation: selu</span>"
            ],
            "text/plain": [
              "<IPython.core.display.HTML object>"
            ]
          },
          "metadata": {
            "tags": []
          }
        },
        {
          "output_type": "display_data",
          "data": {
            "text/html": [
              "<span style=\"color:blue\"> |-hidden_layers: 2</span>"
            ],
            "text/plain": [
              "<IPython.core.display.HTML object>"
            ]
          },
          "metadata": {
            "tags": []
          }
        },
        {
          "output_type": "display_data",
          "data": {
            "text/html": [
              "<span style=\"color:cyan\"> |-layer_0_units_: 1185</span>"
            ],
            "text/plain": [
              "<IPython.core.display.HTML object>"
            ]
          },
          "metadata": {
            "tags": []
          }
        },
        {
          "output_type": "display_data",
          "data": {
            "text/html": [
              "<span style=\"color:blue\"> |-layer_1_units_: 592</span>"
            ],
            "text/plain": [
              "<IPython.core.display.HTML object>"
            ]
          },
          "metadata": {
            "tags": []
          }
        },
        {
          "output_type": "display_data",
          "data": {
            "text/html": [
              "<span style=\"color:cyan\"> |-layer_2_units_: 184</span>"
            ],
            "text/plain": [
              "<IPython.core.display.HTML object>"
            ]
          },
          "metadata": {
            "tags": []
          }
        },
        {
          "output_type": "display_data",
          "data": {
            "text/html": [
              "<span style=\"color:blue\"> |-units: 3328</span>"
            ],
            "text/plain": [
              "<IPython.core.display.HTML object>"
            ]
          },
          "metadata": {
            "tags": []
          }
        },
        {
          "output_type": "stream",
          "text": [
            "Epoch 1/10\n",
            "327/327 [==============================] - 27s 81ms/step - loss: 67513538838528.0000 - mae: 6653397.0000 - val_loss: 47104672137216.0000 - val_mae: 5635578.5000\n",
            "Epoch 2/10\n",
            "327/327 [==============================] - 28s 86ms/step - loss: 39319834198016.0000 - mae: 4704069.0000 - val_loss: 29924083630080.0000 - val_mae: 4179981.5000\n",
            "Epoch 3/10\n",
            "327/327 [==============================] - 26s 80ms/step - loss: 30667498848256.0000 - mae: 3980866.7500 - val_loss: 24284204367872.0000 - val_mae: 3655223.0000\n",
            "Epoch 4/10\n",
            "327/327 [==============================] - 27s 81ms/step - loss: 24942118699008.0000 - mae: 3393514.0000 - val_loss: 18753511227392.0000 - val_mae: 3006990.0000\n",
            "Epoch 5/10\n",
            "327/327 [==============================] - 26s 80ms/step - loss: 20503278387200.0000 - mae: 2873915.0000 - val_loss: 15649819590656.0000 - val_mae: 2634162.2500\n",
            "Epoch 6/10\n",
            "327/327 [==============================] - 26s 81ms/step - loss: 18206297161728.0000 - mae: 2661840.5000 - val_loss: 14217159639040.0000 - val_mae: 2501062.5000\n",
            "Epoch 7/10\n",
            "327/327 [==============================] - 26s 80ms/step - loss: 16669082648576.0000 - mae: 2533219.2500 - val_loss: 13218074329088.0000 - val_mae: 2404213.5000\n",
            "Epoch 8/10\n",
            "327/327 [==============================] - 26s 80ms/step - loss: 15543222403072.0000 - mae: 2438358.7500 - val_loss: 12509257924608.0000 - val_mae: 2354640.5000\n",
            "Epoch 9/10\n",
            "327/327 [==============================] - 26s 80ms/step - loss: 14769464541184.0000 - mae: 2371506.5000 - val_loss: 11909523832832.0000 - val_mae: 2288929.5000\n",
            "Epoch 10/10\n",
            "327/327 [==============================] - 26s 80ms/step - loss: 14169429508096.0000 - mae: 2317303.5000 - val_loss: 11502766522368.0000 - val_mae: 2229272.2500\n"
          ],
          "name": "stdout"
        },
        {
          "output_type": "display_data",
          "data": {
            "text/html": [
              "<span style=\"color:#4527A0\"><h1 style=\"font-size:18px\">Trial complete</h1></span>"
            ],
            "text/plain": [
              "<IPython.core.display.HTML object>"
            ]
          },
          "metadata": {
            "tags": []
          }
        },
        {
          "output_type": "display_data",
          "data": {
            "text/html": [
              "<span style=\"color:#4527A0\"><h1 style=\"font-size:18px\">Trial summary</h1></span>"
            ],
            "text/plain": [
              "<IPython.core.display.HTML object>"
            ]
          },
          "metadata": {
            "tags": []
          }
        },
        {
          "output_type": "display_data",
          "data": {
            "text/html": [
              "<span style=\"color:cyan\"> |-Trial ID: 4cc81aaa5a3fcc334652a6d4799eaabd</span>"
            ],
            "text/plain": [
              "<IPython.core.display.HTML object>"
            ]
          },
          "metadata": {
            "tags": []
          }
        },
        {
          "output_type": "display_data",
          "data": {
            "text/html": [
              "<span style=\"color:cyan\"> |-Score: 2229272.25</span>"
            ],
            "text/plain": [
              "<IPython.core.display.HTML object>"
            ]
          },
          "metadata": {
            "tags": []
          }
        },
        {
          "output_type": "display_data",
          "data": {
            "text/html": [
              "<span style=\"color:cyan\"> |-Best step: 0</span>"
            ],
            "text/plain": [
              "<IPython.core.display.HTML object>"
            ]
          },
          "metadata": {
            "tags": []
          }
        },
        {
          "output_type": "display_data",
          "data": {
            "text/html": [
              "<span style=\"color:#7E57C2\"><h2 style=\"font-size:16px\">Hyperparameters:</h2></span>"
            ],
            "text/plain": [
              "<IPython.core.display.HTML object>"
            ]
          },
          "metadata": {
            "tags": []
          }
        },
        {
          "output_type": "display_data",
          "data": {
            "text/html": [
              "<span style=\"color:cyan\"> |-activation: elu</span>"
            ],
            "text/plain": [
              "<IPython.core.display.HTML object>"
            ]
          },
          "metadata": {
            "tags": []
          }
        },
        {
          "output_type": "display_data",
          "data": {
            "text/html": [
              "<span style=\"color:blue\"> |-hidden_layers: 1</span>"
            ],
            "text/plain": [
              "<IPython.core.display.HTML object>"
            ]
          },
          "metadata": {
            "tags": []
          }
        },
        {
          "output_type": "display_data",
          "data": {
            "text/html": [
              "<span style=\"color:cyan\"> |-layer_0_units_: 1185</span>"
            ],
            "text/plain": [
              "<IPython.core.display.HTML object>"
            ]
          },
          "metadata": {
            "tags": []
          }
        },
        {
          "output_type": "display_data",
          "data": {
            "text/html": [
              "<span style=\"color:blue\"> |-layer_1_units_: 118</span>"
            ],
            "text/plain": [
              "<IPython.core.display.HTML object>"
            ]
          },
          "metadata": {
            "tags": []
          }
        },
        {
          "output_type": "display_data",
          "data": {
            "text/html": [
              "<span style=\"color:cyan\"> |-layer_2_units_: 184</span>"
            ],
            "text/plain": [
              "<IPython.core.display.HTML object>"
            ]
          },
          "metadata": {
            "tags": []
          }
        },
        {
          "output_type": "display_data",
          "data": {
            "text/html": [
              "<span style=\"color:blue\"> |-units: 3328</span>"
            ],
            "text/plain": [
              "<IPython.core.display.HTML object>"
            ]
          },
          "metadata": {
            "tags": []
          }
        },
        {
          "output_type": "stream",
          "text": [
            "INFO:tensorflow:Oracle triggered exit\n",
            "\n",
            "\n",
            "\n",
            "RESULTS SUMMARY\n"
          ],
          "name": "stdout"
        },
        {
          "output_type": "display_data",
          "data": {
            "text/html": [
              "<span style=\"color:#4527A0\"><h1 style=\"font-size:18px\">Results summary</h1></span>"
            ],
            "text/plain": [
              "<IPython.core.display.HTML object>"
            ]
          },
          "metadata": {
            "tags": []
          }
        },
        {
          "output_type": "display_data",
          "data": {
            "text/html": [
              "<span style=\"color:cyan\"> |-Results in ./untitled_project</span>"
            ],
            "text/plain": [
              "<IPython.core.display.HTML object>"
            ]
          },
          "metadata": {
            "tags": []
          }
        },
        {
          "output_type": "display_data",
          "data": {
            "text/html": [
              "<span style=\"color:cyan\"> |-Showing 10 best trials</span>"
            ],
            "text/plain": [
              "<IPython.core.display.HTML object>"
            ]
          },
          "metadata": {
            "tags": []
          }
        },
        {
          "output_type": "display_data",
          "data": {
            "text/html": [
              "<span style=\"color:cyan\"> |-Objective(name='val_mae', direction='min')</span>"
            ],
            "text/plain": [
              "<IPython.core.display.HTML object>"
            ]
          },
          "metadata": {
            "tags": []
          }
        },
        {
          "output_type": "display_data",
          "data": {
            "text/html": [
              "<span style=\"color:#4527A0\"><h1 style=\"font-size:18px\">Trial summary</h1></span>"
            ],
            "text/plain": [
              "<IPython.core.display.HTML object>"
            ]
          },
          "metadata": {
            "tags": []
          }
        },
        {
          "output_type": "display_data",
          "data": {
            "text/html": [
              "<span style=\"color:cyan\"> |-Trial ID: d1b6cefa5937d9bb0c0f8a8fc6703de1</span>"
            ],
            "text/plain": [
              "<IPython.core.display.HTML object>"
            ]
          },
          "metadata": {
            "tags": []
          }
        },
        {
          "output_type": "display_data",
          "data": {
            "text/html": [
              "<span style=\"color:cyan\"> |-Score: 1544479.25</span>"
            ],
            "text/plain": [
              "<IPython.core.display.HTML object>"
            ]
          },
          "metadata": {
            "tags": []
          }
        },
        {
          "output_type": "display_data",
          "data": {
            "text/html": [
              "<span style=\"color:cyan\"> |-Best step: 0</span>"
            ],
            "text/plain": [
              "<IPython.core.display.HTML object>"
            ]
          },
          "metadata": {
            "tags": []
          }
        },
        {
          "output_type": "display_data",
          "data": {
            "text/html": [
              "<span style=\"color:#7E57C2\"><h2 style=\"font-size:16px\">Hyperparameters:</h2></span>"
            ],
            "text/plain": [
              "<IPython.core.display.HTML object>"
            ]
          },
          "metadata": {
            "tags": []
          }
        },
        {
          "output_type": "display_data",
          "data": {
            "text/html": [
              "<span style=\"color:cyan\"> |-activation: relu</span>"
            ],
            "text/plain": [
              "<IPython.core.display.HTML object>"
            ]
          },
          "metadata": {
            "tags": []
          }
        },
        {
          "output_type": "display_data",
          "data": {
            "text/html": [
              "<span style=\"color:blue\"> |-hidden_layers: 2</span>"
            ],
            "text/plain": [
              "<IPython.core.display.HTML object>"
            ]
          },
          "metadata": {
            "tags": []
          }
        },
        {
          "output_type": "display_data",
          "data": {
            "text/html": [
              "<span style=\"color:cyan\"> |-layer_0_units_: 1185</span>"
            ],
            "text/plain": [
              "<IPython.core.display.HTML object>"
            ]
          },
          "metadata": {
            "tags": []
          }
        },
        {
          "output_type": "display_data",
          "data": {
            "text/html": [
              "<span style=\"color:blue\"> |-layer_1_units_: 434</span>"
            ],
            "text/plain": [
              "<IPython.core.display.HTML object>"
            ]
          },
          "metadata": {
            "tags": []
          }
        },
        {
          "output_type": "display_data",
          "data": {
            "text/html": [
              "<span style=\"color:cyan\"> |-units: 4096</span>"
            ],
            "text/plain": [
              "<IPython.core.display.HTML object>"
            ]
          },
          "metadata": {
            "tags": []
          }
        },
        {
          "output_type": "display_data",
          "data": {
            "text/html": [
              "<span style=\"color:#4527A0\"><h1 style=\"font-size:18px\">Trial summary</h1></span>"
            ],
            "text/plain": [
              "<IPython.core.display.HTML object>"
            ]
          },
          "metadata": {
            "tags": []
          }
        },
        {
          "output_type": "display_data",
          "data": {
            "text/html": [
              "<span style=\"color:cyan\"> |-Trial ID: 023fc8037548c06584b55938cacfa5b5</span>"
            ],
            "text/plain": [
              "<IPython.core.display.HTML object>"
            ]
          },
          "metadata": {
            "tags": []
          }
        },
        {
          "output_type": "display_data",
          "data": {
            "text/html": [
              "<span style=\"color:cyan\"> |-Score: 1562007.375</span>"
            ],
            "text/plain": [
              "<IPython.core.display.HTML object>"
            ]
          },
          "metadata": {
            "tags": []
          }
        },
        {
          "output_type": "display_data",
          "data": {
            "text/html": [
              "<span style=\"color:cyan\"> |-Best step: 0</span>"
            ],
            "text/plain": [
              "<IPython.core.display.HTML object>"
            ]
          },
          "metadata": {
            "tags": []
          }
        },
        {
          "output_type": "display_data",
          "data": {
            "text/html": [
              "<span style=\"color:#7E57C2\"><h2 style=\"font-size:16px\">Hyperparameters:</h2></span>"
            ],
            "text/plain": [
              "<IPython.core.display.HTML object>"
            ]
          },
          "metadata": {
            "tags": []
          }
        },
        {
          "output_type": "display_data",
          "data": {
            "text/html": [
              "<span style=\"color:cyan\"> |-activation: elu</span>"
            ],
            "text/plain": [
              "<IPython.core.display.HTML object>"
            ]
          },
          "metadata": {
            "tags": []
          }
        },
        {
          "output_type": "display_data",
          "data": {
            "text/html": [
              "<span style=\"color:blue\"> |-hidden_layers: 3</span>"
            ],
            "text/plain": [
              "<IPython.core.display.HTML object>"
            ]
          },
          "metadata": {
            "tags": []
          }
        },
        {
          "output_type": "display_data",
          "data": {
            "text/html": [
              "<span style=\"color:cyan\"> |-layer_0_units_: 553</span>"
            ],
            "text/plain": [
              "<IPython.core.display.HTML object>"
            ]
          },
          "metadata": {
            "tags": []
          }
        },
        {
          "output_type": "display_data",
          "data": {
            "text/html": [
              "<span style=\"color:blue\"> |-layer_1_units_: 434</span>"
            ],
            "text/plain": [
              "<IPython.core.display.HTML object>"
            ]
          },
          "metadata": {
            "tags": []
          }
        },
        {
          "output_type": "display_data",
          "data": {
            "text/html": [
              "<span style=\"color:cyan\"> |-layer_2_units_: 79</span>"
            ],
            "text/plain": [
              "<IPython.core.display.HTML object>"
            ]
          },
          "metadata": {
            "tags": []
          }
        },
        {
          "output_type": "display_data",
          "data": {
            "text/html": [
              "<span style=\"color:blue\"> |-units: 4096</span>"
            ],
            "text/plain": [
              "<IPython.core.display.HTML object>"
            ]
          },
          "metadata": {
            "tags": []
          }
        },
        {
          "output_type": "display_data",
          "data": {
            "text/html": [
              "<span style=\"color:#4527A0\"><h1 style=\"font-size:18px\">Trial summary</h1></span>"
            ],
            "text/plain": [
              "<IPython.core.display.HTML object>"
            ]
          },
          "metadata": {
            "tags": []
          }
        },
        {
          "output_type": "display_data",
          "data": {
            "text/html": [
              "<span style=\"color:cyan\"> |-Trial ID: 844c980466c19884a1c678c5ed9f10b0</span>"
            ],
            "text/plain": [
              "<IPython.core.display.HTML object>"
            ]
          },
          "metadata": {
            "tags": []
          }
        },
        {
          "output_type": "display_data",
          "data": {
            "text/html": [
              "<span style=\"color:cyan\"> |-Score: 1562893.25</span>"
            ],
            "text/plain": [
              "<IPython.core.display.HTML object>"
            ]
          },
          "metadata": {
            "tags": []
          }
        },
        {
          "output_type": "display_data",
          "data": {
            "text/html": [
              "<span style=\"color:cyan\"> |-Best step: 0</span>"
            ],
            "text/plain": [
              "<IPython.core.display.HTML object>"
            ]
          },
          "metadata": {
            "tags": []
          }
        },
        {
          "output_type": "display_data",
          "data": {
            "text/html": [
              "<span style=\"color:#7E57C2\"><h2 style=\"font-size:16px\">Hyperparameters:</h2></span>"
            ],
            "text/plain": [
              "<IPython.core.display.HTML object>"
            ]
          },
          "metadata": {
            "tags": []
          }
        },
        {
          "output_type": "display_data",
          "data": {
            "text/html": [
              "<span style=\"color:cyan\"> |-activation: relu</span>"
            ],
            "text/plain": [
              "<IPython.core.display.HTML object>"
            ]
          },
          "metadata": {
            "tags": []
          }
        },
        {
          "output_type": "display_data",
          "data": {
            "text/html": [
              "<span style=\"color:blue\"> |-hidden_layers: 3</span>"
            ],
            "text/plain": [
              "<IPython.core.display.HTML object>"
            ]
          },
          "metadata": {
            "tags": []
          }
        },
        {
          "output_type": "display_data",
          "data": {
            "text/html": [
              "<span style=\"color:cyan\"> |-layer_0_units_: 869</span>"
            ],
            "text/plain": [
              "<IPython.core.display.HTML object>"
            ]
          },
          "metadata": {
            "tags": []
          }
        },
        {
          "output_type": "display_data",
          "data": {
            "text/html": [
              "<span style=\"color:blue\"> |-layer_1_units_: 434</span>"
            ],
            "text/plain": [
              "<IPython.core.display.HTML object>"
            ]
          },
          "metadata": {
            "tags": []
          }
        },
        {
          "output_type": "display_data",
          "data": {
            "text/html": [
              "<span style=\"color:cyan\"> |-layer_2_units_: 394</span>"
            ],
            "text/plain": [
              "<IPython.core.display.HTML object>"
            ]
          },
          "metadata": {
            "tags": []
          }
        },
        {
          "output_type": "display_data",
          "data": {
            "text/html": [
              "<span style=\"color:blue\"> |-units: 256</span>"
            ],
            "text/plain": [
              "<IPython.core.display.HTML object>"
            ]
          },
          "metadata": {
            "tags": []
          }
        },
        {
          "output_type": "display_data",
          "data": {
            "text/html": [
              "<span style=\"color:#4527A0\"><h1 style=\"font-size:18px\">Trial summary</h1></span>"
            ],
            "text/plain": [
              "<IPython.core.display.HTML object>"
            ]
          },
          "metadata": {
            "tags": []
          }
        },
        {
          "output_type": "display_data",
          "data": {
            "text/html": [
              "<span style=\"color:cyan\"> |-Trial ID: 01a801653b75e3e00c924b056be59b43</span>"
            ],
            "text/plain": [
              "<IPython.core.display.HTML object>"
            ]
          },
          "metadata": {
            "tags": []
          }
        },
        {
          "output_type": "display_data",
          "data": {
            "text/html": [
              "<span style=\"color:cyan\"> |-Score: 1565899.0</span>"
            ],
            "text/plain": [
              "<IPython.core.display.HTML object>"
            ]
          },
          "metadata": {
            "tags": []
          }
        },
        {
          "output_type": "display_data",
          "data": {
            "text/html": [
              "<span style=\"color:cyan\"> |-Best step: 0</span>"
            ],
            "text/plain": [
              "<IPython.core.display.HTML object>"
            ]
          },
          "metadata": {
            "tags": []
          }
        },
        {
          "output_type": "display_data",
          "data": {
            "text/html": [
              "<span style=\"color:#7E57C2\"><h2 style=\"font-size:16px\">Hyperparameters:</h2></span>"
            ],
            "text/plain": [
              "<IPython.core.display.HTML object>"
            ]
          },
          "metadata": {
            "tags": []
          }
        },
        {
          "output_type": "display_data",
          "data": {
            "text/html": [
              "<span style=\"color:cyan\"> |-activation: elu</span>"
            ],
            "text/plain": [
              "<IPython.core.display.HTML object>"
            ]
          },
          "metadata": {
            "tags": []
          }
        },
        {
          "output_type": "display_data",
          "data": {
            "text/html": [
              "<span style=\"color:blue\"> |-hidden_layers: 3</span>"
            ],
            "text/plain": [
              "<IPython.core.display.HTML object>"
            ]
          },
          "metadata": {
            "tags": []
          }
        },
        {
          "output_type": "display_data",
          "data": {
            "text/html": [
              "<span style=\"color:cyan\"> |-layer_0_units_: 553</span>"
            ],
            "text/plain": [
              "<IPython.core.display.HTML object>"
            ]
          },
          "metadata": {
            "tags": []
          }
        },
        {
          "output_type": "display_data",
          "data": {
            "text/html": [
              "<span style=\"color:blue\"> |-layer_1_units_: 434</span>"
            ],
            "text/plain": [
              "<IPython.core.display.HTML object>"
            ]
          },
          "metadata": {
            "tags": []
          }
        },
        {
          "output_type": "display_data",
          "data": {
            "text/html": [
              "<span style=\"color:cyan\"> |-layer_2_units_: 184</span>"
            ],
            "text/plain": [
              "<IPython.core.display.HTML object>"
            ]
          },
          "metadata": {
            "tags": []
          }
        },
        {
          "output_type": "display_data",
          "data": {
            "text/html": [
              "<span style=\"color:blue\"> |-units: 2560</span>"
            ],
            "text/plain": [
              "<IPython.core.display.HTML object>"
            ]
          },
          "metadata": {
            "tags": []
          }
        },
        {
          "output_type": "display_data",
          "data": {
            "text/html": [
              "<span style=\"color:#4527A0\"><h1 style=\"font-size:18px\">Trial summary</h1></span>"
            ],
            "text/plain": [
              "<IPython.core.display.HTML object>"
            ]
          },
          "metadata": {
            "tags": []
          }
        },
        {
          "output_type": "display_data",
          "data": {
            "text/html": [
              "<span style=\"color:cyan\"> |-Trial ID: e40d8b3abe8d08e7c3c40373bf67ac94</span>"
            ],
            "text/plain": [
              "<IPython.core.display.HTML object>"
            ]
          },
          "metadata": {
            "tags": []
          }
        },
        {
          "output_type": "display_data",
          "data": {
            "text/html": [
              "<span style=\"color:cyan\"> |-Score: 1576137.375</span>"
            ],
            "text/plain": [
              "<IPython.core.display.HTML object>"
            ]
          },
          "metadata": {
            "tags": []
          }
        },
        {
          "output_type": "display_data",
          "data": {
            "text/html": [
              "<span style=\"color:cyan\"> |-Best step: 0</span>"
            ],
            "text/plain": [
              "<IPython.core.display.HTML object>"
            ]
          },
          "metadata": {
            "tags": []
          }
        },
        {
          "output_type": "display_data",
          "data": {
            "text/html": [
              "<span style=\"color:#7E57C2\"><h2 style=\"font-size:16px\">Hyperparameters:</h2></span>"
            ],
            "text/plain": [
              "<IPython.core.display.HTML object>"
            ]
          },
          "metadata": {
            "tags": []
          }
        },
        {
          "output_type": "display_data",
          "data": {
            "text/html": [
              "<span style=\"color:cyan\"> |-activation: selu</span>"
            ],
            "text/plain": [
              "<IPython.core.display.HTML object>"
            ]
          },
          "metadata": {
            "tags": []
          }
        },
        {
          "output_type": "display_data",
          "data": {
            "text/html": [
              "<span style=\"color:blue\"> |-hidden_layers: 3</span>"
            ],
            "text/plain": [
              "<IPython.core.display.HTML object>"
            ]
          },
          "metadata": {
            "tags": []
          }
        },
        {
          "output_type": "display_data",
          "data": {
            "text/html": [
              "<span style=\"color:cyan\"> |-layer_0_units_: 237</span>"
            ],
            "text/plain": [
              "<IPython.core.display.HTML object>"
            ]
          },
          "metadata": {
            "tags": []
          }
        },
        {
          "output_type": "display_data",
          "data": {
            "text/html": [
              "<span style=\"color:blue\"> |-layer_1_units_: 592</span>"
            ],
            "text/plain": [
              "<IPython.core.display.HTML object>"
            ]
          },
          "metadata": {
            "tags": []
          }
        },
        {
          "output_type": "display_data",
          "data": {
            "text/html": [
              "<span style=\"color:cyan\"> |-layer_2_units_: 289</span>"
            ],
            "text/plain": [
              "<IPython.core.display.HTML object>"
            ]
          },
          "metadata": {
            "tags": []
          }
        },
        {
          "output_type": "display_data",
          "data": {
            "text/html": [
              "<span style=\"color:blue\"> |-units: 2560</span>"
            ],
            "text/plain": [
              "<IPython.core.display.HTML object>"
            ]
          },
          "metadata": {
            "tags": []
          }
        },
        {
          "output_type": "display_data",
          "data": {
            "text/html": [
              "<span style=\"color:#4527A0\"><h1 style=\"font-size:18px\">Trial summary</h1></span>"
            ],
            "text/plain": [
              "<IPython.core.display.HTML object>"
            ]
          },
          "metadata": {
            "tags": []
          }
        },
        {
          "output_type": "display_data",
          "data": {
            "text/html": [
              "<span style=\"color:cyan\"> |-Trial ID: 1a7ed91aa0e2460d64a32d4033fca7a0</span>"
            ],
            "text/plain": [
              "<IPython.core.display.HTML object>"
            ]
          },
          "metadata": {
            "tags": []
          }
        },
        {
          "output_type": "display_data",
          "data": {
            "text/html": [
              "<span style=\"color:cyan\"> |-Score: 1576637.875</span>"
            ],
            "text/plain": [
              "<IPython.core.display.HTML object>"
            ]
          },
          "metadata": {
            "tags": []
          }
        },
        {
          "output_type": "display_data",
          "data": {
            "text/html": [
              "<span style=\"color:cyan\"> |-Best step: 0</span>"
            ],
            "text/plain": [
              "<IPython.core.display.HTML object>"
            ]
          },
          "metadata": {
            "tags": []
          }
        },
        {
          "output_type": "display_data",
          "data": {
            "text/html": [
              "<span style=\"color:#7E57C2\"><h2 style=\"font-size:16px\">Hyperparameters:</h2></span>"
            ],
            "text/plain": [
              "<IPython.core.display.HTML object>"
            ]
          },
          "metadata": {
            "tags": []
          }
        },
        {
          "output_type": "display_data",
          "data": {
            "text/html": [
              "<span style=\"color:cyan\"> |-activation: elu</span>"
            ],
            "text/plain": [
              "<IPython.core.display.HTML object>"
            ]
          },
          "metadata": {
            "tags": []
          }
        },
        {
          "output_type": "display_data",
          "data": {
            "text/html": [
              "<span style=\"color:blue\"> |-hidden_layers: 2</span>"
            ],
            "text/plain": [
              "<IPython.core.display.HTML object>"
            ]
          },
          "metadata": {
            "tags": []
          }
        },
        {
          "output_type": "display_data",
          "data": {
            "text/html": [
              "<span style=\"color:cyan\"> |-layer_0_units_: 1185</span>"
            ],
            "text/plain": [
              "<IPython.core.display.HTML object>"
            ]
          },
          "metadata": {
            "tags": []
          }
        },
        {
          "output_type": "display_data",
          "data": {
            "text/html": [
              "<span style=\"color:blue\"> |-layer_1_units_: 276</span>"
            ],
            "text/plain": [
              "<IPython.core.display.HTML object>"
            ]
          },
          "metadata": {
            "tags": []
          }
        },
        {
          "output_type": "display_data",
          "data": {
            "text/html": [
              "<span style=\"color:cyan\"> |-units: 2560</span>"
            ],
            "text/plain": [
              "<IPython.core.display.HTML object>"
            ]
          },
          "metadata": {
            "tags": []
          }
        },
        {
          "output_type": "display_data",
          "data": {
            "text/html": [
              "<span style=\"color:#4527A0\"><h1 style=\"font-size:18px\">Trial summary</h1></span>"
            ],
            "text/plain": [
              "<IPython.core.display.HTML object>"
            ]
          },
          "metadata": {
            "tags": []
          }
        },
        {
          "output_type": "display_data",
          "data": {
            "text/html": [
              "<span style=\"color:cyan\"> |-Trial ID: 64ee1544b3ae3309b73228a4fbbfde0f</span>"
            ],
            "text/plain": [
              "<IPython.core.display.HTML object>"
            ]
          },
          "metadata": {
            "tags": []
          }
        },
        {
          "output_type": "display_data",
          "data": {
            "text/html": [
              "<span style=\"color:cyan\"> |-Score: 1577697.875</span>"
            ],
            "text/plain": [
              "<IPython.core.display.HTML object>"
            ]
          },
          "metadata": {
            "tags": []
          }
        },
        {
          "output_type": "display_data",
          "data": {
            "text/html": [
              "<span style=\"color:cyan\"> |-Best step: 0</span>"
            ],
            "text/plain": [
              "<IPython.core.display.HTML object>"
            ]
          },
          "metadata": {
            "tags": []
          }
        },
        {
          "output_type": "display_data",
          "data": {
            "text/html": [
              "<span style=\"color:#7E57C2\"><h2 style=\"font-size:16px\">Hyperparameters:</h2></span>"
            ],
            "text/plain": [
              "<IPython.core.display.HTML object>"
            ]
          },
          "metadata": {
            "tags": []
          }
        },
        {
          "output_type": "display_data",
          "data": {
            "text/html": [
              "<span style=\"color:cyan\"> |-activation: selu</span>"
            ],
            "text/plain": [
              "<IPython.core.display.HTML object>"
            ]
          },
          "metadata": {
            "tags": []
          }
        },
        {
          "output_type": "display_data",
          "data": {
            "text/html": [
              "<span style=\"color:blue\"> |-hidden_layers: 3</span>"
            ],
            "text/plain": [
              "<IPython.core.display.HTML object>"
            ]
          },
          "metadata": {
            "tags": []
          }
        },
        {
          "output_type": "display_data",
          "data": {
            "text/html": [
              "<span style=\"color:cyan\"> |-layer_0_units_: 869</span>"
            ],
            "text/plain": [
              "<IPython.core.display.HTML object>"
            ]
          },
          "metadata": {
            "tags": []
          }
        },
        {
          "output_type": "display_data",
          "data": {
            "text/html": [
              "<span style=\"color:blue\"> |-layer_1_units_: 276</span>"
            ],
            "text/plain": [
              "<IPython.core.display.HTML object>"
            ]
          },
          "metadata": {
            "tags": []
          }
        },
        {
          "output_type": "display_data",
          "data": {
            "text/html": [
              "<span style=\"color:cyan\"> |-layer_2_units_: 289</span>"
            ],
            "text/plain": [
              "<IPython.core.display.HTML object>"
            ]
          },
          "metadata": {
            "tags": []
          }
        },
        {
          "output_type": "display_data",
          "data": {
            "text/html": [
              "<span style=\"color:blue\"> |-units: 1792</span>"
            ],
            "text/plain": [
              "<IPython.core.display.HTML object>"
            ]
          },
          "metadata": {
            "tags": []
          }
        },
        {
          "output_type": "display_data",
          "data": {
            "text/html": [
              "<span style=\"color:#4527A0\"><h1 style=\"font-size:18px\">Trial summary</h1></span>"
            ],
            "text/plain": [
              "<IPython.core.display.HTML object>"
            ]
          },
          "metadata": {
            "tags": []
          }
        },
        {
          "output_type": "display_data",
          "data": {
            "text/html": [
              "<span style=\"color:cyan\"> |-Trial ID: 68d0295a07e10415b0577d6afa5caf10</span>"
            ],
            "text/plain": [
              "<IPython.core.display.HTML object>"
            ]
          },
          "metadata": {
            "tags": []
          }
        },
        {
          "output_type": "display_data",
          "data": {
            "text/html": [
              "<span style=\"color:cyan\"> |-Score: 1578245.875</span>"
            ],
            "text/plain": [
              "<IPython.core.display.HTML object>"
            ]
          },
          "metadata": {
            "tags": []
          }
        },
        {
          "output_type": "display_data",
          "data": {
            "text/html": [
              "<span style=\"color:cyan\"> |-Best step: 0</span>"
            ],
            "text/plain": [
              "<IPython.core.display.HTML object>"
            ]
          },
          "metadata": {
            "tags": []
          }
        },
        {
          "output_type": "display_data",
          "data": {
            "text/html": [
              "<span style=\"color:#7E57C2\"><h2 style=\"font-size:16px\">Hyperparameters:</h2></span>"
            ],
            "text/plain": [
              "<IPython.core.display.HTML object>"
            ]
          },
          "metadata": {
            "tags": []
          }
        },
        {
          "output_type": "display_data",
          "data": {
            "text/html": [
              "<span style=\"color:cyan\"> |-activation: elu</span>"
            ],
            "text/plain": [
              "<IPython.core.display.HTML object>"
            ]
          },
          "metadata": {
            "tags": []
          }
        },
        {
          "output_type": "display_data",
          "data": {
            "text/html": [
              "<span style=\"color:blue\"> |-hidden_layers: 3</span>"
            ],
            "text/plain": [
              "<IPython.core.display.HTML object>"
            ]
          },
          "metadata": {
            "tags": []
          }
        },
        {
          "output_type": "display_data",
          "data": {
            "text/html": [
              "<span style=\"color:cyan\"> |-layer_0_units_: 869</span>"
            ],
            "text/plain": [
              "<IPython.core.display.HTML object>"
            ]
          },
          "metadata": {
            "tags": []
          }
        },
        {
          "output_type": "display_data",
          "data": {
            "text/html": [
              "<span style=\"color:blue\"> |-layer_1_units_: 434</span>"
            ],
            "text/plain": [
              "<IPython.core.display.HTML object>"
            ]
          },
          "metadata": {
            "tags": []
          }
        },
        {
          "output_type": "display_data",
          "data": {
            "text/html": [
              "<span style=\"color:cyan\"> |-layer_2_units_: 289</span>"
            ],
            "text/plain": [
              "<IPython.core.display.HTML object>"
            ]
          },
          "metadata": {
            "tags": []
          }
        },
        {
          "output_type": "display_data",
          "data": {
            "text/html": [
              "<span style=\"color:blue\"> |-units: 1024</span>"
            ],
            "text/plain": [
              "<IPython.core.display.HTML object>"
            ]
          },
          "metadata": {
            "tags": []
          }
        },
        {
          "output_type": "display_data",
          "data": {
            "text/html": [
              "<span style=\"color:#4527A0\"><h1 style=\"font-size:18px\">Trial summary</h1></span>"
            ],
            "text/plain": [
              "<IPython.core.display.HTML object>"
            ]
          },
          "metadata": {
            "tags": []
          }
        },
        {
          "output_type": "display_data",
          "data": {
            "text/html": [
              "<span style=\"color:cyan\"> |-Trial ID: c344a015e0308802771bbbf7e0d028e5</span>"
            ],
            "text/plain": [
              "<IPython.core.display.HTML object>"
            ]
          },
          "metadata": {
            "tags": []
          }
        },
        {
          "output_type": "display_data",
          "data": {
            "text/html": [
              "<span style=\"color:cyan\"> |-Score: 1582557.625</span>"
            ],
            "text/plain": [
              "<IPython.core.display.HTML object>"
            ]
          },
          "metadata": {
            "tags": []
          }
        },
        {
          "output_type": "display_data",
          "data": {
            "text/html": [
              "<span style=\"color:cyan\"> |-Best step: 0</span>"
            ],
            "text/plain": [
              "<IPython.core.display.HTML object>"
            ]
          },
          "metadata": {
            "tags": []
          }
        },
        {
          "output_type": "display_data",
          "data": {
            "text/html": [
              "<span style=\"color:#7E57C2\"><h2 style=\"font-size:16px\">Hyperparameters:</h2></span>"
            ],
            "text/plain": [
              "<IPython.core.display.HTML object>"
            ]
          },
          "metadata": {
            "tags": []
          }
        },
        {
          "output_type": "display_data",
          "data": {
            "text/html": [
              "<span style=\"color:cyan\"> |-activation: selu</span>"
            ],
            "text/plain": [
              "<IPython.core.display.HTML object>"
            ]
          },
          "metadata": {
            "tags": []
          }
        },
        {
          "output_type": "display_data",
          "data": {
            "text/html": [
              "<span style=\"color:blue\"> |-hidden_layers: 3</span>"
            ],
            "text/plain": [
              "<IPython.core.display.HTML object>"
            ]
          },
          "metadata": {
            "tags": []
          }
        },
        {
          "output_type": "display_data",
          "data": {
            "text/html": [
              "<span style=\"color:cyan\"> |-layer_0_units_: 1185</span>"
            ],
            "text/plain": [
              "<IPython.core.display.HTML object>"
            ]
          },
          "metadata": {
            "tags": []
          }
        },
        {
          "output_type": "display_data",
          "data": {
            "text/html": [
              "<span style=\"color:blue\"> |-layer_1_units_: 276</span>"
            ],
            "text/plain": [
              "<IPython.core.display.HTML object>"
            ]
          },
          "metadata": {
            "tags": []
          }
        },
        {
          "output_type": "display_data",
          "data": {
            "text/html": [
              "<span style=\"color:cyan\"> |-layer_2_units_: 289</span>"
            ],
            "text/plain": [
              "<IPython.core.display.HTML object>"
            ]
          },
          "metadata": {
            "tags": []
          }
        },
        {
          "output_type": "display_data",
          "data": {
            "text/html": [
              "<span style=\"color:blue\"> |-units: 3328</span>"
            ],
            "text/plain": [
              "<IPython.core.display.HTML object>"
            ]
          },
          "metadata": {
            "tags": []
          }
        },
        {
          "output_type": "display_data",
          "data": {
            "text/html": [
              "<span style=\"color:#4527A0\"><h1 style=\"font-size:18px\">Trial summary</h1></span>"
            ],
            "text/plain": [
              "<IPython.core.display.HTML object>"
            ]
          },
          "metadata": {
            "tags": []
          }
        },
        {
          "output_type": "display_data",
          "data": {
            "text/html": [
              "<span style=\"color:cyan\"> |-Trial ID: fbcada6d18ac773c6cf77bc1ea21d60c</span>"
            ],
            "text/plain": [
              "<IPython.core.display.HTML object>"
            ]
          },
          "metadata": {
            "tags": []
          }
        },
        {
          "output_type": "display_data",
          "data": {
            "text/html": [
              "<span style=\"color:cyan\"> |-Score: 1587193.875</span>"
            ],
            "text/plain": [
              "<IPython.core.display.HTML object>"
            ]
          },
          "metadata": {
            "tags": []
          }
        },
        {
          "output_type": "display_data",
          "data": {
            "text/html": [
              "<span style=\"color:cyan\"> |-Best step: 0</span>"
            ],
            "text/plain": [
              "<IPython.core.display.HTML object>"
            ]
          },
          "metadata": {
            "tags": []
          }
        },
        {
          "output_type": "display_data",
          "data": {
            "text/html": [
              "<span style=\"color:#7E57C2\"><h2 style=\"font-size:16px\">Hyperparameters:</h2></span>"
            ],
            "text/plain": [
              "<IPython.core.display.HTML object>"
            ]
          },
          "metadata": {
            "tags": []
          }
        },
        {
          "output_type": "display_data",
          "data": {
            "text/html": [
              "<span style=\"color:cyan\"> |-activation: selu</span>"
            ],
            "text/plain": [
              "<IPython.core.display.HTML object>"
            ]
          },
          "metadata": {
            "tags": []
          }
        },
        {
          "output_type": "display_data",
          "data": {
            "text/html": [
              "<span style=\"color:blue\"> |-hidden_layers: 3</span>"
            ],
            "text/plain": [
              "<IPython.core.display.HTML object>"
            ]
          },
          "metadata": {
            "tags": []
          }
        },
        {
          "output_type": "display_data",
          "data": {
            "text/html": [
              "<span style=\"color:cyan\"> |-layer_0_units_: 1185</span>"
            ],
            "text/plain": [
              "<IPython.core.display.HTML object>"
            ]
          },
          "metadata": {
            "tags": []
          }
        },
        {
          "output_type": "display_data",
          "data": {
            "text/html": [
              "<span style=\"color:blue\"> |-layer_1_units_: 276</span>"
            ],
            "text/plain": [
              "<IPython.core.display.HTML object>"
            ]
          },
          "metadata": {
            "tags": []
          }
        },
        {
          "output_type": "display_data",
          "data": {
            "text/html": [
              "<span style=\"color:cyan\"> |-layer_2_units_: 184</span>"
            ],
            "text/plain": [
              "<IPython.core.display.HTML object>"
            ]
          },
          "metadata": {
            "tags": []
          }
        },
        {
          "output_type": "display_data",
          "data": {
            "text/html": [
              "<span style=\"color:blue\"> |-units: 4864</span>"
            ],
            "text/plain": [
              "<IPython.core.display.HTML object>"
            ]
          },
          "metadata": {
            "tags": []
          }
        },
        {
          "output_type": "stream",
          "text": [
            "\n",
            "\n",
            "\n",
            "\n",
            "\n",
            "\n",
            "\n",
            "HERE IS THE BEST MODEL\n",
            "\n",
            "\n",
            "\n",
            "Model: \"sequential\"\n",
            "_________________________________________________________________\n",
            "Layer (type)                 Output Shape              Param #   \n",
            "=================================================================\n",
            "dense (Dense)                (None, 4096)              1150976   \n",
            "_________________________________________________________________\n",
            "dropout (Dropout)            (None, 4096)              0         \n",
            "_________________________________________________________________\n",
            "dense_1 (Dense)              (None, 1185)              4854945   \n",
            "_________________________________________________________________\n",
            "dense_2 (Dense)              (None, 434)               514724    \n",
            "_________________________________________________________________\n",
            "dense_3 (Dense)              (None, 1)                 435       \n",
            "=================================================================\n",
            "Total params: 6,521,080\n",
            "Trainable params: 6,521,080\n",
            "Non-trainable params: 0\n",
            "_________________________________________________________________\n"
          ],
          "name": "stdout"
        }
      ]
    },
    {
      "cell_type": "code",
      "metadata": {
        "id": "ZI1FQioITciG",
        "outputId": "b0aa26a4-b850-42b6-f32a-2f36efcc5b34",
        "colab": {
          "base_uri": "https://localhost:8080/"
        }
      },
      "source": [
        "best_history = best_model.fit(X_train, y_train, epochs=10, batch_size=50, validation_split=0.2)\n",
        "best_history = best_history.history"
      ],
      "execution_count": 39,
      "outputs": [
        {
          "output_type": "stream",
          "text": [
            "Epoch 1/10\n",
            "327/327 [==============================] - 35s 107ms/step - loss: 30601780396032.0000 - mae: 3491157.7500 - val_loss: 12468741996544.0000 - val_mae: 2145471.5000\n",
            "Epoch 2/10\n",
            "327/327 [==============================] - 34s 105ms/step - loss: 13890422308864.0000 - mae: 2057892.2500 - val_loss: 9521538793472.0000 - val_mae: 1853949.8750\n",
            "Epoch 3/10\n",
            "327/327 [==============================] - 34s 104ms/step - loss: 11699908247552.0000 - mae: 1879872.3750 - val_loss: 8820469268480.0000 - val_mae: 1767283.6250\n",
            "Epoch 4/10\n",
            "327/327 [==============================] - 34s 103ms/step - loss: 10833808588800.0000 - mae: 1795234.5000 - val_loss: 8660924235776.0000 - val_mae: 1717096.3750\n",
            "Epoch 5/10\n",
            "327/327 [==============================] - 34s 104ms/step - loss: 10353168613376.0000 - mae: 1743687.2500 - val_loss: 8055890116608.0000 - val_mae: 1677054.5000\n",
            "Epoch 6/10\n",
            "327/327 [==============================] - 34s 104ms/step - loss: 9972386627584.0000 - mae: 1699222.0000 - val_loss: 7969926283264.0000 - val_mae: 1752433.1250\n",
            "Epoch 7/10\n",
            "327/327 [==============================] - 34s 104ms/step - loss: 9688395546624.0000 - mae: 1673916.2500 - val_loss: 7558535315456.0000 - val_mae: 1613871.0000\n",
            "Epoch 8/10\n",
            "327/327 [==============================] - 36s 111ms/step - loss: 9450853236736.0000 - mae: 1647151.6250 - val_loss: 7596930498560.0000 - val_mae: 1691846.2500\n",
            "Epoch 9/10\n",
            "327/327 [==============================] - 34s 104ms/step - loss: 9358626783232.0000 - mae: 1627113.0000 - val_loss: 7392627523584.0000 - val_mae: 1601794.0000\n",
            "Epoch 10/10\n",
            "327/327 [==============================] - 34s 105ms/step - loss: 9156701454336.0000 - mae: 1621877.3750 - val_loss: 7398561939456.0000 - val_mae: 1644412.2500\n"
          ],
          "name": "stdout"
        }
      ]
    },
    {
      "cell_type": "code",
      "metadata": {
        "id": "8KEEP5FXViXZ"
      },
      "source": [
        "def graphs(history):\n",
        "    loss = history[\"loss\"]\n",
        "    val_loss = history[\"val_loss\"]\n",
        "    epochs = range(1, len(history['loss']) + 1)\n",
        "    plt.plot(epochs, loss, 'r', label='Training loss')\n",
        "    plt.plot(epochs, val_loss, 'b', label='Validation loss')\n",
        "    plt.title('Training and validation loss')\n",
        "    plt.xlabel('Epochs')\n",
        "    plt.ylabel('Loss')\n",
        "    plt.legend()\n",
        "    plt.show()\n",
        " \n",
        "    plt.clf()\n",
        " \n",
        "    mae = history['mae']\n",
        "    val_mae = history['val_mae']\n",
        "    plt.plot(epochs, mae, 'r', label='Training mae')\n",
        "    plt.plot(epochs, val_mae, 'b', label='Validation mae')\n",
        "    plt.title('Training and validation mae')\n",
        "    plt.xlabel('Epochs')\n",
        "    plt.ylabel('mae')\n",
        "    plt.legend()\n",
        "    plt.show()"
      ],
      "execution_count": 40,
      "outputs": []
    },
    {
      "cell_type": "code",
      "metadata": {
        "id": "BKkt4PJRTdNT",
        "outputId": "8ad54a31-d2d4-4cea-8542-2ff7aa1ee02d",
        "colab": {
          "base_uri": "https://localhost:8080/",
          "height": 573
        }
      },
      "source": [
        "graphs(best_history)"
      ],
      "execution_count": 41,
      "outputs": [
        {
          "output_type": "display_data",
          "data": {
            "image/png": "[encoded data removed]",
            "text/plain": [
              "<Figure size 432x288 with 1 Axes>"
            ]
          },
          "metadata": {
            "tags": [],
            "needs_background": "light"
          }
        },
        {
          "output_type": "display_data",
          "data": {
            "image/png": "[encoded data removed]",
            "text/plain": [
              "<Figure size 432x288 with 1 Axes>"
            ]
          },
          "metadata": {
            "tags": [],
            "needs_background": "light"
          }
        }
      ]
    },
    {
      "cell_type": "code",
      "metadata": {
        "id": "n4eX9SGpTh8E"
      },
      "source": [
        "kpredicted_x = best_model.predict(X_test)\n",
        "kpredicted_x = np.reshape(kpredicted_x, (kpredicted_x.shape[0]))"
      ],
      "execution_count": 43,
      "outputs": []
    },
    {
      "cell_type": "code",
      "metadata": {
        "id": "ZK22NnBWTj7B",
        "outputId": "4da83594-6cde-4a39-fc6c-c1ac6ccba530",
        "colab": {
          "base_uri": "https://localhost:8080/"
        }
      },
      "source": [
        "for test_index in range(30):\n",
        "  print(\"K:\", kpredicted_x[test_index], \" M:\", predicted_x[test_index], \" True:\",predicted_y.values[test_index])"
      ],
      "execution_count": 44,
      "outputs": [
        {
          "output_type": "stream",
          "text": [
            "K: 15473261.0  M: 14391735.0  True: 12319849\n",
            "K: 8027092.0  M: 7437803.5  True: 6800000\n",
            "K: 6456652.0  M: 6815665.5  True: 4650000\n",
            "K: 8158849.5  M: 9216884.0  True: 1200000\n",
            "K: 7827487.5  M: 10450726.0  True: 5650000\n",
            "K: 12444319.0  M: 12024172.0  True: 10850000\n",
            "K: 9130629.0  M: 4901596.0  True: 3649323\n",
            "K: 6781549.0  M: 8861268.0  True: 4900000\n",
            "K: 10612282.0  M: 10063517.0  True: 9400000\n",
            "K: 6739008.5  M: 4519526.0  True: 3069381\n",
            "K: 9300968.0  M: 7721276.5  True: 6000000\n",
            "K: 15952026.0  M: 13874820.0  True: 13950000\n",
            "K: 16891860.0  M: 17017870.0  True: 16350000\n",
            "K: 9101492.0  M: 8112872.5  True: 2100000\n",
            "K: 8945079.0  M: 8221878.5  True: 6900000\n",
            "K: 6132643.0  M: 4458321.5  True: 3810125\n",
            "K: 16397376.0  M: 11058600.0  True: 16500000\n",
            "K: 10196600.0  M: 7404330.5  True: 9200000\n",
            "K: 7967457.0  M: 10628870.0  True: 7655760\n",
            "K: 6609751.0  M: 4631158.5  True: 3190980\n",
            "K: 7759924.0  M: 4940188.5  True: 1000000\n",
            "K: 6673509.0  M: 2486000.2  True: 4411384\n",
            "K: 7633820.5  M: 8917460.0  True: 1000000\n",
            "K: 6556488.5  M: 5340419.0  True: 4850000\n",
            "K: 8200702.5  M: 6935775.0  True: 6900000\n",
            "K: 6585030.0  M: 4588602.0  True: 4475741\n",
            "K: 9155895.0  M: 5363134.0  True: 7426930\n",
            "K: 7321322.0  M: 8617726.0  True: 5500000\n",
            "K: 8519682.0  M: 4431417.5  True: 4433926\n",
            "K: 9396428.0  M: 8071319.0  True: 5200000\n"
          ],
          "name": "stdout"
        }
      ]
    },
    {
      "cell_type": "code",
      "metadata": {
        "id": "F4xhZjHmTlzX",
        "outputId": "0132793e-667f-475a-cd45-a28a10cdc799",
        "colab": {
          "base_uri": "https://localhost:8080/"
        }
      },
      "source": [
        "KK = np.corrcoef(kpredicted_x, y_test)\n",
        "KK = KK[0][1]\n",
        "print(f'Коэффициент корреляции моей модели: {ccc}')\n",
        "print(f'Коэффициент корреляции Keras: {KK}')"
      ],
      "execution_count": 45,
      "outputs": [
        {
          "output_type": "stream",
          "text": [
            "Коэффициент корреляции моей модели: 0.7190510282250981\n",
            "Коэффициент корреляции Keras: 0.76035987072561\n"
          ],
          "name": "stdout"
        }
      ]
    }
  ]
}
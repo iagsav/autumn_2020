{
  "nbformat": 4,
  "nbformat_minor": 0,
  "metadata": {
    "colab": {
      "name": "Lab1.ipynb",
      "provenance": [],
      "toc_visible": true
    },
    "kernelspec": {
      "display_name": "Python 3",
      "name": "python3"
    }
  },
  "cells": [
    {
      "cell_type": "code",
      "metadata": {
        "id": "dAG6N9DQ8coq",
        "colab": {
          "base_uri": "https://localhost:8080/"
        },
        "outputId": "decc4279-a28c-4e8b-c628-ecf735377ec4"
      },
      "source": [
        "!pip install -U keras-tuner\n",
        "\n",
        "import numpy as np\n",
        "import pandas as pd\n",
        "from keras.datasets import boston_housing \n",
        "from keras.models import Sequential\n",
        "from keras.layers import Dense\n",
        "from keras.optimizers import SGD\n",
        "from kerastuner.tuners import RandomSearch, Hyperband, BayesianOptimization\n",
        "from kerastuner.engine import hyperparameters\n",
        "from sklearn import preprocessing\n",
        "from sklearn.model_selection import train_test_split\n",
        "import time\n",
        "import math\n",
        "from keras import utils\n",
        "\n",
        "import IPython\n",
        "import matplotlib.pyplot as plt\n",
        "from keras.layers import Dropout\n",
        "from sklearn.preprocessing import MinMaxScaler\n"
      ],
      "execution_count": null,
      "outputs": [
        {
          "output_type": "stream",
          "text": [
            "Collecting keras-tuner\n",
            "\u001b[?25l  Downloading https://files.pythonhosted.org/packages/20/ec/1ef246787174b1e2bb591c95f29d3c1310070cad877824f907faba3dade9/keras-tuner-1.0.2.tar.gz (62kB)\n",
            "\r\u001b[K     |█████▏                          | 10kB 14.4MB/s eta 0:00:01\r\u001b[K     |██████████▍                     | 20kB 18.3MB/s eta 0:00:01\r\u001b[K     |███████████████▋                | 30kB 17.7MB/s eta 0:00:01\r\u001b[K     |████████████████████▉           | 40kB 9.7MB/s eta 0:00:01\r\u001b[K     |██████████████████████████      | 51kB 7.1MB/s eta 0:00:01\r\u001b[K     |███████████████████████████████▎| 61kB 8.0MB/s eta 0:00:01\r\u001b[K     |████████████████████████████████| 71kB 4.7MB/s \n",
            "\u001b[?25hRequirement already satisfied, skipping upgrade: packaging in /usr/local/lib/python3.6/dist-packages (from keras-tuner) (20.8)\n",
            "Requirement already satisfied, skipping upgrade: future in /usr/local/lib/python3.6/dist-packages (from keras-tuner) (0.16.0)\n",
            "Requirement already satisfied, skipping upgrade: numpy in /usr/local/lib/python3.6/dist-packages (from keras-tuner) (1.19.5)\n",
            "Requirement already satisfied, skipping upgrade: tabulate in /usr/local/lib/python3.6/dist-packages (from keras-tuner) (0.8.7)\n",
            "Collecting terminaltables\n",
            "  Downloading https://files.pythonhosted.org/packages/9b/c4/4a21174f32f8a7e1104798c445dacdc1d4df86f2f26722767034e4de4bff/terminaltables-3.1.0.tar.gz\n",
            "Collecting colorama\n",
            "  Downloading https://files.pythonhosted.org/packages/44/98/5b86278fbbf250d239ae0ecb724f8572af1c91f4a11edf4d36a206189440/colorama-0.4.4-py2.py3-none-any.whl\n",
            "Requirement already satisfied, skipping upgrade: tqdm in /usr/local/lib/python3.6/dist-packages (from keras-tuner) (4.41.1)\n",
            "Requirement already satisfied, skipping upgrade: requests in /usr/local/lib/python3.6/dist-packages (from keras-tuner) (2.23.0)\n",
            "Requirement already satisfied, skipping upgrade: scipy in /usr/local/lib/python3.6/dist-packages (from keras-tuner) (1.4.1)\n",
            "Requirement already satisfied, skipping upgrade: scikit-learn in /usr/local/lib/python3.6/dist-packages (from keras-tuner) (0.22.2.post1)\n",
            "Requirement already satisfied, skipping upgrade: pyparsing>=2.0.2 in /usr/local/lib/python3.6/dist-packages (from packaging->keras-tuner) (2.4.7)\n",
            "Requirement already satisfied, skipping upgrade: certifi>=2017.4.17 in /usr/local/lib/python3.6/dist-packages (from requests->keras-tuner) (2020.12.5)\n",
            "Requirement already satisfied, skipping upgrade: chardet<4,>=3.0.2 in /usr/local/lib/python3.6/dist-packages (from requests->keras-tuner) (3.0.4)\n",
            "Requirement already satisfied, skipping upgrade: idna<3,>=2.5 in /usr/local/lib/python3.6/dist-packages (from requests->keras-tuner) (2.10)\n",
            "Requirement already satisfied, skipping upgrade: urllib3!=1.25.0,!=1.25.1,<1.26,>=1.21.1 in /usr/local/lib/python3.6/dist-packages (from requests->keras-tuner) (1.24.3)\n",
            "Requirement already satisfied, skipping upgrade: joblib>=0.11 in /usr/local/lib/python3.6/dist-packages (from scikit-learn->keras-tuner) (1.0.0)\n",
            "Building wheels for collected packages: keras-tuner, terminaltables\n",
            "  Building wheel for keras-tuner (setup.py) ... \u001b[?25l\u001b[?25hdone\n",
            "  Created wheel for keras-tuner: filename=keras_tuner-1.0.2-cp36-none-any.whl size=78939 sha256=52e893190bfb012fddcada8a5be29ec893a67c783d7dfb6008fa7e70e59b878b\n",
            "  Stored in directory: /root/.cache/pip/wheels/bb/a1/8a/7c3de0efb3707a1701b36ebbfdbc4e67aedf6d4943a1f463d6\n",
            "  Building wheel for terminaltables (setup.py) ... \u001b[?25l\u001b[?25hdone\n",
            "  Created wheel for terminaltables: filename=terminaltables-3.1.0-cp36-none-any.whl size=15358 sha256=d1bae1f9d351f165e1038beabc1b64780b259c25db03e109c794aa17f5fd37f1\n",
            "  Stored in directory: /root/.cache/pip/wheels/30/6b/50/6c75775b681fb36cdfac7f19799888ef9d8813aff9e379663e\n",
            "Successfully built keras-tuner terminaltables\n",
            "Installing collected packages: terminaltables, colorama, keras-tuner\n",
            "Successfully installed colorama-0.4.4 keras-tuner-1.0.2 terminaltables-3.1.0\n"
          ],
          "name": "stdout"
        }
      ]
    },
    {
      "cell_type": "markdown",
      "metadata": {
        "id": "rvowtVKcETWl"
      },
      "source": [
        "Чтение и вывод исходных данных"
      ]
    },
    {
      "cell_type": "code",
      "metadata": {
        "id": "xvidH5bxe6q9"
      },
      "source": [
        "x = pd.read_csv(\"/content/drive/My Drive/train.csv\")"
      ],
      "execution_count": null,
      "outputs": []
    },
    {
      "cell_type": "code",
      "metadata": {
        "id": "_zwxruVJYvPn",
        "colab": {
          "base_uri": "https://localhost:8080/",
          "height": 436
        },
        "outputId": "496d9d18-9ffb-4da2-ab72-b95f1a267773"
      },
      "source": [
        "x"
      ],
      "execution_count": null,
      "outputs": [
        {
          "output_type": "execute_result",
          "data": {
            "text/html": [
              "<div>\n",
              "<style scoped>\n",
              "    .dataframe tbody tr th:only-of-type {\n",
              "        vertical-align: middle;\n",
              "    }\n",
              "\n",
              "    .dataframe tbody tr th {\n",
              "        vertical-align: top;\n",
              "    }\n",
              "\n",
              "    .dataframe thead th {\n",
              "        text-align: right;\n",
              "    }\n",
              "</style>\n",
              "<table border=\"1\" class=\"dataframe\">\n",
              "  <thead>\n",
              "    <tr style=\"text-align: right;\">\n",
              "      <th></th>\n",
              "      <th>Id</th>\n",
              "      <th>Open Date</th>\n",
              "      <th>City</th>\n",
              "      <th>City Group</th>\n",
              "      <th>Type</th>\n",
              "      <th>P1</th>\n",
              "      <th>P2</th>\n",
              "      <th>P3</th>\n",
              "      <th>P4</th>\n",
              "      <th>P5</th>\n",
              "      <th>P6</th>\n",
              "      <th>P7</th>\n",
              "      <th>P8</th>\n",
              "      <th>P9</th>\n",
              "      <th>P10</th>\n",
              "      <th>P11</th>\n",
              "      <th>P12</th>\n",
              "      <th>P13</th>\n",
              "      <th>P14</th>\n",
              "      <th>P15</th>\n",
              "      <th>P16</th>\n",
              "      <th>P17</th>\n",
              "      <th>P18</th>\n",
              "      <th>P19</th>\n",
              "      <th>P20</th>\n",
              "      <th>P21</th>\n",
              "      <th>P22</th>\n",
              "      <th>P23</th>\n",
              "      <th>P24</th>\n",
              "      <th>P25</th>\n",
              "      <th>P26</th>\n",
              "      <th>P27</th>\n",
              "      <th>P28</th>\n",
              "      <th>P29</th>\n",
              "      <th>P30</th>\n",
              "      <th>P31</th>\n",
              "      <th>P32</th>\n",
              "      <th>P33</th>\n",
              "      <th>P34</th>\n",
              "      <th>P35</th>\n",
              "      <th>P36</th>\n",
              "      <th>P37</th>\n",
              "      <th>revenue</th>\n",
              "    </tr>\n",
              "  </thead>\n",
              "  <tbody>\n",
              "    <tr>\n",
              "      <th>0</th>\n",
              "      <td>0</td>\n",
              "      <td>07/17/1999</td>\n",
              "      <td>İstanbul</td>\n",
              "      <td>Big Cities</td>\n",
              "      <td>IL</td>\n",
              "      <td>4</td>\n",
              "      <td>5.0</td>\n",
              "      <td>4.0</td>\n",
              "      <td>4.0</td>\n",
              "      <td>2</td>\n",
              "      <td>2</td>\n",
              "      <td>5</td>\n",
              "      <td>4</td>\n",
              "      <td>5</td>\n",
              "      <td>5</td>\n",
              "      <td>3</td>\n",
              "      <td>5</td>\n",
              "      <td>5.0</td>\n",
              "      <td>1</td>\n",
              "      <td>2</td>\n",
              "      <td>2</td>\n",
              "      <td>2</td>\n",
              "      <td>4</td>\n",
              "      <td>5</td>\n",
              "      <td>4</td>\n",
              "      <td>1</td>\n",
              "      <td>3</td>\n",
              "      <td>3</td>\n",
              "      <td>1</td>\n",
              "      <td>1</td>\n",
              "      <td>1.0</td>\n",
              "      <td>4.0</td>\n",
              "      <td>2.0</td>\n",
              "      <td>3.0</td>\n",
              "      <td>5</td>\n",
              "      <td>3</td>\n",
              "      <td>4</td>\n",
              "      <td>5</td>\n",
              "      <td>5</td>\n",
              "      <td>4</td>\n",
              "      <td>3</td>\n",
              "      <td>4</td>\n",
              "      <td>5653753.0</td>\n",
              "    </tr>\n",
              "    <tr>\n",
              "      <th>1</th>\n",
              "      <td>1</td>\n",
              "      <td>02/14/2008</td>\n",
              "      <td>Ankara</td>\n",
              "      <td>Big Cities</td>\n",
              "      <td>FC</td>\n",
              "      <td>4</td>\n",
              "      <td>5.0</td>\n",
              "      <td>4.0</td>\n",
              "      <td>4.0</td>\n",
              "      <td>1</td>\n",
              "      <td>2</td>\n",
              "      <td>5</td>\n",
              "      <td>5</td>\n",
              "      <td>5</td>\n",
              "      <td>5</td>\n",
              "      <td>1</td>\n",
              "      <td>5</td>\n",
              "      <td>5.0</td>\n",
              "      <td>0</td>\n",
              "      <td>0</td>\n",
              "      <td>0</td>\n",
              "      <td>0</td>\n",
              "      <td>0</td>\n",
              "      <td>3</td>\n",
              "      <td>2</td>\n",
              "      <td>1</td>\n",
              "      <td>3</td>\n",
              "      <td>2</td>\n",
              "      <td>0</td>\n",
              "      <td>0</td>\n",
              "      <td>0.0</td>\n",
              "      <td>0.0</td>\n",
              "      <td>3.0</td>\n",
              "      <td>3.0</td>\n",
              "      <td>0</td>\n",
              "      <td>0</td>\n",
              "      <td>0</td>\n",
              "      <td>0</td>\n",
              "      <td>0</td>\n",
              "      <td>0</td>\n",
              "      <td>0</td>\n",
              "      <td>0</td>\n",
              "      <td>6923131.0</td>\n",
              "    </tr>\n",
              "    <tr>\n",
              "      <th>2</th>\n",
              "      <td>2</td>\n",
              "      <td>03/09/2013</td>\n",
              "      <td>Diyarbakır</td>\n",
              "      <td>Other</td>\n",
              "      <td>IL</td>\n",
              "      <td>2</td>\n",
              "      <td>4.0</td>\n",
              "      <td>2.0</td>\n",
              "      <td>5.0</td>\n",
              "      <td>2</td>\n",
              "      <td>3</td>\n",
              "      <td>5</td>\n",
              "      <td>5</td>\n",
              "      <td>5</td>\n",
              "      <td>5</td>\n",
              "      <td>2</td>\n",
              "      <td>5</td>\n",
              "      <td>5.0</td>\n",
              "      <td>0</td>\n",
              "      <td>0</td>\n",
              "      <td>0</td>\n",
              "      <td>0</td>\n",
              "      <td>0</td>\n",
              "      <td>1</td>\n",
              "      <td>1</td>\n",
              "      <td>1</td>\n",
              "      <td>1</td>\n",
              "      <td>1</td>\n",
              "      <td>0</td>\n",
              "      <td>0</td>\n",
              "      <td>0.0</td>\n",
              "      <td>0.0</td>\n",
              "      <td>1.0</td>\n",
              "      <td>3.0</td>\n",
              "      <td>0</td>\n",
              "      <td>0</td>\n",
              "      <td>0</td>\n",
              "      <td>0</td>\n",
              "      <td>0</td>\n",
              "      <td>0</td>\n",
              "      <td>0</td>\n",
              "      <td>0</td>\n",
              "      <td>2055379.0</td>\n",
              "    </tr>\n",
              "    <tr>\n",
              "      <th>3</th>\n",
              "      <td>3</td>\n",
              "      <td>02/02/2012</td>\n",
              "      <td>Tokat</td>\n",
              "      <td>Other</td>\n",
              "      <td>IL</td>\n",
              "      <td>6</td>\n",
              "      <td>4.5</td>\n",
              "      <td>6.0</td>\n",
              "      <td>6.0</td>\n",
              "      <td>4</td>\n",
              "      <td>4</td>\n",
              "      <td>10</td>\n",
              "      <td>8</td>\n",
              "      <td>10</td>\n",
              "      <td>10</td>\n",
              "      <td>8</td>\n",
              "      <td>10</td>\n",
              "      <td>7.5</td>\n",
              "      <td>6</td>\n",
              "      <td>4</td>\n",
              "      <td>9</td>\n",
              "      <td>3</td>\n",
              "      <td>12</td>\n",
              "      <td>20</td>\n",
              "      <td>12</td>\n",
              "      <td>6</td>\n",
              "      <td>1</td>\n",
              "      <td>10</td>\n",
              "      <td>2</td>\n",
              "      <td>2</td>\n",
              "      <td>2.5</td>\n",
              "      <td>2.5</td>\n",
              "      <td>2.5</td>\n",
              "      <td>7.5</td>\n",
              "      <td>25</td>\n",
              "      <td>12</td>\n",
              "      <td>10</td>\n",
              "      <td>6</td>\n",
              "      <td>18</td>\n",
              "      <td>12</td>\n",
              "      <td>12</td>\n",
              "      <td>6</td>\n",
              "      <td>2675511.0</td>\n",
              "    </tr>\n",
              "    <tr>\n",
              "      <th>4</th>\n",
              "      <td>4</td>\n",
              "      <td>05/09/2009</td>\n",
              "      <td>Gaziantep</td>\n",
              "      <td>Other</td>\n",
              "      <td>IL</td>\n",
              "      <td>3</td>\n",
              "      <td>4.0</td>\n",
              "      <td>3.0</td>\n",
              "      <td>4.0</td>\n",
              "      <td>2</td>\n",
              "      <td>2</td>\n",
              "      <td>5</td>\n",
              "      <td>5</td>\n",
              "      <td>5</td>\n",
              "      <td>5</td>\n",
              "      <td>2</td>\n",
              "      <td>5</td>\n",
              "      <td>5.0</td>\n",
              "      <td>2</td>\n",
              "      <td>1</td>\n",
              "      <td>2</td>\n",
              "      <td>1</td>\n",
              "      <td>4</td>\n",
              "      <td>2</td>\n",
              "      <td>2</td>\n",
              "      <td>1</td>\n",
              "      <td>2</td>\n",
              "      <td>1</td>\n",
              "      <td>2</td>\n",
              "      <td>3</td>\n",
              "      <td>3.0</td>\n",
              "      <td>5.0</td>\n",
              "      <td>1.0</td>\n",
              "      <td>3.0</td>\n",
              "      <td>5</td>\n",
              "      <td>1</td>\n",
              "      <td>3</td>\n",
              "      <td>2</td>\n",
              "      <td>3</td>\n",
              "      <td>4</td>\n",
              "      <td>3</td>\n",
              "      <td>3</td>\n",
              "      <td>4316715.0</td>\n",
              "    </tr>\n",
              "    <tr>\n",
              "      <th>...</th>\n",
              "      <td>...</td>\n",
              "      <td>...</td>\n",
              "      <td>...</td>\n",
              "      <td>...</td>\n",
              "      <td>...</td>\n",
              "      <td>...</td>\n",
              "      <td>...</td>\n",
              "      <td>...</td>\n",
              "      <td>...</td>\n",
              "      <td>...</td>\n",
              "      <td>...</td>\n",
              "      <td>...</td>\n",
              "      <td>...</td>\n",
              "      <td>...</td>\n",
              "      <td>...</td>\n",
              "      <td>...</td>\n",
              "      <td>...</td>\n",
              "      <td>...</td>\n",
              "      <td>...</td>\n",
              "      <td>...</td>\n",
              "      <td>...</td>\n",
              "      <td>...</td>\n",
              "      <td>...</td>\n",
              "      <td>...</td>\n",
              "      <td>...</td>\n",
              "      <td>...</td>\n",
              "      <td>...</td>\n",
              "      <td>...</td>\n",
              "      <td>...</td>\n",
              "      <td>...</td>\n",
              "      <td>...</td>\n",
              "      <td>...</td>\n",
              "      <td>...</td>\n",
              "      <td>...</td>\n",
              "      <td>...</td>\n",
              "      <td>...</td>\n",
              "      <td>...</td>\n",
              "      <td>...</td>\n",
              "      <td>...</td>\n",
              "      <td>...</td>\n",
              "      <td>...</td>\n",
              "      <td>...</td>\n",
              "      <td>...</td>\n",
              "    </tr>\n",
              "    <tr>\n",
              "      <th>132</th>\n",
              "      <td>132</td>\n",
              "      <td>06/25/2008</td>\n",
              "      <td>Trabzon</td>\n",
              "      <td>Other</td>\n",
              "      <td>FC</td>\n",
              "      <td>2</td>\n",
              "      <td>3.0</td>\n",
              "      <td>3.0</td>\n",
              "      <td>5.0</td>\n",
              "      <td>4</td>\n",
              "      <td>2</td>\n",
              "      <td>4</td>\n",
              "      <td>4</td>\n",
              "      <td>4</td>\n",
              "      <td>4</td>\n",
              "      <td>4</td>\n",
              "      <td>4</td>\n",
              "      <td>4.0</td>\n",
              "      <td>0</td>\n",
              "      <td>0</td>\n",
              "      <td>0</td>\n",
              "      <td>0</td>\n",
              "      <td>0</td>\n",
              "      <td>4</td>\n",
              "      <td>3</td>\n",
              "      <td>2</td>\n",
              "      <td>1</td>\n",
              "      <td>1</td>\n",
              "      <td>0</td>\n",
              "      <td>0</td>\n",
              "      <td>0.0</td>\n",
              "      <td>0.0</td>\n",
              "      <td>2.0</td>\n",
              "      <td>3.0</td>\n",
              "      <td>0</td>\n",
              "      <td>0</td>\n",
              "      <td>0</td>\n",
              "      <td>0</td>\n",
              "      <td>0</td>\n",
              "      <td>0</td>\n",
              "      <td>0</td>\n",
              "      <td>0</td>\n",
              "      <td>5787594.0</td>\n",
              "    </tr>\n",
              "    <tr>\n",
              "      <th>133</th>\n",
              "      <td>133</td>\n",
              "      <td>10/12/2006</td>\n",
              "      <td>İzmir</td>\n",
              "      <td>Big Cities</td>\n",
              "      <td>FC</td>\n",
              "      <td>4</td>\n",
              "      <td>5.0</td>\n",
              "      <td>4.0</td>\n",
              "      <td>4.0</td>\n",
              "      <td>2</td>\n",
              "      <td>3</td>\n",
              "      <td>5</td>\n",
              "      <td>4</td>\n",
              "      <td>4</td>\n",
              "      <td>5</td>\n",
              "      <td>5</td>\n",
              "      <td>4</td>\n",
              "      <td>5.0</td>\n",
              "      <td>0</td>\n",
              "      <td>0</td>\n",
              "      <td>0</td>\n",
              "      <td>0</td>\n",
              "      <td>0</td>\n",
              "      <td>3</td>\n",
              "      <td>2</td>\n",
              "      <td>2</td>\n",
              "      <td>1</td>\n",
              "      <td>1</td>\n",
              "      <td>0</td>\n",
              "      <td>0</td>\n",
              "      <td>0.0</td>\n",
              "      <td>0.0</td>\n",
              "      <td>3.0</td>\n",
              "      <td>3.0</td>\n",
              "      <td>0</td>\n",
              "      <td>0</td>\n",
              "      <td>0</td>\n",
              "      <td>0</td>\n",
              "      <td>0</td>\n",
              "      <td>0</td>\n",
              "      <td>0</td>\n",
              "      <td>0</td>\n",
              "      <td>9262754.0</td>\n",
              "    </tr>\n",
              "    <tr>\n",
              "      <th>134</th>\n",
              "      <td>134</td>\n",
              "      <td>07/08/2006</td>\n",
              "      <td>Kayseri</td>\n",
              "      <td>Other</td>\n",
              "      <td>FC</td>\n",
              "      <td>3</td>\n",
              "      <td>4.0</td>\n",
              "      <td>4.0</td>\n",
              "      <td>4.0</td>\n",
              "      <td>2</td>\n",
              "      <td>3</td>\n",
              "      <td>5</td>\n",
              "      <td>5</td>\n",
              "      <td>5</td>\n",
              "      <td>5</td>\n",
              "      <td>1</td>\n",
              "      <td>5</td>\n",
              "      <td>5.0</td>\n",
              "      <td>0</td>\n",
              "      <td>0</td>\n",
              "      <td>0</td>\n",
              "      <td>0</td>\n",
              "      <td>0</td>\n",
              "      <td>2</td>\n",
              "      <td>3</td>\n",
              "      <td>1</td>\n",
              "      <td>2</td>\n",
              "      <td>2</td>\n",
              "      <td>0</td>\n",
              "      <td>0</td>\n",
              "      <td>0.0</td>\n",
              "      <td>0.0</td>\n",
              "      <td>2.0</td>\n",
              "      <td>3.0</td>\n",
              "      <td>0</td>\n",
              "      <td>0</td>\n",
              "      <td>0</td>\n",
              "      <td>0</td>\n",
              "      <td>0</td>\n",
              "      <td>0</td>\n",
              "      <td>0</td>\n",
              "      <td>0</td>\n",
              "      <td>2544857.0</td>\n",
              "    </tr>\n",
              "    <tr>\n",
              "      <th>135</th>\n",
              "      <td>135</td>\n",
              "      <td>10/29/2010</td>\n",
              "      <td>İstanbul</td>\n",
              "      <td>Big Cities</td>\n",
              "      <td>FC</td>\n",
              "      <td>4</td>\n",
              "      <td>5.0</td>\n",
              "      <td>4.0</td>\n",
              "      <td>5.0</td>\n",
              "      <td>2</td>\n",
              "      <td>2</td>\n",
              "      <td>5</td>\n",
              "      <td>5</td>\n",
              "      <td>5</td>\n",
              "      <td>5</td>\n",
              "      <td>2</td>\n",
              "      <td>5</td>\n",
              "      <td>5.0</td>\n",
              "      <td>0</td>\n",
              "      <td>0</td>\n",
              "      <td>0</td>\n",
              "      <td>0</td>\n",
              "      <td>0</td>\n",
              "      <td>1</td>\n",
              "      <td>1</td>\n",
              "      <td>1</td>\n",
              "      <td>1</td>\n",
              "      <td>1</td>\n",
              "      <td>0</td>\n",
              "      <td>0</td>\n",
              "      <td>0.0</td>\n",
              "      <td>0.0</td>\n",
              "      <td>3.0</td>\n",
              "      <td>3.0</td>\n",
              "      <td>0</td>\n",
              "      <td>0</td>\n",
              "      <td>0</td>\n",
              "      <td>0</td>\n",
              "      <td>0</td>\n",
              "      <td>0</td>\n",
              "      <td>0</td>\n",
              "      <td>0</td>\n",
              "      <td>7217634.0</td>\n",
              "    </tr>\n",
              "    <tr>\n",
              "      <th>136</th>\n",
              "      <td>136</td>\n",
              "      <td>09/01/2009</td>\n",
              "      <td>İstanbul</td>\n",
              "      <td>Big Cities</td>\n",
              "      <td>FC</td>\n",
              "      <td>4</td>\n",
              "      <td>5.0</td>\n",
              "      <td>3.0</td>\n",
              "      <td>5.0</td>\n",
              "      <td>2</td>\n",
              "      <td>2</td>\n",
              "      <td>5</td>\n",
              "      <td>4</td>\n",
              "      <td>4</td>\n",
              "      <td>5</td>\n",
              "      <td>4</td>\n",
              "      <td>4</td>\n",
              "      <td>5.0</td>\n",
              "      <td>0</td>\n",
              "      <td>0</td>\n",
              "      <td>0</td>\n",
              "      <td>0</td>\n",
              "      <td>0</td>\n",
              "      <td>2</td>\n",
              "      <td>1</td>\n",
              "      <td>1</td>\n",
              "      <td>1</td>\n",
              "      <td>1</td>\n",
              "      <td>0</td>\n",
              "      <td>0</td>\n",
              "      <td>0.0</td>\n",
              "      <td>0.0</td>\n",
              "      <td>3.0</td>\n",
              "      <td>3.0</td>\n",
              "      <td>0</td>\n",
              "      <td>0</td>\n",
              "      <td>0</td>\n",
              "      <td>0</td>\n",
              "      <td>0</td>\n",
              "      <td>0</td>\n",
              "      <td>0</td>\n",
              "      <td>0</td>\n",
              "      <td>6363241.0</td>\n",
              "    </tr>\n",
              "  </tbody>\n",
              "</table>\n",
              "<p>137 rows × 43 columns</p>\n",
              "</div>"
            ],
            "text/plain": [
              "      Id   Open Date        City  City Group  ... P35  P36  P37    revenue\n",
              "0      0  07/17/1999    İstanbul  Big Cities  ...   4    3    4  5653753.0\n",
              "1      1  02/14/2008      Ankara  Big Cities  ...   0    0    0  6923131.0\n",
              "2      2  03/09/2013  Diyarbakır       Other  ...   0    0    0  2055379.0\n",
              "3      3  02/02/2012       Tokat       Other  ...  12   12    6  2675511.0\n",
              "4      4  05/09/2009   Gaziantep       Other  ...   4    3    3  4316715.0\n",
              "..   ...         ...         ...         ...  ...  ..  ...  ...        ...\n",
              "132  132  06/25/2008     Trabzon       Other  ...   0    0    0  5787594.0\n",
              "133  133  10/12/2006       İzmir  Big Cities  ...   0    0    0  9262754.0\n",
              "134  134  07/08/2006     Kayseri       Other  ...   0    0    0  2544857.0\n",
              "135  135  10/29/2010    İstanbul  Big Cities  ...   0    0    0  7217634.0\n",
              "136  136  09/01/2009    İstanbul  Big Cities  ...   0    0    0  6363241.0\n",
              "\n",
              "[137 rows x 43 columns]"
            ]
          },
          "metadata": {
            "tags": []
          },
          "execution_count": 3
        }
      ]
    },
    {
      "cell_type": "markdown",
      "metadata": {
        "id": "mkuDYsqoENjb"
      },
      "source": [
        "Сохранение верных ответов"
      ]
    },
    {
      "cell_type": "code",
      "metadata": {
        "id": "RQLPv3tiU87-",
        "colab": {
          "base_uri": "https://localhost:8080/"
        },
        "outputId": "a276d854-ea5a-4255-bc93-a4eca5bda8da"
      },
      "source": [
        "y = x.get(\"revenue\")\n",
        "y"
      ],
      "execution_count": null,
      "outputs": [
        {
          "output_type": "execute_result",
          "data": {
            "text/plain": [
              "0      5653753.0\n",
              "1      6923131.0\n",
              "2      2055379.0\n",
              "3      2675511.0\n",
              "4      4316715.0\n",
              "         ...    \n",
              "132    5787594.0\n",
              "133    9262754.0\n",
              "134    2544857.0\n",
              "135    7217634.0\n",
              "136    6363241.0\n",
              "Name: revenue, Length: 137, dtype: float64"
            ]
          },
          "metadata": {
            "tags": []
          },
          "execution_count": 4
        }
      ]
    },
    {
      "cell_type": "markdown",
      "metadata": {
        "id": "DCf2e5l1EF_G"
      },
      "source": [
        "Удаление лишних столбцов"
      ]
    },
    {
      "cell_type": "code",
      "metadata": {
        "id": "oY1VPKRDWNml",
        "colab": {
          "base_uri": "https://localhost:8080/",
          "height": 204
        },
        "outputId": "b85465b6-857d-4f23-84a5-9c01846ed360"
      },
      "source": [
        "x.drop('revenue', axis='columns', inplace=True)\n",
        "x.drop('Id', axis='columns', inplace=True)\n",
        "x.head()"
      ],
      "execution_count": null,
      "outputs": [
        {
          "output_type": "execute_result",
          "data": {
            "text/html": [
              "<div>\n",
              "<style scoped>\n",
              "    .dataframe tbody tr th:only-of-type {\n",
              "        vertical-align: middle;\n",
              "    }\n",
              "\n",
              "    .dataframe tbody tr th {\n",
              "        vertical-align: top;\n",
              "    }\n",
              "\n",
              "    .dataframe thead th {\n",
              "        text-align: right;\n",
              "    }\n",
              "</style>\n",
              "<table border=\"1\" class=\"dataframe\">\n",
              "  <thead>\n",
              "    <tr style=\"text-align: right;\">\n",
              "      <th></th>\n",
              "      <th>Open Date</th>\n",
              "      <th>City</th>\n",
              "      <th>City Group</th>\n",
              "      <th>Type</th>\n",
              "      <th>P1</th>\n",
              "      <th>P2</th>\n",
              "      <th>P3</th>\n",
              "      <th>P4</th>\n",
              "      <th>P5</th>\n",
              "      <th>P6</th>\n",
              "      <th>P7</th>\n",
              "      <th>P8</th>\n",
              "      <th>P9</th>\n",
              "      <th>P10</th>\n",
              "      <th>P11</th>\n",
              "      <th>P12</th>\n",
              "      <th>P13</th>\n",
              "      <th>P14</th>\n",
              "      <th>P15</th>\n",
              "      <th>P16</th>\n",
              "      <th>P17</th>\n",
              "      <th>P18</th>\n",
              "      <th>P19</th>\n",
              "      <th>P20</th>\n",
              "      <th>P21</th>\n",
              "      <th>P22</th>\n",
              "      <th>P23</th>\n",
              "      <th>P24</th>\n",
              "      <th>P25</th>\n",
              "      <th>P26</th>\n",
              "      <th>P27</th>\n",
              "      <th>P28</th>\n",
              "      <th>P29</th>\n",
              "      <th>P30</th>\n",
              "      <th>P31</th>\n",
              "      <th>P32</th>\n",
              "      <th>P33</th>\n",
              "      <th>P34</th>\n",
              "      <th>P35</th>\n",
              "      <th>P36</th>\n",
              "      <th>P37</th>\n",
              "    </tr>\n",
              "  </thead>\n",
              "  <tbody>\n",
              "    <tr>\n",
              "      <th>0</th>\n",
              "      <td>07/17/1999</td>\n",
              "      <td>İstanbul</td>\n",
              "      <td>Big Cities</td>\n",
              "      <td>IL</td>\n",
              "      <td>4</td>\n",
              "      <td>5.0</td>\n",
              "      <td>4.0</td>\n",
              "      <td>4.0</td>\n",
              "      <td>2</td>\n",
              "      <td>2</td>\n",
              "      <td>5</td>\n",
              "      <td>4</td>\n",
              "      <td>5</td>\n",
              "      <td>5</td>\n",
              "      <td>3</td>\n",
              "      <td>5</td>\n",
              "      <td>5.0</td>\n",
              "      <td>1</td>\n",
              "      <td>2</td>\n",
              "      <td>2</td>\n",
              "      <td>2</td>\n",
              "      <td>4</td>\n",
              "      <td>5</td>\n",
              "      <td>4</td>\n",
              "      <td>1</td>\n",
              "      <td>3</td>\n",
              "      <td>3</td>\n",
              "      <td>1</td>\n",
              "      <td>1</td>\n",
              "      <td>1.0</td>\n",
              "      <td>4.0</td>\n",
              "      <td>2.0</td>\n",
              "      <td>3.0</td>\n",
              "      <td>5</td>\n",
              "      <td>3</td>\n",
              "      <td>4</td>\n",
              "      <td>5</td>\n",
              "      <td>5</td>\n",
              "      <td>4</td>\n",
              "      <td>3</td>\n",
              "      <td>4</td>\n",
              "    </tr>\n",
              "    <tr>\n",
              "      <th>1</th>\n",
              "      <td>02/14/2008</td>\n",
              "      <td>Ankara</td>\n",
              "      <td>Big Cities</td>\n",
              "      <td>FC</td>\n",
              "      <td>4</td>\n",
              "      <td>5.0</td>\n",
              "      <td>4.0</td>\n",
              "      <td>4.0</td>\n",
              "      <td>1</td>\n",
              "      <td>2</td>\n",
              "      <td>5</td>\n",
              "      <td>5</td>\n",
              "      <td>5</td>\n",
              "      <td>5</td>\n",
              "      <td>1</td>\n",
              "      <td>5</td>\n",
              "      <td>5.0</td>\n",
              "      <td>0</td>\n",
              "      <td>0</td>\n",
              "      <td>0</td>\n",
              "      <td>0</td>\n",
              "      <td>0</td>\n",
              "      <td>3</td>\n",
              "      <td>2</td>\n",
              "      <td>1</td>\n",
              "      <td>3</td>\n",
              "      <td>2</td>\n",
              "      <td>0</td>\n",
              "      <td>0</td>\n",
              "      <td>0.0</td>\n",
              "      <td>0.0</td>\n",
              "      <td>3.0</td>\n",
              "      <td>3.0</td>\n",
              "      <td>0</td>\n",
              "      <td>0</td>\n",
              "      <td>0</td>\n",
              "      <td>0</td>\n",
              "      <td>0</td>\n",
              "      <td>0</td>\n",
              "      <td>0</td>\n",
              "      <td>0</td>\n",
              "    </tr>\n",
              "    <tr>\n",
              "      <th>2</th>\n",
              "      <td>03/09/2013</td>\n",
              "      <td>Diyarbakır</td>\n",
              "      <td>Other</td>\n",
              "      <td>IL</td>\n",
              "      <td>2</td>\n",
              "      <td>4.0</td>\n",
              "      <td>2.0</td>\n",
              "      <td>5.0</td>\n",
              "      <td>2</td>\n",
              "      <td>3</td>\n",
              "      <td>5</td>\n",
              "      <td>5</td>\n",
              "      <td>5</td>\n",
              "      <td>5</td>\n",
              "      <td>2</td>\n",
              "      <td>5</td>\n",
              "      <td>5.0</td>\n",
              "      <td>0</td>\n",
              "      <td>0</td>\n",
              "      <td>0</td>\n",
              "      <td>0</td>\n",
              "      <td>0</td>\n",
              "      <td>1</td>\n",
              "      <td>1</td>\n",
              "      <td>1</td>\n",
              "      <td>1</td>\n",
              "      <td>1</td>\n",
              "      <td>0</td>\n",
              "      <td>0</td>\n",
              "      <td>0.0</td>\n",
              "      <td>0.0</td>\n",
              "      <td>1.0</td>\n",
              "      <td>3.0</td>\n",
              "      <td>0</td>\n",
              "      <td>0</td>\n",
              "      <td>0</td>\n",
              "      <td>0</td>\n",
              "      <td>0</td>\n",
              "      <td>0</td>\n",
              "      <td>0</td>\n",
              "      <td>0</td>\n",
              "    </tr>\n",
              "    <tr>\n",
              "      <th>3</th>\n",
              "      <td>02/02/2012</td>\n",
              "      <td>Tokat</td>\n",
              "      <td>Other</td>\n",
              "      <td>IL</td>\n",
              "      <td>6</td>\n",
              "      <td>4.5</td>\n",
              "      <td>6.0</td>\n",
              "      <td>6.0</td>\n",
              "      <td>4</td>\n",
              "      <td>4</td>\n",
              "      <td>10</td>\n",
              "      <td>8</td>\n",
              "      <td>10</td>\n",
              "      <td>10</td>\n",
              "      <td>8</td>\n",
              "      <td>10</td>\n",
              "      <td>7.5</td>\n",
              "      <td>6</td>\n",
              "      <td>4</td>\n",
              "      <td>9</td>\n",
              "      <td>3</td>\n",
              "      <td>12</td>\n",
              "      <td>20</td>\n",
              "      <td>12</td>\n",
              "      <td>6</td>\n",
              "      <td>1</td>\n",
              "      <td>10</td>\n",
              "      <td>2</td>\n",
              "      <td>2</td>\n",
              "      <td>2.5</td>\n",
              "      <td>2.5</td>\n",
              "      <td>2.5</td>\n",
              "      <td>7.5</td>\n",
              "      <td>25</td>\n",
              "      <td>12</td>\n",
              "      <td>10</td>\n",
              "      <td>6</td>\n",
              "      <td>18</td>\n",
              "      <td>12</td>\n",
              "      <td>12</td>\n",
              "      <td>6</td>\n",
              "    </tr>\n",
              "    <tr>\n",
              "      <th>4</th>\n",
              "      <td>05/09/2009</td>\n",
              "      <td>Gaziantep</td>\n",
              "      <td>Other</td>\n",
              "      <td>IL</td>\n",
              "      <td>3</td>\n",
              "      <td>4.0</td>\n",
              "      <td>3.0</td>\n",
              "      <td>4.0</td>\n",
              "      <td>2</td>\n",
              "      <td>2</td>\n",
              "      <td>5</td>\n",
              "      <td>5</td>\n",
              "      <td>5</td>\n",
              "      <td>5</td>\n",
              "      <td>2</td>\n",
              "      <td>5</td>\n",
              "      <td>5.0</td>\n",
              "      <td>2</td>\n",
              "      <td>1</td>\n",
              "      <td>2</td>\n",
              "      <td>1</td>\n",
              "      <td>4</td>\n",
              "      <td>2</td>\n",
              "      <td>2</td>\n",
              "      <td>1</td>\n",
              "      <td>2</td>\n",
              "      <td>1</td>\n",
              "      <td>2</td>\n",
              "      <td>3</td>\n",
              "      <td>3.0</td>\n",
              "      <td>5.0</td>\n",
              "      <td>1.0</td>\n",
              "      <td>3.0</td>\n",
              "      <td>5</td>\n",
              "      <td>1</td>\n",
              "      <td>3</td>\n",
              "      <td>2</td>\n",
              "      <td>3</td>\n",
              "      <td>4</td>\n",
              "      <td>3</td>\n",
              "      <td>3</td>\n",
              "    </tr>\n",
              "  </tbody>\n",
              "</table>\n",
              "</div>"
            ],
            "text/plain": [
              "    Open Date        City  City Group Type  P1  ...  P33  P34  P35  P36  P37\n",
              "0  07/17/1999    İstanbul  Big Cities   IL   4  ...    5    5    4    3    4\n",
              "1  02/14/2008      Ankara  Big Cities   FC   4  ...    0    0    0    0    0\n",
              "2  03/09/2013  Diyarbakır       Other   IL   2  ...    0    0    0    0    0\n",
              "3  02/02/2012       Tokat       Other   IL   6  ...    6   18   12   12    6\n",
              "4  05/09/2009   Gaziantep       Other   IL   3  ...    2    3    4    3    3\n",
              "\n",
              "[5 rows x 41 columns]"
            ]
          },
          "metadata": {
            "tags": []
          },
          "execution_count": 5
        }
      ]
    },
    {
      "cell_type": "markdown",
      "metadata": {
        "id": "wNZdyH_TDxTn"
      },
      "source": [
        "Получение списка признаков, зашифрованных буквенно"
      ]
    },
    {
      "cell_type": "code",
      "metadata": {
        "id": "LCGvxCqUV-eV",
        "colab": {
          "base_uri": "https://localhost:8080/",
          "height": 436
        },
        "outputId": "fb2e445a-75c9-4d48-a66a-c74a8732995e"
      },
      "source": [
        "cat_vars = [var for var in x.columns if x[var].dtypes == 'O']\n",
        "print('Number of categorical variables: ', len(cat_vars))\n",
        "\n",
        "x[cat_vars]"
      ],
      "execution_count": null,
      "outputs": [
        {
          "output_type": "stream",
          "text": [
            "Number of categorical variables:  4\n"
          ],
          "name": "stdout"
        },
        {
          "output_type": "execute_result",
          "data": {
            "text/html": [
              "<div>\n",
              "<style scoped>\n",
              "    .dataframe tbody tr th:only-of-type {\n",
              "        vertical-align: middle;\n",
              "    }\n",
              "\n",
              "    .dataframe tbody tr th {\n",
              "        vertical-align: top;\n",
              "    }\n",
              "\n",
              "    .dataframe thead th {\n",
              "        text-align: right;\n",
              "    }\n",
              "</style>\n",
              "<table border=\"1\" class=\"dataframe\">\n",
              "  <thead>\n",
              "    <tr style=\"text-align: right;\">\n",
              "      <th></th>\n",
              "      <th>Open Date</th>\n",
              "      <th>City</th>\n",
              "      <th>City Group</th>\n",
              "      <th>Type</th>\n",
              "    </tr>\n",
              "  </thead>\n",
              "  <tbody>\n",
              "    <tr>\n",
              "      <th>0</th>\n",
              "      <td>07/17/1999</td>\n",
              "      <td>İstanbul</td>\n",
              "      <td>Big Cities</td>\n",
              "      <td>IL</td>\n",
              "    </tr>\n",
              "    <tr>\n",
              "      <th>1</th>\n",
              "      <td>02/14/2008</td>\n",
              "      <td>Ankara</td>\n",
              "      <td>Big Cities</td>\n",
              "      <td>FC</td>\n",
              "    </tr>\n",
              "    <tr>\n",
              "      <th>2</th>\n",
              "      <td>03/09/2013</td>\n",
              "      <td>Diyarbakır</td>\n",
              "      <td>Other</td>\n",
              "      <td>IL</td>\n",
              "    </tr>\n",
              "    <tr>\n",
              "      <th>3</th>\n",
              "      <td>02/02/2012</td>\n",
              "      <td>Tokat</td>\n",
              "      <td>Other</td>\n",
              "      <td>IL</td>\n",
              "    </tr>\n",
              "    <tr>\n",
              "      <th>4</th>\n",
              "      <td>05/09/2009</td>\n",
              "      <td>Gaziantep</td>\n",
              "      <td>Other</td>\n",
              "      <td>IL</td>\n",
              "    </tr>\n",
              "    <tr>\n",
              "      <th>...</th>\n",
              "      <td>...</td>\n",
              "      <td>...</td>\n",
              "      <td>...</td>\n",
              "      <td>...</td>\n",
              "    </tr>\n",
              "    <tr>\n",
              "      <th>132</th>\n",
              "      <td>06/25/2008</td>\n",
              "      <td>Trabzon</td>\n",
              "      <td>Other</td>\n",
              "      <td>FC</td>\n",
              "    </tr>\n",
              "    <tr>\n",
              "      <th>133</th>\n",
              "      <td>10/12/2006</td>\n",
              "      <td>İzmir</td>\n",
              "      <td>Big Cities</td>\n",
              "      <td>FC</td>\n",
              "    </tr>\n",
              "    <tr>\n",
              "      <th>134</th>\n",
              "      <td>07/08/2006</td>\n",
              "      <td>Kayseri</td>\n",
              "      <td>Other</td>\n",
              "      <td>FC</td>\n",
              "    </tr>\n",
              "    <tr>\n",
              "      <th>135</th>\n",
              "      <td>10/29/2010</td>\n",
              "      <td>İstanbul</td>\n",
              "      <td>Big Cities</td>\n",
              "      <td>FC</td>\n",
              "    </tr>\n",
              "    <tr>\n",
              "      <th>136</th>\n",
              "      <td>09/01/2009</td>\n",
              "      <td>İstanbul</td>\n",
              "      <td>Big Cities</td>\n",
              "      <td>FC</td>\n",
              "    </tr>\n",
              "  </tbody>\n",
              "</table>\n",
              "<p>137 rows × 4 columns</p>\n",
              "</div>"
            ],
            "text/plain": [
              "      Open Date        City  City Group Type\n",
              "0    07/17/1999    İstanbul  Big Cities   IL\n",
              "1    02/14/2008      Ankara  Big Cities   FC\n",
              "2    03/09/2013  Diyarbakır       Other   IL\n",
              "3    02/02/2012       Tokat       Other   IL\n",
              "4    05/09/2009   Gaziantep       Other   IL\n",
              "..          ...         ...         ...  ...\n",
              "132  06/25/2008     Trabzon       Other   FC\n",
              "133  10/12/2006       İzmir  Big Cities   FC\n",
              "134  07/08/2006     Kayseri       Other   FC\n",
              "135  10/29/2010    İstanbul  Big Cities   FC\n",
              "136  09/01/2009    İstanbul  Big Cities   FC\n",
              "\n",
              "[137 rows x 4 columns]"
            ]
          },
          "metadata": {
            "tags": []
          },
          "execution_count": 6
        }
      ]
    },
    {
      "cell_type": "markdown",
      "metadata": {
        "id": "1F9LBvVDDadL"
      },
      "source": [
        "Категориальные признаки шифруются через Label Encoder в числа"
      ]
    },
    {
      "cell_type": "code",
      "metadata": {
        "id": "3_Y6BfXnWzm-",
        "colab": {
          "base_uri": "https://localhost:8080/",
          "height": 419
        },
        "outputId": "b887481e-7e08-4d87-bb10-e1009081b4ee"
      },
      "source": [
        "df = pd.DataFrame(x[cat_vars])\n",
        "x[cat_vars] = df.apply(preprocessing.LabelEncoder().fit_transform)\n",
        "\n",
        "x[cat_vars]"
      ],
      "execution_count": null,
      "outputs": [
        {
          "output_type": "execute_result",
          "data": {
            "text/html": [
              "<div>\n",
              "<style scoped>\n",
              "    .dataframe tbody tr th:only-of-type {\n",
              "        vertical-align: middle;\n",
              "    }\n",
              "\n",
              "    .dataframe tbody tr th {\n",
              "        vertical-align: top;\n",
              "    }\n",
              "\n",
              "    .dataframe thead th {\n",
              "        text-align: right;\n",
              "    }\n",
              "</style>\n",
              "<table border=\"1\" class=\"dataframe\">\n",
              "  <thead>\n",
              "    <tr style=\"text-align: right;\">\n",
              "      <th></th>\n",
              "      <th>Open Date</th>\n",
              "      <th>City</th>\n",
              "      <th>City Group</th>\n",
              "      <th>Type</th>\n",
              "    </tr>\n",
              "  </thead>\n",
              "  <tbody>\n",
              "    <tr>\n",
              "      <th>0</th>\n",
              "      <td>59</td>\n",
              "      <td>31</td>\n",
              "      <td>0</td>\n",
              "      <td>2</td>\n",
              "    </tr>\n",
              "    <tr>\n",
              "      <th>1</th>\n",
              "      <td>16</td>\n",
              "      <td>3</td>\n",
              "      <td>0</td>\n",
              "      <td>1</td>\n",
              "    </tr>\n",
              "    <tr>\n",
              "      <th>2</th>\n",
              "      <td>20</td>\n",
              "      <td>10</td>\n",
              "      <td>1</td>\n",
              "      <td>2</td>\n",
              "    </tr>\n",
              "    <tr>\n",
              "      <th>3</th>\n",
              "      <td>10</td>\n",
              "      <td>28</td>\n",
              "      <td>1</td>\n",
              "      <td>2</td>\n",
              "    </tr>\n",
              "    <tr>\n",
              "      <th>4</th>\n",
              "      <td>41</td>\n",
              "      <td>14</td>\n",
              "      <td>1</td>\n",
              "      <td>2</td>\n",
              "    </tr>\n",
              "    <tr>\n",
              "      <th>...</th>\n",
              "      <td>...</td>\n",
              "      <td>...</td>\n",
              "      <td>...</td>\n",
              "      <td>...</td>\n",
              "    </tr>\n",
              "    <tr>\n",
              "      <th>132</th>\n",
              "      <td>53</td>\n",
              "      <td>29</td>\n",
              "      <td>1</td>\n",
              "      <td>1</td>\n",
              "    </tr>\n",
              "    <tr>\n",
              "      <th>133</th>\n",
              "      <td>94</td>\n",
              "      <td>32</td>\n",
              "      <td>0</td>\n",
              "      <td>1</td>\n",
              "    </tr>\n",
              "    <tr>\n",
              "      <th>134</th>\n",
              "      <td>55</td>\n",
              "      <td>18</td>\n",
              "      <td>1</td>\n",
              "      <td>1</td>\n",
              "    </tr>\n",
              "    <tr>\n",
              "      <th>135</th>\n",
              "      <td>103</td>\n",
              "      <td>31</td>\n",
              "      <td>0</td>\n",
              "      <td>1</td>\n",
              "    </tr>\n",
              "    <tr>\n",
              "      <th>136</th>\n",
              "      <td>79</td>\n",
              "      <td>31</td>\n",
              "      <td>0</td>\n",
              "      <td>1</td>\n",
              "    </tr>\n",
              "  </tbody>\n",
              "</table>\n",
              "<p>137 rows × 4 columns</p>\n",
              "</div>"
            ],
            "text/plain": [
              "     Open Date  City  City Group  Type\n",
              "0           59    31           0     2\n",
              "1           16     3           0     1\n",
              "2           20    10           1     2\n",
              "3           10    28           1     2\n",
              "4           41    14           1     2\n",
              "..         ...   ...         ...   ...\n",
              "132         53    29           1     1\n",
              "133         94    32           0     1\n",
              "134         55    18           1     1\n",
              "135        103    31           0     1\n",
              "136         79    31           0     1\n",
              "\n",
              "[137 rows x 4 columns]"
            ]
          },
          "metadata": {
            "tags": []
          },
          "execution_count": 7
        }
      ]
    },
    {
      "cell_type": "markdown",
      "metadata": {
        "id": "8wuvzGQxDUfZ"
      },
      "source": [
        "Проверка на наличие NaN"
      ]
    },
    {
      "cell_type": "code",
      "metadata": {
        "id": "CPdF0A21W5e7",
        "colab": {
          "base_uri": "https://localhost:8080/"
        },
        "outputId": "6ecf5177-c145-4bfe-9e0f-1c0613805197"
      },
      "source": [
        "def check_nans(data):\n",
        "  nan_cols = []\n",
        "  for col_name, col_info in data.items():\n",
        "    for line_number, line_info in col_info.items():\n",
        "      if math.isnan(line_info):\n",
        "        print(f\"{col_name } is NaNs\")\n",
        "        nan_cols.append(col_name)\n",
        "        break\n",
        "  if nan_cols == []:\n",
        "    print(\"[INFO] THERE IS NO NaNS IN DATA!\")\n",
        "  return nan_cols\n",
        "\n",
        "nan_cols = check_nans(x)"
      ],
      "execution_count": null,
      "outputs": [
        {
          "output_type": "stream",
          "text": [
            "[INFO] THERE IS NO NaNS IN DATA!\n"
          ],
          "name": "stdout"
        }
      ]
    },
    {
      "cell_type": "markdown",
      "metadata": {
        "id": "XHyaYYVC7Bz8"
      },
      "source": [
        "Нормализация данных"
      ]
    },
    {
      "cell_type": "code",
      "metadata": {
        "id": "GleT6gVXXCs4",
        "colab": {
          "base_uri": "https://localhost:8080/",
          "height": 241
        },
        "outputId": "1ea0e705-163c-43ac-c37f-cc2809139dec"
      },
      "source": [
        "mean = x.mean(axis=0)\n",
        "std = x.std(axis=0)\n",
        "x -= mean\n",
        "x /= std\n",
        "x.head()"
      ],
      "execution_count": null,
      "outputs": [
        {
          "output_type": "execute_result",
          "data": {
            "text/html": [
              "<div>\n",
              "<style scoped>\n",
              "    .dataframe tbody tr th:only-of-type {\n",
              "        vertical-align: middle;\n",
              "    }\n",
              "\n",
              "    .dataframe tbody tr th {\n",
              "        vertical-align: top;\n",
              "    }\n",
              "\n",
              "    .dataframe thead th {\n",
              "        text-align: right;\n",
              "    }\n",
              "</style>\n",
              "<table border=\"1\" class=\"dataframe\">\n",
              "  <thead>\n",
              "    <tr style=\"text-align: right;\">\n",
              "      <th></th>\n",
              "      <th>Open Date</th>\n",
              "      <th>City</th>\n",
              "      <th>City Group</th>\n",
              "      <th>Type</th>\n",
              "      <th>P1</th>\n",
              "      <th>P2</th>\n",
              "      <th>P3</th>\n",
              "      <th>P4</th>\n",
              "      <th>P5</th>\n",
              "      <th>P6</th>\n",
              "      <th>P7</th>\n",
              "      <th>P8</th>\n",
              "      <th>P9</th>\n",
              "      <th>P10</th>\n",
              "      <th>P11</th>\n",
              "      <th>P12</th>\n",
              "      <th>P13</th>\n",
              "      <th>P14</th>\n",
              "      <th>P15</th>\n",
              "      <th>P16</th>\n",
              "      <th>P17</th>\n",
              "      <th>P18</th>\n",
              "      <th>P19</th>\n",
              "      <th>P20</th>\n",
              "      <th>P21</th>\n",
              "      <th>P22</th>\n",
              "      <th>P23</th>\n",
              "      <th>P24</th>\n",
              "      <th>P25</th>\n",
              "      <th>P26</th>\n",
              "      <th>P27</th>\n",
              "      <th>P28</th>\n",
              "      <th>P29</th>\n",
              "      <th>P30</th>\n",
              "      <th>P31</th>\n",
              "      <th>P32</th>\n",
              "      <th>P33</th>\n",
              "      <th>P34</th>\n",
              "      <th>P35</th>\n",
              "      <th>P36</th>\n",
              "      <th>P37</th>\n",
              "    </tr>\n",
              "  </thead>\n",
              "  <tbody>\n",
              "    <tr>\n",
              "      <th>0</th>\n",
              "      <td>-0.158924</td>\n",
              "      <td>0.877538</td>\n",
              "      <td>-0.866539</td>\n",
              "      <td>1.11294</td>\n",
              "      <td>-0.005016</td>\n",
              "      <td>0.390284</td>\n",
              "      <td>-0.307572</td>\n",
              "      <td>-0.366234</td>\n",
              "      <td>-0.006034</td>\n",
              "      <td>-0.636136</td>\n",
              "      <td>-0.184324</td>\n",
              "      <td>-0.620524</td>\n",
              "      <td>-0.242673</td>\n",
              "      <td>-0.264701</td>\n",
              "      <td>-0.137523</td>\n",
              "      <td>-0.154130</td>\n",
              "      <td>-0.077463</td>\n",
              "      <td>-0.152426</td>\n",
              "      <td>0.255615</td>\n",
              "      <td>0.016656</td>\n",
              "      <td>0.474474</td>\n",
              "      <td>0.623652</td>\n",
              "      <td>0.016931</td>\n",
              "      <td>-0.147637</td>\n",
              "      <td>-0.618754</td>\n",
              "      <td>0.628690</td>\n",
              "      <td>-0.092850</td>\n",
              "      <td>-0.161565</td>\n",
              "      <td>-0.099232</td>\n",
              "      <td>-0.180244</td>\n",
              "      <td>1.380726</td>\n",
              "      <td>-0.529550</td>\n",
              "      <td>-0.080336</td>\n",
              "      <td>0.410009</td>\n",
              "      <td>0.301357</td>\n",
              "      <td>0.281916</td>\n",
              "      <td>2.273314</td>\n",
              "      <td>0.486138</td>\n",
              "      <td>0.573529</td>\n",
              "      <td>0.189127</td>\n",
              "      <td>1.610042</td>\n",
              "    </tr>\n",
              "    <tr>\n",
              "      <th>1</th>\n",
              "      <td>-1.252643</td>\n",
              "      <td>-1.491383</td>\n",
              "      <td>-0.866539</td>\n",
              "      <td>-0.84184</td>\n",
              "      <td>-0.005016</td>\n",
              "      <td>0.390284</td>\n",
              "      <td>-0.307572</td>\n",
              "      <td>-0.366234</td>\n",
              "      <td>-0.832740</td>\n",
              "      <td>-0.636136</td>\n",
              "      <td>-0.184324</td>\n",
              "      <td>-0.082475</td>\n",
              "      <td>-0.242673</td>\n",
              "      <td>-0.264701</td>\n",
              "      <td>-1.184223</td>\n",
              "      <td>-0.154130</td>\n",
              "      <td>-0.077463</td>\n",
              "      <td>-0.518782</td>\n",
              "      <td>-0.578178</td>\n",
              "      <td>-0.553826</td>\n",
              "      <td>-0.510419</td>\n",
              "      <td>-0.588268</td>\n",
              "      <td>-0.339927</td>\n",
              "      <td>-0.687006</td>\n",
              "      <td>-0.618754</td>\n",
              "      <td>0.628690</td>\n",
              "      <td>-0.312167</td>\n",
              "      <td>-0.595571</td>\n",
              "      <td>-0.568016</td>\n",
              "      <td>-0.563089</td>\n",
              "      <td>-0.554409</td>\n",
              "      <td>-0.096425</td>\n",
              "      <td>-0.080336</td>\n",
              "      <td>-0.493065</td>\n",
              "      <td>-0.552834</td>\n",
              "      <td>-0.482885</td>\n",
              "      <td>-0.670391</td>\n",
              "      <td>-0.481899</td>\n",
              "      <td>-0.590523</td>\n",
              "      <td>-0.530606</td>\n",
              "      <td>-0.623637</td>\n",
              "    </tr>\n",
              "    <tr>\n",
              "      <th>2</th>\n",
              "      <td>-1.150901</td>\n",
              "      <td>-0.899152</td>\n",
              "      <td>1.145593</td>\n",
              "      <td>1.11294</td>\n",
              "      <td>-0.692209</td>\n",
              "      <td>-0.269826</td>\n",
              "      <td>-2.244924</td>\n",
              "      <td>0.617571</td>\n",
              "      <td>-0.006034</td>\n",
              "      <td>-0.167584</td>\n",
              "      <td>-0.184324</td>\n",
              "      <td>-0.082475</td>\n",
              "      <td>-0.242673</td>\n",
              "      <td>-0.264701</td>\n",
              "      <td>-0.660873</td>\n",
              "      <td>-0.154130</td>\n",
              "      <td>-0.077463</td>\n",
              "      <td>-0.518782</td>\n",
              "      <td>-0.578178</td>\n",
              "      <td>-0.553826</td>\n",
              "      <td>-0.510419</td>\n",
              "      <td>-0.588268</td>\n",
              "      <td>-0.696785</td>\n",
              "      <td>-0.956690</td>\n",
              "      <td>-0.618754</td>\n",
              "      <td>-0.996414</td>\n",
              "      <td>-0.531484</td>\n",
              "      <td>-0.595571</td>\n",
              "      <td>-0.568016</td>\n",
              "      <td>-0.563089</td>\n",
              "      <td>-0.554409</td>\n",
              "      <td>-0.962674</td>\n",
              "      <td>-0.080336</td>\n",
              "      <td>-0.493065</td>\n",
              "      <td>-0.552834</td>\n",
              "      <td>-0.482885</td>\n",
              "      <td>-0.670391</td>\n",
              "      <td>-0.481899</td>\n",
              "      <td>-0.590523</td>\n",
              "      <td>-0.530606</td>\n",
              "      <td>-0.623637</td>\n",
              "    </tr>\n",
              "    <tr>\n",
              "      <th>3</th>\n",
              "      <td>-1.405254</td>\n",
              "      <td>0.623725</td>\n",
              "      <td>1.145593</td>\n",
              "      <td>1.11294</td>\n",
              "      <td>0.682177</td>\n",
              "      <td>0.060229</td>\n",
              "      <td>1.629779</td>\n",
              "      <td>1.601375</td>\n",
              "      <td>1.647377</td>\n",
              "      <td>0.300968</td>\n",
              "      <td>1.992609</td>\n",
              "      <td>1.531672</td>\n",
              "      <td>2.482429</td>\n",
              "      <td>2.441569</td>\n",
              "      <td>2.479228</td>\n",
              "      <td>2.420976</td>\n",
              "      <td>2.334438</td>\n",
              "      <td>1.679356</td>\n",
              "      <td>1.089408</td>\n",
              "      <td>2.013344</td>\n",
              "      <td>0.966920</td>\n",
              "      <td>3.047491</td>\n",
              "      <td>2.693368</td>\n",
              "      <td>2.009836</td>\n",
              "      <td>1.817146</td>\n",
              "      <td>-0.996414</td>\n",
              "      <td>1.442370</td>\n",
              "      <td>0.272442</td>\n",
              "      <td>0.369552</td>\n",
              "      <td>0.394023</td>\n",
              "      <td>0.655050</td>\n",
              "      <td>-0.312988</td>\n",
              "      <td>2.596822</td>\n",
              "      <td>4.022303</td>\n",
              "      <td>2.863931</td>\n",
              "      <td>1.429118</td>\n",
              "      <td>2.862055</td>\n",
              "      <td>3.003034</td>\n",
              "      <td>2.901634</td>\n",
              "      <td>2.348327</td>\n",
              "      <td>2.726882</td>\n",
              "    </tr>\n",
              "    <tr>\n",
              "      <th>4</th>\n",
              "      <td>-0.616760</td>\n",
              "      <td>-0.560735</td>\n",
              "      <td>1.145593</td>\n",
              "      <td>1.11294</td>\n",
              "      <td>-0.348612</td>\n",
              "      <td>-0.269826</td>\n",
              "      <td>-1.276248</td>\n",
              "      <td>-0.366234</td>\n",
              "      <td>-0.006034</td>\n",
              "      <td>-0.636136</td>\n",
              "      <td>-0.184324</td>\n",
              "      <td>-0.082475</td>\n",
              "      <td>-0.242673</td>\n",
              "      <td>-0.264701</td>\n",
              "      <td>-0.660873</td>\n",
              "      <td>-0.154130</td>\n",
              "      <td>-0.077463</td>\n",
              "      <td>0.213931</td>\n",
              "      <td>-0.161281</td>\n",
              "      <td>0.016656</td>\n",
              "      <td>-0.017972</td>\n",
              "      <td>0.623652</td>\n",
              "      <td>-0.518356</td>\n",
              "      <td>-0.687006</td>\n",
              "      <td>-0.618754</td>\n",
              "      <td>-0.183862</td>\n",
              "      <td>-0.531484</td>\n",
              "      <td>0.272442</td>\n",
              "      <td>0.838336</td>\n",
              "      <td>0.585445</td>\n",
              "      <td>1.864510</td>\n",
              "      <td>-0.962674</td>\n",
              "      <td>-0.080336</td>\n",
              "      <td>0.410009</td>\n",
              "      <td>-0.268104</td>\n",
              "      <td>0.090715</td>\n",
              "      <td>0.507091</td>\n",
              "      <td>0.098923</td>\n",
              "      <td>0.573529</td>\n",
              "      <td>0.189127</td>\n",
              "      <td>1.051623</td>\n",
              "    </tr>\n",
              "  </tbody>\n",
              "</table>\n",
              "</div>"
            ],
            "text/plain": [
              "   Open Date      City  City Group  ...       P35       P36       P37\n",
              "0  -0.158924  0.877538   -0.866539  ...  0.573529  0.189127  1.610042\n",
              "1  -1.252643 -1.491383   -0.866539  ... -0.590523 -0.530606 -0.623637\n",
              "2  -1.150901 -0.899152    1.145593  ... -0.590523 -0.530606 -0.623637\n",
              "3  -1.405254  0.623725    1.145593  ...  2.901634  2.348327  2.726882\n",
              "4  -0.616760 -0.560735    1.145593  ...  0.573529  0.189127  1.051623\n",
              "\n",
              "[5 rows x 41 columns]"
            ]
          },
          "metadata": {
            "tags": []
          },
          "execution_count": 9
        }
      ]
    },
    {
      "cell_type": "markdown",
      "metadata": {
        "id": "kijU6iXgCkap"
      },
      "source": [
        "### Создание и обучение нейросети"
      ]
    },
    {
      "cell_type": "markdown",
      "metadata": {
        "id": "2oehrHXEDGfd"
      },
      "source": [
        "Деление данных на тренировочные и проверочные"
      ]
    },
    {
      "cell_type": "code",
      "metadata": {
        "id": "SSE9Ka3GX2Hh"
      },
      "source": [
        "x_train, x_test, y_train, y_test = train_test_split(x, y, random_state=2, test_size = 0.2)"
      ],
      "execution_count": null,
      "outputs": []
    },
    {
      "cell_type": "markdown",
      "metadata": {
        "id": "0rMrlo4iChIO"
      },
      "source": [
        "Создание и обучение нейросети"
      ]
    },
    {
      "cell_type": "code",
      "metadata": {
        "id": "HOtz4lpgX9d5",
        "colab": {
          "base_uri": "https://localhost:8080/"
        },
        "outputId": "58f10cc9-fdb5-4ec4-af7b-1c7b587ef763"
      },
      "source": [
        "model = Sequential()\n",
        "\n",
        "model.add(Dense(512, activation='relu', input_shape=(x_train.shape[1],)))\n",
        "model.add(Dropout(0.1))\n",
        "model.add(Dense(256, activation='relu'))\n",
        "model.add(Dense(128, activation='relu'))\n",
        "#model.add(Dense(32, activation='relu'))\n",
        "model.add(Dense(1))\n",
        "\n",
        "\n",
        "model.compile(loss='mse', optimizer='adam', metrics=['mae'])\n",
        "model.summary()\n",
        "history = model.fit(x_train, y_train, epochs=50, batch_size=1, verbose=1, validation_split=0.3)\n",
        "history = history.history"
      ],
      "execution_count": null,
      "outputs": [
        {
          "output_type": "stream",
          "text": [
            "Model: \"sequential\"\n",
            "_________________________________________________________________\n",
            "Layer (type)                 Output Shape              Param #   \n",
            "=================================================================\n",
            "dense (Dense)                (None, 512)               21504     \n",
            "_________________________________________________________________\n",
            "dropout (Dropout)            (None, 512)               0         \n",
            "_________________________________________________________________\n",
            "dense_1 (Dense)              (None, 256)               131328    \n",
            "_________________________________________________________________\n",
            "dense_2 (Dense)              (None, 128)               32896     \n",
            "_________________________________________________________________\n",
            "dense_3 (Dense)              (None, 1)                 129       \n",
            "=================================================================\n",
            "Total params: 185,857\n",
            "Trainable params: 185,857\n",
            "Non-trainable params: 0\n",
            "_________________________________________________________________\n",
            "Epoch 1/50\n",
            "76/76 [==============================] - 1s 9ms/step - loss: 41685912768884.3672 - mae: 5201598.7922 - val_loss: 26282001694720.0000 - val_mae: 4311518.5000\n",
            "Epoch 2/50\n",
            "76/76 [==============================] - 0s 3ms/step - loss: 31750058352108.0508 - mae: 4739521.2500 - val_loss: 25840769302528.0000 - val_mae: 4260791.5000\n",
            "Epoch 3/50\n",
            "76/76 [==============================] - 0s 3ms/step - loss: 23246526313565.0898 - mae: 4259690.2143 - val_loss: 23111604895744.0000 - val_mae: 3928951.5000\n",
            "Epoch 4/50\n",
            "76/76 [==============================] - 0s 4ms/step - loss: 25963096355720.3125 - mae: 4087049.7273 - val_loss: 17987666968576.0000 - val_mae: 3215570.5000\n",
            "Epoch 5/50\n",
            "76/76 [==============================] - 0s 3ms/step - loss: 26499619385609.9727 - mae: 3480902.9091 - val_loss: 13452172066816.0000 - val_mae: 2670925.5000\n",
            "Epoch 6/50\n",
            "76/76 [==============================] - 0s 3ms/step - loss: 17436913382664.3125 - mae: 2755267.0666 - val_loss: 11493116477440.0000 - val_mae: 2497753.0000\n",
            "Epoch 7/50\n",
            "76/76 [==============================] - 0s 3ms/step - loss: 9409276347219.1172 - mae: 2369674.7062 - val_loss: 10768071262208.0000 - val_mae: 2400618.5000\n",
            "Epoch 8/50\n",
            "76/76 [==============================] - 0s 3ms/step - loss: 7192164852669.5068 - mae: 2211181.1104 - val_loss: 10122447290368.0000 - val_mae: 2326067.7500\n",
            "Epoch 9/50\n",
            "76/76 [==============================] - 0s 3ms/step - loss: 10203232989875.5332 - mae: 2478470.0341 - val_loss: 9642743693312.0000 - val_mae: 2234153.7500\n",
            "Epoch 10/50\n",
            "76/76 [==============================] - 0s 3ms/step - loss: 7805543468151.6885 - mae: 2359208.2370 - val_loss: 9341899898880.0000 - val_mae: 2144363.5000\n",
            "Epoch 11/50\n",
            "76/76 [==============================] - 0s 3ms/step - loss: 6862166980528.2080 - mae: 2083070.0666 - val_loss: 8788192526336.0000 - val_mae: 2056330.8750\n",
            "Epoch 12/50\n",
            "76/76 [==============================] - 0s 3ms/step - loss: 5842416605423.3770 - mae: 1949724.9156 - val_loss: 8380647735296.0000 - val_mae: 1971692.1250\n",
            "Epoch 13/50\n",
            "76/76 [==============================] - 0s 3ms/step - loss: 6408193620952.1035 - mae: 2002401.6185 - val_loss: 8052425621504.0000 - val_mae: 1896206.7500\n",
            "Epoch 14/50\n",
            "76/76 [==============================] - 0s 3ms/step - loss: 7224387682942.3379 - mae: 2040244.1396 - val_loss: 7733706752000.0000 - val_mae: 1840165.3750\n",
            "Epoch 15/50\n",
            "76/76 [==============================] - 0s 3ms/step - loss: 5498549295130.5977 - mae: 1913506.5925 - val_loss: 7509639168000.0000 - val_mae: 1773277.5000\n",
            "Epoch 16/50\n",
            "76/76 [==============================] - 0s 3ms/step - loss: 5291999439672.5195 - mae: 1688045.8750 - val_loss: 7263816253440.0000 - val_mae: 1757060.6250\n",
            "Epoch 17/50\n",
            "76/76 [==============================] - 0s 3ms/step - loss: 6656123262151.4805 - mae: 1764254.6721 - val_loss: 7040385155072.0000 - val_mae: 1741104.6250\n",
            "Epoch 18/50\n",
            "76/76 [==============================] - 0s 3ms/step - loss: 10973071822794.8047 - mae: 2031445.3750 - val_loss: 6915997827072.0000 - val_mae: 1714144.7500\n",
            "Epoch 19/50\n",
            "76/76 [==============================] - 0s 3ms/step - loss: 6639890342207.1689 - mae: 1874474.1867 - val_loss: 6764749127680.0000 - val_mae: 1705407.2500\n",
            "Epoch 20/50\n",
            "76/76 [==============================] - 0s 3ms/step - loss: 5379669403195.8438 - mae: 1604615.7419 - val_loss: 6701252608000.0000 - val_mae: 1684231.2500\n",
            "Epoch 21/50\n",
            "76/76 [==============================] - 0s 3ms/step - loss: 3660832011357.0908 - mae: 1519881.0187 - val_loss: 6628942282752.0000 - val_mae: 1688538.7500\n",
            "Epoch 22/50\n",
            "76/76 [==============================] - 0s 3ms/step - loss: 4522265216997.4023 - mae: 1359516.2054 - val_loss: 6518137683968.0000 - val_mae: 1731117.1250\n",
            "Epoch 23/50\n",
            "76/76 [==============================] - 0s 3ms/step - loss: 4043832986530.9092 - mae: 1476334.1640 - val_loss: 6454663184384.0000 - val_mae: 1729057.6250\n",
            "Epoch 24/50\n",
            "76/76 [==============================] - 0s 3ms/step - loss: 6208752935018.3896 - mae: 1742960.6567 - val_loss: 6417338597376.0000 - val_mae: 1741876.0000\n",
            "Epoch 25/50\n",
            "76/76 [==============================] - 0s 3ms/step - loss: 9629193357604.5723 - mae: 1905944.9529 - val_loss: 6403677224960.0000 - val_mae: 1744794.8750\n",
            "Epoch 26/50\n",
            "76/76 [==============================] - 0s 3ms/step - loss: 9649734992084.7793 - mae: 1872928.2508 - val_loss: 6406179127296.0000 - val_mae: 1717445.1250\n",
            "Epoch 27/50\n",
            "76/76 [==============================] - 0s 3ms/step - loss: 2688543227904.0000 - mae: 1246017.3872 - val_loss: 6422516465664.0000 - val_mae: 1707420.8750\n",
            "Epoch 28/50\n",
            "76/76 [==============================] - 0s 3ms/step - loss: 4745435371972.1562 - mae: 1348986.9083 - val_loss: 6372832837632.0000 - val_mae: 1729848.0000\n",
            "Epoch 29/50\n",
            "76/76 [==============================] - 0s 3ms/step - loss: 7100785389833.9736 - mae: 1682971.2110 - val_loss: 6375968604160.0000 - val_mae: 1748687.5000\n",
            "Epoch 30/50\n",
            "76/76 [==============================] - 0s 3ms/step - loss: 3616467705792.8311 - mae: 1483173.8961 - val_loss: 6387356139520.0000 - val_mae: 1734464.3750\n",
            "Epoch 31/50\n",
            "76/76 [==============================] - 0s 3ms/step - loss: 7795595692324.5713 - mae: 1722659.0162 - val_loss: 6372942938112.0000 - val_mae: 1726078.6250\n",
            "Epoch 32/50\n",
            "76/76 [==============================] - 0s 3ms/step - loss: 4001673738160.2080 - mae: 1442449.6534 - val_loss: 6399064014848.0000 - val_mae: 1753024.8750\n",
            "Epoch 33/50\n",
            "76/76 [==============================] - 0s 3ms/step - loss: 6779411733570.4932 - mae: 1791695.6153 - val_loss: 6379552636928.0000 - val_mae: 1748279.7500\n",
            "Epoch 34/50\n",
            "76/76 [==============================] - 0s 3ms/step - loss: 6401977146221.7139 - mae: 1596418.1883 - val_loss: 6391896997888.0000 - val_mae: 1746893.6250\n",
            "Epoch 35/50\n",
            "76/76 [==============================] - 0s 3ms/step - loss: 3982970877872.2080 - mae: 1596533.9643 - val_loss: 6396711534592.0000 - val_mae: 1742229.1250\n",
            "Epoch 36/50\n",
            "76/76 [==============================] - 0s 3ms/step - loss: 3357965304871.8960 - mae: 1323087.8782 - val_loss: 6398063673344.0000 - val_mae: 1760434.8750\n",
            "Epoch 37/50\n",
            "76/76 [==============================] - 0s 3ms/step - loss: 4275620326626.0781 - mae: 1534132.2289 - val_loss: 6398946574336.0000 - val_mae: 1747284.8750\n",
            "Epoch 38/50\n",
            "76/76 [==============================] - 0s 3ms/step - loss: 4296621919990.0259 - mae: 1413803.4513 - val_loss: 6417187078144.0000 - val_mae: 1761919.7500\n",
            "Epoch 39/50\n",
            "76/76 [==============================] - 0s 3ms/step - loss: 3779180355264.8311 - mae: 1374357.1445 - val_loss: 6419413729280.0000 - val_mae: 1776208.6250\n",
            "Epoch 40/50\n",
            "76/76 [==============================] - 0s 3ms/step - loss: 7229848018624.8311 - mae: 1764638.4286 - val_loss: 6416301555712.0000 - val_mae: 1755527.1250\n",
            "Epoch 41/50\n",
            "76/76 [==============================] - 0s 3ms/step - loss: 5681321973148.2598 - mae: 1667783.8620 - val_loss: 6430556422144.0000 - val_mae: 1770119.5000\n",
            "Epoch 42/50\n",
            "76/76 [==============================] - 0s 3ms/step - loss: 2959663200176.2080 - mae: 1359003.8588 - val_loss: 6440859205632.0000 - val_mae: 1763352.1250\n",
            "Epoch 43/50\n",
            "76/76 [==============================] - 0s 3ms/step - loss: 4961291563699.5322 - mae: 1421948.5933 - val_loss: 6438021758976.0000 - val_mae: 1767217.7500\n",
            "Epoch 44/50\n",
            "76/76 [==============================] - 0s 3ms/step - loss: 3050229259543.2729 - mae: 1327318.0122 - val_loss: 6452243070976.0000 - val_mae: 1767844.2500\n",
            "Epoch 45/50\n",
            "76/76 [==============================] - 0s 3ms/step - loss: 3165384611653.8184 - mae: 1387689.2459 - val_loss: 6462089723904.0000 - val_mae: 1772683.0000\n",
            "Epoch 46/50\n",
            "76/76 [==============================] - 0s 3ms/step - loss: 5900168489571.7402 - mae: 1542132.5925 - val_loss: 6450272272384.0000 - val_mae: 1771093.1250\n",
            "Epoch 47/50\n",
            "76/76 [==============================] - 0s 3ms/step - loss: 4013385445216.4155 - mae: 1431032.5747 - val_loss: 6445752909824.0000 - val_mae: 1779638.3750\n",
            "Epoch 48/50\n",
            "76/76 [==============================] - 0s 3ms/step - loss: 2589984520963.3247 - mae: 1289047.7873 - val_loss: 6453540159488.0000 - val_mae: 1758612.2500\n",
            "Epoch 49/50\n",
            "76/76 [==============================] - 0s 3ms/step - loss: 4268595640240.2080 - mae: 1589105.5325 - val_loss: 6463635849216.0000 - val_mae: 1766095.7500\n",
            "Epoch 50/50\n",
            "76/76 [==============================] - 0s 3ms/step - loss: 4090151022857.9741 - mae: 1342080.0041 - val_loss: 6473503473664.0000 - val_mae: 1793981.3750\n"
          ],
          "name": "stdout"
        }
      ]
    },
    {
      "cell_type": "markdown",
      "metadata": {
        "id": "2bk0guDUCYzr"
      },
      "source": [
        "Построение графика"
      ]
    },
    {
      "cell_type": "code",
      "metadata": {
        "id": "IW4RPvwDYnA0",
        "colab": {
          "base_uri": "https://localhost:8080/",
          "height": 573
        },
        "outputId": "e25766c7-8770-4a68-e4ff-6db89b3cf6ef"
      },
      "source": [
        "def draw_graph(history):\n",
        "\n",
        "    loss_values = history[\"loss\"]\n",
        "    validation_loss_values = history[\"val_loss\"]\n",
        "    epochs = range(1, len(history['loss']) + 1)\n",
        "    plt.plot(epochs, loss_values, 'b', label='Training loss')\n",
        "    plt.plot(epochs, validation_loss_values, 'r', label='Validation loss')\n",
        "    plt.title('Training and validation loss')\n",
        "    plt.xlabel('Epochs')\n",
        "    plt.ylabel('Value')\n",
        "    plt.legend()\n",
        "    plt.show()\n",
        "    \n",
        "    plt.clf()\n",
        " \n",
        "    mae = history['mae']\n",
        "    val_mae = history['val_mae']\n",
        "    plt.plot(epochs, mae, 'r', label='Training mae')\n",
        "    plt.plot(epochs, val_mae, 'b', label='Validation mae')\n",
        "    plt.title('Training and validation mae')\n",
        "    plt.xlabel('Epochs')\n",
        "    plt.ylabel('mae')\n",
        "    plt.legend()\n",
        "    plt.show()\n",
        "\n",
        "draw_graph(history)"
      ],
      "execution_count": null,
      "outputs": [
        {
          "output_type": "display_data",
          "data": {
            "image/png": "[encoded data removed]",
            "text/plain": [
              "<Figure size 432x288 with 1 Axes>"
            ]
          },
          "metadata": {
            "tags": [],
            "needs_background": "light"
          }
        },
        {
          "output_type": "display_data",
          "data": {
            "image/png": "[encoded data removed]",
            "text/plain": [
              "<Figure size 432x288 with 1 Axes>"
            ]
          },
          "metadata": {
            "tags": [],
            "needs_background": "light"
          }
        }
      ]
    },
    {
      "cell_type": "code",
      "metadata": {
        "id": "XQh6Q4PIL3R9"
      },
      "source": [
        "pred = model.predict(x_test)\n",
        "predicted_x = np.reshape(pred, (pred.shape[0]))\n",
        "predicted_y = np.reshape(y_test, (y_test.shape[0]))"
      ],
      "execution_count": null,
      "outputs": []
    },
    {
      "cell_type": "code",
      "metadata": {
        "colab": {
          "base_uri": "https://localhost:8080/"
        },
        "id": "je7tOf8ML4Xy",
        "outputId": "51c110c2-c6b8-4e81-d7da-df175acd2bf8"
      },
      "source": [
        "for test_index in range(20):\n",
        "  print(\"Predict:\", predicted_x[test_index],\", True:\",predicted_y.values[test_index])"
      ],
      "execution_count": null,
      "outputs": [
        {
          "output_type": "stream",
          "text": [
            "Predict: 3825127.2 , True: 2792031.0\n",
            "Predict: 4313077.5 , True: 3570392.0\n",
            "Predict: 5377573.5 , True: 3600467.0\n",
            "Predict: 6426598.5 , True: 5017319.0\n",
            "Predict: 5223906.5 , True: 3752885.0\n",
            "Predict: 3119081.0 , True: 2675511.0\n",
            "Predict: 5227059.0 , True: 4705945.0\n",
            "Predict: 3733811.0 , True: 2993069.0\n",
            "Predict: 2491046.5 , True: 1734634.0\n",
            "Predict: 4967544.5 , True: 4554237.0\n",
            "Predict: 6096719.5 , True: 6941173.0\n",
            "Predict: 5707036.5 , True: 5906596.0\n",
            "Predict: 5078671.0 , True: 4882985.0\n",
            "Predict: 3220902.5 , True: 2055379.0\n",
            "Predict: 3703927.5 , True: 3778621.0\n",
            "Predict: 4163171.2 , True: 2344689.0\n",
            "Predict: 5563918.5 , True: 13575224.0\n",
            "Predict: 3356006.0 , True: 2954086.0\n",
            "Predict: 2792049.5 , True: 1999097.0\n",
            "Predict: 4603428.0 , True: 4136425.0\n"
          ],
          "name": "stdout"
        }
      ]
    },
    {
      "cell_type": "markdown",
      "metadata": {
        "id": "gNS9R6fcCT_U"
      },
      "source": [
        "Предсказания и подсчет коэффициента корреляции"
      ]
    },
    {
      "cell_type": "code",
      "metadata": {
        "id": "cRpfZYa4MkvE",
        "colab": {
          "base_uri": "https://localhost:8080/"
        },
        "outputId": "22682ba5-f5d2-474a-e207-9b7387680e0c"
      },
      "source": [
        "cc = np.corrcoef(predicted_x, predicted_y)\n",
        "ccc = cc[0][1]\n",
        "print(f'Correlation Coefficient: {ccc}')"
      ],
      "execution_count": null,
      "outputs": [
        {
          "output_type": "stream",
          "text": [
            "Correlation Coefficient: 0.5364190133190083\n"
          ],
          "name": "stdout"
        }
      ]
    },
    {
      "cell_type": "markdown",
      "metadata": {
        "id": "4_EObGQfISuG"
      },
      "source": [
        "**Keras Tuner**"
      ]
    },
    {
      "cell_type": "code",
      "metadata": {
        "id": "5bHkovADIap3"
      },
      "source": [
        "def build_model(hp):\n",
        "  hidden_layers = hp.Choice('hidden_layers', values=[1,2,3])\n",
        "  activation_choice = hp.Choice('activation', values=['relu', 'selu', 'elu'])\n",
        "  model = Sequential()\n",
        "  model.add(Dense(units=hp.Int('units',min_value=128,max_value=512,step=32),activation=activation_choice, input_shape=(x_train.shape[1], )))\n",
        "  model.add(Dropout(0.3))\n",
        "  for i in range(hidden_layers):\n",
        "    model.add(Dense(units=hp.Int(f'layer_{i}_units_',min_value=64//(i+1), max_value=256//(i+1),step=16//(i+1)),activation=activation_choice))\n",
        "  model.add(Dense(1))  \n",
        "  model.compile(optimizer='rmsprop', loss=\"mse\", metrics=[\"mae\"])\n",
        "  return model"
      ],
      "execution_count": null,
      "outputs": []
    },
    {
      "cell_type": "code",
      "metadata": {
        "id": "UckqO5SEI4h9",
        "colab": {
          "base_uri": "https://localhost:8080/",
          "height": 1000
        },
        "outputId": "3bfbf510-06f7-4448-e1ea-8270627992c2"
      },
      "source": [
        "def find_best(x_train, y_train):\n",
        "  # создаю тюнер, который сможет подобрать оптимальную архитектуру модели\n",
        "  tuner = RandomSearch(build_model, objective=\"loss\", max_trials=30, executions_per_trial=1)\n",
        "  print(\"\\n\\n\\n\")\n",
        "  # начинается автоматический подбор гиперпараметров\n",
        "  print('[INFO] start searching')\n",
        "  tuner.search(x_train, y_train, batch_size=1, epochs=50, validation_split=0.3)\n",
        "  # выбираем лучшую модель\n",
        "  print(\"\\n\\n\\nRESULTS SUMMARY\")\n",
        "  tuner.results_summary()\n",
        "  print(\"\\n\\n\\n\")\n",
        "  # получаем лучшую модель\n",
        "  print(\"\\n\\n\\nHERE IS THE BEST MODEL\\n\\n\\n\")\n",
        "  best_params = tuner.get_best_hyperparameters()[0]\n",
        "  best_model = tuner.hypermodel.build(best_params)\n",
        "  best_model.summary()\n",
        "  return best_model\n",
        "  \n",
        "\n",
        "best_model = find_best(x_train, y_train)"
      ],
      "execution_count": null,
      "outputs": [
        {
          "output_type": "stream",
          "text": [
            "INFO:tensorflow:Reloading Oracle from existing project ./untitled_project/oracle.json\n",
            "INFO:tensorflow:Reloading Tuner from ./untitled_project/tuner0.json\n",
            "\n",
            "\n",
            "\n",
            "\n",
            "[INFO] start searching\n",
            "INFO:tensorflow:Oracle triggered exit\n",
            "\n",
            "\n",
            "\n",
            "RESULTS SUMMARY\n"
          ],
          "name": "stdout"
        },
        {
          "output_type": "display_data",
          "data": {
            "text/html": [
              "<span style=\"color:#4527A0\"><h1 style=\"font-size:18px\">Results summary</h1></span>"
            ],
            "text/plain": [
              "<IPython.core.display.HTML object>"
            ]
          },
          "metadata": {
            "tags": []
          }
        },
        {
          "output_type": "display_data",
          "data": {
            "text/html": [
              "<span style=\"color:cyan\"> |-Results in ./untitled_project</span>"
            ],
            "text/plain": [
              "<IPython.core.display.HTML object>"
            ]
          },
          "metadata": {
            "tags": []
          }
        },
        {
          "output_type": "display_data",
          "data": {
            "text/html": [
              "<span style=\"color:cyan\"> |-Showing 10 best trials</span>"
            ],
            "text/plain": [
              "<IPython.core.display.HTML object>"
            ]
          },
          "metadata": {
            "tags": []
          }
        },
        {
          "output_type": "display_data",
          "data": {
            "text/html": [
              "<span style=\"color:cyan\"> |-Objective(name='loss', direction='min')</span>"
            ],
            "text/plain": [
              "<IPython.core.display.HTML object>"
            ]
          },
          "metadata": {
            "tags": []
          }
        },
        {
          "output_type": "display_data",
          "data": {
            "text/html": [
              "<span style=\"color:#4527A0\"><h1 style=\"font-size:18px\">Trial summary</h1></span>"
            ],
            "text/plain": [
              "<IPython.core.display.HTML object>"
            ]
          },
          "metadata": {
            "tags": []
          }
        },
        {
          "output_type": "display_data",
          "data": {
            "text/html": [
              "<span style=\"color:cyan\"> |-Trial ID: 29f6cd9108d42b051d6f19e74892597c</span>"
            ],
            "text/plain": [
              "<IPython.core.display.HTML object>"
            ]
          },
          "metadata": {
            "tags": []
          }
        },
        {
          "output_type": "display_data",
          "data": {
            "text/html": [
              "<span style=\"color:cyan\"> |-Score: 4930150596608.0</span>"
            ],
            "text/plain": [
              "<IPython.core.display.HTML object>"
            ]
          },
          "metadata": {
            "tags": []
          }
        },
        {
          "output_type": "display_data",
          "data": {
            "text/html": [
              "<span style=\"color:cyan\"> |-Best step: 0</span>"
            ],
            "text/plain": [
              "<IPython.core.display.HTML object>"
            ]
          },
          "metadata": {
            "tags": []
          }
        },
        {
          "output_type": "display_data",
          "data": {
            "text/html": [
              "<span style=\"color:#7E57C2\"><h2 style=\"font-size:16px\">Hyperparameters:</h2></span>"
            ],
            "text/plain": [
              "<IPython.core.display.HTML object>"
            ]
          },
          "metadata": {
            "tags": []
          }
        },
        {
          "output_type": "display_data",
          "data": {
            "text/html": [
              "<span style=\"color:cyan\"> |-activation: relu</span>"
            ],
            "text/plain": [
              "<IPython.core.display.HTML object>"
            ]
          },
          "metadata": {
            "tags": []
          }
        },
        {
          "output_type": "display_data",
          "data": {
            "text/html": [
              "<span style=\"color:blue\"> |-hidden_layers: 3</span>"
            ],
            "text/plain": [
              "<IPython.core.display.HTML object>"
            ]
          },
          "metadata": {
            "tags": []
          }
        },
        {
          "output_type": "display_data",
          "data": {
            "text/html": [
              "<span style=\"color:cyan\"> |-layer_0_units_: 96</span>"
            ],
            "text/plain": [
              "<IPython.core.display.HTML object>"
            ]
          },
          "metadata": {
            "tags": []
          }
        },
        {
          "output_type": "display_data",
          "data": {
            "text/html": [
              "<span style=\"color:blue\"> |-layer_1_units_: 120</span>"
            ],
            "text/plain": [
              "<IPython.core.display.HTML object>"
            ]
          },
          "metadata": {
            "tags": []
          }
        },
        {
          "output_type": "display_data",
          "data": {
            "text/html": [
              "<span style=\"color:cyan\"> |-layer_2_units_: 70</span>"
            ],
            "text/plain": [
              "<IPython.core.display.HTML object>"
            ]
          },
          "metadata": {
            "tags": []
          }
        },
        {
          "output_type": "display_data",
          "data": {
            "text/html": [
              "<span style=\"color:blue\"> |-units: 128</span>"
            ],
            "text/plain": [
              "<IPython.core.display.HTML object>"
            ]
          },
          "metadata": {
            "tags": []
          }
        },
        {
          "output_type": "display_data",
          "data": {
            "text/html": [
              "<span style=\"color:#4527A0\"><h1 style=\"font-size:18px\">Trial summary</h1></span>"
            ],
            "text/plain": [
              "<IPython.core.display.HTML object>"
            ]
          },
          "metadata": {
            "tags": []
          }
        },
        {
          "output_type": "display_data",
          "data": {
            "text/html": [
              "<span style=\"color:cyan\"> |-Trial ID: 838342ca5104e0d70a2321fa25cbcaa1</span>"
            ],
            "text/plain": [
              "<IPython.core.display.HTML object>"
            ]
          },
          "metadata": {
            "tags": []
          }
        },
        {
          "output_type": "display_data",
          "data": {
            "text/html": [
              "<span style=\"color:cyan\"> |-Score: 5067366203392.0</span>"
            ],
            "text/plain": [
              "<IPython.core.display.HTML object>"
            ]
          },
          "metadata": {
            "tags": []
          }
        },
        {
          "output_type": "display_data",
          "data": {
            "text/html": [
              "<span style=\"color:cyan\"> |-Best step: 0</span>"
            ],
            "text/plain": [
              "<IPython.core.display.HTML object>"
            ]
          },
          "metadata": {
            "tags": []
          }
        },
        {
          "output_type": "display_data",
          "data": {
            "text/html": [
              "<span style=\"color:#7E57C2\"><h2 style=\"font-size:16px\">Hyperparameters:</h2></span>"
            ],
            "text/plain": [
              "<IPython.core.display.HTML object>"
            ]
          },
          "metadata": {
            "tags": []
          }
        },
        {
          "output_type": "display_data",
          "data": {
            "text/html": [
              "<span style=\"color:cyan\"> |-activation: relu</span>"
            ],
            "text/plain": [
              "<IPython.core.display.HTML object>"
            ]
          },
          "metadata": {
            "tags": []
          }
        },
        {
          "output_type": "display_data",
          "data": {
            "text/html": [
              "<span style=\"color:blue\"> |-hidden_layers: 3</span>"
            ],
            "text/plain": [
              "<IPython.core.display.HTML object>"
            ]
          },
          "metadata": {
            "tags": []
          }
        },
        {
          "output_type": "display_data",
          "data": {
            "text/html": [
              "<span style=\"color:cyan\"> |-layer_0_units_: 240</span>"
            ],
            "text/plain": [
              "<IPython.core.display.HTML object>"
            ]
          },
          "metadata": {
            "tags": []
          }
        },
        {
          "output_type": "display_data",
          "data": {
            "text/html": [
              "<span style=\"color:blue\"> |-layer_1_units_: 48</span>"
            ],
            "text/plain": [
              "<IPython.core.display.HTML object>"
            ]
          },
          "metadata": {
            "tags": []
          }
        },
        {
          "output_type": "display_data",
          "data": {
            "text/html": [
              "<span style=\"color:cyan\"> |-layer_2_units_: 60</span>"
            ],
            "text/plain": [
              "<IPython.core.display.HTML object>"
            ]
          },
          "metadata": {
            "tags": []
          }
        },
        {
          "output_type": "display_data",
          "data": {
            "text/html": [
              "<span style=\"color:blue\"> |-units: 448</span>"
            ],
            "text/plain": [
              "<IPython.core.display.HTML object>"
            ]
          },
          "metadata": {
            "tags": []
          }
        },
        {
          "output_type": "display_data",
          "data": {
            "text/html": [
              "<span style=\"color:#4527A0\"><h1 style=\"font-size:18px\">Trial summary</h1></span>"
            ],
            "text/plain": [
              "<IPython.core.display.HTML object>"
            ]
          },
          "metadata": {
            "tags": []
          }
        },
        {
          "output_type": "display_data",
          "data": {
            "text/html": [
              "<span style=\"color:cyan\"> |-Trial ID: 3dc1f1cad712a25060b463d4ea39a3f4</span>"
            ],
            "text/plain": [
              "<IPython.core.display.HTML object>"
            ]
          },
          "metadata": {
            "tags": []
          }
        },
        {
          "output_type": "display_data",
          "data": {
            "text/html": [
              "<span style=\"color:cyan\"> |-Score: 5199894675456.0</span>"
            ],
            "text/plain": [
              "<IPython.core.display.HTML object>"
            ]
          },
          "metadata": {
            "tags": []
          }
        },
        {
          "output_type": "display_data",
          "data": {
            "text/html": [
              "<span style=\"color:cyan\"> |-Best step: 0</span>"
            ],
            "text/plain": [
              "<IPython.core.display.HTML object>"
            ]
          },
          "metadata": {
            "tags": []
          }
        },
        {
          "output_type": "display_data",
          "data": {
            "text/html": [
              "<span style=\"color:#7E57C2\"><h2 style=\"font-size:16px\">Hyperparameters:</h2></span>"
            ],
            "text/plain": [
              "<IPython.core.display.HTML object>"
            ]
          },
          "metadata": {
            "tags": []
          }
        },
        {
          "output_type": "display_data",
          "data": {
            "text/html": [
              "<span style=\"color:cyan\"> |-activation: selu</span>"
            ],
            "text/plain": [
              "<IPython.core.display.HTML object>"
            ]
          },
          "metadata": {
            "tags": []
          }
        },
        {
          "output_type": "display_data",
          "data": {
            "text/html": [
              "<span style=\"color:blue\"> |-hidden_layers: 3</span>"
            ],
            "text/plain": [
              "<IPython.core.display.HTML object>"
            ]
          },
          "metadata": {
            "tags": []
          }
        },
        {
          "output_type": "display_data",
          "data": {
            "text/html": [
              "<span style=\"color:cyan\"> |-layer_0_units_: 144</span>"
            ],
            "text/plain": [
              "<IPython.core.display.HTML object>"
            ]
          },
          "metadata": {
            "tags": []
          }
        },
        {
          "output_type": "display_data",
          "data": {
            "text/html": [
              "<span style=\"color:blue\"> |-layer_1_units_: 72</span>"
            ],
            "text/plain": [
              "<IPython.core.display.HTML object>"
            ]
          },
          "metadata": {
            "tags": []
          }
        },
        {
          "output_type": "display_data",
          "data": {
            "text/html": [
              "<span style=\"color:cyan\"> |-layer_2_units_: 60</span>"
            ],
            "text/plain": [
              "<IPython.core.display.HTML object>"
            ]
          },
          "metadata": {
            "tags": []
          }
        },
        {
          "output_type": "display_data",
          "data": {
            "text/html": [
              "<span style=\"color:blue\"> |-units: 256</span>"
            ],
            "text/plain": [
              "<IPython.core.display.HTML object>"
            ]
          },
          "metadata": {
            "tags": []
          }
        },
        {
          "output_type": "display_data",
          "data": {
            "text/html": [
              "<span style=\"color:#4527A0\"><h1 style=\"font-size:18px\">Trial summary</h1></span>"
            ],
            "text/plain": [
              "<IPython.core.display.HTML object>"
            ]
          },
          "metadata": {
            "tags": []
          }
        },
        {
          "output_type": "display_data",
          "data": {
            "text/html": [
              "<span style=\"color:cyan\"> |-Trial ID: 7cf9de9b7eed9812154ae11a70f4f6cd</span>"
            ],
            "text/plain": [
              "<IPython.core.display.HTML object>"
            ]
          },
          "metadata": {
            "tags": []
          }
        },
        {
          "output_type": "display_data",
          "data": {
            "text/html": [
              "<span style=\"color:cyan\"> |-Score: 5221781602304.0</span>"
            ],
            "text/plain": [
              "<IPython.core.display.HTML object>"
            ]
          },
          "metadata": {
            "tags": []
          }
        },
        {
          "output_type": "display_data",
          "data": {
            "text/html": [
              "<span style=\"color:cyan\"> |-Best step: 0</span>"
            ],
            "text/plain": [
              "<IPython.core.display.HTML object>"
            ]
          },
          "metadata": {
            "tags": []
          }
        },
        {
          "output_type": "display_data",
          "data": {
            "text/html": [
              "<span style=\"color:#7E57C2\"><h2 style=\"font-size:16px\">Hyperparameters:</h2></span>"
            ],
            "text/plain": [
              "<IPython.core.display.HTML object>"
            ]
          },
          "metadata": {
            "tags": []
          }
        },
        {
          "output_type": "display_data",
          "data": {
            "text/html": [
              "<span style=\"color:cyan\"> |-activation: relu</span>"
            ],
            "text/plain": [
              "<IPython.core.display.HTML object>"
            ]
          },
          "metadata": {
            "tags": []
          }
        },
        {
          "output_type": "display_data",
          "data": {
            "text/html": [
              "<span style=\"color:blue\"> |-hidden_layers: 3</span>"
            ],
            "text/plain": [
              "<IPython.core.display.HTML object>"
            ]
          },
          "metadata": {
            "tags": []
          }
        },
        {
          "output_type": "display_data",
          "data": {
            "text/html": [
              "<span style=\"color:cyan\"> |-layer_0_units_: 144</span>"
            ],
            "text/plain": [
              "<IPython.core.display.HTML object>"
            ]
          },
          "metadata": {
            "tags": []
          }
        },
        {
          "output_type": "display_data",
          "data": {
            "text/html": [
              "<span style=\"color:blue\"> |-layer_1_units_: 128</span>"
            ],
            "text/plain": [
              "<IPython.core.display.HTML object>"
            ]
          },
          "metadata": {
            "tags": []
          }
        },
        {
          "output_type": "display_data",
          "data": {
            "text/html": [
              "<span style=\"color:cyan\"> |-layer_2_units_: 25</span>"
            ],
            "text/plain": [
              "<IPython.core.display.HTML object>"
            ]
          },
          "metadata": {
            "tags": []
          }
        },
        {
          "output_type": "display_data",
          "data": {
            "text/html": [
              "<span style=\"color:blue\"> |-units: 448</span>"
            ],
            "text/plain": [
              "<IPython.core.display.HTML object>"
            ]
          },
          "metadata": {
            "tags": []
          }
        },
        {
          "output_type": "display_data",
          "data": {
            "text/html": [
              "<span style=\"color:#4527A0\"><h1 style=\"font-size:18px\">Trial summary</h1></span>"
            ],
            "text/plain": [
              "<IPython.core.display.HTML object>"
            ]
          },
          "metadata": {
            "tags": []
          }
        },
        {
          "output_type": "display_data",
          "data": {
            "text/html": [
              "<span style=\"color:cyan\"> |-Trial ID: 67a63ba09b79c47ba63d15db2958f837</span>"
            ],
            "text/plain": [
              "<IPython.core.display.HTML object>"
            ]
          },
          "metadata": {
            "tags": []
          }
        },
        {
          "output_type": "display_data",
          "data": {
            "text/html": [
              "<span style=\"color:cyan\"> |-Score: 5259022827520.0</span>"
            ],
            "text/plain": [
              "<IPython.core.display.HTML object>"
            ]
          },
          "metadata": {
            "tags": []
          }
        },
        {
          "output_type": "display_data",
          "data": {
            "text/html": [
              "<span style=\"color:cyan\"> |-Best step: 0</span>"
            ],
            "text/plain": [
              "<IPython.core.display.HTML object>"
            ]
          },
          "metadata": {
            "tags": []
          }
        },
        {
          "output_type": "display_data",
          "data": {
            "text/html": [
              "<span style=\"color:#7E57C2\"><h2 style=\"font-size:16px\">Hyperparameters:</h2></span>"
            ],
            "text/plain": [
              "<IPython.core.display.HTML object>"
            ]
          },
          "metadata": {
            "tags": []
          }
        },
        {
          "output_type": "display_data",
          "data": {
            "text/html": [
              "<span style=\"color:cyan\"> |-activation: relu</span>"
            ],
            "text/plain": [
              "<IPython.core.display.HTML object>"
            ]
          },
          "metadata": {
            "tags": []
          }
        },
        {
          "output_type": "display_data",
          "data": {
            "text/html": [
              "<span style=\"color:blue\"> |-hidden_layers: 3</span>"
            ],
            "text/plain": [
              "<IPython.core.display.HTML object>"
            ]
          },
          "metadata": {
            "tags": []
          }
        },
        {
          "output_type": "display_data",
          "data": {
            "text/html": [
              "<span style=\"color:cyan\"> |-layer_0_units_: 224</span>"
            ],
            "text/plain": [
              "<IPython.core.display.HTML object>"
            ]
          },
          "metadata": {
            "tags": []
          }
        },
        {
          "output_type": "display_data",
          "data": {
            "text/html": [
              "<span style=\"color:blue\"> |-layer_1_units_: 32</span>"
            ],
            "text/plain": [
              "<IPython.core.display.HTML object>"
            ]
          },
          "metadata": {
            "tags": []
          }
        },
        {
          "output_type": "display_data",
          "data": {
            "text/html": [
              "<span style=\"color:cyan\"> |-layer_2_units_: 55</span>"
            ],
            "text/plain": [
              "<IPython.core.display.HTML object>"
            ]
          },
          "metadata": {
            "tags": []
          }
        },
        {
          "output_type": "display_data",
          "data": {
            "text/html": [
              "<span style=\"color:blue\"> |-units: 256</span>"
            ],
            "text/plain": [
              "<IPython.core.display.HTML object>"
            ]
          },
          "metadata": {
            "tags": []
          }
        },
        {
          "output_type": "display_data",
          "data": {
            "text/html": [
              "<span style=\"color:#4527A0\"><h1 style=\"font-size:18px\">Trial summary</h1></span>"
            ],
            "text/plain": [
              "<IPython.core.display.HTML object>"
            ]
          },
          "metadata": {
            "tags": []
          }
        },
        {
          "output_type": "display_data",
          "data": {
            "text/html": [
              "<span style=\"color:cyan\"> |-Trial ID: 346e908cf55b9fbd27600902eaab8c7d</span>"
            ],
            "text/plain": [
              "<IPython.core.display.HTML object>"
            ]
          },
          "metadata": {
            "tags": []
          }
        },
        {
          "output_type": "display_data",
          "data": {
            "text/html": [
              "<span style=\"color:cyan\"> |-Score: 5273818759168.0</span>"
            ],
            "text/plain": [
              "<IPython.core.display.HTML object>"
            ]
          },
          "metadata": {
            "tags": []
          }
        },
        {
          "output_type": "display_data",
          "data": {
            "text/html": [
              "<span style=\"color:cyan\"> |-Best step: 0</span>"
            ],
            "text/plain": [
              "<IPython.core.display.HTML object>"
            ]
          },
          "metadata": {
            "tags": []
          }
        },
        {
          "output_type": "display_data",
          "data": {
            "text/html": [
              "<span style=\"color:#7E57C2\"><h2 style=\"font-size:16px\">Hyperparameters:</h2></span>"
            ],
            "text/plain": [
              "<IPython.core.display.HTML object>"
            ]
          },
          "metadata": {
            "tags": []
          }
        },
        {
          "output_type": "display_data",
          "data": {
            "text/html": [
              "<span style=\"color:cyan\"> |-activation: relu</span>"
            ],
            "text/plain": [
              "<IPython.core.display.HTML object>"
            ]
          },
          "metadata": {
            "tags": []
          }
        },
        {
          "output_type": "display_data",
          "data": {
            "text/html": [
              "<span style=\"color:blue\"> |-hidden_layers: 3</span>"
            ],
            "text/plain": [
              "<IPython.core.display.HTML object>"
            ]
          },
          "metadata": {
            "tags": []
          }
        },
        {
          "output_type": "display_data",
          "data": {
            "text/html": [
              "<span style=\"color:cyan\"> |-layer_0_units_: 144</span>"
            ],
            "text/plain": [
              "<IPython.core.display.HTML object>"
            ]
          },
          "metadata": {
            "tags": []
          }
        },
        {
          "output_type": "display_data",
          "data": {
            "text/html": [
              "<span style=\"color:blue\"> |-layer_1_units_: 120</span>"
            ],
            "text/plain": [
              "<IPython.core.display.HTML object>"
            ]
          },
          "metadata": {
            "tags": []
          }
        },
        {
          "output_type": "display_data",
          "data": {
            "text/html": [
              "<span style=\"color:cyan\"> |-layer_2_units_: 45</span>"
            ],
            "text/plain": [
              "<IPython.core.display.HTML object>"
            ]
          },
          "metadata": {
            "tags": []
          }
        },
        {
          "output_type": "display_data",
          "data": {
            "text/html": [
              "<span style=\"color:blue\"> |-units: 192</span>"
            ],
            "text/plain": [
              "<IPython.core.display.HTML object>"
            ]
          },
          "metadata": {
            "tags": []
          }
        },
        {
          "output_type": "display_data",
          "data": {
            "text/html": [
              "<span style=\"color:#4527A0\"><h1 style=\"font-size:18px\">Trial summary</h1></span>"
            ],
            "text/plain": [
              "<IPython.core.display.HTML object>"
            ]
          },
          "metadata": {
            "tags": []
          }
        },
        {
          "output_type": "display_data",
          "data": {
            "text/html": [
              "<span style=\"color:cyan\"> |-Trial ID: 82e0d89cab55d024d2a2b0ebe688323d</span>"
            ],
            "text/plain": [
              "<IPython.core.display.HTML object>"
            ]
          },
          "metadata": {
            "tags": []
          }
        },
        {
          "output_type": "display_data",
          "data": {
            "text/html": [
              "<span style=\"color:cyan\"> |-Score: 5285479972864.0</span>"
            ],
            "text/plain": [
              "<IPython.core.display.HTML object>"
            ]
          },
          "metadata": {
            "tags": []
          }
        },
        {
          "output_type": "display_data",
          "data": {
            "text/html": [
              "<span style=\"color:cyan\"> |-Best step: 0</span>"
            ],
            "text/plain": [
              "<IPython.core.display.HTML object>"
            ]
          },
          "metadata": {
            "tags": []
          }
        },
        {
          "output_type": "display_data",
          "data": {
            "text/html": [
              "<span style=\"color:#7E57C2\"><h2 style=\"font-size:16px\">Hyperparameters:</h2></span>"
            ],
            "text/plain": [
              "<IPython.core.display.HTML object>"
            ]
          },
          "metadata": {
            "tags": []
          }
        },
        {
          "output_type": "display_data",
          "data": {
            "text/html": [
              "<span style=\"color:cyan\"> |-activation: relu</span>"
            ],
            "text/plain": [
              "<IPython.core.display.HTML object>"
            ]
          },
          "metadata": {
            "tags": []
          }
        },
        {
          "output_type": "display_data",
          "data": {
            "text/html": [
              "<span style=\"color:blue\"> |-hidden_layers: 3</span>"
            ],
            "text/plain": [
              "<IPython.core.display.HTML object>"
            ]
          },
          "metadata": {
            "tags": []
          }
        },
        {
          "output_type": "display_data",
          "data": {
            "text/html": [
              "<span style=\"color:cyan\"> |-layer_0_units_: 112</span>"
            ],
            "text/plain": [
              "<IPython.core.display.HTML object>"
            ]
          },
          "metadata": {
            "tags": []
          }
        },
        {
          "output_type": "display_data",
          "data": {
            "text/html": [
              "<span style=\"color:blue\"> |-layer_1_units_: 24</span>"
            ],
            "text/plain": [
              "<IPython.core.display.HTML object>"
            ]
          },
          "metadata": {
            "tags": []
          }
        },
        {
          "output_type": "display_data",
          "data": {
            "text/html": [
              "<span style=\"color:cyan\"> |-layer_2_units_: 65</span>"
            ],
            "text/plain": [
              "<IPython.core.display.HTML object>"
            ]
          },
          "metadata": {
            "tags": []
          }
        },
        {
          "output_type": "display_data",
          "data": {
            "text/html": [
              "<span style=\"color:blue\"> |-units: 416</span>"
            ],
            "text/plain": [
              "<IPython.core.display.HTML object>"
            ]
          },
          "metadata": {
            "tags": []
          }
        },
        {
          "output_type": "display_data",
          "data": {
            "text/html": [
              "<span style=\"color:#4527A0\"><h1 style=\"font-size:18px\">Trial summary</h1></span>"
            ],
            "text/plain": [
              "<IPython.core.display.HTML object>"
            ]
          },
          "metadata": {
            "tags": []
          }
        },
        {
          "output_type": "display_data",
          "data": {
            "text/html": [
              "<span style=\"color:cyan\"> |-Trial ID: a64b4628108f35f04743684f610510a0</span>"
            ],
            "text/plain": [
              "<IPython.core.display.HTML object>"
            ]
          },
          "metadata": {
            "tags": []
          }
        },
        {
          "output_type": "display_data",
          "data": {
            "text/html": [
              "<span style=\"color:cyan\"> |-Score: 5321539977216.0</span>"
            ],
            "text/plain": [
              "<IPython.core.display.HTML object>"
            ]
          },
          "metadata": {
            "tags": []
          }
        },
        {
          "output_type": "display_data",
          "data": {
            "text/html": [
              "<span style=\"color:cyan\"> |-Best step: 0</span>"
            ],
            "text/plain": [
              "<IPython.core.display.HTML object>"
            ]
          },
          "metadata": {
            "tags": []
          }
        },
        {
          "output_type": "display_data",
          "data": {
            "text/html": [
              "<span style=\"color:#7E57C2\"><h2 style=\"font-size:16px\">Hyperparameters:</h2></span>"
            ],
            "text/plain": [
              "<IPython.core.display.HTML object>"
            ]
          },
          "metadata": {
            "tags": []
          }
        },
        {
          "output_type": "display_data",
          "data": {
            "text/html": [
              "<span style=\"color:cyan\"> |-activation: relu</span>"
            ],
            "text/plain": [
              "<IPython.core.display.HTML object>"
            ]
          },
          "metadata": {
            "tags": []
          }
        },
        {
          "output_type": "display_data",
          "data": {
            "text/html": [
              "<span style=\"color:blue\"> |-hidden_layers: 3</span>"
            ],
            "text/plain": [
              "<IPython.core.display.HTML object>"
            ]
          },
          "metadata": {
            "tags": []
          }
        },
        {
          "output_type": "display_data",
          "data": {
            "text/html": [
              "<span style=\"color:cyan\"> |-layer_0_units_: 128</span>"
            ],
            "text/plain": [
              "<IPython.core.display.HTML object>"
            ]
          },
          "metadata": {
            "tags": []
          }
        },
        {
          "output_type": "display_data",
          "data": {
            "text/html": [
              "<span style=\"color:blue\"> |-layer_1_units_: 112</span>"
            ],
            "text/plain": [
              "<IPython.core.display.HTML object>"
            ]
          },
          "metadata": {
            "tags": []
          }
        },
        {
          "output_type": "display_data",
          "data": {
            "text/html": [
              "<span style=\"color:cyan\"> |-layer_2_units_: 30</span>"
            ],
            "text/plain": [
              "<IPython.core.display.HTML object>"
            ]
          },
          "metadata": {
            "tags": []
          }
        },
        {
          "output_type": "display_data",
          "data": {
            "text/html": [
              "<span style=\"color:blue\"> |-units: 480</span>"
            ],
            "text/plain": [
              "<IPython.core.display.HTML object>"
            ]
          },
          "metadata": {
            "tags": []
          }
        },
        {
          "output_type": "display_data",
          "data": {
            "text/html": [
              "<span style=\"color:#4527A0\"><h1 style=\"font-size:18px\">Trial summary</h1></span>"
            ],
            "text/plain": [
              "<IPython.core.display.HTML object>"
            ]
          },
          "metadata": {
            "tags": []
          }
        },
        {
          "output_type": "display_data",
          "data": {
            "text/html": [
              "<span style=\"color:cyan\"> |-Trial ID: b1829c1d01b125497faa89c3079358b7</span>"
            ],
            "text/plain": [
              "<IPython.core.display.HTML object>"
            ]
          },
          "metadata": {
            "tags": []
          }
        },
        {
          "output_type": "display_data",
          "data": {
            "text/html": [
              "<span style=\"color:cyan\"> |-Score: 5414270795776.0</span>"
            ],
            "text/plain": [
              "<IPython.core.display.HTML object>"
            ]
          },
          "metadata": {
            "tags": []
          }
        },
        {
          "output_type": "display_data",
          "data": {
            "text/html": [
              "<span style=\"color:cyan\"> |-Best step: 0</span>"
            ],
            "text/plain": [
              "<IPython.core.display.HTML object>"
            ]
          },
          "metadata": {
            "tags": []
          }
        },
        {
          "output_type": "display_data",
          "data": {
            "text/html": [
              "<span style=\"color:#7E57C2\"><h2 style=\"font-size:16px\">Hyperparameters:</h2></span>"
            ],
            "text/plain": [
              "<IPython.core.display.HTML object>"
            ]
          },
          "metadata": {
            "tags": []
          }
        },
        {
          "output_type": "display_data",
          "data": {
            "text/html": [
              "<span style=\"color:cyan\"> |-activation: relu</span>"
            ],
            "text/plain": [
              "<IPython.core.display.HTML object>"
            ]
          },
          "metadata": {
            "tags": []
          }
        },
        {
          "output_type": "display_data",
          "data": {
            "text/html": [
              "<span style=\"color:blue\"> |-hidden_layers: 2</span>"
            ],
            "text/plain": [
              "<IPython.core.display.HTML object>"
            ]
          },
          "metadata": {
            "tags": []
          }
        },
        {
          "output_type": "display_data",
          "data": {
            "text/html": [
              "<span style=\"color:cyan\"> |-layer_0_units_: 192</span>"
            ],
            "text/plain": [
              "<IPython.core.display.HTML object>"
            ]
          },
          "metadata": {
            "tags": []
          }
        },
        {
          "output_type": "display_data",
          "data": {
            "text/html": [
              "<span style=\"color:blue\"> |-layer_1_units_: 128</span>"
            ],
            "text/plain": [
              "<IPython.core.display.HTML object>"
            ]
          },
          "metadata": {
            "tags": []
          }
        },
        {
          "output_type": "display_data",
          "data": {
            "text/html": [
              "<span style=\"color:cyan\"> |-layer_2_units_: 85</span>"
            ],
            "text/plain": [
              "<IPython.core.display.HTML object>"
            ]
          },
          "metadata": {
            "tags": []
          }
        },
        {
          "output_type": "display_data",
          "data": {
            "text/html": [
              "<span style=\"color:blue\"> |-units: 448</span>"
            ],
            "text/plain": [
              "<IPython.core.display.HTML object>"
            ]
          },
          "metadata": {
            "tags": []
          }
        },
        {
          "output_type": "display_data",
          "data": {
            "text/html": [
              "<span style=\"color:#4527A0\"><h1 style=\"font-size:18px\">Trial summary</h1></span>"
            ],
            "text/plain": [
              "<IPython.core.display.HTML object>"
            ]
          },
          "metadata": {
            "tags": []
          }
        },
        {
          "output_type": "display_data",
          "data": {
            "text/html": [
              "<span style=\"color:cyan\"> |-Trial ID: aa1049a051a826021383caa6f0621ae7</span>"
            ],
            "text/plain": [
              "<IPython.core.display.HTML object>"
            ]
          },
          "metadata": {
            "tags": []
          }
        },
        {
          "output_type": "display_data",
          "data": {
            "text/html": [
              "<span style=\"color:cyan\"> |-Score: 5444628643840.0</span>"
            ],
            "text/plain": [
              "<IPython.core.display.HTML object>"
            ]
          },
          "metadata": {
            "tags": []
          }
        },
        {
          "output_type": "display_data",
          "data": {
            "text/html": [
              "<span style=\"color:cyan\"> |-Best step: 0</span>"
            ],
            "text/plain": [
              "<IPython.core.display.HTML object>"
            ]
          },
          "metadata": {
            "tags": []
          }
        },
        {
          "output_type": "display_data",
          "data": {
            "text/html": [
              "<span style=\"color:#7E57C2\"><h2 style=\"font-size:16px\">Hyperparameters:</h2></span>"
            ],
            "text/plain": [
              "<IPython.core.display.HTML object>"
            ]
          },
          "metadata": {
            "tags": []
          }
        },
        {
          "output_type": "display_data",
          "data": {
            "text/html": [
              "<span style=\"color:cyan\"> |-activation: relu</span>"
            ],
            "text/plain": [
              "<IPython.core.display.HTML object>"
            ]
          },
          "metadata": {
            "tags": []
          }
        },
        {
          "output_type": "display_data",
          "data": {
            "text/html": [
              "<span style=\"color:blue\"> |-hidden_layers: 3</span>"
            ],
            "text/plain": [
              "<IPython.core.display.HTML object>"
            ]
          },
          "metadata": {
            "tags": []
          }
        },
        {
          "output_type": "display_data",
          "data": {
            "text/html": [
              "<span style=\"color:cyan\"> |-layer_0_units_: 32</span>"
            ],
            "text/plain": [
              "<IPython.core.display.HTML object>"
            ]
          },
          "metadata": {
            "tags": []
          }
        },
        {
          "output_type": "display_data",
          "data": {
            "text/html": [
              "<span style=\"color:blue\"> |-layer_1_units_: 104</span>"
            ],
            "text/plain": [
              "<IPython.core.display.HTML object>"
            ]
          },
          "metadata": {
            "tags": []
          }
        },
        {
          "output_type": "display_data",
          "data": {
            "text/html": [
              "<span style=\"color:cyan\"> |-layer_2_units_: 50</span>"
            ],
            "text/plain": [
              "<IPython.core.display.HTML object>"
            ]
          },
          "metadata": {
            "tags": []
          }
        },
        {
          "output_type": "display_data",
          "data": {
            "text/html": [
              "<span style=\"color:blue\"> |-units: 160</span>"
            ],
            "text/plain": [
              "<IPython.core.display.HTML object>"
            ]
          },
          "metadata": {
            "tags": []
          }
        },
        {
          "output_type": "stream",
          "text": [
            "\n",
            "\n",
            "\n",
            "\n",
            "\n",
            "\n",
            "\n",
            "HERE IS THE BEST MODEL\n",
            "\n",
            "\n",
            "\n",
            "Model: \"sequential\"\n",
            "_________________________________________________________________\n",
            "Layer (type)                 Output Shape              Param #   \n",
            "=================================================================\n",
            "dense (Dense)                (None, 128)               5376      \n",
            "_________________________________________________________________\n",
            "dropout (Dropout)            (None, 128)               0         \n",
            "_________________________________________________________________\n",
            "dense_1 (Dense)              (None, 96)                12384     \n",
            "_________________________________________________________________\n",
            "dense_2 (Dense)              (None, 120)               11640     \n",
            "_________________________________________________________________\n",
            "dense_3 (Dense)              (None, 70)                8470      \n",
            "_________________________________________________________________\n",
            "dense_4 (Dense)              (None, 1)                 71        \n",
            "=================================================================\n",
            "Total params: 37,941\n",
            "Trainable params: 37,941\n",
            "Non-trainable params: 0\n",
            "_________________________________________________________________\n"
          ],
          "name": "stdout"
        }
      ]
    },
    {
      "cell_type": "code",
      "metadata": {
        "id": "nlJQ8V9dI5zT",
        "colab": {
          "base_uri": "https://localhost:8080/"
        },
        "outputId": "e1366aa0-b634-40cd-8125-78087ce353ac"
      },
      "source": [
        "best_history = best_model.fit(x_train, y_train, epochs=50, batch_size=1, validation_split=0.3)\n",
        "best_history = best_history.history\n",
        "print(\"[INFO] Training has been finished\")"
      ],
      "execution_count": null,
      "outputs": [
        {
          "output_type": "stream",
          "text": [
            "Epoch 1/50\n",
            "76/76 [==============================] - 0s 5ms/step - loss: 27252236484608.0000 - mae: 4565798.5000 - val_loss: 26292785250304.0000 - val_mae: 4312757.0000\n",
            "Epoch 2/50\n",
            "76/76 [==============================] - 0s 2ms/step - loss: 27198855577600.0000 - mae: 4560652.5000 - val_loss: 26181418090496.0000 - val_mae: 4300134.0000\n",
            "Epoch 3/50\n",
            "76/76 [==============================] - 0s 2ms/step - loss: 26908093841408.0000 - mae: 4528342.0000 - val_loss: 25740353470464.0000 - val_mae: 4249823.0000\n",
            "Epoch 4/50\n",
            "76/76 [==============================] - 0s 2ms/step - loss: 25928132460544.0000 - mae: 4419864.5000 - val_loss: 24285739483136.0000 - val_mae: 4078387.5000\n",
            "Epoch 5/50\n",
            "76/76 [==============================] - 0s 2ms/step - loss: 23871650529280.0000 - mae: 4160009.7500 - val_loss: 21833365585920.0000 - val_mae: 3762795.7500\n",
            "Epoch 6/50\n",
            "76/76 [==============================] - 0s 2ms/step - loss: 20180526694400.0000 - mae: 3643752.7500 - val_loss: 18241369931776.0000 - val_mae: 3270893.2500\n",
            "Epoch 7/50\n",
            "76/76 [==============================] - 0s 2ms/step - loss: 16013372424192.0000 - mae: 3100901.5000 - val_loss: 14706855116800.0000 - val_mae: 2849685.2500\n",
            "Epoch 8/50\n",
            "76/76 [==============================] - 0s 2ms/step - loss: 13326288420864.0000 - mae: 2736752.2500 - val_loss: 12874022912000.0000 - val_mae: 2633101.5000\n",
            "Epoch 9/50\n",
            "76/76 [==============================] - 0s 2ms/step - loss: 11708956409856.0000 - mae: 2592724.5000 - val_loss: 11726002061312.0000 - val_mae: 2500249.5000\n",
            "Epoch 10/50\n",
            "76/76 [==============================] - 0s 2ms/step - loss: 11032245305344.0000 - mae: 2478611.7500 - val_loss: 10960370663424.0000 - val_mae: 2412868.5000\n",
            "Epoch 11/50\n",
            "76/76 [==============================] - 0s 2ms/step - loss: 10813060415488.0000 - mae: 2491932.5000 - val_loss: 10350641545216.0000 - val_mae: 2332722.0000\n",
            "Epoch 12/50\n",
            "76/76 [==============================] - 0s 2ms/step - loss: 10236116074496.0000 - mae: 2433589.5000 - val_loss: 9977700810752.0000 - val_mae: 2240731.2500\n",
            "Epoch 13/50\n",
            "76/76 [==============================] - 0s 2ms/step - loss: 9285967806464.0000 - mae: 2240961.0000 - val_loss: 9381592694784.0000 - val_mae: 2152745.2500\n",
            "Epoch 14/50\n",
            "76/76 [==============================] - 0s 2ms/step - loss: 8986074021888.0000 - mae: 2191636.7500 - val_loss: 8876532432896.0000 - val_mae: 2069210.8750\n",
            "Epoch 15/50\n",
            "76/76 [==============================] - 0s 2ms/step - loss: 8595428605952.0000 - mae: 2113563.2500 - val_loss: 8490478731264.0000 - val_mae: 1990338.2500\n",
            "Epoch 16/50\n",
            "76/76 [==============================] - 0s 2ms/step - loss: 8237331513344.0000 - mae: 2021296.3750 - val_loss: 8047480537088.0000 - val_mae: 1919419.3750\n",
            "Epoch 17/50\n",
            "76/76 [==============================] - 0s 2ms/step - loss: 8323582132224.0000 - mae: 1937971.7500 - val_loss: 7709625155584.0000 - val_mae: 1866861.5000\n",
            "Epoch 18/50\n",
            "76/76 [==============================] - 0s 2ms/step - loss: 8111591522304.0000 - mae: 1905449.6250 - val_loss: 7480434753536.0000 - val_mae: 1825089.7500\n",
            "Epoch 19/50\n",
            "76/76 [==============================] - 0s 2ms/step - loss: 7473888493568.0000 - mae: 1840611.1250 - val_loss: 7197444538368.0000 - val_mae: 1792091.3750\n",
            "Epoch 20/50\n",
            "76/76 [==============================] - 0s 2ms/step - loss: 7076531142656.0000 - mae: 1698516.6250 - val_loss: 6999265771520.0000 - val_mae: 1755675.7500\n",
            "Epoch 21/50\n",
            "76/76 [==============================] - 0s 2ms/step - loss: 7718095028224.0000 - mae: 1755559.6250 - val_loss: 6810194935808.0000 - val_mae: 1713675.0000\n",
            "Epoch 22/50\n",
            "76/76 [==============================] - 0s 2ms/step - loss: 6843100299264.0000 - mae: 1725655.6250 - val_loss: 6620516974592.0000 - val_mae: 1708665.2500\n",
            "Epoch 23/50\n",
            "76/76 [==============================] - 0s 2ms/step - loss: 7335243677696.0000 - mae: 1717857.3750 - val_loss: 6564710187008.0000 - val_mae: 1683926.1250\n",
            "Epoch 24/50\n",
            "76/76 [==============================] - 0s 2ms/step - loss: 6988391514112.0000 - mae: 1597872.5000 - val_loss: 6541352108032.0000 - val_mae: 1665494.5000\n",
            "Epoch 25/50\n",
            "76/76 [==============================] - 0s 2ms/step - loss: 6772430471168.0000 - mae: 1557925.3750 - val_loss: 6390370271232.0000 - val_mae: 1668777.7500\n",
            "Epoch 26/50\n",
            "76/76 [==============================] - 0s 2ms/step - loss: 6859696111616.0000 - mae: 1604676.0000 - val_loss: 6384978493440.0000 - val_mae: 1667921.7500\n",
            "Epoch 27/50\n",
            "76/76 [==============================] - 0s 2ms/step - loss: 6982419349504.0000 - mae: 1676174.5000 - val_loss: 6308488544256.0000 - val_mae: 1676180.0000\n",
            "Epoch 28/50\n",
            "76/76 [==============================] - 0s 2ms/step - loss: 6516397047808.0000 - mae: 1578543.6250 - val_loss: 6269821779968.0000 - val_mae: 1692404.8750\n",
            "Epoch 29/50\n",
            "76/76 [==============================] - 0s 2ms/step - loss: 5930495246336.0000 - mae: 1565282.0000 - val_loss: 6321521819648.0000 - val_mae: 1717274.1250\n",
            "Epoch 30/50\n",
            "76/76 [==============================] - 0s 2ms/step - loss: 6050551955456.0000 - mae: 1551994.7500 - val_loss: 6271037079552.0000 - val_mae: 1730910.1250\n",
            "Epoch 31/50\n",
            "76/76 [==============================] - 0s 2ms/step - loss: 6495816122368.0000 - mae: 1498630.3750 - val_loss: 6187298848768.0000 - val_mae: 1735570.0000\n",
            "Epoch 32/50\n",
            "76/76 [==============================] - 0s 2ms/step - loss: 6343014481920.0000 - mae: 1527529.7500 - val_loss: 6195649708032.0000 - val_mae: 1715971.6250\n",
            "Epoch 33/50\n",
            "76/76 [==============================] - 0s 2ms/step - loss: 5998883373056.0000 - mae: 1568235.0000 - val_loss: 6228729659392.0000 - val_mae: 1715284.3750\n",
            "Epoch 34/50\n",
            "76/76 [==============================] - 0s 2ms/step - loss: 6087352778752.0000 - mae: 1513968.5000 - val_loss: 6199369531392.0000 - val_mae: 1716916.7500\n",
            "Epoch 35/50\n",
            "76/76 [==============================] - 0s 2ms/step - loss: 6389154447360.0000 - mae: 1590647.3750 - val_loss: 6201178324992.0000 - val_mae: 1717659.6250\n",
            "Epoch 36/50\n",
            "76/76 [==============================] - 0s 2ms/step - loss: 6196923203584.0000 - mae: 1524975.3750 - val_loss: 6232415404032.0000 - val_mae: 1720890.7500\n",
            "Epoch 37/50\n",
            "76/76 [==============================] - 0s 2ms/step - loss: 5961636904960.0000 - mae: 1501312.0000 - val_loss: 6238637129728.0000 - val_mae: 1749127.7500\n",
            "Epoch 38/50\n",
            "76/76 [==============================] - 0s 2ms/step - loss: 6259674710016.0000 - mae: 1578766.3750 - val_loss: 6299896512512.0000 - val_mae: 1719927.6250\n",
            "Epoch 39/50\n",
            "76/76 [==============================] - 0s 2ms/step - loss: 5968297459712.0000 - mae: 1476357.2500 - val_loss: 6239636422656.0000 - val_mae: 1727958.1250\n",
            "Epoch 40/50\n",
            "76/76 [==============================] - 0s 2ms/step - loss: 6425749225472.0000 - mae: 1542907.5000 - val_loss: 6282688856064.0000 - val_mae: 1713165.8750\n",
            "Epoch 41/50\n",
            "76/76 [==============================] - 0s 2ms/step - loss: 5810689671168.0000 - mae: 1492506.7500 - val_loss: 6253135790080.0000 - val_mae: 1711282.7500\n",
            "Epoch 42/50\n",
            "76/76 [==============================] - 0s 2ms/step - loss: 6006401662976.0000 - mae: 1494947.0000 - val_loss: 6306762588160.0000 - val_mae: 1705454.7500\n",
            "Epoch 43/50\n",
            "76/76 [==============================] - 0s 2ms/step - loss: 6288956719104.0000 - mae: 1508571.0000 - val_loss: 6467208871936.0000 - val_mae: 1673763.7500\n",
            "Epoch 44/50\n",
            "76/76 [==============================] - 0s 2ms/step - loss: 6066434211840.0000 - mae: 1534609.3750 - val_loss: 6492188049408.0000 - val_mae: 1693498.7500\n",
            "Epoch 45/50\n",
            "76/76 [==============================] - 0s 2ms/step - loss: 6060881477632.0000 - mae: 1492506.5000 - val_loss: 6324241825792.0000 - val_mae: 1704122.0000\n",
            "Epoch 46/50\n",
            "76/76 [==============================] - 0s 2ms/step - loss: 5859830661120.0000 - mae: 1475789.6250 - val_loss: 6382029897728.0000 - val_mae: 1714833.5000\n",
            "Epoch 47/50\n",
            "76/76 [==============================] - 0s 2ms/step - loss: 6126126497792.0000 - mae: 1564986.0000 - val_loss: 6249229320192.0000 - val_mae: 1709022.1250\n",
            "Epoch 48/50\n",
            "76/76 [==============================] - 0s 2ms/step - loss: 6904358633472.0000 - mae: 1611559.0000 - val_loss: 6335560679424.0000 - val_mae: 1724689.8750\n",
            "Epoch 49/50\n",
            "76/76 [==============================] - 0s 2ms/step - loss: 6136414601216.0000 - mae: 1518273.6250 - val_loss: 6423827185664.0000 - val_mae: 1716238.2500\n",
            "Epoch 50/50\n",
            "76/76 [==============================] - 0s 3ms/step - loss: 5495836901376.0000 - mae: 1440271.8750 - val_loss: 6301812785152.0000 - val_mae: 1718712.5000\n",
            "[INFO] Training has been finished\n"
          ],
          "name": "stdout"
        }
      ]
    },
    {
      "cell_type": "code",
      "metadata": {
        "id": "FkX5F6r9JOQE",
        "colab": {
          "base_uri": "https://localhost:8080/",
          "height": 573
        },
        "outputId": "c13a6804-b436-4e7b-a001-675e3de960e8"
      },
      "source": [
        "draw_graph(best_history)"
      ],
      "execution_count": null,
      "outputs": [
        {
          "output_type": "display_data",
          "data": {
            "image/png": "[encoded data removed]",
            "text/plain": [
              "<Figure size 432x288 with 1 Axes>"
            ]
          },
          "metadata": {
            "tags": [],
            "needs_background": "light"
          }
        },
        {
          "output_type": "display_data",
          "data": {
            "image/png": "[encoded data removed]",
            "text/plain": [
              "<Figure size 432x288 with 1 Axes>"
            ]
          },
          "metadata": {
            "tags": [],
            "needs_background": "light"
          }
        }
      ]
    },
    {
      "cell_type": "code",
      "metadata": {
        "id": "RxXuqWgfiXBc"
      },
      "source": [
        "kpredicted_x = best_model.predict(x_test)\n",
        "kpredicted_x = np.reshape(kpredicted_x, (kpredicted_x.shape[0]))"
      ],
      "execution_count": null,
      "outputs": []
    },
    {
      "cell_type": "code",
      "metadata": {
        "colab": {
          "base_uri": "https://localhost:8080/"
        },
        "id": "HbuwOM0Pif-j",
        "outputId": "fc39cf0e-c3b1-475f-e787-3d5dd662ea00"
      },
      "source": [
        "for test_index in range(20):\n",
        "  print(\"K:\", kpredicted_x[test_index], \" M:\", predicted_x[test_index], \" True:\",predicted_y.values[test_index])"
      ],
      "execution_count": null,
      "outputs": [
        {
          "output_type": "stream",
          "text": [
            "K: 3411005.8  M: 3825127.2  True: 2792031.0\n",
            "K: 3666685.5  M: 4313077.5  True: 3570392.0\n",
            "K: 5084240.5  M: 5377573.5  True: 3600467.0\n",
            "K: 5206705.0  M: 6426598.5  True: 5017319.0\n",
            "K: 4212388.5  M: 5223906.5  True: 3752885.0\n",
            "K: 3216915.0  M: 3119081.0  True: 2675511.0\n",
            "K: 5190111.5  M: 5227059.0  True: 4705945.0\n",
            "K: 3468896.8  M: 3733811.0  True: 2993069.0\n",
            "K: 1977804.8  M: 2491046.5  True: 1734634.0\n",
            "K: 4819897.0  M: 4967544.5  True: 4554237.0\n",
            "K: 5205379.0  M: 6096719.5  True: 6941173.0\n",
            "K: 5177078.0  M: 5707036.5  True: 5906596.0\n",
            "K: 6531215.5  M: 5078671.0  True: 4882985.0\n",
            "K: 2642437.0  M: 3220902.5  True: 2055379.0\n",
            "K: 3574326.8  M: 3703927.5  True: 3778621.0\n",
            "K: 3852714.5  M: 4163171.2  True: 2344689.0\n",
            "K: 5949985.0  M: 5563918.5  True: 13575224.0\n",
            "K: 3768683.2  M: 3356006.0  True: 2954086.0\n",
            "K: 3145551.5  M: 2792049.5  True: 1999097.0\n",
            "K: 4880522.5  M: 4603428.0  True: 4136425.0\n"
          ],
          "name": "stdout"
        }
      ]
    },
    {
      "cell_type": "code",
      "metadata": {
        "colab": {
          "base_uri": "https://localhost:8080/"
        },
        "id": "P94oFHZ5jBfq",
        "outputId": "a1580348-0b4e-4384-95d7-a5b45b2780d0"
      },
      "source": [
        "KK = np.corrcoef(kpredicted_x, y_test)\n",
        "KK = KK[0][1]\n",
        "print(f'My model Correlation Coefficient: {ccc}')\n",
        "print(f'Keras Correlation Coefficient: {KK}')"
      ],
      "execution_count": null,
      "outputs": [
        {
          "output_type": "stream",
          "text": [
            "My model Correlation Coefficient: 0.5364190133190083\n",
            "Keras Correlation Coefficient: 0.5939583344923584\n"
          ],
          "name": "stdout"
        }
      ]
    }
  ]
}